{
 "cells": [
  {
   "cell_type": "code",
   "execution_count": 1,
   "outputs": [],
   "source": [
    "from doped import analysis, plotting"
   ],
   "metadata": {
    "collapsed": false,
    "pycharm": {
     "name": "#%%\n"
    }
   }
  },
  {
   "cell_type": "code",
   "execution_count": 2,
   "outputs": [
    {
     "name": "stderr",
     "output_type": "stream",
     "text": [
      "/Users/skavanagh/miniconda3/lib/python3.8/site-packages/pymatgen/analysis/phase_diagram.py:24: TqdmExperimentalWarning: Using `tqdm.autonotebook.tqdm` in notebook mode. Use `tqdm.tqdm` instead to force console mode (e.g. in jupyter console)\n",
      "  from tqdm.autonotebook import tqdm\n"
     ]
    }
   ],
   "source": [
    "from doped.pycdt.utils import parse_calculations\n",
    "import numpy as np\n",
    "import os"
   ],
   "metadata": {
    "collapsed": false,
    "pycharm": {
     "name": "#%%\n"
    }
   }
  },
  {
   "cell_type": "code",
   "execution_count": 3,
   "outputs": [
    {
     "name": "stdout",
     "output_type": "stream",
     "text": [
      "vac_1_Cd_-2\n",
      "Uncorrected energy: 7.661 eV\n",
      "Defect entry corrections:\n",
      "{'charge_correction': 0.7376460317828045, 'bandfilling_correction': -0.0, 'bandedgeshifting_correction': 0.0}\n",
      "Corrected energy: 8.398 eV \n",
      "\n",
      "vac_1_Cd_0\n",
      "Uncorrected energy: 4.166 eV\n",
      "Defect entry corrections:\n",
      "{'bandfilling_correction': -0.0, 'bandedgeshifting_correction': 0.0}\n",
      "Corrected energy: 4.166 eV \n",
      "\n",
      "vac_1_Cd_-1\n",
      "Uncorrected energy: 6.130 eV\n",
      "Defect entry corrections:\n",
      "{'charge_correction': 0.22517150393292082, 'bandfilling_correction': -0.0, 'bandedgeshifting_correction': 0.0}\n",
      "Corrected energy: 6.355 eV \n",
      "\n"
     ]
    }
   ],
   "source": [
    "bulk_file_path = \"Examples/Bulk_Supercell/vasp_ncl\"\n",
    "dielectric = np.array([[9.13, 0, 0],[0., 9.13, 0],[0, 0, 9.13]])\n",
    "parsed_vac_Cd_dict = {}\n",
    "\n",
    "for i in os.listdir(\"Examples\"): # this loops through the folders in the current directory, and parses those that have \"vac_1_Cd\" in their name\n",
    "    if 'vac_1_Cd' in i:\n",
    "        print(i)\n",
    "        defect_file_path = f\"Examples/{i}/vasp_ncl\" # assumes your final calculation results are in subfolders called vasp_ncl. E.g. vac_1_Cd_0/vasp_ncl/ etc\n",
    "        defect_charge = int(i[-2:].replace(\"_\",\"\"))\n",
    "\n",
    "        sdp = parse_calculations.SingleDefectParser.from_paths(defect_file_path, bulk_file_path,\n",
    "                                            dielectric, defect_charge)\n",
    "        print(f\"Uncorrected energy: {sdp.defect_entry.uncorrected_energy:.3f} eV\")\n",
    "        bo = sdp.freysoldt_loader()\n",
    "        sdp.get_stdrd_metadata()\n",
    "        sdp.get_bulk_gap_data()\n",
    "        sdp.run_compatibility()\n",
    "        print(\"Defect entry corrections:\")\n",
    "        print(sdp.defect_entry.corrections)\n",
    "        print(f\"Corrected energy: {sdp.defect_entry.energy:.3f} eV\", \"\\n\")\n",
    "        parsed_vac_Cd_dict[i] = sdp.defect_entry # Keep dictionary of parsed defect entries"
   ],
   "metadata": {
    "collapsed": false,
    "pycharm": {
     "name": "#%%\n"
    }
   }
  },
  {
   "cell_type": "code",
   "execution_count": 4,
   "outputs": [
    {
     "name": "stdout",
     "output_type": "stream",
     "text": [
      "Int_Te_3_2\n",
      "Uncorrected energy: -7.105 eV\n",
      "Defect entry corrections:\n",
      "{'charge_correction': 0.8834518111049584, 'bandfilling_correction': -0.0, 'bandedgeshifting_correction': 0.0}\n",
      "Corrected energy: -6.221 eV \n",
      "\n"
     ]
    }
   ],
   "source": [
    "bulk_file_path = \"Examples/Bulk_Supercell/vasp_ncl\"\n",
    "dielectric = np.array([[9.13, 0, 0],[0., 9.13, 0],[0, 0, 9.13]])\n",
    "\n",
    "for i in os.listdir(\"Examples\"):\n",
    "    if 'Int_Te' in i:\n",
    "        print(i)\n",
    "        defect_file_path = f\"Examples/{i}/vasp_ncl\"\n",
    "        defect_charge = int(i[-2:].replace(\"_\",\"\"))\n",
    "\n",
    "        sdp = parse_calculations.SingleDefectParser.from_paths(defect_file_path, bulk_file_path,\n",
    "                                            dielectric, defect_charge)\n",
    "        print(f\"Uncorrected energy: {sdp.defect_entry.uncorrected_energy:.3f} eV\")\n",
    "        bo = sdp.kumagai_loader()\n",
    "        sdp.get_stdrd_metadata()\n",
    "        sdp.get_bulk_gap_data()\n",
    "        sdp.run_compatibility()\n",
    "        print(\"Defect entry corrections:\")\n",
    "        print(sdp.defect_entry.corrections)\n",
    "        print(f\"Corrected energy: {sdp.defect_entry.energy:.3f} eV\", \"\\n\")"
   ],
   "metadata": {
    "collapsed": false,
    "pycharm": {
     "name": "#%%\n"
    }
   }
  },
  {
   "cell_type": "code",
   "execution_count": 5,
   "outputs": [],
   "source": [
    "from doped.pycdt.corrections.finite_size_charge_correction import get_correction_kumagai"
   ],
   "metadata": {
    "collapsed": false,
    "pycharm": {
     "name": "#%%\n"
    }
   }
  },
  {
   "cell_type": "code",
   "execution_count": 6,
   "outputs": [
    {
     "name": "stdout",
     "output_type": "stream",
     "text": [
      "\n",
      "Final Kumagai correction is 0.883 eV\n"
     ]
    },
    {
     "data": {
      "text/plain": "0.8834518111049584"
     },
     "execution_count": 6,
     "metadata": {},
     "output_type": "execute_result"
    },
    {
     "data": {
      "text/plain": "<Figure size 432x288 with 1 Axes>",
      "image/png": "[encoded data removed]"
     },
     "metadata": {
      "needs_background": "light"
     },
     "output_type": "display_data"
    }
   ],
   "source": [
    "get_correction_kumagai(sdp.defect_entry, epsilon=dielectric, title=\"Yes\")"
   ],
   "metadata": {
    "collapsed": false,
    "pycharm": {
     "name": "#%%\n"
    }
   }
  },
  {
   "cell_type": "markdown",
   "source": [
    "Check LOCPOT parsing also works:"
   ],
   "metadata": {
    "collapsed": false,
    "pycharm": {
     "name": "#%% md\n"
    }
   }
  },
  {
   "cell_type": "code",
   "execution_count": 7,
   "outputs": [
    {
     "name": "stdout",
     "output_type": "stream",
     "text": [
      "Int_Te_3_2\n",
      "Uncorrected energy: -7.105 eV\n",
      "Defect entry corrections:\n",
      "{'charge_correction': 0.8296154443335331, 'bandfilling_correction': -0.0, 'bandedgeshifting_correction': 0.0}\n",
      "Corrected energy: -6.275 eV \n",
      "\n"
     ]
    },
    {
     "name": "stderr",
     "output_type": "stream",
     "text": [
      "\n",
      "Delocalization analysis has indicated that Int_Te_mult128\n",
      "with charge 2 may not be compatible with the chosen charge correction\n",
      "scheme, and may require a larger supercell for accurate calculation of the energy. Recommended to\n",
      "look at the correction plots (i.e. run `get_correction_freysoldt(DefectEntry,...,plot=True)` from\n",
      "`doped.pycdt.corrections.finite_size_charge_correction`) to visually determine if\n",
      "charge correction scheme still appropriate, then `sdp.compatibility.perform_freysoldt(DefectEntry)`\n",
      "to apply it (replace 'freysoldt' with 'kumagai' if using anisotropic correction).\n",
      "You can also change the DefectCompatibility() tolerance settings via the `compatibility` parameter\n",
      "in `SingleDefectParser.from_paths()`.\n"
     ]
    }
   ],
   "source": [
    "bulk_file_path = \"Examples/Bulk_Supercell/vasp_ncl\"\n",
    "dielectric = np.array([[9.13, 0, 0],[0., 9.13, 0],[0, 0, 9.13]])\n",
    "\n",
    "for i in os.listdir(\"Examples\"):\n",
    "    if 'Int_Te' in i:\n",
    "        print(i)\n",
    "        defect_file_path = f\"Examples/{i}/vasp_ncl\"\n",
    "        defect_charge = int(i[-2:].replace(\"_\",\"\"))\n",
    "\n",
    "        sdp = parse_calculations.SingleDefectParser.from_paths(defect_file_path, bulk_file_path,\n",
    "                                            dielectric, defect_charge)\n",
    "        print(f\"Uncorrected energy: {sdp.defect_entry.uncorrected_energy:.3f} eV\")\n",
    "        bo = sdp.freysoldt_loader()\n",
    "        sdp.get_stdrd_metadata()\n",
    "        sdp.get_bulk_gap_data()\n",
    "        sdp.run_compatibility()\n",
    "        print(\"Defect entry corrections:\")\n",
    "        print(sdp.defect_entry.corrections)\n",
    "        print(f\"Corrected energy: {sdp.defect_entry.energy:.3f} eV\", \"\\n\")"
   ],
   "metadata": {
    "collapsed": false,
    "pycharm": {
     "name": "#%%\n"
    }
   }
  },
  {
   "cell_type": "code",
   "execution_count": 8,
   "outputs": [
    {
     "data": {
      "text/plain": "PeriodicSite: Te (12.2688, 12.2688, 8.9972) [0.9375, 0.9375, 0.6875]"
     },
     "execution_count": 8,
     "metadata": {},
     "output_type": "execute_result"
    }
   ],
   "source": [
    "sdp.defect_entry.defect.site"
   ],
   "metadata": {
    "collapsed": false,
    "pycharm": {
     "name": "#%%\n"
    }
   }
  },
  {
   "cell_type": "code",
   "execution_count": 9,
   "outputs": [
    {
     "name": "stderr",
     "output_type": "stream",
     "text": [
      "\n",
      "Delocalization analysis has indicated that Sub_Te_on_Cd_mult32\n",
      "with charge 1 may not be compatible with the chosen charge correction\n",
      "scheme, and may require a larger supercell for accurate calculation of the energy. Recommended to\n",
      "look at the correction plots (i.e. run `get_correction_freysoldt(DefectEntry,...,plot=True)` from\n",
      "`doped.pycdt.corrections.finite_size_charge_correction`) to visually determine if\n",
      "charge correction scheme still appropriate, then `sdp.compatibility.perform_freysoldt(DefectEntry)`\n",
      "to apply it (replace 'freysoldt' with 'kumagai' if using anisotropic correction).\n",
      "You can also change the DefectCompatibility() tolerance settings via the `compatibility` parameter\n",
      "in `SingleDefectParser.from_paths()`.\n"
     ]
    }
   ],
   "source": [
    "bulk_file_path = \"Examples/Bulk_Supercell/vasp_ncl\"\n",
    "dielectric = np.array([[9.13, 0, 0],[0., 9.13, 0],[0, 0, 9.13]])\n",
    "\n",
    "for i in os.listdir(\"Examples\"):\n",
    "    if \"as_1_Te\" in i:  # loop folders and parse those with \"Int_Te\" in name\n",
    "        defect_file_path = f\"Examples/{i}/vasp_ncl\"\n",
    "        defect_charge = int(i[-2:].replace(\"_\", \"\"))\n",
    "        # parse with no transformation.json:\n",
    "        sdp = parse_calculations.SingleDefectParser.from_paths(defect_file_path, bulk_file_path,\n",
    "                                            dielectric, defect_charge)\n",
    "        sdp.kumagai_loader()\n",
    "        sdp.get_stdrd_metadata()\n",
    "        sdp.get_bulk_gap_data()\n",
    "        sdp.run_compatibility()\n",
    "        te_cd_1_ent = sdp.defect_entry"
   ],
   "metadata": {
    "collapsed": false,
    "pycharm": {
     "name": "#%%\n"
    }
   }
  },
  {
   "cell_type": "code",
   "execution_count": 10,
   "outputs": [
    {
     "data": {
      "text/plain": "-2.906045809999995"
     },
     "execution_count": 10,
     "metadata": {},
     "output_type": "execute_result"
    }
   ],
   "source": [
    "te_cd_1_ent.uncorrected_energy"
   ],
   "metadata": {
    "collapsed": false,
    "pycharm": {
     "name": "#%%\n"
    }
   }
  },
  {
   "cell_type": "code",
   "execution_count": 11,
   "outputs": [],
   "source": [
    "from doped.pycdt.corrections.finite_size_charge_correction import get_correction_kumagai"
   ],
   "metadata": {
    "collapsed": false,
    "pycharm": {
     "name": "#%%\n"
    }
   }
  },
  {
   "cell_type": "code",
   "execution_count": 12,
   "outputs": [
    {
     "name": "stdout",
     "output_type": "stream",
     "text": [
      "\n",
      "Final Kumagai correction is 0.157 eV\n"
     ]
    },
    {
     "data": {
      "text/plain": "0.15660728758716663"
     },
     "execution_count": 12,
     "metadata": {},
     "output_type": "execute_result"
    },
    {
     "data": {
      "text/plain": "<Figure size 432x288 with 1 Axes>",
      "image/png": "[encoded data removed]"
     },
     "metadata": {
      "needs_background": "light"
     },
     "output_type": "display_data"
    }
   ],
   "source": [
    "get_correction_kumagai(te_cd_1_ent, epsilon=dielectric, title=\"Yes\")"
   ],
   "metadata": {
    "collapsed": false,
    "pycharm": {
     "name": "#%%\n"
    }
   }
  },
  {
   "cell_type": "code",
   "execution_count": 13,
   "outputs": [
    {
     "data": {
      "text/plain": "{'atomic_site': {'is_compatible': False,\n  'metadata': {'kumagai_variance_compatible': False,\n   'kumagai_variance': 0.09294301805469835,\n   'atomic_site_var_tol': 0.025,\n   'kumagai_minmax_compatible': False,\n   'kumagai_minmax_window': 1.7305803308710235,\n   'plnr_avg_minmax_tol': 0.3}},\n 'defectsite_relax': {'is_compatible': False,\n  'metadata': {'relax_amount': 8.508243533063842,\n   'defect_tot_relax_tol': 5.0}},\n 'structure_relax': {'is_compatible': False,\n  'metadata': {'structure_tot_relax_compatible': False,\n   'tot_relax_outside_rad': 123.35803241241373,\n   'tot_relax_tol': 5.0,\n   'structure_perc_relax_compatible': True,\n   'perc_relax_outside_rad': 48.29896430841752,\n   'perc_relax_tol': 50.0,\n   'full_structure_relax_data': [[2.8333683853583174,\n     7.994485511830951,\n     55,\n     3.1301194000012873],\n    [2.8333683853583187, 6.51744690430026, 50, 2.55180736314279],\n    [2.8333683853583187, 6.517463657284898, 44, 2.5518139225195187],\n    [2.8333683853583187, 9.213643310186464, 37, 3.607462122137444],\n    [4.626871198307556, 0.013077729856803255, 30, 0.00512038653046239],\n    [4.626871198307556, 0.013094117575376287, 21, 0.005126802892810073],\n    [4.626871198307556, 0.013107759767649097, 13, 0.005132144286027745],\n    [4.626871198307556, 0.08099382087150782, 18, 0.031711900611359395],\n    [4.626871198307556, 0.08099414614079925, 12, 0.03171202796561101],\n    [4.626871198307556, 0.08109747560690886, 24, 0.031752485048932105],\n    [4.626871198307556, 0.1378003431027077, 28, 0.05395363174206723],\n    [4.626871198307556, 0.13782295703092182, 26, 0.05396248588225029],\n    [4.626871198307556, 0.13791068785772675, 11, 0.05399683555522849],\n    [4.626871198307556, 0.13797875461034415, 17, 0.05402348605857201],\n    [4.626871198307556, 0.13800494930686164, 14, 0.05403374219420765],\n    [4.626871198307556, 0.13805802508441967, 22, 0.0540545232089157],\n    [5.425487396803718, 6.398492274450684, 56, 2.5052324842389373],\n    [5.425487396803718, 6.536511558953326, 46, 2.559271839161363],\n    [5.425487396803718, 9.232746780752377, 57, 3.614941795937243],\n    [5.425487396803718, 11.317912612076737, 59, 4.43135681241194],\n    [5.425487396803719, 6.525166026474746, 38, 2.5548296682096496],\n    [5.425487396803719, 6.5295619616920595, 48, 2.5565508298884714],\n    [5.425487396803719, 6.529572970920625, 40, 2.556555140384733],\n    [5.425487396803719, 6.536521881682908, 54, 2.559275880869372],\n    [5.425487396803719, 9.232532641272973, 49, 3.6148579528759486],\n    [5.425487396803719, 9.242206279760456, 33, 3.6186455191243905],\n    [5.425487396803719, 11.294940375473995, 35, 4.422362382020485],\n    [5.425487396803719, 11.317951725509289, 43, 4.431372126682489],\n    [6.543384, 0.010026233095663929, 6, 0.003925619312866202],\n    [6.543384, 0.010092500496798206, 3, 0.00395156530746099],\n    [6.543384, 0.010108808959052718, 5, 0.0039579506382007214],\n    [7.130487401195235, 6.518866368610415, 58, 2.5523631328378196],\n    [7.130487401195235, 6.518870494003547, 60, 2.5523647480728533],\n    [7.130487401195235, 9.244459690009743, 61, 3.619527807687803],\n    [7.130487401195236, 6.532165532681802, 34, 2.5575702185723603],\n    [7.130487401195236, 6.532178408662893, 36, 2.557575259967225],\n    [7.130487401195236, 6.535741771178779, 42, 2.558970440448034],\n    [7.130487401195236, 6.535753166846013, 52, 2.558974902248487],\n    [7.130487401195236, 8.006612016873586, 39, 3.134867348900812],\n    [7.130487401195236, 9.1075156228975, 45, 3.5659094378066203],\n    [7.130487401195236, 9.244552405138945, 53, 3.6195641088886945],\n    [7.130487401195237, 6.770427276769751, 31, 2.6508579862897634],\n    [7.130487401195237, 7.996705461776616, 47, 3.130988587690936],\n    [8.013975995545781, 0.01672971968913062, 7, 0.006550267691152279],\n    [8.013975995545781, 0.016735619712280613, 15, 0.006552577755620457],\n    [8.013975995545781, 0.016808588435655417, 27, 0.006581147551174004],\n    [8.013975995545781, 0.016829035165084445, 25, 0.006589153157583279],\n    [8.013975995545781, 0.01683585999928952, 20, 0.006591825317776138],\n    [8.013975995545781, 0.016851439112073496, 10, 0.006597925082806391],\n    [8.013975995545781, 0.02403469794909221, 19, 0.00941042099736005],\n    [8.013975995545781, 0.024070886580614702, 9, 0.009424590106481633],\n    [8.013975995545781, 0.024263905384171797, 29, 0.009500163687881586],\n    [8.013975995545781, 0.026247673638128154, 23, 0.010276878022734805],\n    [8.013975995545781, 0.026408748454594223, 8, 0.01033994442108226],\n    [8.013975995545781, 0.026451740529131698, 16, 0.010356777315001063],\n    [8.500105156074952, 6.533287035199328, 32, 2.558009325852255],\n    [8.500105156074952, 6.537334466983345, 62, 2.559594036304051],\n    [8.500105156074952, 9.236334966691363, 41, 3.6163466956524046],\n    [8.500105156074952, 11.128653498013879, 51, 4.3572552803398],\n    [9.253742396615111, 0.027284875633468233, 2, 0.010682978713333277],\n    [9.253742396615111, 0.027290383541785746, 4, 0.010685135251193351],\n    [9.253742396615111, 0.027313333498703636, 1, 0.010694120958312535],\n    [11.33347354143327, 0.014190180201549217, 0, 0.005555949569569075]],\n   'defect_index': 63}}}"
     },
     "execution_count": 13,
     "metadata": {},
     "output_type": "execute_result"
    }
   ],
   "source": [
    "te_cd_1_ent.parameters[\"delocalization_meta\"]"
   ],
   "metadata": {
    "collapsed": false,
    "pycharm": {
     "name": "#%%\n"
    }
   }
  },
  {
   "cell_type": "code",
   "execution_count": null,
   "outputs": [],
   "source": [],
   "metadata": {
    "collapsed": false,
    "pycharm": {
     "name": "#%%\n"
    }
   }
  },
  {
   "cell_type": "code",
   "execution_count": null,
   "outputs": [],
   "source": [],
   "metadata": {
    "collapsed": false,
    "pycharm": {
     "name": "#%%\n"
    }
   }
  },
  {
   "cell_type": "code",
   "execution_count": null,
   "outputs": [],
   "source": [],
   "metadata": {
    "collapsed": false,
    "pycharm": {
     "name": "#%%\n"
    }
   }
  }
 ],
 "metadata": {
  "kernelspec": {
   "display_name": "Python 3",
   "language": "python",
   "name": "python3"
  },
  "language_info": {
   "codemirror_mode": {
    "name": "ipython",
    "version": 2
   },
   "file_extension": ".py",
   "mimetype": "text/x-python",
   "name": "python",
   "nbconvert_exporter": "python",
   "pygments_lexer": "ipython2",
   "version": "2.7.6"
  }
 },
 "nbformat": 4,
 "nbformat_minor": 0
}