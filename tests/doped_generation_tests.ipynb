{
 "cells": [
  {
   "cell_type": "code",
   "execution_count": 1,
   "outputs": [],
   "source": [
    "from doped import vasp_input\n",
    "from doped.pycdt.core.defectsmaker import ChargedDefectsStructures\n",
    "from pymatgen.core.structure import Structure"
   ],
   "metadata": {
    "collapsed": false
   }
  },
  {
   "cell_type": "code",
   "execution_count": 2,
   "outputs": [],
   "source": [
    "# Load our relaxed bulk cell (CdTe in conventional cubic structure), and make our defect supercell:\n",
    "relaxed_conventional_cell = Structure.from_file(\"Examples/relaxed_conventional_POSCAR\")\n",
    "\n",
    "# make a 2x2x2 supercell expansion of our cubic conentional cell:\n",
    "bulk_supercell = relaxed_conventional_cell.copy()\n",
    "bulk_supercell.make_supercell(2)\n",
    "bulk_supercell.to(fmt=\"poscar\", filename=\"Bulk_Supercell_POSCAR\") # calculate this with the same INCAR, KPOINTS and POTCAR settings as your defects!"
   ],
   "metadata": {
    "collapsed": false
   }
  },
  {
   "cell_type": "code",
   "execution_count": 3,
   "outputs": [
    {
     "name": "stdout",
     "output_type": "stream",
     "text": [
      "Setting up vacancies\n",
      "Setting up antisites\n",
      "Searching for Voronoi interstitial sites (this can take a while)\n",
      "Found the interstital sites, setting up interstitials\n",
      "\n",
      "Number of jobs created:\n",
      "    bulk = 1\n",
      "    vacancies:\n",
      "        vac_1_Cd = 5 with site multiplicity 32\n",
      "        vac_2_Te = 5 with site multiplicity 32\n",
      "    substitutions:\n",
      "        sub_2_Se_on_Te = 7 with site multiplicity 32\n",
      "        as_1_Cd_on_Te = 7 with site multiplicity 32\n",
      "        as_1_Te_on_Cd = 7 with site multiplicity 32\n",
      "    interstitials:\n",
      "        inter_1_Cd = 3 with site multiplicity 32\n",
      "        inter_2_Cd = 3 with site multiplicity 128\n",
      "        inter_3_Cd = 3 with site multiplicity 1\n",
      "        inter_4_Te = 9 with site multiplicity 1\n",
      "        inter_5_Te = 9 with site multiplicity 128\n",
      "        inter_6_Te = 9 with site multiplicity 32\n",
      "Total (non dielectric) jobs created = 68\n",
      "\n"
     ]
    }
   ],
   "source": [
    "def_structs = ChargedDefectsStructures(\n",
    "    bulk_supercell,\n",
    "    cellmax=bulk_supercell.num_sites,\n",
    "    substitutions={\"Te\": [\"Se\"]},  # As a dictionary\n",
    "    antisites_flag=True,\n",
    "    include_interstitials=True,\n",
    ")"
   ],
   "metadata": {
    "collapsed": false
   }
  },
  {
   "cell_type": "code",
   "execution_count": 4,
   "outputs": [],
   "source": [
    "vacancies_only = {\"vacancies\": [val for val in def_structs.defects[\"vacancies\"]]}\n",
    "substitutions_only = {\n",
    "    \"substitutions\": [val for val in def_structs.defects[\"substitutions\"]]\n",
    "}\n",
    "interstitials_only = {\n",
    "    \"interstitials\": [val for val in def_structs.defects[\"interstitials\"]]\n",
    "}"
   ],
   "metadata": {
    "collapsed": false
   }
  },
  {
   "cell_type": "code",
   "execution_count": 5,
   "outputs": [
    {
     "name": "stdout",
     "output_type": "stream",
     "text": [
      "vac_1_Cd_-2\n",
      "vac_1_Cd_-1\n",
      "vac_1_Cd_0\n",
      "vac_1_Cd_1\n",
      "vac_1_Cd_2\n",
      "vac_2_Te_-2\n",
      "vac_2_Te_-1\n",
      "vac_2_Te_0\n",
      "vac_2_Te_1\n",
      "vac_2_Te_2\n"
     ]
    }
   ],
   "source": [
    "cdte_vacancies = vasp_input.prepare_vasp_defect_inputs(vacancies_only)\n",
    "# Generates a dictionary of folders for VASP defect calculations, matching those written by ShakeNBreak\n",
    "\n",
    "# Can do the same with the substitutions and interstitials with:\n",
    "# cdte_substitutions = prepare_vasp_defect_inputs(substitutions_only)\n",
    "# cdte_interstitials = prepare_vasp_defect_inputs(interstitials_only)"
   ],
   "metadata": {
    "collapsed": false
   }
  },
  {
   "cell_type": "code",
   "execution_count": 6,
   "outputs": [],
   "source": [
    "for key, val in cdte_vacancies.items():\n",
    "    vasp_input.vasp_std_files(\n",
    "        val,\n",
    "        input_dir=key,\n",
    "        incar_settings={\"ENCUT\": 350},  # Custom INCAR settings; any flags that aren't numbers or True/False need to be input as strings with quotation marks\n",
    "        #kpoints_settings={\"generation_style\": \"Monkhorst\", \"kpoints\": [[3, 3, 3]]}, # Custom KPOINTS settings\n",
    "    )\n",
    "# Prepare the vasp_std relaxation input files (in \"{defect_folder}/vasp_std\")\n",
    "# Highly recommended to look at output INCARs or doped.vasp_input source code,\n",
    "# to see what the default INCAR settings are."
   ],
   "metadata": {
    "collapsed": false
   }
  },
  {
   "cell_type": "code",
   "execution_count": 7,
   "outputs": [],
   "source": [
    "from monty.serialization import loadfn, dumpfn"
   ],
   "metadata": {
    "collapsed": false
   }
  },
  {
   "cell_type": "code",
   "execution_count": 8,
   "outputs": [],
   "source": [
    "dumpfn(cdte_vacancies, \"cdte_vacancies.json\")"
   ],
   "metadata": {
    "collapsed": false
   }
  },
  {
   "cell_type": "code",
   "execution_count": 9,
   "outputs": [],
   "source": [
    "cdte_vacancies = loadfn(\"cdte_vacancies.json\")"
   ],
   "metadata": {
    "collapsed": false
   }
  },
  {
   "cell_type": "code",
   "execution_count": 10,
   "outputs": [],
   "source": [
    "for key, val in cdte_vacancies.items():\n",
    "    vasp_input.vasp_std_files(\n",
    "        val,\n",
    "        input_dir=key,\n",
    "        incar_settings={\"ENCUT\": 350},  # Custom INCAR settings; any flags that aren't numbers or True/False need to be input as strings with quotation marks\n",
    "        unperturbed_poscar=True,\n",
    "        #kpoints_settings={\"generation_style\": \"Monkhorst\", \"kpoints\": [[3, 3, 3]]}, # Custom KPOINTS settings\n",
    "    )\n",
    "# Prepare the vasp_std relaxation input files (in \"{defect_folder}/vasp_std\")\n",
    "# Highly recommended to look at output INCARs or doped.vasp_input source code,\n",
    "# to see what the default INCAR settings are."
   ],
   "metadata": {
    "collapsed": false
   }
  },
  {
   "cell_type": "code",
   "execution_count": 11,
   "outputs": [],
   "source": [
    "for key, val in cdte_vacancies.items():\n",
    "    vasp_input.vasp_ncl_files(\n",
    "        val,\n",
    "        input_dir=key,\n",
    "        incar_settings={\"ENCUT\": 350},  # Custom INCAR settings; any flags that aren't numbers or True/False need to be input as strings with quotation marks\n",
    "        unperturbed_poscar=True,\n",
    "        #kpoints_settings={\"generation_style\": \"Monkhorst\", \"kpoints\": [[3, 3, 3]]}, # Custom KPOINTS settings\n",
    "    )\n",
    "# Prepare the vasp_std relaxation input files (in \"{defect_folder}/vasp_std\")\n",
    "# Highly recommended to look at output INCARs or doped.vasp_input source code,\n",
    "# to see what the default INCAR settings are."
   ],
   "metadata": {
    "collapsed": false
   }
  },
  {
   "cell_type": "markdown",
   "source": [
    "All runs as expected"
   ],
   "metadata": {
    "collapsed": false
   }
  },
  {
   "cell_type": "code",
   "execution_count": null,
   "outputs": [],
   "source": [],
   "metadata": {
    "collapsed": false
   }
  },
  {
   "cell_type": "code",
   "execution_count": 11,
   "outputs": [],
   "source": [],
   "metadata": {
    "collapsed": false
   }
  }
 ],
 "metadata": {
  "kernelspec": {
   "display_name": "Python 3",
   "language": "python",
   "name": "python3"
  },
  "language_info": {
   "codemirror_mode": {
    "name": "ipython",
    "version": 2
   },
   "file_extension": ".py",
   "mimetype": "text/x-python",
   "name": "python",
   "nbconvert_exporter": "python",
   "pygments_lexer": "ipython2",
   "version": "2.7.6"
  }
 },
 "nbformat": 4,
 "nbformat_minor": 0
}
