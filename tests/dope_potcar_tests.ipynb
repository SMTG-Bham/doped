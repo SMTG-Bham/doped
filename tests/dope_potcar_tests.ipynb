{
 "cells": [
  {
   "cell_type": "markdown",
   "metadata": {
    "pycharm": {
     "name": "#%% md\n"
    }
   },
   "source": [
    "# `POTCAR` Testing"
   ]
  },
  {
   "cell_type": "code",
   "execution_count": 1,
   "outputs": [
    {
     "name": "stderr",
     "output_type": "stream",
     "text": [
      "Generating DefectEntry objects: 100.0%|██████████| [00:01,  70.27it/s]"
     ]
    },
    {
     "name": "stdout",
     "output_type": "stream",
     "text": [
      "Vacancies    Charge States    Conv. Cell Coords    Wyckoff\n",
      "-----------  ---------------  -------------------  ---------\n",
      "v_Cd         [-2,-1,0,+1]     [0.000,0.000,0.000]  4a\n",
      "v_Te         [-1,0,+1,+2]     [0.250,0.250,0.250]  4c\n",
      "\n",
      "Substitutions    Charge States          Conv. Cell Coords    Wyckoff\n",
      "---------------  ---------------------  -------------------  ---------\n",
      "Cd_Te            [0,+1,+2,+3,+4]        [0.250,0.250,0.250]  4c\n",
      "Te_Cd            [-4,-3,-2,-1,0,+1,+2]  [0.000,0.000,0.000]  4a\n",
      "\n",
      "Interstitials    Charge States          Conv. Cell Coords    Wyckoff\n",
      "---------------  ---------------------  -------------------  ---------\n",
      "Cd_i_C3v         [0,+1,+2]              [0.625,0.625,0.625]  16e\n",
      "Cd_i_Td_Cd2.83   [0,+1,+2]              [0.750,0.750,0.750]  4d\n",
      "Cd_i_Td_Te2.83   [0,+1,+2]              [0.500,0.500,0.500]  4b\n",
      "Te_i_C3v         [-2,-1,0,+1,+2,+3,+4]  [0.625,0.625,0.625]  16e\n",
      "Te_i_Td_Cd2.83   [-2,-1,0,+1,+2,+3,+4]  [0.750,0.750,0.750]  4d\n",
      "Te_i_Td_Te2.83   [-2,-1,0,+1,+2,+3,+4]  [0.500,0.500,0.500]  4b\n",
      "\n",
      "The number in the Wyckoff label is the site multiplicity/degeneracy of that defect in the conventional ('conv.') unit cell, which comprises 4 formula unit(s) of CdTe.\n",
      "Note that Wyckoff letters can depend on the ordering of elements in the conventional standard structure, for which doped uses the spglib convention.\n"
     ]
    },
    {
     "name": "stderr",
     "output_type": "stream",
     "text": [
      "\n"
     ]
    }
   ],
   "source": [
    "from pymatgen.core.structure import Structure\n",
    "from doped.generation import DefectsGenerator\n",
    "\n",
    "relaxed_primitive_CdTe = Structure.from_file(\"../examples/CdTe/relaxed_primitive_POSCAR\")\n",
    "defect_gen = DefectsGenerator(relaxed_primitive_CdTe)"
   ],
   "metadata": {
    "collapsed": false,
    "ExecuteTime": {
     "end_time": "2023-09-07T09:26:09.819686Z",
     "start_time": "2023-09-07T09:26:04.393988Z"
    }
   }
  },
  {
   "cell_type": "code",
   "execution_count": 2,
   "metadata": {
    "pycharm": {
     "name": "#%%\n"
    },
    "ExecuteTime": {
     "end_time": "2023-09-07T09:26:09.885533Z",
     "start_time": "2023-09-07T09:26:09.820782Z"
    }
   },
   "outputs": [],
   "source": [
    "from doped.vasp import DefectsSet\n",
    "ds = DefectsSet(defect_gen, user_incar_settings={\"Whoops\": \"lol\"})\n",
    "# doped should warn me if I put in a whack INCAR tag (or misspell)"
   ]
  },
  {
   "cell_type": "code",
   "execution_count": 3,
   "outputs": [
    {
     "name": "stderr",
     "output_type": "stream",
     "text": [
      "Cannot find Whoops from your user_incar_settings in the list of INCAR flags\n"
     ]
    },
    {
     "data": {
      "text/plain": "DefectDictSet"
     },
     "execution_count": 3,
     "metadata": {},
     "output_type": "execute_result"
    }
   ],
   "source": [
    "ds.defect_sets[\"v_Cd_-2\"].vasp_std"
   ],
   "metadata": {
    "collapsed": false,
    "ExecuteTime": {
     "end_time": "2023-09-07T09:26:09.891001Z",
     "start_time": "2023-09-07T09:26:09.885731Z"
    }
   }
  },
  {
   "cell_type": "code",
   "execution_count": 4,
   "outputs": [],
   "source": [
    "ds.defect_sets[\"v_Cd_-2\"].write_gam()"
   ],
   "metadata": {
    "collapsed": false,
    "ExecuteTime": {
     "end_time": "2023-09-07T09:26:10.244340Z",
     "start_time": "2023-09-07T09:26:09.890477Z"
    }
   }
  },
  {
   "cell_type": "code",
   "execution_count": 5,
   "metadata": {
    "pycharm": {
     "name": "#%%\n"
    },
    "ExecuteTime": {
     "end_time": "2023-09-07T09:26:10.967828Z",
     "start_time": "2023-09-07T09:26:10.247355Z"
    }
   },
   "outputs": [
    {
     "name": "stdout",
     "output_type": "stream",
     "text": [
      "  PAW_PBE Cd 06Sep2000                   \r\n",
      "   TITEL  = PAW_PBE Cd 06Sep2000\r\n",
      "  PAW_PBE Te 08Apr2002                   \r\n",
      "   TITEL  = PAW_PBE Te 08Apr2002\r\n",
      "   POMASS =  112.411; ZVAL   =   12.000    mass and valenz\r\n",
      "   POMASS =  127.600; ZVAL   =    6.000    mass and valenz\r\n",
      "NELECT should be: 566\n",
      "NELECT = 566.0\r\n",
      "# May want to change NCORE, KPAR, AEXX, ENCUT, IBRION, LREAL, NUPDOWN, ISPIN = Typical variable parameters\r\n",
      "NUPDOWN = 0\r\n",
      "EDIFF = 1e-05\r\n",
      "EDIFFG = -0.01\r\n"
     ]
    }
   ],
   "source": [
    "!grep PAW_PBE v_Cd_-2/vasp_gam/POTCAR\n",
    "!grep ZVAL v_Cd_-2/vasp_gam/POTCAR\n",
    "print(f\"NELECT should be: {31*12 + 32*6 + 2}\")\n",
    "!grep NELECT v_Cd_-2/vasp_gam/INCAR\n",
    "!grep NUP v_Cd_-2/vasp_gam/INCAR\n",
    "!grep EDIFF v_Cd_-2/vasp_gam/INCAR"
   ]
  },
  {
   "cell_type": "code",
   "execution_count": 15,
   "outputs": [],
   "source": [
    "ds = DefectsSet(defect_gen, user_potcar_settings={\"POTCAR\":{\"Cd\": \"Cd_sv_GW\"}})"
   ],
   "metadata": {
    "collapsed": false,
    "ExecuteTime": {
     "end_time": "2023-09-07T09:26:38.112748Z",
     "start_time": "2023-09-07T09:26:38.109647Z"
    }
   }
  },
  {
   "cell_type": "code",
   "execution_count": 16,
   "outputs": [],
   "source": [
    "ds.defect_sets[\"v_Cd_-2\"].write_gam()"
   ],
   "metadata": {
    "collapsed": false,
    "ExecuteTime": {
     "end_time": "2023-09-07T09:26:38.675503Z",
     "start_time": "2023-09-07T09:26:38.248394Z"
    }
   }
  },
  {
   "cell_type": "code",
   "execution_count": 17,
   "outputs": [
    {
     "name": "stdout",
     "output_type": "stream",
     "text": [
      "  PAW_PBE Te 08Apr2002                   \r\n",
      "   TITEL  = PAW_PBE Te 08Apr2002\r\n",
      "   POMASS =  112.411; ZVAL   =   20.000    mass and valenz\r\n",
      "   POMASS =  127.600; ZVAL   =    6.000    mass and valenz\r\n",
      "NELECT should be: 814\n",
      "NELECT = 814.0\r\n",
      "# May want to change NCORE, KPAR, AEXX, ENCUT, IBRION, LREAL, NUPDOWN, ISPIN = Typical variable parameters\r\n",
      "NUPDOWN = 0\r\n",
      "EDIFF = 1e-05\r\n",
      "EDIFFG = -0.01\r\n"
     ]
    }
   ],
   "source": [
    "!grep PAW_PBE v_Cd_-2/vasp_gam/POTCAR\n",
    "!grep ZVAL v_Cd_-2/vasp_gam/POTCAR\n",
    "print(f\"NELECT should be: {31*20 + 32*6 + 2}\")\n",
    "!grep NELECT v_Cd_-2/vasp_gam/INCAR\n",
    "!grep NUP v_Cd_-2/vasp_gam/INCAR\n",
    "!grep EDIFF v_Cd_-2/vasp_gam/INCAR"
   ],
   "metadata": {
    "collapsed": false,
    "ExecuteTime": {
     "end_time": "2023-09-07T09:26:39.825864Z",
     "start_time": "2023-09-07T09:26:39.169833Z"
    }
   }
  },
  {
   "cell_type": "code",
   "execution_count": 18,
   "outputs": [],
   "source": [
    "ds.defect_sets[\"v_Cd_-2\"].write_nkred_std()"
   ],
   "metadata": {
    "collapsed": false,
    "ExecuteTime": {
     "end_time": "2023-09-07T09:27:01.046362Z",
     "start_time": "2023-09-07T09:27:00.774243Z"
    }
   }
  },
  {
   "cell_type": "code",
   "execution_count": 20,
   "outputs": [
    {
     "name": "stdout",
     "output_type": "stream",
     "text": [
      "  PAW_PBE Te 08Apr2002                   \r\n",
      "   TITEL  = PAW_PBE Te 08Apr2002\r\n",
      "   POMASS =  112.411; ZVAL   =   20.000    mass and valenz\r\n",
      "   POMASS =  127.600; ZVAL   =    6.000    mass and valenz\r\n",
      "NELECT should be: 814\n",
      "NELECT = 814.0\r\n",
      "# May want to change NCORE, KPAR, AEXX, ENCUT, IBRION, LREAL, NUPDOWN, ISPIN = Typical variable parameters\r\n",
      "NUPDOWN = 0\r\n",
      "EDIFF = 1e-05\r\n",
      "EDIFFG = -0.01\r\n",
      "NKRED = 2\r\n",
      "# May want to change NCORE, KPAR, AEXX, ENCUT, IBRION, LREAL, NUPDOWN, ISPIN = Typical variable parameters\r\n",
      "KPAR = 2\r\n"
     ]
    }
   ],
   "source": [
    "!grep PAW_PBE v_Cd_-2/vasp_nkred_std/POTCAR\n",
    "!grep ZVAL v_Cd_-2/vasp_nkred_std/POTCAR\n",
    "print(f\"NELECT should be: {31*20 + 32*6 + 2}\")\n",
    "!grep NELECT v_Cd_-2/vasp_nkred_std/INCAR\n",
    "!grep NUP v_Cd_-2/vasp_nkred_std/INCAR\n",
    "!grep EDIFF v_Cd_-2/vasp_nkred_std/INCAR\n",
    "!grep NKRED v_Cd_-2/vasp_nkred_std/INCAR\n",
    "!grep KPAR v_Cd_-2/vasp_nkred_std/INCAR"
   ],
   "metadata": {
    "collapsed": false,
    "ExecuteTime": {
     "end_time": "2023-09-07T09:27:33.403880Z",
     "start_time": "2023-09-07T09:27:32.489830Z"
    }
   }
  },
  {
   "cell_type": "code",
   "execution_count": 23,
   "outputs": [],
   "source": [
    "ds = DefectsSet(defect_gen, user_kpoints_settings={\"reciprocal_density\": 1000})"
   ],
   "metadata": {
    "collapsed": false,
    "ExecuteTime": {
     "end_time": "2023-09-07T09:29:07.643677Z",
     "start_time": "2023-09-07T09:29:07.638480Z"
    }
   }
  },
  {
   "cell_type": "code",
   "execution_count": 24,
   "outputs": [],
   "source": [
    "ds.defect_sets[\"v_Cd_-2\"].write_ncl()"
   ],
   "metadata": {
    "collapsed": false,
    "ExecuteTime": {
     "end_time": "2023-09-07T09:29:08.423270Z",
     "start_time": "2023-09-07T09:29:08.135259Z"
    }
   }
  },
  {
   "cell_type": "code",
   "execution_count": 25,
   "outputs": [
    {
     "name": "stdout",
     "output_type": "stream",
     "text": [
      "  PAW_PBE Cd 06Sep2000                   \r\n",
      "   TITEL  = PAW_PBE Cd 06Sep2000\r\n",
      "  PAW_PBE Te 08Apr2002                   \r\n",
      "   TITEL  = PAW_PBE Te 08Apr2002\r\n",
      "NELECT should be: 814\n",
      "NELECT = 566.0\r\n",
      "# May want to change NCORE, KPAR, AEXX, ENCUT, IBRION, LREAL, NUPDOWN, ISPIN = Typical variable parameters\r\n",
      "NUPDOWN = 0\r\n",
      "KPOINTS from doped, with reciprocal_density = 1000/Å⁻³\r\n",
      "0\r\n",
      "Gamma\r\n",
      "4 4 4\r\n"
     ]
    }
   ],
   "source": [
    "!grep PAW_PBE v_Cd_-2/vasp_ncl/POTCAR\n",
    "print(f\"NELECT should be: {31*20 + 32*6 + 2}\")\n",
    "!grep NELECT v_Cd_-2/vasp_ncl/INCAR\n",
    "!grep NUP v_Cd_-2/vasp_ncl/INCAR\n",
    "!cat v_Cd_-2/vasp_ncl/KPOINTS"
   ],
   "metadata": {
    "collapsed": false,
    "ExecuteTime": {
     "end_time": "2023-09-07T09:30:05.088638Z",
     "start_time": "2023-09-07T09:30:04.583849Z"
    }
   }
  },
  {
   "cell_type": "code",
   "execution_count": null,
   "metadata": {
    "pycharm": {
     "name": "#%%\n"
    }
   },
   "outputs": [],
   "source": []
  },
  {
   "cell_type": "markdown",
   "source": [
    "## ShakeNBreak"
   ],
   "metadata": {
    "collapsed": false
   }
  },
  {
   "cell_type": "code",
   "execution_count": 27,
   "metadata": {
    "pycharm": {
     "name": "#%%\n"
    },
    "ExecuteTime": {
     "end_time": "2023-09-07T09:33:23.990277Z",
     "start_time": "2023-09-07T09:33:23.924556Z"
    }
   },
   "outputs": [
    {
     "name": "stdout",
     "output_type": "stream",
     "text": [
      "Oxidation states were not explicitly set, thus have been guessed as {'Cd': 2.0, 'Te': -2.0}. If this is unreasonable you should manually set oxidation_states\n"
     ]
    }
   ],
   "source": [
    "from shakenbreak.input import Distortions\n",
    "Dist = Distortions(defect_gen)"
   ]
  },
  {
   "cell_type": "code",
   "execution_count": 28,
   "outputs": [
    {
     "name": "stdout",
     "output_type": "stream",
     "text": [
      "Applying ShakeNBreak... Will apply the following bond distortions: ['-0.6', '-0.5', '-0.4', '-0.3', '-0.2', '-0.1', '0.0', '0.1', '0.2', '0.3', '0.4', '0.5', '0.6']. Then, will rattle with a std dev of 0.28 Å \n",
      "\n",
      "\u001B[1m\n",
      "Defect: v_Cd\u001B[0m\n",
      "\u001B[1mNumber of missing electrons in neutral state: 2\u001B[0m\n",
      "\n",
      "Defect v_Cd in charge state: -2. Number of distorted neighbours: 0\n",
      "\n",
      "Defect v_Cd in charge state: -1. Number of distorted neighbours: 1\n",
      "\n",
      "Defect v_Cd in charge state: 0. Number of distorted neighbours: 2\n",
      "\n",
      "Defect v_Cd in charge state: +1. Number of distorted neighbours: 3\n",
      "\u001B[1m\n",
      "Defect: v_Te\u001B[0m\n",
      "\u001B[1mNumber of extra electrons in neutral state: 2\u001B[0m\n",
      "\n",
      "Defect v_Te in charge state: -1. Number of distorted neighbours: 3\n",
      "\n",
      "Defect v_Te in charge state: 0. Number of distorted neighbours: 2\n",
      "\n",
      "Defect v_Te in charge state: +1. Number of distorted neighbours: 1\n",
      "\n",
      "Defect v_Te in charge state: +2. Number of distorted neighbours: 0\n",
      "\u001B[1m\n",
      "Defect: Cd_Te\u001B[0m\n",
      "\u001B[1mNumber of extra electrons in neutral state: 4\u001B[0m\n",
      "\n",
      "Defect Cd_Te in charge state: 0. Number of distorted neighbours: 4\n",
      "\n",
      "Defect Cd_Te in charge state: +1. Number of distorted neighbours: 3\n",
      "\n",
      "Defect Cd_Te in charge state: +2. Number of distorted neighbours: 2\n",
      "\n",
      "Defect Cd_Te in charge state: +3. Number of distorted neighbours: 1\n",
      "\n",
      "Defect Cd_Te in charge state: +4. Number of distorted neighbours: 0\n",
      "\u001B[1m\n",
      "Defect: Te_Cd\u001B[0m\n",
      "\u001B[1mNumber of missing electrons in neutral state: 4\u001B[0m\n",
      "\n",
      "Defect Te_Cd in charge state: -4. Number of distorted neighbours: 0\n",
      "\n",
      "Defect Te_Cd in charge state: -3. Number of distorted neighbours: 1\n",
      "\n",
      "Defect Te_Cd in charge state: -2. Number of distorted neighbours: 2\n",
      "\n",
      "Defect Te_Cd in charge state: -1. Number of distorted neighbours: 3\n",
      "\n",
      "Defect Te_Cd in charge state: 0. Number of distorted neighbours: 4\n",
      "\n",
      "Defect Te_Cd in charge state: +1. Number of distorted neighbours: 3\n",
      "\n",
      "Defect Te_Cd in charge state: +2. Number of distorted neighbours: 2\n",
      "\u001B[1m\n",
      "Defect: Cd_i_C3v\u001B[0m\n",
      "\u001B[1mNumber of extra electrons in neutral state: 2\u001B[0m\n",
      "\n",
      "Defect Cd_i_C3v in charge state: 0. Number of distorted neighbours: 2\n",
      "\n",
      "Defect Cd_i_C3v in charge state: +1. Number of distorted neighbours: 1\n",
      "\n",
      "Defect Cd_i_C3v in charge state: +2. Number of distorted neighbours: 0\n",
      "\u001B[1m\n",
      "Defect: Cd_i_Td_Cd2.83\u001B[0m\n",
      "\u001B[1mNumber of extra electrons in neutral state: 2\u001B[0m\n",
      "\n",
      "Defect Cd_i_Td_Cd2.83 in charge state: 0. Number of distorted neighbours: 2\n",
      "\n",
      "Defect Cd_i_Td_Cd2.83 in charge state: +1. Number of distorted neighbours: 1\n",
      "\n",
      "Defect Cd_i_Td_Cd2.83 in charge state: +2. Number of distorted neighbours: 0\n",
      "\u001B[1m\n",
      "Defect: Cd_i_Td_Te2.83\u001B[0m\n",
      "\u001B[1mNumber of extra electrons in neutral state: 2\u001B[0m\n",
      "\n",
      "Defect Cd_i_Td_Te2.83 in charge state: 0. Number of distorted neighbours: 2\n",
      "\n",
      "Defect Cd_i_Td_Te2.83 in charge state: +1. Number of distorted neighbours: 1\n",
      "\n",
      "Defect Cd_i_Td_Te2.83 in charge state: +2. Number of distorted neighbours: 0\n",
      "\u001B[1m\n",
      "Defect: Te_i_C3v\u001B[0m\n",
      "\u001B[1mNumber of missing electrons in neutral state: 2\u001B[0m\n",
      "\n",
      "Defect Te_i_C3v in charge state: -2. Number of distorted neighbours: 0\n",
      "\n",
      "Defect Te_i_C3v in charge state: -1. Number of distorted neighbours: 1\n",
      "\n",
      "Defect Te_i_C3v in charge state: 0. Number of distorted neighbours: 2\n",
      "\n",
      "Defect Te_i_C3v in charge state: +1. Number of distorted neighbours: 3\n",
      "\n",
      "Defect Te_i_C3v in charge state: +2. Number of distorted neighbours: 4\n",
      "\n",
      "Defect Te_i_C3v in charge state: +3. Number of distorted neighbours: 3\n",
      "\n",
      "Defect Te_i_C3v in charge state: +4. Number of distorted neighbours: 2\n",
      "\u001B[1m\n",
      "Defect: Te_i_Td_Cd2.83\u001B[0m\n",
      "\u001B[1mNumber of missing electrons in neutral state: 2\u001B[0m\n",
      "\n",
      "Defect Te_i_Td_Cd2.83 in charge state: -2. Number of distorted neighbours: 0\n",
      "\n",
      "Defect Te_i_Td_Cd2.83 in charge state: -1. Number of distorted neighbours: 1\n",
      "\n",
      "Defect Te_i_Td_Cd2.83 in charge state: 0. Number of distorted neighbours: 2\n",
      "\n",
      "Defect Te_i_Td_Cd2.83 in charge state: +1. Number of distorted neighbours: 3\n",
      "\n",
      "Defect Te_i_Td_Cd2.83 in charge state: +2. Number of distorted neighbours: 4\n",
      "\n",
      "Defect Te_i_Td_Cd2.83 in charge state: +3. Number of distorted neighbours: 3\n",
      "\n",
      "Defect Te_i_Td_Cd2.83 in charge state: +4. Number of distorted neighbours: 2\n",
      "\u001B[1m\n",
      "Defect: Te_i_Td_Te2.83\u001B[0m\n",
      "\u001B[1mNumber of missing electrons in neutral state: 2\u001B[0m\n",
      "\n",
      "Defect Te_i_Td_Te2.83 in charge state: -2. Number of distorted neighbours: 0\n",
      "\n",
      "Defect Te_i_Td_Te2.83 in charge state: -1. Number of distorted neighbours: 1\n",
      "\n",
      "Defect Te_i_Td_Te2.83 in charge state: 0. Number of distorted neighbours: 2\n",
      "\n",
      "Defect Te_i_Td_Te2.83 in charge state: +1. Number of distorted neighbours: 3\n",
      "\n",
      "Defect Te_i_Td_Te2.83 in charge state: +2. Number of distorted neighbours: 4\n",
      "\n",
      "Defect Te_i_Td_Te2.83 in charge state: +3. Number of distorted neighbours: 3\n",
      "\n",
      "Defect Te_i_Td_Te2.83 in charge state: +4. Number of distorted neighbours: 2\n"
     ]
    },
    {
     "name": "stderr",
     "output_type": "stream",
     "text": [
      "input.py:306: UserWarning: A previously-generated defect folder v_Cd_-2 exists in tests, and the Unperturbed defect structure could not be matched to the current defect species: v_Cd_-2. These are assumed to be inequivalent defects, so the previous v_Cd_-2 will be renamed to v_Cda_-2 and ShakeNBreak files for the current defect will be saved to v_Cdb_-2, to prevent overwriting.\n"
     ]
    }
   ],
   "source": [
    "defects_dict, distortion_metadata = Dist.write_vasp_files()"
   ],
   "metadata": {
    "collapsed": false,
    "ExecuteTime": {
     "end_time": "2023-09-07T09:37:17.796027Z",
     "start_time": "2023-09-07T09:33:42.000335Z"
    }
   }
  },
  {
   "cell_type": "code",
   "execution_count": null,
   "outputs": [],
   "source": [],
   "metadata": {
    "collapsed": false
   }
  }
 ],
 "metadata": {
  "kernelspec": {
   "display_name": "Python 3",
   "language": "python",
   "name": "python3"
  },
  "language_info": {
   "codemirror_mode": {
    "name": "ipython",
    "version": 3
   },
   "file_extension": ".py",
   "mimetype": "text/x-python",
   "name": "python",
   "nbconvert_exporter": "python",
   "pygments_lexer": "ipython3",
   "version": "3.7.7"
  }
 },
 "nbformat": 4,
 "nbformat_minor": 4
}
