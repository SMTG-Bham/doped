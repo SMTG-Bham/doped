{
 "cells": [
  {
   "cell_type": "markdown",
   "metadata": {
    "pycharm": {
     "name": "#%% md\n"
    }
   },
   "source": [
    "# `POTCAR` Testing"
   ]
  },
  {
   "cell_type": "code",
   "source": [
    "from pymatgen.core.structure import Structure\n",
    "from doped.generation import DefectsGenerator\n",
    "\n",
    "relaxed_primitive_CdTe = Structure.from_file(\"../examples/CdTe/relaxed_primitive_POSCAR\")\n",
    "defect_gen = DefectsGenerator(relaxed_primitive_CdTe)"
   ],
   "metadata": {
    "collapsed": false,
    "ExecuteTime": {
     "end_time": "2024-04-10T20:34:05.619409Z",
     "start_time": "2024-04-10T20:33:41.367733Z"
    }
   },
   "outputs": [
    {
     "name": "stderr",
     "output_type": "stream",
     "text": [
      "Generating DefectEntry objects: 100.0%|██████████| [00:11,   8.67it/s]                             "
     ]
    },
    {
     "name": "stdout",
     "output_type": "stream",
     "text": [
      "Vacancies    Guessed Charges    Conv. Cell Coords    Wyckoff\n",
      "-----------  -----------------  -------------------  ---------\n",
      "v_Cd         [+1,0,-1,-2]       [0.000,0.000,0.000]  4a\n",
      "v_Te         [+2,+1,0,-1]       [0.250,0.250,0.250]  4c\n",
      "\n",
      "Substitutions    Guessed Charges        Conv. Cell Coords    Wyckoff\n",
      "---------------  ---------------------  -------------------  ---------\n",
      "Cd_Te            [+4,+3,+2,+1,0]        [0.250,0.250,0.250]  4c\n",
      "Te_Cd            [+2,+1,0,-1,-2,-3,-4]  [0.000,0.000,0.000]  4a\n",
      "\n",
      "Interstitials    Guessed Charges        Conv. Cell Coords    Wyckoff\n",
      "---------------  ---------------------  -------------------  ---------\n",
      "Cd_i_C3v         [+2,+1,0]              [0.625,0.625,0.625]  16e\n",
      "Cd_i_Td_Cd2.83   [+2,+1,0]              [0.750,0.750,0.750]  4d\n",
      "Cd_i_Td_Te2.83   [+2,+1,0]              [0.500,0.500,0.500]  4b\n",
      "Te_i_C3v         [+4,+3,+2,+1,0,-1,-2]  [0.625,0.625,0.625]  16e\n",
      "Te_i_Td_Cd2.83   [+4,+3,+2,+1,0,-1,-2]  [0.750,0.750,0.750]  4d\n",
      "Te_i_Td_Te2.83   [+4,+3,+2,+1,0,-1,-2]  [0.500,0.500,0.500]  4b\n",
      "\n",
      "The number in the Wyckoff label is the site multiplicity/degeneracy of that defect in the conventional ('conv.') unit cell, which comprises 4 formula unit(s) of CdTe.\n",
      "Note that Wyckoff letters can depend on the ordering of elements in the conventional standard structure, for which doped uses the spglib convention.\n"
     ]
    },
    {
     "name": "stderr",
     "output_type": "stream",
     "text": [
      "\n"
     ]
    }
   ],
   "execution_count": 1
  },
  {
   "cell_type": "code",
   "metadata": {
    "pycharm": {
     "name": "#%%\n"
    },
    "ExecuteTime": {
     "end_time": "2024-04-10T20:34:05.767167Z",
     "start_time": "2024-04-10T20:34:05.621443Z"
    }
   },
   "source": [
    "from doped.vasp import DefectsSet\n",
    "ds = DefectsSet(defect_gen, user_incar_settings={\"Whoops\": \"lol\"})\n",
    "# doped should warn me if I put in a whack INCAR tag (or misspell)"
   ],
   "outputs": [
    {
     "name": "stderr",
     "output_type": "stream",
     "text": [
      "Cannot find Whoops from your user_incar_settings in the list of INCAR flags\n",
      "Cannot find Whoops from your user_incar_settings in the list of INCAR flags\n",
      "Cannot find Whoops from your user_incar_settings in the list of INCAR flags\n",
      "Cannot find Whoops from your user_incar_settings in the list of INCAR flags\n",
      "Cannot find Whoops from your user_incar_settings in the list of INCAR flags\n",
      "Cannot find Whoops from your user_incar_settings in the list of INCAR flags\n"
     ]
    }
   ],
   "execution_count": 2
  },
  {
   "cell_type": "code",
   "source": [
    "ds.defect_sets[\"v_Cd_-2\"].vasp_std"
   ],
   "metadata": {
    "collapsed": false,
    "ExecuteTime": {
     "end_time": "2024-04-10T20:34:05.792944Z",
     "start_time": "2024-04-10T20:34:05.767970Z"
    }
   },
   "outputs": [
    {
     "name": "stderr",
     "output_type": "stream",
     "text": [
      "Cannot find Whoops from your user_incar_settings in the list of INCAR flags\n"
     ]
    },
    {
     "data": {
      "text/plain": [
       "doped DefectDictSet with supercell composition Cd26 Te27. Available attributes:\n",
       "{'charge_state', 'auto_ismear', 'international_monoclinic', 'prev_vasprun', 'nelect', 'user_potcar_functional', 'potcar_symbols', 'incar', 'constrain_total_magmom', 'user_potcar_settings', 'sort_structure', 'user_kpoints_settings', 'sym_prec', 'config_dict', 'inherit_incar', 'incar_updates', 'potcar', 'poscar_comment', 'vdw', 'prev_incar', 'standardize', 'potcar_functional', 'validate_magmom', 'user_incar_settings', 'bandgap_tol', 'files_to_transfer', 'prev_outcar', 'poscar', 'force_gamma', 'bandgap', 'auto_kpar', 'kpoints', 'structure', 'use_structure_charge', 'reduce_structure', 'kpoints_updates', 'prev_kpoints'}\n",
       "\n",
       "Available methods:\n",
       "{'get_input_set', 'validate_monty_v2', 'calculate_ng', 'override_from_prev_calc', 'validate_monty_v1', 'from_dict', 'unsafe_hash', 'write_input', 'estimate_nbands', 'get_vasp_input', 'as_dict', 'from_prev_calc', 'to_json'}"
      ]
     },
     "execution_count": 3,
     "metadata": {},
     "output_type": "execute_result"
    }
   ],
   "execution_count": 3
  },
  {
   "cell_type": "code",
   "source": [
    "ds.defect_sets[\"v_Cd_-2\"].write_gam()"
   ],
   "metadata": {
    "collapsed": false,
    "ExecuteTime": {
     "end_time": "2024-04-10T20:34:05.905512Z",
     "start_time": "2024-04-10T20:34:05.793997Z"
    }
   },
   "outputs": [
    {
     "name": "stderr",
     "output_type": "stream",
     "text": [
      "Cannot find Whoops from your user_incar_settings in the list of INCAR flags\n"
     ]
    }
   ],
   "execution_count": 4
  },
  {
   "cell_type": "code",
   "metadata": {
    "pycharm": {
     "name": "#%%\n"
    },
    "ExecuteTime": {
     "end_time": "2024-04-10T20:34:06.629257Z",
     "start_time": "2024-04-10T20:34:05.908187Z"
    }
   },
   "source": [
    "!grep PAW_PBE v_Cd_-2/vasp_gam/POTCAR\n",
    "!grep ZVAL v_Cd_-2/vasp_gam/POTCAR\n",
    "print(f\"NELECT should be: {31*12 + 32*6 + 2}\")\n",
    "!grep NELECT v_Cd_-2/vasp_gam/INCAR\n",
    "!grep NUP v_Cd_-2/vasp_gam/INCAR\n",
    "!grep EDIFF v_Cd_-2/vasp_gam/INCAR"
   ],
   "outputs": [
    {
     "name": "stdout",
     "output_type": "stream",
     "text": [
      "  PAW_PBE Cd 06Sep2000                   \r\n",
      "   TITEL  = PAW_PBE Cd 06Sep2000\r\n",
      "  PAW_PBE Te 08Apr2002                   \r\n",
      "   TITEL  = PAW_PBE Te 08Apr2002\r\n",
      "   POMASS =  112.411; ZVAL   =   12.000    mass and valenz\r\n",
      "   POMASS =  127.600; ZVAL   =    6.000    mass and valenz\r\n",
      "NELECT should be: 566\n",
      "NELECT = 476.0\r\n",
      "# May want to change NCORE, KPAR, AEXX, ENCUT, IBRION, LREAL, NUPDOWN, ISPIN, MAGMOM = Typical variable parameters\r\n",
      "NUPDOWN = 0\r\n",
      "EDIFF = 1e-05\r\n",
      "EDIFFG = -0.01\r\n"
     ]
    }
   ],
   "execution_count": 5
  },
  {
   "cell_type": "code",
   "source": [
    "ds = DefectsSet(defect_gen, user_potcar_settings={\"POTCAR\":{\"Cd\": \"Cd_sv_GW\"}})"
   ],
   "metadata": {
    "collapsed": false,
    "ExecuteTime": {
     "end_time": "2024-04-10T20:34:55.318684Z",
     "start_time": "2024-04-10T20:34:55.171175Z"
    }
   },
   "outputs": [],
   "execution_count": 6
  },
  {
   "cell_type": "code",
   "source": [
    "ds.defect_sets[\"v_Cd_-2\"].write_gam()"
   ],
   "metadata": {
    "collapsed": false,
    "ExecuteTime": {
     "end_time": "2024-04-10T20:34:56.021623Z",
     "start_time": "2024-04-10T20:34:55.971166Z"
    }
   },
   "outputs": [],
   "execution_count": 7
  },
  {
   "cell_type": "code",
   "source": [
    "!grep PAW_PBE v_Cd_-2/vasp_gam/POTCAR\n",
    "!grep ZVAL v_Cd_-2/vasp_gam/POTCAR\n",
    "print(f\"NELECT should be: {31*20 + 32*6 + 2}\")\n",
    "!grep NELECT v_Cd_-2/vasp_gam/INCAR\n",
    "!grep NUP v_Cd_-2/vasp_gam/INCAR\n",
    "!grep EDIFF v_Cd_-2/vasp_gam/INCAR"
   ],
   "metadata": {
    "collapsed": false,
    "ExecuteTime": {
     "end_time": "2024-04-10T20:34:57.184342Z",
     "start_time": "2024-04-10T20:34:56.453901Z"
    }
   },
   "outputs": [
    {
     "name": "stdout",
     "output_type": "stream",
     "text": [
      "  PAW_PBE Cd_sv_GW 16Apr2014                 \r\n",
      "   TITEL  = PAW_PBE Cd_sv_GW 16Apr2014\r\n",
      "  PAW_PBE Te 08Apr2002                   \r\n",
      "   TITEL  = PAW_PBE Te 08Apr2002\r\n",
      "   POMASS =  112.411; ZVAL   =   20.000    mass and valenz\r\n",
      "   POMASS =  127.600; ZVAL   =    6.000    mass and valenz\r\n",
      "NELECT should be: 814\n",
      "NELECT = 684.0\r\n",
      "# May want to change NCORE, KPAR, AEXX, ENCUT, IBRION, LREAL, NUPDOWN, ISPIN, MAGMOM = Typical variable parameters\r\n",
      "NUPDOWN = 0\r\n",
      "EDIFF = 1e-05\r\n",
      "EDIFFG = -0.01\r\n"
     ]
    }
   ],
   "execution_count": 8
  },
  {
   "cell_type": "code",
   "source": [
    "ds.defect_sets[\"v_Cd_-2\"].write_nkred_std()"
   ],
   "metadata": {
    "collapsed": false,
    "ExecuteTime": {
     "end_time": "2024-04-10T20:34:58.657044Z",
     "start_time": "2024-04-10T20:34:58.621384Z"
    }
   },
   "outputs": [],
   "execution_count": 9
  },
  {
   "cell_type": "code",
   "source": [
    "!grep PAW_PBE v_Cd_-2/vasp_nkred_std/POTCAR\n",
    "!grep ZVAL v_Cd_-2/vasp_nkred_std/POTCAR\n",
    "print(f\"NELECT should be: {31*20 + 32*6 + 2}\")\n",
    "!grep NELECT v_Cd_-2/vasp_nkred_std/INCAR\n",
    "!grep NUP v_Cd_-2/vasp_nkred_std/INCAR\n",
    "!grep EDIFF v_Cd_-2/vasp_nkred_std/INCAR\n",
    "!grep NKRED v_Cd_-2/vasp_nkred_std/INCAR\n",
    "!grep KPAR v_Cd_-2/vasp_nkred_std/INCAR"
   ],
   "metadata": {
    "collapsed": false,
    "ExecuteTime": {
     "end_time": "2024-04-10T20:34:59.749020Z",
     "start_time": "2024-04-10T20:34:58.825714Z"
    }
   },
   "outputs": [
    {
     "name": "stdout",
     "output_type": "stream",
     "text": [
      "  PAW_PBE Cd_sv_GW 16Apr2014                 \r\n",
      "   TITEL  = PAW_PBE Cd_sv_GW 16Apr2014\r\n",
      "  PAW_PBE Te 08Apr2002                   \r\n",
      "   TITEL  = PAW_PBE Te 08Apr2002\r\n",
      "   POMASS =  112.411; ZVAL   =   20.000    mass and valenz\r\n",
      "   POMASS =  127.600; ZVAL   =    6.000    mass and valenz\r\n",
      "NELECT should be: 814\n",
      "NELECT = 684.0\r\n",
      "# May want to change NCORE, KPAR, AEXX, ENCUT, IBRION, LREAL, NUPDOWN, ISPIN, MAGMOM = Typical variable parameters\r\n",
      "NUPDOWN = 0\r\n",
      "EDIFF = 1e-05\r\n",
      "EDIFFG = -0.01\r\n",
      "NKRED = 2\r\n",
      "# May want to change NCORE, KPAR, AEXX, ENCUT, IBRION, LREAL, NUPDOWN, ISPIN, MAGMOM = Typical variable parameters\r\n",
      "KPAR = 4  # 2 or >=4 k-points in at least two directions\r\n"
     ]
    }
   ],
   "execution_count": 10
  },
  {
   "cell_type": "code",
   "source": [
    "ds = DefectsSet(defect_gen, user_kpoints_settings={\"reciprocal_density\": 1000})"
   ],
   "metadata": {
    "collapsed": false,
    "ExecuteTime": {
     "end_time": "2024-04-10T20:35:00.480618Z",
     "start_time": "2024-04-10T20:35:00.449080Z"
    }
   },
   "outputs": [],
   "execution_count": 11
  },
  {
   "cell_type": "code",
   "source": [
    "ds.defect_sets[\"v_Cd_-2\"].write_ncl()"
   ],
   "metadata": {
    "collapsed": false,
    "ExecuteTime": {
     "end_time": "2024-04-10T20:35:00.631771Z",
     "start_time": "2024-04-10T20:35:00.604420Z"
    }
   },
   "outputs": [],
   "execution_count": 12
  },
  {
   "cell_type": "code",
   "source": [
    "!grep PAW_PBE v_Cd_-2/vasp_ncl/POTCAR\n",
    "print(f\"NELECT should be: {31*20 + 32*6 + 2}\")\n",
    "!grep NELECT v_Cd_-2/vasp_ncl/INCAR\n",
    "!grep NUP v_Cd_-2/vasp_ncl/INCAR\n",
    "!cat v_Cd_-2/vasp_ncl/KPOINTS"
   ],
   "metadata": {
    "collapsed": false,
    "ExecuteTime": {
     "end_time": "2024-04-10T20:35:01.702925Z",
     "start_time": "2024-04-10T20:35:01.116045Z"
    }
   },
   "outputs": [
    {
     "name": "stdout",
     "output_type": "stream",
     "text": [
      "  PAW_PBE Cd 06Sep2000                   \r\n",
      "   TITEL  = PAW_PBE Cd 06Sep2000\r\n",
      "  PAW_PBE Te 08Apr2002                   \r\n",
      "   TITEL  = PAW_PBE Te 08Apr2002\r\n",
      "NELECT should be: 814\n",
      "NELECT = 476.0\r\n",
      "# May want to change NCORE, KPAR, AEXX, ENCUT, IBRION, LREAL, NUPDOWN, ISPIN, MAGMOM = Typical variable parameters\r\n",
      "NUPDOWN = 0\r\n",
      "KPOINTS from doped, with reciprocal_density = 1000/Å⁻³\r\n",
      "0\r\n",
      "Gamma\r\n",
      "5 5 5\r\n"
     ]
    }
   ],
   "execution_count": 13
  },
  {
   "cell_type": "code",
   "execution_count": null,
   "metadata": {
    "pycharm": {
     "name": "#%%\n"
    }
   },
   "outputs": [],
   "source": []
  },
  {
   "cell_type": "markdown",
   "source": [
    "## ShakeNBreak"
   ],
   "metadata": {
    "collapsed": false
   }
  },
  {
   "cell_type": "code",
   "metadata": {
    "pycharm": {
     "name": "#%%\n"
    },
    "ExecuteTime": {
     "end_time": "2024-04-10T20:35:04.621195Z",
     "start_time": "2024-04-10T20:35:04.571784Z"
    }
   },
   "source": [
    "from shakenbreak.input import Distortions\n",
    "Dist = Distortions(defect_gen)"
   ],
   "outputs": [
    {
     "name": "stdout",
     "output_type": "stream",
     "text": [
      "Oxidation states were not explicitly set, thus have been guessed as {'Cd': 2.0, 'Te': -2.0}. If this is unreasonable you should manually set oxidation_states\n"
     ]
    }
   ],
   "execution_count": 14
  },
  {
   "cell_type": "code",
   "source": [
    "defects_dict, distortion_metadata = Dist.write_vasp_files()"
   ],
   "metadata": {
    "collapsed": false,
    "ExecuteTime": {
     "end_time": "2024-04-10T20:35:26.152399Z",
     "start_time": "2024-04-10T20:35:08.086314Z"
    }
   },
   "outputs": [
    {
     "name": "stdout",
     "output_type": "stream",
     "text": [
      "Applying ShakeNBreak... Will apply the following bond distortions: ['-0.6', '-0.5', '-0.4', '-0.3', '-0.2', '-0.1', '0.0', '0.1', '0.2', '0.3', '0.4', '0.5', '0.6']. Then, will rattle with a std dev of 0.28 Å \n",
      "\n",
      "\u001B[1m\n",
      "Defect: v_Cd\u001B[0m\n",
      "\u001B[1mNumber of missing electrons in neutral state: 2\u001B[0m\n",
      "\n",
      "Defect v_Cd in charge state: +1. Number of distorted neighbours: 3\n",
      "\n",
      "Defect v_Cd in charge state: 0. Number of distorted neighbours: 2\n",
      "\n",
      "Defect v_Cd in charge state: -1. Number of distorted neighbours: 1\n",
      "\n",
      "Defect v_Cd in charge state: -2. Number of distorted neighbours: 0\n",
      "\u001B[1m\n",
      "Defect: v_Te\u001B[0m\n",
      "\u001B[1mNumber of extra electrons in neutral state: 2\u001B[0m\n",
      "\n",
      "Defect v_Te in charge state: +2. Number of distorted neighbours: 0\n",
      "\n",
      "Defect v_Te in charge state: +1. Number of distorted neighbours: 1\n",
      "\n",
      "Defect v_Te in charge state: 0. Number of distorted neighbours: 2\n",
      "\n",
      "Defect v_Te in charge state: -1. Number of distorted neighbours: 3\n",
      "\u001B[1m\n",
      "Defect: Cd_Te\u001B[0m\n",
      "\u001B[1mNumber of extra electrons in neutral state: 4\u001B[0m\n",
      "\n",
      "Defect Cd_Te in charge state: +4. Number of distorted neighbours: 0\n",
      "\n",
      "Defect Cd_Te in charge state: +3. Number of distorted neighbours: 1\n",
      "\n",
      "Defect Cd_Te in charge state: +2. Number of distorted neighbours: 2\n",
      "\n",
      "Defect Cd_Te in charge state: +1. Number of distorted neighbours: 3\n",
      "\n",
      "Defect Cd_Te in charge state: 0. Number of distorted neighbours: 4\n",
      "\u001B[1m\n",
      "Defect: Te_Cd\u001B[0m\n",
      "\u001B[1mNumber of missing electrons in neutral state: 4\u001B[0m\n",
      "\n",
      "Defect Te_Cd in charge state: +2. Number of distorted neighbours: 2\n",
      "\n",
      "Defect Te_Cd in charge state: +1. Number of distorted neighbours: 3\n",
      "\n",
      "Defect Te_Cd in charge state: 0. Number of distorted neighbours: 4\n",
      "\n",
      "Defect Te_Cd in charge state: -1. Number of distorted neighbours: 3\n",
      "\n",
      "Defect Te_Cd in charge state: -2. Number of distorted neighbours: 2\n",
      "\n",
      "Defect Te_Cd in charge state: -3. Number of distorted neighbours: 1\n",
      "\n",
      "Defect Te_Cd in charge state: -4. Number of distorted neighbours: 0\n",
      "\u001B[1m\n",
      "Defect: Cd_i_C3v\u001B[0m\n",
      "\u001B[1mNumber of extra electrons in neutral state: 2\u001B[0m\n",
      "\n",
      "Defect Cd_i_C3v in charge state: +2. Number of distorted neighbours: 0\n",
      "\n",
      "Defect Cd_i_C3v in charge state: +1. Number of distorted neighbours: 1\n",
      "\n",
      "Defect Cd_i_C3v in charge state: 0. Number of distorted neighbours: 2\n",
      "\u001B[1m\n",
      "Defect: Cd_i_Td_Cd2.83\u001B[0m\n",
      "\u001B[1mNumber of extra electrons in neutral state: 2\u001B[0m\n",
      "\n",
      "Defect Cd_i_Td_Cd2.83 in charge state: +2. Number of distorted neighbours: 0\n",
      "\n",
      "Defect Cd_i_Td_Cd2.83 in charge state: +1. Number of distorted neighbours: 1\n",
      "\n",
      "Defect Cd_i_Td_Cd2.83 in charge state: 0. Number of distorted neighbours: 2\n",
      "\u001B[1m\n",
      "Defect: Cd_i_Td_Te2.83\u001B[0m\n",
      "\u001B[1mNumber of extra electrons in neutral state: 2\u001B[0m\n",
      "\n",
      "Defect Cd_i_Td_Te2.83 in charge state: +2. Number of distorted neighbours: 0\n",
      "\n",
      "Defect Cd_i_Td_Te2.83 in charge state: +1. Number of distorted neighbours: 1\n",
      "\n",
      "Defect Cd_i_Td_Te2.83 in charge state: 0. Number of distorted neighbours: 2\n",
      "\u001B[1m\n",
      "Defect: Te_i_C3v\u001B[0m\n",
      "\u001B[1mNumber of missing electrons in neutral state: 2\u001B[0m\n",
      "\n",
      "Defect Te_i_C3v in charge state: +4. Number of distorted neighbours: 2\n",
      "\n",
      "Defect Te_i_C3v in charge state: +3. Number of distorted neighbours: 3\n",
      "\n",
      "Defect Te_i_C3v in charge state: +2. Number of distorted neighbours: 4\n",
      "\n",
      "Defect Te_i_C3v in charge state: +1. Number of distorted neighbours: 3\n",
      "\n",
      "Defect Te_i_C3v in charge state: 0. Number of distorted neighbours: 2\n",
      "\n",
      "Defect Te_i_C3v in charge state: -1. Number of distorted neighbours: 1\n",
      "\n",
      "Defect Te_i_C3v in charge state: -2. Number of distorted neighbours: 0\n",
      "\u001B[1m\n",
      "Defect: Te_i_Td_Cd2.83\u001B[0m\n",
      "\u001B[1mNumber of missing electrons in neutral state: 2\u001B[0m\n",
      "\n",
      "Defect Te_i_Td_Cd2.83 in charge state: +4. Number of distorted neighbours: 2\n",
      "\n",
      "Defect Te_i_Td_Cd2.83 in charge state: +3. Number of distorted neighbours: 3\n",
      "\n",
      "Defect Te_i_Td_Cd2.83 in charge state: +2. Number of distorted neighbours: 4\n",
      "\n",
      "Defect Te_i_Td_Cd2.83 in charge state: +1. Number of distorted neighbours: 3\n",
      "\n",
      "Defect Te_i_Td_Cd2.83 in charge state: 0. Number of distorted neighbours: 2\n",
      "\n",
      "Defect Te_i_Td_Cd2.83 in charge state: -1. Number of distorted neighbours: 1\n",
      "\n",
      "Defect Te_i_Td_Cd2.83 in charge state: -2. Number of distorted neighbours: 0\n",
      "\u001B[1m\n",
      "Defect: Te_i_Td_Te2.83\u001B[0m\n",
      "\u001B[1mNumber of missing electrons in neutral state: 2\u001B[0m\n",
      "\n",
      "Defect Te_i_Td_Te2.83 in charge state: +4. Number of distorted neighbours: 2\n",
      "\n",
      "Defect Te_i_Td_Te2.83 in charge state: +3. Number of distorted neighbours: 3\n",
      "\n",
      "Defect Te_i_Td_Te2.83 in charge state: +2. Number of distorted neighbours: 4\n",
      "\n",
      "Defect Te_i_Td_Te2.83 in charge state: +1. Number of distorted neighbours: 3\n",
      "\n",
      "Defect Te_i_Td_Te2.83 in charge state: 0. Number of distorted neighbours: 2\n",
      "\n",
      "Defect Te_i_Td_Te2.83 in charge state: -1. Number of distorted neighbours: 1\n",
      "\n",
      "Defect Te_i_Td_Te2.83 in charge state: -2. Number of distorted neighbours: 0\n"
     ]
    }
   ],
   "execution_count": 15
  },
  {
   "cell_type": "code",
   "execution_count": null,
   "outputs": [],
   "source": [],
   "metadata": {
    "collapsed": false
   }
  }
 ],
 "metadata": {
  "kernelspec": {
   "display_name": "Python 3",
   "language": "python",
   "name": "python3"
  },
  "language_info": {
   "codemirror_mode": {
    "name": "ipython",
    "version": 3
   },
   "file_extension": ".py",
   "mimetype": "text/x-python",
   "name": "python",
   "nbconvert_exporter": "python",
   "pygments_lexer": "ipython3",
   "version": "3.7.7"
  }
 },
 "nbformat": 4,
 "nbformat_minor": 4
}
