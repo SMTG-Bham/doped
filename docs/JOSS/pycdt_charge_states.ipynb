{
 "cells": [
  {
   "cell_type": "markdown",
   "metadata": {
    "collapsed": false
   },
   "source": [
    "# PyCDT Guessed Charge States"
   ]
  },
  {
   "cell_type": "code",
   "execution_count": 4,
   "metadata": {
    "ExecuteTime": {
     "end_time": "2023-11-26T17:21:45.781897Z",
     "start_time": "2023-11-26T17:21:43.249371Z"
    },
    "collapsed": false
   },
   "outputs": [],
   "source": [
    "# note this is with doped v1.1.2 which used PyCDT for defect + charge state generation:\n",
    "from pymatgen.core.structure import Structure\n",
    "from doped.pycdt.core.defectsmaker import ChargedDefectsStructures"
   ]
  },
  {
   "cell_type": "code",
   "execution_count": 60,
   "metadata": {
    "ExecuteTime": {
     "start_time": "2023-11-26T17:05:53.309411Z"
    },
    "collapsed": false
   },
   "outputs": [],
   "source": [
    "def convert_pycdt_to_doped_name(pycdt_name):\n",
    "    if pycdt_name.startswith(\"vac_\"):\n",
    "        return f\"v_{pycdt_name.rsplit('_', 1)[-1]}\"\n",
    "    elif pycdt_name.startswith(\"as_\") or pycdt_name.startswith(\"sub_\"):\n",
    "        return f\"{pycdt_name.split('_')[2]}_{pycdt_name.split('_')[4]}\"\n",
    "    elif pycdt_name.startswith(\"inter_\"):\n",
    "        return f\"{pycdt_name.rsplit('_', 1)[-1]}_i\"\n",
    "    else:\n",
    "        raise ValueError(f\"Unknown defect type: {pycdt_name}\")"
   ]
  },
  {
   "cell_type": "code",
   "execution_count": 48,
   "metadata": {
    "ExecuteTime": {
     "end_time": "2023-09-17T20:11:59.647349Z",
     "start_time": "2023-09-17T20:11:59.567995Z"
    },
    "collapsed": false
   },
   "outputs": [],
   "source": [
    "def print_false_pos_neg_hits(false_positives, false_negatives, hits):\n",
    "    print(f\"False positives: {false_positives}\")\n",
    "    print(f\"False negatives: {false_negatives}\")\n",
    "    print(f\"Hits: {hits}\")\n",
    "    print(f\"\\nFalse positives: {sum([len(val) for val in false_positives.values()])}\")\n",
    "    print(f\"False negatives: {sum([len(val) for val in false_negatives.values()])}\")\n",
    "    print(f\"Hits: {sum([len(val) for val in hits.values()])}\")\n",
    "\n",
    "def generate_and_compare_doped_charges(tld_stable_charges, struct=None, cds=None):\n",
    "    if cds is None:\n",
    "        cds = ChargedDefectsStructures(struct.get_primitive_structure(), cellmax=struct.num_sites, \n",
    "                                       intersites=[struct.get_primitive_structure()[0]])\n",
    "    defect_dict_list = [defect_dict for key in cds.defects.keys() if key != \"bulk\" for defect_dict in cds.defects[key]]\n",
    "    false_positives = {}\n",
    "    false_negatives = {}\n",
    "    hits = {}\n",
    "    for defect, charge_list in tld_stable_charges.items():\n",
    "        for defect_dict in defect_dict_list:\n",
    "            if convert_pycdt_to_doped_name(defect_dict[\"name\"]).startswith(defect):\n",
    "                generated_defect_charges = set(defect_dict[\"charges\"])\n",
    "                break\n",
    "\n",
    "        false_negatives[defect] = set(charge_list) - generated_defect_charges\n",
    "        false_positives[defect] = generated_defect_charges - set(charge_list)\n",
    "        hits[defect] = (set(charge_list) & generated_defect_charges)\n",
    "    print_false_pos_neg_hits(false_positives, false_negatives, hits)"
   ]
  },
  {
   "cell_type": "markdown",
   "metadata": {
    "collapsed": false
   },
   "source": [
    "### CdTe"
   ]
  },
  {
   "cell_type": "code",
   "execution_count": 24,
   "metadata": {
    "ExecuteTime": {
     "end_time": "2023-09-16T17:52:34.249726Z",
     "start_time": "2023-09-16T17:52:34.213931Z"
    },
    "collapsed": false
   },
   "outputs": [],
   "source": [
    "CdTe_tld_stable_charges = {\n",
    "    \"v_Cd\": list(range(-2, 0 + 1)),\n",
    "    \"v_Te\": list(range(0, +2 + 1)),\n",
    "    \"Cd_i\": list(range(0, +2 + 1)),\n",
    "    \"Te_i\": list(range(0, +2 + 1)),\n",
    "    \"Cd_Te\": list(range(0, +2 + 1)),\n",
    "    \"Te_Cd\": list(range(-2, +2 + 1)),\n",
    "}"
   ]
  },
  {
   "cell_type": "code",
   "execution_count": 25,
   "metadata": {
    "ExecuteTime": {
     "end_time": "2023-09-16T17:52:44.672654Z",
     "start_time": "2023-09-16T17:52:43.640184Z"
    },
    "collapsed": false
   },
   "outputs": [
    {
     "name": "stdout",
     "output_type": "stream",
     "text": [
      "Setting up vacancies\n",
      "Setting up antisites\n",
      "Searching for Voronoi interstitial sites (this can take a little while)\n",
      "Found the interstital sites, setting up interstitials\n",
      "Defects generated:\n",
      "Vacancies    Potential Charge States    Supercell Site Multiplicity\n",
      "-----------  -------------------------  -----------------------------\n",
      "vac_1_Cd     [-2, -1, 0, 1, 2]          1\n",
      "vac_2_Te     [-2, -1, 0, 1, 2]          1 \n",
      "\n",
      "Substitutions    Potential Charge States    Supercell Site Multiplicity\n",
      "---------------  -------------------------  -----------------------------\n",
      "as_1_Cd_on_Te    [-2, -1, 0, 1, 2, 3, 4]    1\n",
      "as_1_Te_on_Cd    [-2, -1, 0, 1, 2, 3, 4]    1 \n",
      "\n",
      "Interstitials    Potential Charge States        Supercell Site Multiplicity\n",
      "---------------  -----------------------------  -----------------------------\n",
      "inter_1_Cd       [0, 1, 2]                      4\n",
      "inter_2_Cd       [0, 1, 2]                      1\n",
      "inter_3_Cd       [0, 1, 2]                      1\n",
      "inter_4_Te       [-2, -1, 0, 1, 2, 3, 4, 5, 6]  4\n",
      "inter_5_Te       [-2, -1, 0, 1, 2, 3, 4, 5, 6]  1\n",
      "inter_6_Te       [-2, -1, 0, 1, 2, 3, 4, 5, 6]  1 \n"
     ]
    }
   ],
   "source": [
    "primitive_cdte = Structure.from_file(\"../../examples/CdTe/relaxed_primitive_POSCAR\")\n",
    "cdte_cds = ChargedDefectsStructures(primitive_cdte)"
   ]
  },
  {
   "cell_type": "code",
   "execution_count": 30,
   "metadata": {
    "ExecuteTime": {
     "end_time": "2023-09-16T17:52:37.733186Z",
     "start_time": "2023-09-16T17:52:37.675352Z"
    },
    "collapsed": false
   },
   "outputs": [
    {
     "name": "stdout",
     "output_type": "stream",
     "text": [
      "False positives: {'v_Cd': {1, 2}, 'v_Te': {-1, -2}, 'Cd_i': set(), 'Te_i': {3, 4, 5, 6, -2, -1}, 'Cd_Te': {3, 4, -1, -2}, 'Te_Cd': {3, 4}}\n",
      "False negatives: {'v_Cd': set(), 'v_Te': set(), 'Cd_i': set(), 'Te_i': set(), 'Cd_Te': set(), 'Te_Cd': set()}\n",
      "Hits: {'v_Cd': {0, -2, -1}, 'v_Te': {0, 1, 2}, 'Cd_i': {0, 1, 2}, 'Te_i': {0, 1, 2}, 'Cd_Te': {0, 1, 2}, 'Te_Cd': {0, 1, 2, -2, -1}}\n",
      "\n",
      "False positives: 16\n",
      "False negatives: 0\n",
      "Hits: 20\n"
     ]
    }
   ],
   "source": [
    "generate_and_compare_doped_charges(CdTe_tld_stable_charges, cds=cdte_cds)"
   ]
  },
  {
   "cell_type": "markdown",
   "metadata": {
    "collapsed": false
   },
   "source": [
    "### ZnS"
   ]
  },
  {
   "cell_type": "code",
   "execution_count": 31,
   "metadata": {
    "ExecuteTime": {
     "end_time": "2023-09-16T17:52:48.128666Z",
     "start_time": "2023-09-16T17:52:48.106936Z"
    },
    "collapsed": false
   },
   "outputs": [],
   "source": [
    "zns_tld_stable_charges = {\n",
    "    \"v_Zn\": list(range(-2, +2 + 1)), \n",
    "    \"v_S\": list(range(-2, +2 + 1)), \n",
    "    \"Zn_i\": list(range(0, +2 + 1)),\n",
    "    \"S_i\": list(range(0, +2 + 1)), \n",
    "    \"Zn_S\": list(range(-2, +2 + 1)), \n",
    "    \"S_Zn\": list(range(-2, +2 + 1)),\n",
    "}"
   ]
  },
  {
   "cell_type": "code",
   "execution_count": 33,
   "metadata": {
    "ExecuteTime": {
     "end_time": "2023-09-16T17:44:53.357565Z",
     "start_time": "2023-09-16T17:44:51.428289Z"
    },
    "collapsed": false
   },
   "outputs": [
    {
     "name": "stdout",
     "output_type": "stream",
     "text": [
      "Setting up vacancies\n",
      "Setting up antisites\n",
      "Searching for Voronoi interstitial sites (this can take a little while)\n",
      "Found the interstital sites, setting up interstitials\n",
      "Defects generated:\n",
      "Vacancies    Potential Charge States    Supercell Site Multiplicity\n",
      "-----------  -------------------------  -----------------------------\n",
      "vac_1_Zn     [-2, -1, 0, 1, 2]          32\n",
      "vac_2_S      [-2, -1, 0, 1, 2]          32 \n",
      "\n",
      "Substitutions    Potential Charge States    Supercell Site Multiplicity\n",
      "---------------  -------------------------  -----------------------------\n",
      "as_1_S_on_Zn     [-2, -1, 0, 1, 2, 3, 4]    32\n",
      "as_1_Zn_on_S     [-2, -1, 0, 1, 2, 3, 4]    32 \n",
      "\n",
      "Interstitials    Potential Charge States        Supercell Site Multiplicity\n",
      "---------------  -----------------------------  -----------------------------\n",
      "inter_1_Zn       [0, 1, 2]                      1\n",
      "inter_2_Zn       [0, 1, 2]                      1\n",
      "inter_3_Zn       [0, 1, 2]                      1\n",
      "inter_4_Zn       [0, 1, 2]                      1\n",
      "inter_5_Zn       [0, 1, 2]                      1\n",
      "inter_6_Zn       [0, 1, 2]                      32\n",
      "inter_7_S        [-2, -1, 0, 1, 2, 3, 4, 5, 6]  32\n",
      "inter_8_S        [-2, -1, 0, 1, 2, 3, 4, 5, 6]  1\n",
      "inter_9_S        [-2, -1, 0, 1, 2, 3, 4, 5, 6]  1\n",
      "inter_10_S       [-2, -1, 0, 1, 2, 3, 4, 5, 6]  1\n",
      "inter_11_S       [-2, -1, 0, 1, 2, 3, 4, 5, 6]  1\n",
      "inter_12_S       [-2, -1, 0, 1, 2, 3, 4, 5, 6]  1 \n"
     ]
    }
   ],
   "source": [
    "supercell_zns = Structure.from_file(\"../../tests/data/non_diagonal_ZnS_supercell_POSCAR\")\n",
    "cds = ChargedDefectsStructures(supercell_zns)"
   ]
  },
  {
   "cell_type": "code",
   "execution_count": 35,
   "metadata": {
    "ExecuteTime": {
     "end_time": "2023-09-16T17:44:54.266617Z",
     "start_time": "2023-09-16T17:44:54.099961Z"
    },
    "collapsed": false
   },
   "outputs": [
    {
     "name": "stdout",
     "output_type": "stream",
     "text": [
      "False positives: {'v_Zn': set(), 'v_S': set(), 'Zn_i': set(), 'S_i': {3, 4, 5, 6, -2, -1}, 'Zn_S': {3, 4}, 'S_Zn': {3, 4}}\n",
      "False negatives: {'v_Zn': set(), 'v_S': set(), 'Zn_i': set(), 'S_i': set(), 'Zn_S': set(), 'S_Zn': set()}\n",
      "Hits: {'v_Zn': {0, 1, 2, -2, -1}, 'v_S': {0, 1, 2, -2, -1}, 'Zn_i': {0, 1, 2}, 'S_i': {0, 1, 2}, 'Zn_S': {0, 1, 2, -2, -1}, 'S_Zn': {0, 1, 2, -2, -1}}\n",
      "\n",
      "False positives: 10\n",
      "False negatives: 0\n",
      "Hits: 26\n"
     ]
    }
   ],
   "source": [
    "generate_and_compare_doped_charges(zns_tld_stable_charges, cds=cds)"
   ]
  },
  {
   "cell_type": "markdown",
   "metadata": {
    "collapsed": false
   },
   "source": [
    "### YTOS"
   ]
  },
  {
   "cell_type": "code",
   "execution_count": 42,
   "metadata": {
    "ExecuteTime": {
     "end_time": "2023-09-16T17:52:52.642155Z",
     "start_time": "2023-09-16T17:52:52.620649Z"
    },
    "collapsed": false
   },
   "outputs": [],
   "source": [
    "ytos_tld_stable_charges = {\n",
    "    \"v_O\": list(range(0, +2 + 1)),\n",
    "    \"v_S\": list(range(0, +2 + 1)),\n",
    "    \"v_Y\": list(range(-3, 0 + 1)),\n",
    "    \"v_Ti\": list(range(-4, 0 + 1)),\n",
    "    \"O_i\": list(range(-2, 0 + 1)),\n",
    "    \"Ti_i\": list(range(0, +4 + 1)),\n",
    "    \"S_i\": list(range(0, +4 + 1)),  \n",
    "    \"Y_i\": list(range(0, +3 + 1)),\n",
    "    \"O_S\": list(range(0, 0 + 1)),\n",
    "    \"S_O\": list(range(0, 0 + 1)),\n",
    "    \"S_Ti\": list(range(0, +2 + 1)),  # not stable in a negative charge state?\n",
    "    \"S_Y\": list(range(0, +3 + 1)),  # not stable in a negative charge state?\n",
    "    \"Ti_Y\": list(range(0, +1 + 1)),\n",
    "    \"Y_Ti\": list(range(-1, 0 + 1)),\n",
    "}"
   ]
  },
  {
   "cell_type": "code",
   "execution_count": 45,
   "metadata": {
    "ExecuteTime": {
     "end_time": "2023-09-16T17:53:11.490587Z",
     "start_time": "2023-09-16T17:52:55.738438Z"
    },
    "collapsed": false
   },
   "outputs": [
    {
     "name": "stdout",
     "output_type": "stream",
     "text": [
      "Setting up vacancies\n",
      "Setting up antisites\n",
      "Setting up interstitials from intersites\n",
      "Defects generated:\n",
      "Vacancies    Potential Charge States          Supercell Site Multiplicity\n",
      "-----------  -------------------------------  -----------------------------\n",
      "vac_1_O      [-2, -1, 0, 1, 2]                1\n",
      "vac_2_O      [-2, -1, 0, 1, 2]                4\n",
      "vac_3_S      [-2, -1, 0, 1, 2]                2\n",
      "vac_4_Ti     [-4, -3, -2, -1, 0, 1, 2, 3, 4]  2\n",
      "vac_5_Y      [-3, -2, -1, 0, 1, 2, 3]         2 \n",
      "\n",
      "Substitutions    Potential Charge States    Supercell Site Multiplicity\n",
      "---------------  -------------------------  -----------------------------\n",
      "as_1_S_on_O      [-2, -1, 0, 1, 2, 3, 4]    1\n",
      "as_2_S_on_O      [-2, -1, 0, 1, 2, 3, 4]    4\n",
      "as_3_S_on_Ti     [-2, -1, 0, 1, 2, 3, 4]    2\n",
      "as_4_S_on_Y      [-2, -1, 0, 1, 2, 3, 4]    2\n",
      "as_1_O_on_S      [-2, -1, 0, 1, 2, 3, 4]    2\n",
      "as_2_O_on_Ti     [-2, -1, 0, 1, 2, 3, 4]    2\n",
      "as_3_O_on_Y      [-2, -1, 0, 1, 2, 3, 4]    2\n",
      "as_1_Ti_on_O     [-2, -1, 0, 1, 2, 3, 4]    1\n",
      "as_2_Ti_on_O     [-2, -1, 0, 1, 2, 3, 4]    4\n",
      "as_3_Ti_on_S     [-2, -1, 0, 1, 2, 3, 4]    2\n",
      "as_4_Ti_on_Y     [-2, -1, 0, 1, 2, 3, 4]    2\n",
      "as_1_Y_on_O      [-2, -1, 0, 1, 2, 3, 4]    1\n",
      "as_2_Y_on_O      [-2, -1, 0, 1, 2, 3, 4]    4\n",
      "as_3_Y_on_S      [-2, -1, 0, 1, 2, 3, 4]    2\n",
      "as_4_Y_on_Ti     [-2, -1, 0, 1, 2, 3, 4]    2 \n",
      "\n",
      "Interstitials    Potential Charge States        Supercell Site Multiplicity\n",
      "---------------  -----------------------------  -----------------------------\n",
      "inter_1_O        [-2, -1, 0]                    1\n",
      "inter_1_S        [-2, -1, 0, 1, 2, 3, 4, 5, 6]  1\n",
      "inter_1_Ti       [0, 1, 2, 3, 4]                1\n",
      "inter_1_Y        [0, 1, 2, 3]                   1 \n",
      "\n",
      "False positives: {'v_O': {-1, -2}, 'v_S': {-1, -2}, 'v_Y': {1, 2, 3}, 'v_Ti': {1, 2, 3, 4}, 'O_i': set(), 'Ti_i': set(), 'S_i': {-2, 5, 6, -1}, 'Y_i': set(), 'O_S': {1, 2, 3, 4, -2, -1}, 'S_O': {1, 2, 3, 4, -2, -1}, 'S_Ti': {3, 4, -1, -2}, 'S_Y': {4, -1, -2}, 'Ti_Y': {2, 3, 4, -2, -1}, 'Y_Ti': {1, 2, 3, 4, -2}}\n",
      "False negatives: {'v_O': set(), 'v_S': set(), 'v_Y': set(), 'v_Ti': set(), 'O_i': set(), 'Ti_i': set(), 'S_i': set(), 'Y_i': set(), 'O_S': set(), 'S_O': set(), 'S_Ti': set(), 'S_Y': set(), 'Ti_Y': set(), 'Y_Ti': set()}\n",
      "Hits: {'v_O': {0, 1, 2}, 'v_S': {0, 1, 2}, 'v_Y': {0, -3, -2, -1}, 'v_Ti': {0, -2, -4, -3, -1}, 'O_i': {0, -2, -1}, 'Ti_i': {0, 1, 2, 3, 4}, 'S_i': {0, 1, 2, 3, 4}, 'Y_i': {0, 1, 2, 3}, 'O_S': {0}, 'S_O': {0}, 'S_Ti': {0, 1, 2}, 'S_Y': {0, 1, 2, 3}, 'Ti_Y': {0, 1}, 'Y_Ti': {0, -1}}\n",
      "\n",
      "False positives: 44\n",
      "False negatives: 0\n",
      "Hits: 45\n"
     ]
    }
   ],
   "source": [
    "ytos_struc = Structure.from_file(\"../../examples/YTOS/Bulk/POSCAR\")  # Y2Ti2S2O5\n",
    "generate_and_compare_doped_charges(ytos_tld_stable_charges, ytos_struc.get_primitive_structure())"
   ]
  },
  {
   "cell_type": "markdown",
   "metadata": {
    "collapsed": false
   },
   "source": [
    "### LMNO"
   ]
  },
  {
   "cell_type": "code",
   "execution_count": 49,
   "metadata": {
    "ExecuteTime": {
     "end_time": "2023-09-16T17:53:11.495424Z",
     "start_time": "2023-09-16T17:53:11.493626Z"
    },
    "collapsed": false
   },
   "outputs": [],
   "source": [
    "lmno_tld_stable_charges = {\n",
    "    \"v_Li\": list(range(-1, 0 + 1)),  # only went up to -1, but extend to 0 (always included)\n",
    "    \"v_Mn\": list(range(-3, 0 + 1)),  # only went up to -1, but extend to 0 (always included)\n",
    "    \"v_Ni\": list(range(-2, 0 + 1)),  # only went up to -1, but extend to 0 (always included)\n",
    "    \"v_O\": list(range(0, 1 + 1)),\n",
    "    \"Li_i\": list(range(0, 1 + 1)),\n",
    "    \"Mn_i\": list(range(0, +3 + 1)),\n",
    "    \"Ni_i\": list(range(0, +2 + 1)),\n",
    "    \"O_i\": list(range(-1, 0 + 1)),\n",
    "    \"Li_Mn\": list(range(-2, 0 + 1)),  # only went up to -1, but extend to 0 (always included)\n",
    "    \"Mn_Li\": list(range(1, 1 + 1)),\n",
    "    \"Ni_Li\": list(range(0, +1 + 1)),\n",
    "    \"Li_Ni\": list(range(-1, 0 + 1)),  # only went up to -1, but extend to 0 (always included)\n",
    "    \"Mn_Ni\": list(range(0, +1 + 1)),\n",
    "    \"Ni_Mn\": list(range(-1, 0 + 1)),\n",
    "}"
   ]
  },
  {
   "cell_type": "code",
   "execution_count": 50,
   "metadata": {
    "ExecuteTime": {
     "end_time": "2023-09-16T17:53:54.120270Z",
     "start_time": "2023-09-16T17:53:11.495653Z"
    },
    "collapsed": false
   },
   "outputs": [
    {
     "name": "stdout",
     "output_type": "stream",
     "text": [
      "Setting up vacancies\n",
      "Setting up antisites\n",
      "Setting up interstitials from intersites\n",
      "Defects generated:\n",
      "Vacancies    Potential Charge States          Supercell Site Multiplicity\n",
      "-----------  -------------------------------  -----------------------------\n",
      "vac_1_Li     [-1, 0, 1]                       8\n",
      "vac_2_Mn     [-4, -3, -2, -1, 0, 1, 2, 3, 4]  12\n",
      "vac_3_Ni     [-2, -1, 0, 1, 2]                4\n",
      "vac_4_O      [-2, -1, 0, 1, 2]                24\n",
      "vac_5_O      [-2, -1, 0, 1, 2]                8 \n",
      "\n",
      "Substitutions    Potential Charge States     Supercell Site Multiplicity\n",
      "---------------  --------------------------  -----------------------------\n",
      "as_1_O_on_Li     [-2, -1, 0, 1, 2, 3, 4, 5]  8\n",
      "as_2_O_on_Mn     [-2, -1, 0, 1, 2, 3, 4, 5]  12\n",
      "as_3_O_on_Ni     [-2, -1, 0, 1, 2, 3, 4, 5]  4\n",
      "as_1_Mn_on_Li    [-2, -1, 0, 1, 2, 3, 4, 5]  8\n",
      "as_2_Mn_on_Ni    [-2, -1, 0, 1, 2, 3, 4, 5]  4\n",
      "as_3_Mn_on_O     [-2, -1, 0, 1, 2, 3, 4, 5]  24\n",
      "as_4_Mn_on_O     [-2, -1, 0, 1, 2, 3, 4, 5]  8\n",
      "as_1_Li_on_Mn    [-2, -1, 0, 1, 2, 3, 4, 5]  12\n",
      "as_2_Li_on_Ni    [-2, -1, 0, 1, 2, 3, 4, 5]  4\n",
      "as_3_Li_on_O     [-2, -1, 0, 1, 2, 3, 4, 5]  24\n",
      "as_4_Li_on_O     [-2, -1, 0, 1, 2, 3, 4, 5]  8\n",
      "as_1_Ni_on_Li    [-2, -1, 0, 1, 2, 3, 4, 5]  8\n",
      "as_2_Ni_on_Mn    [-2, -1, 0, 1, 2, 3, 4, 5]  12\n",
      "as_3_Ni_on_O     [-2, -1, 0, 1, 2, 3, 4, 5]  24\n",
      "as_4_Ni_on_O     [-2, -1, 0, 1, 2, 3, 4, 5]  8 \n",
      "\n",
      "Interstitials    Potential Charge States    Supercell Site Multiplicity\n",
      "---------------  -------------------------  -----------------------------\n",
      "inter_1_Li       [0, 1]                     8\n",
      "inter_1_Mn       [0, 1, 2, 3, 4, 5, 6, 7]   8\n",
      "inter_1_Ni       [0, 1, 2]                  8\n",
      "inter_1_O        [-2, -1, 0]                8 \n",
      "\n",
      "False positives: {'v_Li': {1}, 'v_Mn': {1, 2, 3, 4, -4}, 'v_Ni': {1, 2}, 'v_O': {2, -1, -2}, 'Li_i': set(), 'Mn_i': {4, 5, 6, 7}, 'Ni_i': set(), 'O_i': {-2}, 'Li_Mn': {1, 2, 3, 4, 5}, 'Mn_Li': {0, 2, 3, 4, 5, -1, -2}, 'Ni_Li': {2, 3, 4, 5, -2, -1}, 'Li_Ni': {1, 2, 3, 4, 5, -2}, 'Mn_Ni': {2, 3, 4, 5, -2, -1}, 'Ni_Mn': {1, 2, 3, 4, 5, -2}}\n",
      "False negatives: {'v_Li': set(), 'v_Mn': set(), 'v_Ni': set(), 'v_O': set(), 'Li_i': set(), 'Mn_i': set(), 'Ni_i': set(), 'O_i': set(), 'Li_Mn': set(), 'Mn_Li': set(), 'Ni_Li': set(), 'Li_Ni': set(), 'Mn_Ni': set(), 'Ni_Mn': set()}\n",
      "Hits: {'v_Li': {0, -1}, 'v_Mn': {0, -3, -2, -1}, 'v_Ni': {0, -2, -1}, 'v_O': {0, 1}, 'Li_i': {0, 1}, 'Mn_i': {0, 1, 2, 3}, 'Ni_i': {0, 1, 2}, 'O_i': {0, -1}, 'Li_Mn': {0, -2, -1}, 'Mn_Li': {1}, 'Ni_Li': {0, 1}, 'Li_Ni': {0, -1}, 'Mn_Ni': {0, 1}, 'Ni_Mn': {0, -1}}\n",
      "\n",
      "False positives: 52\n",
      "False negatives: 0\n",
      "Hits: 34\n"
     ]
    }
   ],
   "source": [
    "lmno_struct = Structure.from_file(\"../../tests/data/Li2Mn3NiO8_POSCAR\")\n",
    "generate_and_compare_doped_charges(lmno_tld_stable_charges, lmno_struct)"
   ]
  },
  {
   "cell_type": "markdown",
   "metadata": {
    "collapsed": false
   },
   "source": [
    "### Na$_2$FePO$_4$F"
   ]
  },
  {
   "cell_type": "code",
   "execution_count": 51,
   "metadata": {
    "ExecuteTime": {
     "end_time": "2023-09-16T17:53:54.165625Z",
     "start_time": "2023-09-16T17:53:54.133110Z"
    },
    "collapsed": false
   },
   "outputs": [],
   "source": [
    "na2fepo4f_tld_stable_charges = {\n",
    "    \"v_Na\": list(range(-1, 0 + 1)),\n",
    "    \"v_Fe\": list(range(-2, 0 + 1)),\n",
    "    \"v_P\": list(range(-5, 0 + 1)),\n",
    "    \"v_O\": list(range(0, +2 + 1)),\n",
    "    \"v_F\": list(range(0, +1 + 1)),\n",
    "    \"Na_i\": list(range(0, +1 + 1)),\n",
    "    \"Fe_i\": list(range(0, +2 + 1)),\n",
    "    \"P_i\": list(range(0, +5 + 1)),\n",
    "    \"O_i\": list(range(-2, 0 + 1)),\n",
    "    \"F_i\": list(range(-1, 0 + 1)),\n",
    "    \"Na_Fe\": list(range(-1, 0 + 1)),\n",
    "    \"Na_P\": list(range(-4, 0 + 1)),\n",
    "    \"Na_O\": list(range(0, +1 + 1)), # +2, +3 -> tested but not stable\n",
    "    \"Na_F\": list(range(0, +2 + 1)),\n",
    "    \"Fe_Na\": list(range(0, +1 + 1)),\n",
    "    \"Fe_P\": list(range(-2, 0 + 1)), # -3\n",
    "    \"Fe_O\": list(range(0, +2 + 1)), # +3, +4\n",
    "    \"Fe_F\": list(range(0, +2 + 1)), # +3\n",
    "    \"P_Na\": list(range(0, +1 + 1)), # +2, +3. +4\n",
    "    \"P_Fe\": list(range(0, +3 + 1)), # +1, +2\n",
    "    \"P_O\": list(range(0, +1 + 1)), # +2, +3, +4, +5, +6, +7\n",
    "    \"P_F\": list(range(0, +1 + 1)), # +2, +3, +4, +5, +6\n",
    "    \"O_Na\": list(range(-2, 0 + 1)), # -3\n",
    "    \"O_Fe\": list(range(-2, 0 + 1)), # -3, -4\n",
    "    \"O_P\": list(range(-2, 0 + 1)), # -3, -4, -5, -6, -7\n",
    "    \"O_F\": list(range(-1, 0 + 1)), # 0\n",
    "    \"F_Na\": list(range(-1, 0 + 1)), # -2\n",
    "    \"F_Fe\": list(range(-2, 0 + 1)), # -3\n",
    "    \"F_P\": list(range(-2, 0 + 1)), # -3, -4, -5, -6\n",
    "    \"F_O\": list(range(0, +1 + 1)),\n",
    "}"
   ]
  },
  {
   "cell_type": "code",
   "execution_count": 52,
   "metadata": {
    "ExecuteTime": {
     "end_time": "2023-09-16T17:55:07.353081Z",
     "start_time": "2023-09-16T17:53:54.135702Z"
    },
    "collapsed": false
   },
   "outputs": [
    {
     "name": "stdout",
     "output_type": "stream",
     "text": [
      "Setting up vacancies\n",
      "Setting up antisites\n",
      "Setting up interstitials from intersites\n",
      "Defects generated:\n",
      "Vacancies    Potential Charge States                 Supercell Site Multiplicity\n",
      "-----------  --------------------------------------  -----------------------------\n",
      "vac_1_Na     [-1, 0, 1]                              8\n",
      "vac_2_Na     [-1, 0, 1]                              8\n",
      "vac_3_Fe     [-2, -1, 0, 1, 2]                       8\n",
      "vac_4_P      [-5, -4, -3, -2, -1, 0, 1, 2, 3, 4, 5]  8\n",
      "vac_5_O      [-2, -1, 0, 1, 2]                       8\n",
      "vac_6_O      [-2, -1, 0, 1, 2]                       8\n",
      "vac_7_O      [-2, -1, 0, 1, 2]                       8\n",
      "vac_8_O      [-2, -1, 0, 1, 2]                       8\n",
      "vac_9_F      [-1, 0, 1]                              4\n",
      "vac_10_F     [-1, 0, 1]                              4 \n",
      "\n",
      "Substitutions    Potential Charge States    Supercell Site Multiplicity\n",
      "---------------  -------------------------  -----------------------------\n",
      "as_1_O_on_Na     [-3, -2, -1, 0, 1, 2, 3]   8\n",
      "as_2_O_on_Na     [-3, -2, -1, 0, 1, 2, 3]   8\n",
      "as_3_O_on_Fe     [-3, -2, -1, 0, 1, 2, 3]   8\n",
      "as_4_O_on_P      [-3, -2, -1, 0, 1, 2, 3]   8\n",
      "as_5_O_on_F      [-3, -2, -1, 0, 1, 2, 3]   4\n",
      "as_6_O_on_F      [-3, -2, -1, 0, 1, 2, 3]   4\n",
      "as_1_F_on_Na     [-3, -2, -1, 0, 1, 2, 3]   8\n",
      "as_2_F_on_Na     [-3, -2, -1, 0, 1, 2, 3]   8\n",
      "as_3_F_on_Fe     [-3, -2, -1, 0, 1, 2, 3]   8\n",
      "as_4_F_on_P      [-3, -2, -1, 0, 1, 2, 3]   8\n",
      "as_5_F_on_O      [-3, -2, -1, 0, 1, 2, 3]   8\n",
      "as_6_F_on_O      [-3, -2, -1, 0, 1, 2, 3]   8\n",
      "as_7_F_on_O      [-3, -2, -1, 0, 1, 2, 3]   8\n",
      "as_8_F_on_O      [-3, -2, -1, 0, 1, 2, 3]   8\n",
      "as_1_Na_on_Fe    [-3, -2, -1, 0, 1, 2, 3]   8\n",
      "as_2_Na_on_P     [-3, -2, -1, 0, 1, 2, 3]   8\n",
      "as_3_Na_on_O     [-3, -2, -1, 0, 1, 2, 3]   8\n",
      "as_4_Na_on_O     [-3, -2, -1, 0, 1, 2, 3]   8\n",
      "as_5_Na_on_O     [-3, -2, -1, 0, 1, 2, 3]   8\n",
      "as_6_Na_on_O     [-3, -2, -1, 0, 1, 2, 3]   8\n",
      "as_7_Na_on_F     [-3, -2, -1, 0, 1, 2, 3]   4\n",
      "as_8_Na_on_F     [-3, -2, -1, 0, 1, 2, 3]   4\n",
      "as_1_P_on_Na     [-3, -2, -1, 0, 1, 2, 3]   8\n",
      "as_2_P_on_Na     [-3, -2, -1, 0, 1, 2, 3]   8\n",
      "as_3_P_on_Fe     [-3, -2, -1, 0, 1, 2, 3]   8\n",
      "as_4_P_on_O      [-3, -2, -1, 0, 1, 2, 3]   8\n",
      "as_5_P_on_O      [-3, -2, -1, 0, 1, 2, 3]   8\n",
      "as_6_P_on_O      [-3, -2, -1, 0, 1, 2, 3]   8\n",
      "as_7_P_on_O      [-3, -2, -1, 0, 1, 2, 3]   8\n",
      "as_8_P_on_F      [-3, -2, -1, 0, 1, 2, 3]   4\n",
      "as_9_P_on_F      [-3, -2, -1, 0, 1, 2, 3]   4\n",
      "as_1_Fe_on_Na    [-3, -2, -1, 0, 1, 2, 3]   8\n",
      "as_2_Fe_on_Na    [-3, -2, -1, 0, 1, 2, 3]   8\n",
      "as_3_Fe_on_P     [-3, -2, -1, 0, 1, 2, 3]   8\n",
      "as_4_Fe_on_O     [-3, -2, -1, 0, 1, 2, 3]   8\n",
      "as_5_Fe_on_O     [-3, -2, -1, 0, 1, 2, 3]   8\n",
      "as_6_Fe_on_O     [-3, -2, -1, 0, 1, 2, 3]   8\n",
      "as_7_Fe_on_O     [-3, -2, -1, 0, 1, 2, 3]   8\n",
      "as_8_Fe_on_F     [-3, -2, -1, 0, 1, 2, 3]   4\n",
      "as_9_Fe_on_F     [-3, -2, -1, 0, 1, 2, 3]   4 \n",
      "\n",
      "Interstitials    Potential Charge States         Supercell Site Multiplicity\n",
      "---------------  ------------------------------  -----------------------------\n",
      "inter_1_Na       [0, 1]                          8\n",
      "inter_1_Fe       [0, 1, 2, 3]                    8\n",
      "inter_1_P        [-3, -2, -1, 0, 1, 2, 3, 4, 5]  8\n",
      "inter_1_O        [-2, -1, 0]                     8\n",
      "inter_1_F        [-1, 0]                         8 \n",
      "\n",
      "False positives: {'v_Na': {1}, 'v_Fe': {1, 2}, 'v_P': {1, 2, 3, 4, 5}, 'v_O': {-1, -2}, 'v_F': {2, -1, -2}, 'Na_i': set(), 'Fe_i': {3}, 'P_i': {-3, -1, -2}, 'O_i': set(), 'F_i': set(), 'Na_Fe': {1, 2, 3, -3, -2}, 'Na_P': {1, 2, 3}, 'Na_O': {2, 3, -2, -3, -1}, 'Na_F': {3, -3, -1, -2}, 'Fe_Na': {2, 3, -2, -3, -1}, 'Fe_P': {1, 2, 3, -3}, 'Fe_O': {3, -3, -1, -2}, 'Fe_F': {3, -3, -1, -2}, 'P_Na': {2, 3, -2, -3, -1}, 'P_Fe': {-3, -1, -2}, 'P_O': {2, 3, -2, -3, -1}, 'P_F': {2, 3, -2, -3, -1}, 'O_Na': {1, 2, 3, -3}, 'O_Fe': {1, 2, 3, -3}, 'O_P': {1, 2, 3, -3}, 'O_F': {1, 2, 3, -3, -2}, 'F_Na': {1, 2, 3, -3, -2}, 'F_Fe': {1, 2, 3, -3}, 'F_P': {1, 2, 3, -3}, 'F_O': {2, 3, -2, -3, -1}}\n",
      "False negatives: {'v_Na': set(), 'v_Fe': set(), 'v_P': set(), 'v_O': set(), 'v_F': set(), 'Na_i': set(), 'Fe_i': set(), 'P_i': set(), 'O_i': set(), 'F_i': set(), 'Na_Fe': set(), 'Na_P': {-4}, 'Na_O': set(), 'Na_F': set(), 'Fe_Na': set(), 'Fe_P': set(), 'Fe_O': set(), 'Fe_F': set(), 'P_Na': set(), 'P_Fe': set(), 'P_O': set(), 'P_F': set(), 'O_Na': set(), 'O_Fe': set(), 'O_P': set(), 'O_F': set(), 'F_Na': set(), 'F_Fe': set(), 'F_P': set(), 'F_O': set()}\n",
      "Hits: {'v_Na': {0, -1}, 'v_Fe': {0, -2, -1}, 'v_P': {0, -2, -5, -4, -3, -1}, 'v_O': {0, 1, 2}, 'v_F': {0, 1}, 'Na_i': {0, 1}, 'Fe_i': {0, 1, 2}, 'P_i': {0, 1, 2, 3, 4, 5}, 'O_i': {0, -2, -1}, 'F_i': {0, -1}, 'Na_Fe': {0, -1}, 'Na_P': {0, -3, -1, -2}, 'Na_O': {0, 1}, 'Na_F': {0, 1, 2}, 'Fe_Na': {0, 1}, 'Fe_P': {0, -2, -1}, 'Fe_O': {0, 1, 2}, 'Fe_F': {0, 1, 2}, 'P_Na': {0, 1}, 'P_Fe': {0, 1, 2, 3}, 'P_O': {0, 1}, 'P_F': {0, 1}, 'O_Na': {0, -2, -1}, 'O_Fe': {0, -2, -1}, 'O_P': {0, -2, -1}, 'O_F': {0, -1}, 'F_Na': {0, -1}, 'F_Fe': {0, -2, -1}, 'F_P': {0, -2, -1}, 'F_O': {0, 1}}\n",
      "\n",
      "False positives: 104\n",
      "False negatives: 1\n",
      "Hits: 85\n"
     ]
    }
   ],
   "source": [
    "mp_na2fepo4f = Structure.from_file(\"data/Na2FePO4F_POSCAR\")\n",
    "generate_and_compare_doped_charges(na2fepo4f_tld_stable_charges, mp_na2fepo4f)"
   ]
  },
  {
   "cell_type": "markdown",
   "metadata": {
    "collapsed": false
   },
   "source": [
    "### BaBi2O$_6$"
   ]
  },
  {
   "cell_type": "code",
   "execution_count": 53,
   "metadata": {
    "ExecuteTime": {
     "end_time": "2023-09-16T17:55:42.350644Z",
     "start_time": "2023-09-16T17:55:42.330040Z"
    },
    "collapsed": false
   },
   "outputs": [],
   "source": [
    "babio_tld_stable_charges = {\n",
    "    \"v_Ba\": list(range(-2, 0 + 1)),\n",
    "    \"v_Bi\": list(range(-2, 0 + 1)),\n",
    "    \"v_O\": list(range(0, +2 + 1)),\n",
    "\n",
    "    \"Ba_i\": list(range(0, +2 + 1)),\n",
    "    \"Bi_i\": list(range(+1, +2 + 1)),\n",
    "    \"O_i\": list(range(0, 0 + 1)),\n",
    "\n",
    "    \"Ba_Bi\": list(range(-2, 0 + 1)),\n",
    "    \"Bi_Ba\": list(range(+1, +1 + 1)),\n",
    "\n",
    "    \"La_i\": list(range(0, +3 + 1)),\n",
    "    \"La_Ba\": list(range(+1, +1 + 1)),\n",
    "    \"La_Bi\": list(range(-2, 0 + 1)),\n",
    "\n",
    "    \"F_i\": list(range(-1, +1 + 1)),\n",
    "    \"F_O\": list(range(+1, +1 + 1)),\n",
    "}"
   ]
  },
  {
   "cell_type": "code",
   "execution_count": 58,
   "metadata": {
    "ExecuteTime": {
     "end_time": "2023-09-16T17:56:48.500453Z",
     "start_time": "2023-09-16T17:56:35.280579Z"
    },
    "collapsed": false
   },
   "outputs": [
    {
     "name": "stdout",
     "output_type": "stream",
     "text": [
      "Setting up vacancies\n",
      "Setting up antisites\n",
      "Searching for Voronoi interstitial sites (this can take a little while)\n",
      "Found the interstital sites, setting up interstitials\n",
      "Defects generated:\n",
      "Vacancies    Potential Charge States                 Supercell Site Multiplicity\n",
      "-----------  --------------------------------------  -----------------------------\n",
      "vac_1_Ba     [-2, -1, 0, 1, 2]                       1\n",
      "vac_2_Bi     [-5, -4, -3, -2, -1, 0, 1, 2, 3, 4, 5]  2\n",
      "vac_3_O      [-2, -1, 0, 1, 2]                       6 \n",
      "\n",
      "Substitutions    Potential Charge States    Supercell Site Multiplicity\n",
      "---------------  -------------------------  -----------------------------\n",
      "sub_1_La_on_Ba   [-2, -1, 0, 1, 2]          1\n",
      "sub_3_F_on_O     [-2, -1, 0, 1, 2]          6\n",
      "sub_2_La_on_Bi   [-2, -1, 0, 1]             2\n",
      "as_1_Ba_on_Bi    [-2, -1, 0, 1]             2\n",
      "as_2_Ba_on_O     [-2, -1, 0, 1]             6\n",
      "as_1_O_on_Ba     [-2, -1, 0, 1]             1\n",
      "as_2_O_on_Bi     [-2, -1, 0, 1]             2\n",
      "as_1_Bi_on_Ba    [-2, -1, 0, 1]             1\n",
      "as_2_Bi_on_O     [-2, -1, 0, 1]             6 \n",
      "\n",
      "Interstitials    Potential Charge States    Supercell Site Multiplicity\n",
      "---------------  -------------------------  -----------------------------\n",
      "inter_1_F        [-1, 0]                    2\n",
      "inter_2_F        [-1, 0]                    2\n",
      "inter_3_F        [-1, 0]                    4\n",
      "inter_4_F        [-1, 0]                    6\n",
      "inter_5_F        [-1, 0]                    6\n",
      "inter_6_F        [-1, 0]                    12\n",
      "inter_7_La       [0, 1, 2, 3]               2\n",
      "inter_8_La       [0, 1, 2, 3]               2\n",
      "inter_9_La       [0, 1, 2, 3]               4\n",
      "inter_10_La      [0, 1, 2, 3]               6\n",
      "inter_11_La      [0, 1, 2, 3]               6\n",
      "inter_12_La      [0, 1, 2, 3]               12\n",
      "inter_13_Ba      [0, 1, 2]                  2\n",
      "inter_14_Ba      [0, 1, 2]                  2\n",
      "inter_15_Ba      [0, 1, 2]                  4\n",
      "inter_16_Ba      [0, 1, 2]                  6\n",
      "inter_17_Ba      [0, 1, 2]                  6\n",
      "inter_18_Ba      [0, 1, 2]                  12\n",
      "inter_19_Bi      [0, 1, 2, 3]               2\n",
      "inter_20_Bi      [0, 1, 2, 3]               2\n",
      "inter_21_Bi      [0, 1, 2, 3]               4\n",
      "inter_22_Bi      [0, 1, 2, 3]               6\n",
      "inter_23_Bi      [0, 1, 2, 3]               6\n",
      "inter_24_Bi      [0, 1, 2, 3]               12\n",
      "inter_25_O       [-2, -1, 0]                2\n",
      "inter_26_O       [-2, -1, 0]                2\n",
      "inter_27_O       [-2, -1, 0]                4\n",
      "inter_28_O       [-2, -1, 0]                6\n",
      "inter_29_O       [-2, -1, 0]                6\n",
      "inter_30_O       [-2, -1, 0]                12 \n"
     ]
    }
   ],
   "source": [
    "oqmd_babio = Structure.from_file(\"data/BaBi2O6_POSCAR\")\n",
    "cds = ChargedDefectsStructures(oqmd_babio, cellmax=oqmd_babio.num_sites, \n",
    "                               substitutions={\"Ba\": [\"La\"], \"O\": [\"F\"], \"Bi\": [\"La\"]}, \n",
    "                               interstitial_elements=[\"F\", \"La\", \"Ba\", \"Bi\", \"O\"])"
   ]
  },
  {
   "cell_type": "code",
   "execution_count": 61,
   "metadata": {
    "ExecuteTime": {
     "end_time": "2023-09-16T17:56:48.503885Z",
     "start_time": "2023-09-16T17:56:48.499575Z"
    },
    "collapsed": false
   },
   "outputs": [
    {
     "name": "stdout",
     "output_type": "stream",
     "text": [
      "False positives: {'v_Ba': {1, 2}, 'v_Bi': {1, 2, 3, 4, 5, -5, -4, -3}, 'v_O': {-1, -2}, 'Ba_i': set(), 'Bi_i': {0, 3}, 'O_i': {-2, -1}, 'Ba_Bi': {1}, 'Bi_Ba': {0, -2, -1}, 'La_i': set(), 'La_Ba': {0, 2, -1, -2}, 'La_Bi': {1}, 'F_i': set(), 'F_O': {0, 2, -1, -2}}\n",
      "False negatives: {'v_Ba': set(), 'v_Bi': set(), 'v_O': set(), 'Ba_i': set(), 'Bi_i': set(), 'O_i': set(), 'Ba_Bi': set(), 'Bi_Ba': set(), 'La_i': set(), 'La_Ba': set(), 'La_Bi': set(), 'F_i': {1}, 'F_O': set()}\n",
      "Hits: {'v_Ba': {0, -2, -1}, 'v_Bi': {0, -2, -1}, 'v_O': {0, 1, 2}, 'Ba_i': {0, 1, 2}, 'Bi_i': {1, 2}, 'O_i': {0}, 'Ba_Bi': {0, -2, -1}, 'Bi_Ba': {1}, 'La_i': {0, 1, 2, 3}, 'La_Ba': {1}, 'La_Bi': {0, -2, -1}, 'F_i': {0, -1}, 'F_O': {1}}\n",
      "\n",
      "False positives: 29\n",
      "False negatives: 1\n",
      "Hits: 30\n"
     ]
    }
   ],
   "source": [
    "generate_and_compare_doped_charges(babio_tld_stable_charges, cds=cds)"
   ]
  },
  {
   "cell_type": "markdown",
   "metadata": {
    "collapsed": false
   },
   "source": [
    "### Sb$_2$O$_5$"
   ]
  },
  {
   "cell_type": "code",
   "execution_count": 62,
   "metadata": {
    "ExecuteTime": {
     "end_time": "2023-09-17T20:12:04.614909Z",
     "start_time": "2023-09-17T20:12:04.374253Z"
    },
    "collapsed": false
   },
   "outputs": [],
   "source": [
    "sb2o5_tld_stable_charges = {\n",
    "\"v_Sb\": list(range(-4, 0 + 1)),\n",
    "\"v_O\": list(range(0, +2 + 1)),\n",
    "\"Sb_i\": list(range(+2, +5 + 1)),\n",
    "\"O_i\": list(range(0, 0 + 1)),\n",
    "\"Sb_O\": list(range(+1, +1 + 1)),\n",
    "\"F_O\": list(range(+1, +1 + 1)),\n",
    "\"F_i\": list(range(-1, +1 + 1)),\n",
    "}"
   ]
  },
  {
   "cell_type": "code",
   "execution_count": 63,
   "metadata": {
    "ExecuteTime": {
     "end_time": "2023-09-17T20:12:29.219392Z",
     "start_time": "2023-09-17T20:12:09.311773Z"
    },
    "collapsed": false
   },
   "outputs": [
    {
     "name": "stdout",
     "output_type": "stream",
     "text": [
      "Setting up vacancies\n",
      "Setting up antisites\n",
      "Searching for Voronoi interstitial sites (this can take a little while)\n",
      "Found the interstital sites, setting up interstitials\n",
      "Defects generated:\n",
      "Vacancies    Potential Charge States                 Supercell Site Multiplicity\n",
      "-----------  --------------------------------------  -----------------------------\n",
      "vac_1_Sb     [-5, -4, -3, -2, -1, 0, 1, 2, 3, 4, 5]  8\n",
      "vac_2_O      [-2, -1, 0, 1, 2]                       4\n",
      "vac_3_O      [-2, -1, 0, 1, 2]                       8\n",
      "vac_4_O      [-2, -1, 0, 1, 2]                       8 \n",
      "\n",
      "Substitutions    Potential Charge States    Supercell Site Multiplicity\n",
      "---------------  -------------------------  -----------------------------\n",
      "sub_2_F_on_O     [-2, -1, 0, 1, 2]          4\n",
      "sub_3_F_on_O     [-2, -1, 0, 1, 2]          8\n",
      "sub_4_F_on_O     [-2, -1, 0, 1, 2]          8\n",
      "as_1_O_on_Sb     [-3, -2, -1, 0, 1, 2, 3]   8\n",
      "as_1_Sb_on_O     [-3, -2, -1, 0, 1, 2, 3]   4\n",
      "as_2_Sb_on_O     [-3, -2, -1, 0, 1, 2, 3]   8\n",
      "as_3_Sb_on_O     [-3, -2, -1, 0, 1, 2, 3]   8 \n",
      "\n",
      "Interstitials    Potential Charge States         Supercell Site Multiplicity\n",
      "---------------  ------------------------------  -----------------------------\n",
      "inter_1_Sb       [-3, -2, -1, 0, 1, 2, 3, 4, 5]  8\n",
      "inter_2_Sb       [-3, -2, -1, 0, 1, 2, 3, 4, 5]  16\n",
      "inter_3_Sb       [-3, -2, -1, 0, 1, 2, 3, 4, 5]  16\n",
      "inter_4_Sb       [-3, -2, -1, 0, 1, 2, 3, 4, 5]  8\n",
      "inter_5_Sb       [-3, -2, -1, 0, 1, 2, 3, 4, 5]  4\n",
      "inter_6_Sb       [-3, -2, -1, 0, 1, 2, 3, 4, 5]  16\n",
      "inter_7_Sb       [-3, -2, -1, 0, 1, 2, 3, 4, 5]  8\n",
      "inter_8_Sb       [-3, -2, -1, 0, 1, 2, 3, 4, 5]  4\n",
      "inter_9_O        [-2, -1, 0]                     8\n",
      "inter_10_O       [-2, -1, 0]                     16\n",
      "inter_11_O       [-2, -1, 0]                     16\n",
      "inter_12_O       [-2, -1, 0]                     8\n",
      "inter_13_O       [-2, -1, 0]                     4\n",
      "inter_14_O       [-2, -1, 0]                     16\n",
      "inter_15_O       [-2, -1, 0]                     8\n",
      "inter_16_O       [-2, -1, 0]                     4\n",
      "inter_17_F       [-1, 0]                         8\n",
      "inter_18_F       [-1, 0]                         16\n",
      "inter_19_F       [-1, 0]                         16\n",
      "inter_20_F       [-1, 0]                         8\n",
      "inter_21_F       [-1, 0]                         4\n",
      "inter_22_F       [-1, 0]                         16\n",
      "inter_23_F       [-1, 0]                         8\n",
      "inter_24_F       [-1, 0]                         4 \n",
      "\n",
      "False positives: {'v_Sb': {1, 2, 3, 4, 5, -5}, 'v_O': {-1, -2}, 'Sb_i': {0, 1, -2, -3, -1}, 'O_i': {-2, -1}, 'Sb_O': {0, 2, 3, -2, -3, -1}, 'F_O': {0, 2, -1, -2}, 'F_i': set()}\n",
      "False negatives: {'v_Sb': set(), 'v_O': set(), 'Sb_i': set(), 'O_i': set(), 'Sb_O': set(), 'F_O': set(), 'F_i': {1}}\n",
      "Hits: {'v_Sb': {0, -2, -4, -3, -1}, 'v_O': {0, 1, 2}, 'Sb_i': {2, 3, 4, 5}, 'O_i': {0}, 'Sb_O': {1}, 'F_O': {1}, 'F_i': {0, -1}}\n",
      "\n",
      "False positives: 25\n",
      "False negatives: 1\n",
      "Hits: 17\n"
     ]
    }
   ],
   "source": [
    "sb2o5 = Structure.from_file(\"data/Sb2O5_POSCAR\")\n",
    "cds = ChargedDefectsStructures(sb2o5, cellmax=sb2o5.num_sites,\n",
    "                               substitutions={\"O\": [\"F\"]},\n",
    "                              interstitial_elements=[\"Sb\", \"O\", \"F\"])\n",
    "generate_and_compare_doped_charges(sb2o5_tld_stable_charges, cds=cds)"
   ]
  },
  {
   "cell_type": "markdown",
   "metadata": {
    "collapsed": false
   },
   "source": [
    "### Al$_2$O$_3$"
   ]
  },
  {
   "cell_type": "code",
   "execution_count": 64,
   "metadata": {
    "ExecuteTime": {
     "end_time": "2023-09-16T17:57:31.552378Z",
     "start_time": "2023-09-16T17:57:31.549498Z"
    },
    "collapsed": false
   },
   "outputs": [],
   "source": [
    "al2o3_tld_stable_charges = {\n",
    "\"v_Al\": list(range(-3, 0, + 1)),\n",
    "\"v_O\": list(range(0, +2 + 1)),\n",
    "\"O_i\": list(range(-2, 0 + 1)),\n",
    "\"Al_i\": list(range(0, +3 + 1)),\n",
    "}"
   ]
  },
  {
   "cell_type": "code",
   "execution_count": 65,
   "metadata": {
    "ExecuteTime": {
     "end_time": "2023-09-16T17:57:44.993811Z",
     "start_time": "2023-09-16T17:57:31.552884Z"
    },
    "collapsed": false
   },
   "outputs": [
    {
     "name": "stdout",
     "output_type": "stream",
     "text": [
      "Setting up vacancies\n",
      "Setting up antisites\n",
      "Setting up interstitials from intersites\n",
      "Defects generated:\n",
      "Vacancies    Potential Charge States    Supercell Site Multiplicity\n",
      "-----------  -------------------------  -----------------------------\n",
      "vac_1_Al     [-3, -2, -1, 0, 1, 2, 3]   4\n",
      "vac_2_O      [-2, -1, 0, 1, 2]          6 \n",
      "\n",
      "Substitutions    Potential Charge States    Supercell Site Multiplicity\n",
      "---------------  -------------------------  -----------------------------\n",
      "as_1_O_on_Al     [-2, -1, 0, 1]             4\n",
      "as_1_Al_on_O     [-2, -1, 0, 1]             6 \n",
      "\n",
      "Interstitials    Potential Charge States    Supercell Site Multiplicity\n",
      "---------------  -------------------------  -----------------------------\n",
      "inter_1_Al       [0, 1, 2, 3]               4\n",
      "inter_1_O        [-2, -1, 0]                4 \n",
      "\n",
      "False positives: {'v_Al': {0, 1, 2, 3}, 'v_O': {-1, -2}, 'O_i': set(), 'Al_i': set()}\n",
      "False negatives: {'v_Al': set(), 'v_O': set(), 'O_i': set(), 'Al_i': set()}\n",
      "Hits: {'v_Al': {-3, -2, -1}, 'v_O': {0, 1, 2}, 'O_i': {0, -2, -1}, 'Al_i': {0, 1, 2, 3}}\n",
      "\n",
      "False positives: 6\n",
      "False negatives: 0\n",
      "Hits: 13\n"
     ]
    }
   ],
   "source": [
    "al2o3 = Structure.from_file(\"data/Al2O3_POSCAR\")\n",
    "generate_and_compare_doped_charges(al2o3_tld_stable_charges, al2o3)"
   ]
  },
  {
   "cell_type": "markdown",
   "metadata": {
    "collapsed": false
   },
   "source": [
    "### AlSbO$_4$"
   ]
  },
  {
   "cell_type": "code",
   "execution_count": 66,
   "metadata": {
    "ExecuteTime": {
     "end_time": "2023-09-16T17:57:45.039570Z",
     "start_time": "2023-09-16T17:57:44.995098Z"
    },
    "collapsed": false
   },
   "outputs": [],
   "source": [
    "alsbo4_tld_stable_charges = {\n",
    "    \"v_O\": list(range(0, 2 + 1)),\n",
    "    \"v_Sb\": list(range(-5, 0 + 1)),\n",
    "    \"v_Al\": list(range(-3, 0 + 1)),\n",
    "    \"Sb_Al\": list(range(-2, 0 +1)),\n",
    "    \"Al_Sb\": list(range(-2, 0 + 1)),\n",
    "}"
   ]
  },
  {
   "cell_type": "code",
   "execution_count": 67,
   "metadata": {
    "ExecuteTime": {
     "end_time": "2023-09-16T17:57:47.951786Z",
     "start_time": "2023-09-16T17:57:44.996171Z"
    },
    "collapsed": false
   },
   "outputs": [
    {
     "name": "stdout",
     "output_type": "stream",
     "text": [
      "Setting up vacancies\n",
      "Setting up antisites\n",
      "Setting up interstitials from intersites\n",
      "Defects generated:\n",
      "Vacancies    Potential Charge States                 Supercell Site Multiplicity\n",
      "-----------  --------------------------------------  -----------------------------\n",
      "vac_1_Al     [-3, -2, -1, 0, 1, 2, 3]                1\n",
      "vac_2_O      [-2, -1, 0, 1, 2]                       2\n",
      "vac_3_O      [-2, -1, 0, 1, 2]                       2\n",
      "vac_4_Sb     [-5, -4, -3, -2, -1, 0, 1, 2, 3, 4, 5]  1 \n",
      "\n",
      "Substitutions    Potential Charge States    Supercell Site Multiplicity\n",
      "---------------  -------------------------  -----------------------------\n",
      "as_1_O_on_Al     [-3, -2, -1, 0, 1, 2, 3]   1\n",
      "as_2_O_on_Sb     [-3, -2, -1, 0, 1, 2, 3]   1\n",
      "as_1_Sb_on_Al    [-3, -2, -1, 0, 1, 2, 3]   1\n",
      "as_2_Sb_on_O     [-3, -2, -1, 0, 1, 2, 3]   2\n",
      "as_3_Sb_on_O     [-3, -2, -1, 0, 1, 2, 3]   2\n",
      "as_1_Al_on_O     [-3, -2, -1, 0, 1, 2, 3]   2\n",
      "as_2_Al_on_O     [-3, -2, -1, 0, 1, 2, 3]   2\n",
      "as_3_Al_on_Sb    [-3, -2, -1, 0, 1, 2, 3]   1 \n",
      "\n",
      "Interstitials    Potential Charge States         Supercell Site Multiplicity\n",
      "---------------  ------------------------------  -----------------------------\n",
      "inter_1_Al       [0, 1, 2, 3]                    1\n",
      "inter_1_O        [-2, -1, 0]                     1\n",
      "inter_1_Sb       [-3, -2, -1, 0, 1, 2, 3, 4, 5]  1 \n",
      "\n",
      "False positives: {'v_O': {-1, -2}, 'v_Sb': {1, 2, 3, 4, 5}, 'v_Al': {1, 2, 3}, 'Sb_Al': {1, 2, 3, -3}, 'Al_Sb': {1, 2, 3, -3}}\n",
      "False negatives: {'v_O': set(), 'v_Sb': set(), 'v_Al': set(), 'Sb_Al': set(), 'Al_Sb': set()}\n",
      "Hits: {'v_O': {0, 1, 2}, 'v_Sb': {0, -2, -5, -4, -3, -1}, 'v_Al': {0, -3, -2, -1}, 'Sb_Al': {0, -2, -1}, 'Al_Sb': {0, -2, -1}}\n",
      "\n",
      "False positives: 18\n",
      "False negatives: 0\n",
      "Hits: 19\n"
     ]
    }
   ],
   "source": [
    "alsbo4 = Structure.from_file(\"data/AlSbO4_POSCAR\")\n",
    "generate_and_compare_doped_charges(alsbo4_tld_stable_charges, alsbo4)"
   ]
  },
  {
   "cell_type": "markdown",
   "metadata": {
    "collapsed": false
   },
   "source": [
    "### Sb$_2$Se$_3$"
   ]
  },
  {
   "cell_type": "code",
   "execution_count": 68,
   "metadata": {
    "ExecuteTime": {
     "end_time": "2023-09-16T22:23:14.952827Z",
     "start_time": "2023-09-16T22:23:14.792257Z"
    },
    "collapsed": false
   },
   "outputs": [],
   "source": [
    "sb2se3_tld_stable_charges = {\n",
    "    \"v_Se\": list(range(-2, +2 + 1)),\n",
    "    \"v_Sb\": list(range(-3, +1 + 1)),\n",
    "    \"Sb_Se\": list(range(-1, +3 +1)),\n",
    "    \"Se_Sb\": list(range(-1, +1 +1)),\n",
    "    \"Sb_i\": list(range(-1, +3 +1)),\n",
    "    \"Se_i\": list(range(0, +4 + 1)),\n",
    "}"
   ]
  },
  {
   "cell_type": "code",
   "execution_count": 70,
   "metadata": {
    "ExecuteTime": {
     "end_time": "2023-09-16T22:23:32.638309Z",
     "start_time": "2023-09-16T22:23:14.923632Z"
    },
    "collapsed": false
   },
   "outputs": [
    {
     "name": "stdout",
     "output_type": "stream",
     "text": [
      "Setting up vacancies\n",
      "Setting up antisites\n",
      "Setting up interstitials from intersites\n",
      "Defects generated:\n",
      "Vacancies    Potential Charge States    Supercell Site Multiplicity\n",
      "-----------  -------------------------  -----------------------------\n",
      "vac_1_Sb     [-3, -2, -1, 0, 1, 2, 3]   4\n",
      "vac_2_Sb     [-3, -2, -1, 0, 1, 2, 3]   4\n",
      "vac_3_Se     [-2, -1, 0, 1, 2]          4\n",
      "vac_4_Se     [-2, -1, 0, 1, 2]          4\n",
      "vac_5_Se     [-2, -1, 0, 1, 2]          4 \n",
      "\n",
      "Substitutions    Potential Charge States      Supercell Site Multiplicity\n",
      "---------------  ---------------------------  -----------------------------\n",
      "as_1_Se_on_Sb    [-3, -2, -1, 0, 1, 2, 3, 4]  4\n",
      "as_2_Se_on_Sb    [-3, -2, -1, 0, 1, 2, 3, 4]  4\n",
      "as_1_Sb_on_Se    [-3, -2, -1, 0, 1, 2, 3, 4]  4\n",
      "as_2_Sb_on_Se    [-3, -2, -1, 0, 1, 2, 3, 4]  4\n",
      "as_3_Sb_on_Se    [-3, -2, -1, 0, 1, 2, 3, 4]  4 \n",
      "\n",
      "Interstitials    Potential Charge States         Supercell Site Multiplicity\n",
      "---------------  ------------------------------  -----------------------------\n",
      "inter_1_Sb       [-3, -2, -1, 0, 1, 2, 3, 4, 5]  4\n",
      "inter_1_Se       [-2, -1, 0, 1, 2, 3, 4, 5, 6]   4 \n",
      "\n",
      "False positives: {'v_Se': set(), 'v_Sb': {2, 3}, 'Sb_Se': {4, -3, -2}, 'Se_Sb': {2, 3, 4, -3, -2}, 'Sb_i': {-3, 4, 5, -2}, 'Se_i': {-2, 5, 6, -1}}\n",
      "False negatives: {'v_Se': set(), 'v_Sb': set(), 'Sb_Se': set(), 'Se_Sb': set(), 'Sb_i': set(), 'Se_i': set()}\n",
      "Hits: {'v_Se': {0, 1, 2, -2, -1}, 'v_Sb': {0, 1, -2, -3, -1}, 'Sb_Se': {0, 1, 2, 3, -1}, 'Se_Sb': {0, 1, -1}, 'Sb_i': {0, 1, 2, 3, -1}, 'Se_i': {0, 1, 2, 3, 4}}\n",
      "\n",
      "False positives: 18\n",
      "False negatives: 0\n",
      "Hits: 28\n"
     ]
    }
   ],
   "source": [
    "sb2se3 = Structure.from_file(\"../../tests/data/Sb2Se3_bulk_supercell_POSCAR\")\n",
    "generate_and_compare_doped_charges(sb2se3_tld_stable_charges, sb2se3)"
   ]
  },
  {
   "cell_type": "markdown",
   "metadata": {
    "collapsed": false
   },
   "source": [
    "### Se"
   ]
  },
  {
   "cell_type": "code",
   "execution_count": 71,
   "metadata": {
    "ExecuteTime": {
     "end_time": "2023-09-16T17:58:27.029594Z",
     "start_time": "2023-09-16T17:58:27.027382Z"
    },
    "collapsed": false
   },
   "outputs": [],
   "source": [
    "se_tld_stable_charges = {\n",
    "    \"v_Se\": list(range(-2, +1 + 1)),  # +1 just about\n",
    "    \"Se_i\": list(range(-2, 0 + 1)),  # -2 just about\n",
    "    \"F_Se\": list(range(-1, +1 + 1)),\n",
    "    \"F_i\": list(range(-1, +1 + 1)),\n",
    "    \"Br_Se\": list(range(-1, +1 + 1)),\n",
    "    \"Br_i\": list(range(-1, +1 + 1)),\n",
    "    \"Cl_Se\": list(range(-1, +1 + 1)),\n",
    "    \"Cl_i\": list(range(-1, +1 + 1)),\n",
    "    \"H_Se\": list(range(-1, +1 + 1)),\n",
    "    \"H_i\": list(range(-1, +1 + 1)),\n",
    "    \"O_Se\": list(range(-2, 0 + 1)),  # -2 just about\n",
    "    \"O_i\": list(range(-2, 0 + 1)),\n",
    "    \"S_Se\": list(range(-1, 0 + 1)),\n",
    "    \"S_i\": list(range(0, 0 + 1)),  # -2 at CBM\n",
    "    \"Te_Se\": list(range(-1, 0 + 1)),  # -2 for a tiny bit below CBM\n",
    "    \"Te_i\": list(range(-2, 0 + 1)),  # -2 for a small bit below CBM\n",
    "}"
   ]
  },
  {
   "cell_type": "code",
   "execution_count": 72,
   "metadata": {
    "ExecuteTime": {
     "end_time": "2023-09-16T17:59:50.139971Z",
     "start_time": "2023-09-16T17:59:48.779207Z"
    },
    "collapsed": false
   },
   "outputs": [
    {
     "name": "stdout",
     "output_type": "stream",
     "text": [
      "Setting up vacancies\n",
      "Setting up antisites\n",
      "Searching for Voronoi interstitial sites (this can take a little while)\n",
      "Found the interstital sites, setting up interstitials\n",
      "Defects generated:\n",
      "Vacancies    Potential Charge States                        Supercell Site Multiplicity\n",
      "-----------  ---------------------------------------------  -----------------------------\n",
      "vac_1_Se     [-6, -5, -4, -3, -2, -1, 0, 1, 2, 3, 4, 5, 6]  3 \n",
      "\n",
      "Substitutions    Potential Charge States    Supercell Site Multiplicity\n",
      "---------------  -------------------------  -----------------------------\n",
      "sub_1_F_on_Se    [-2, -1, 0, 1, 2]          3\n",
      "sub_1_Br_on_Se   [-1, 0, 1, 2, 3, 4]        3\n",
      "sub_1_Cl_on_Se   [-1, 0, 1, 2, 3, 4]        3\n",
      "sub_1_H_on_Se    [-2, -1, 0, 1, 2]          3\n",
      "sub_1_O_on_Se    [-2, -1, 0, 1]             3\n",
      "sub_1_S_on_Se    [-2, -1, 0, 1, 2, 3]       3\n",
      "sub_1_Te_on_Se   [-2, -1, 0, 1, 2, 3]       3 \n",
      "\n",
      "Interstitials    Potential Charge States        Supercell Site Multiplicity\n",
      "---------------  -----------------------------  -----------------------------\n",
      "inter_1_F        [-1, 0]                        6\n",
      "inter_2_Br       [-1, 0, 1, 2, 3, 4, 5, 6, 7]   6\n",
      "inter_3_Cl       [-1, 0, 1, 2, 3, 4, 5, 6, 7]   6\n",
      "inter_4_H        [-1, 0, 1]                     6\n",
      "inter_5_O        [-2, -1, 0]                    6\n",
      "inter_6_S        [-2, -1, 0, 1, 2, 3, 4, 5, 6]  6\n",
      "inter_7_Te       [-2, -1, 0, 1, 2, 3, 4, 5, 6]  6 \n"
     ]
    }
   ],
   "source": [
    "se = Structure.from_file(\"data/Se_HSE06_D3_CONTCAR\")\n",
    "cds = ChargedDefectsStructures(se, interstitial_elements=[\"F\", \"Br\", \"Cl\", \"H\", \"O\", \"S\", \"Te\"],\n",
    "                              substitutions={\"Se\":[\"F\", \"Br\", \"Cl\", \"H\", \"O\", \"S\", \"Te\"]})"
   ]
  },
  {
   "cell_type": "code",
   "execution_count": 73,
   "metadata": {
    "ExecuteTime": {
     "end_time": "2023-09-16T17:59:52.445948Z",
     "start_time": "2023-09-16T17:59:52.417365Z"
    },
    "collapsed": false
   },
   "outputs": [
    {
     "name": "stdout",
     "output_type": "stream",
     "text": [
      "False positives: {'v_Se': {2, 3, 4, 5, 6, -6, -5, -4, -3}, 'Se_i': {1, 2, 3, 4, 5, 6, -6, -5, -4, -3}, 'F_Se': {2, -2}, 'F_i': set(), 'Br_Se': {2, 3, 4}, 'Br_i': {2, 3, 4, 5, 6, 7}, 'Cl_Se': {2, 3, 4}, 'Cl_i': {2, 3, 4, 5, 6, 7}, 'H_Se': {2, -2}, 'H_i': set(), 'O_Se': {1}, 'O_i': set(), 'S_Se': {1, 2, 3, -2}, 'S_i': {1, 2, 3, 4, 5, 6, -1, -2}, 'Te_Se': {1, 2, 3, -2}, 'Te_i': {1, 2, 3, 4, 5, 6}}\n",
      "False negatives: {'v_Se': set(), 'Se_i': set(), 'F_Se': set(), 'F_i': {1}, 'Br_Se': set(), 'Br_i': set(), 'Cl_Se': set(), 'Cl_i': set(), 'H_Se': set(), 'H_i': set(), 'O_Se': set(), 'O_i': set(), 'S_Se': set(), 'S_i': set(), 'Te_Se': set(), 'Te_i': set()}\n",
      "Hits: {'v_Se': {0, 1, -2, -1}, 'Se_i': {0, -2, -1}, 'F_Se': {0, 1, -1}, 'F_i': {0, -1}, 'Br_Se': {0, 1, -1}, 'Br_i': {0, 1, -1}, 'Cl_Se': {0, 1, -1}, 'Cl_i': {0, 1, -1}, 'H_Se': {0, 1, -1}, 'H_i': {0, 1, -1}, 'O_Se': {0, -2, -1}, 'O_i': {0, -2, -1}, 'S_Se': {0, -1}, 'S_i': {0}, 'Te_Se': {0, -1}, 'Te_i': {0, -2, -1}}\n",
      "\n",
      "False positives: 64\n",
      "False negatives: 1\n",
      "Hits: 44\n"
     ]
    }
   ],
   "source": [
    "generate_and_compare_doped_charges(se_tld_stable_charges, cds=cds)"
   ]
  },
  {
   "cell_type": "markdown",
   "metadata": {
    "collapsed": false
   },
   "source": [
    "### Zn$_3$P$_2$:"
   ]
  },
  {
   "cell_type": "code",
   "execution_count": 74,
   "metadata": {
    "ExecuteTime": {
     "end_time": "2023-09-16T22:08:04.498134Z",
     "start_time": "2023-09-16T22:08:04.414883Z"
    },
    "collapsed": false
   },
   "outputs": [],
   "source": [
    "zn3p2_tld_stable_charges = {  # from Yihuang and Geoffroy's: https://arxiv.org/abs/2306.13583\n",
    "    \"v_Zn\": list(range(-2, 0 + 1)),\n",
    "    \"v_P\": list(range(-1, +1 + 1)),\n",
    "    \"Zn_i\": list(range(0, +2 + 1)),\n",
    "    \"P_i\": list(range(-1, +3 + 1)),\n",
    "    \"Zn_P\": list(range(-2, +3 + 1)),  # -2 just below CBM...\n",
    "    \"P_Zn\": list(range(-1, +3 + 1)),\n",
    "}"
   ]
  },
  {
   "cell_type": "code",
   "execution_count": 75,
   "metadata": {
    "ExecuteTime": {
     "end_time": "2023-09-16T22:08:24.702918Z",
     "start_time": "2023-09-16T22:08:04.555866Z"
    },
    "collapsed": false
   },
   "outputs": [
    {
     "name": "stdout",
     "output_type": "stream",
     "text": [
      "Setting up vacancies\n",
      "Setting up antisites\n",
      "Setting up interstitials from intersites\n",
      "Defects generated:\n",
      "Vacancies    Potential Charge States    Supercell Site Multiplicity\n",
      "-----------  -------------------------  -----------------------------\n",
      "vac_1_Zn     [-2, -1, 0, 1, 2]          8\n",
      "vac_2_Zn     [-2, -1, 0, 1, 2]          8\n",
      "vac_3_Zn     [-2, -1, 0, 1, 2]          8\n",
      "vac_4_P      [-3, -2, -1, 0, 1, 2, 3]   4\n",
      "vac_5_P      [-3, -2, -1, 0, 1, 2, 3]   4\n",
      "vac_6_P      [-3, -2, -1, 0, 1, 2, 3]   8 \n",
      "\n",
      "Substitutions    Potential Charge States    Supercell Site Multiplicity\n",
      "---------------  -------------------------  -----------------------------\n",
      "as_1_Zn_on_P     [-3, -2, -1, 0, 1, 2, 3]   4\n",
      "as_2_Zn_on_P     [-3, -2, -1, 0, 1, 2, 3]   4\n",
      "as_3_Zn_on_P     [-3, -2, -1, 0, 1, 2, 3]   8\n",
      "as_1_P_on_Zn     [-3, -2, -1, 0, 1, 2, 3]   8\n",
      "as_2_P_on_Zn     [-3, -2, -1, 0, 1, 2, 3]   8\n",
      "as_3_P_on_Zn     [-3, -2, -1, 0, 1, 2, 3]   8 \n",
      "\n",
      "Interstitials    Potential Charge States         Supercell Site Multiplicity\n",
      "---------------  ------------------------------  -----------------------------\n",
      "inter_1_Zn       [0, 1, 2]                       8\n",
      "inter_1_P        [-3, -2, -1, 0, 1, 2, 3, 4, 5]  8 \n",
      "\n",
      "False positives: {'v_Zn': {1, 2}, 'v_P': {2, 3, -3, -2}, 'Zn_i': set(), 'P_i': {-3, 4, 5, -2}, 'Zn_P': {-3}, 'P_Zn': {-3, -2}}\n",
      "False negatives: {'v_Zn': set(), 'v_P': set(), 'Zn_i': set(), 'P_i': set(), 'Zn_P': set(), 'P_Zn': set()}\n",
      "Hits: {'v_Zn': {0, -2, -1}, 'v_P': {0, 1, -1}, 'Zn_i': {0, 1, 2}, 'P_i': {0, 1, 2, 3, -1}, 'Zn_P': {0, 1, 2, 3, -2, -1}, 'P_Zn': {0, 1, 2, 3, -1}}\n",
      "\n",
      "False positives: 13\n",
      "False negatives: 0\n",
      "Hits: 25\n"
     ]
    }
   ],
   "source": [
    "zn3p2 = Structure.from_file(\"data/Zn3P2_POSCAR\")\n",
    "generate_and_compare_doped_charges(zn3p2_tld_stable_charges, zn3p2)"
   ]
  },
  {
   "cell_type": "markdown",
   "source": [
    "## Overall"
   ],
   "metadata": {
    "collapsed": false
   }
  },
  {
   "cell_type": "code",
   "execution_count": 85,
   "metadata": {
    "ExecuteTime": {
     "end_time": "2023-09-16T22:05:43.672456Z",
     "start_time": "2023-09-16T22:05:43.668427Z"
    },
    "collapsed": false
   },
   "outputs": [],
   "source": [
    "pycdt_results = {\"CdTe\": (16, 0, 20),  # remember this is biased to have low false negatives!\n",
    "                 \"Y$_2$Ti$_2$S$_2$O$_5$\": (44, 0, 45),\n",
    "                 \"ZnS\": (10, 0, 26),\n",
    "                 \"Li$_2$Mn$_3$NiO$_8$\": (52, 0, 34),\n",
    "                 \"BaBi$_2$O$_6$\": (29, 1, 30), \n",
    "                 \"Sb$_2$O$_5$\": (25, 1, 17),\n",
    "                 \"Al$_2$O$_3$\": (6, 0, 13),\n",
    "                 \"AlSbO$_4$\": (18, 0, 19),\n",
    "                 \"Sb$_2$Se$_3$\": (18, 0, 28),\n",
    "                 \"Zn$_3$P$_2$\": (13, 0, 25),\n",
    "                 \"Na$_2$FePO$_4$F\": (104, 1, 85),\n",
    "                 \"Se\": (64, 1, 44),  \n",
    "                 }"
   ]
  }
 ],
 "metadata": {
  "kernelspec": {
   "display_name": "Python 3 (ipykernel)",
   "language": "python",
   "name": "python3"
  },
  "language_info": {
   "codemirror_mode": {
    "name": "ipython",
    "version": 3
   },
   "file_extension": ".py",
   "mimetype": "text/x-python",
   "name": "python",
   "nbconvert_exporter": "python",
   "pygments_lexer": "ipython3",
   "version": "3.10.13"
  }
 },
 "nbformat": 4,
 "nbformat_minor": 4
}
