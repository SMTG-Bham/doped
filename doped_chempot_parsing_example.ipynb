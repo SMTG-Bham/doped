{
 "cells": [
  {
   "cell_type": "markdown",
   "metadata": {},
   "source": [
    "# Chemical Potential Results Parsing and Analysis"
   ]
  },
  {
   "cell_type": "code",
   "execution_count": 1,
   "metadata": {},
   "outputs": [],
   "source": [
    "from doped.pycdt.utils.parse_calculations import get_vasprun\n",
    "from doped.pycdt.core import chemical_potentials\n",
    "from doped import dope_stuff"
   ]
  },
  {
   "cell_type": "code",
   "execution_count": 7,
   "metadata": {},
   "outputs": [],
   "source": [
    "bulk_vr = get_vasprun(\"TininCs3Bi2Br9/VASP_Files/Bulk_Supercell/vasp_ncl/vasprun.xml.gz\") #provide a path to the computed bulk vasprun file\n",
    "bulk_ce = bulk_vr.get_computed_entry()\n",
    "\n",
    "# give path to directory with PhaseDiagram folder, specify any extrinsic species:\n",
    "cpa = chemical_potentials.UserChemPotAnalyzer(bulk_ce = bulk_ce, path_base = \"TininCs3Bi2Br9/\", sub_species={\"Sn\"}) "
   ]
  },
  {
   "cell_type": "code",
   "execution_count": 8,
   "metadata": {},
   "outputs": [
    {
     "name": "stdout",
     "output_type": "stream",
     "text": [
      "loading  CsBr3_EaH=0.000\n",
      "loading  BiBr3_EaH=0.062\n",
      "loading  BiBr3_EaH=0.000\n",
      "loading  Sn_EaH=0.018\n",
      "loading  Cs_EaH=0.042\n",
      "loading  Cs_EaH=0.045\n",
      "loading  CsSnBr3_EaH=0\n",
      "loading  Cs_EaH=0.056\n",
      "loading  Cs_EaH=0.051\n",
      "loading  Sn_EaH=0.051\n",
      "loading  Cs_EaH=0.050\n",
      "loading  Sn_EaH=0.057\n",
      "loading  Cs_EaH=0.035\n",
      "loading  Cs12SnBi7Br36_fromDoubleSupercell_0\n",
      "loading  Bi_EaH=0.061\n",
      "loading  Cs3Bi2Br9_EaH=0.001\n",
      "loading  Br_EaH=0\n",
      "loading  Bi_EaH=0\n",
      "loading  CsSn2Br5_EaH=0\n",
      "loading  Cs3Bi2Br9_EaH=0\n",
      "loading  CsBr_EaH=0.040\n",
      "loading  Cs_EaH=0.040\n",
      "loading  BiBr3_EaH=0.002\n",
      "loading  Sn_EaH=0.047\n",
      "loading  Sn_EaH=0.012\n"
     ]
    },
    {
     "name": "stderr",
     "output_type": "stream",
     "text": [
      "/Users/kavanase/anaconda3/lib/python3.7/site-packages/pymatgen/io/vasp/outputs.py:377: UnconvergedVASPWarning: TininCs3Bi2Br9/PhaseDiagram/Sn_EaH=0.012/vasprun.xml.gz is an unconverged VASP run.\n",
      "Electronic convergence reached: False.\n",
      "Ionic convergence reached: True.\n",
      "  warnings.warn(msg, UnconvergedVASPWarning)\n"
     ]
    },
    {
     "name": "stdout",
     "output_type": "stream",
     "text": [
      "loading  Cs_EaH=0.041\n",
      "loading  Cs_EaH=0.039\n",
      "loading  Cs_EaH=0.052\n",
      "loading  Cs_EaH=0.000\n",
      "loading  Sn_EaH=0\n",
      "loading  CsBr_EaH=0.000\n"
     ]
    }
   ],
   "source": [
    "chempot_limits = cpa.read_phase_diagram_and_chempots(\n",
    "    full_sub_approach=True, include_mp_entries=False\n",
    ")"
   ]
  },
  {
   "cell_type": "markdown",
   "metadata": {},
   "source": [
    "**Can then directly feed `chempot_limits` to `formation_energy_plot`, `formation_energy_table`, `single_formation_energy_table`, `all_lines_formation_energy_plot` etc. from `dope_stuff`, to plot defect formation energies at different Phase Diagram facets (i.e. chemical potential limits), or specific facets by specifying `pd_facets` as a function argument etc.**"
   ]
  },
  {
   "cell_type": "markdown",
   "metadata": {},
   "source": [
    "Save to a pickle file so we can reload later in a new notebook session, without having to reparse the results:"
   ]
  },
  {
   "cell_type": "code",
   "execution_count": 11,
   "metadata": {},
   "outputs": [],
   "source": [
    "dope_stuff.save_to_pickle(chempot_limits, 'cs3bi2br9_chempot_limits.pickle')\n",
    "dope_stuff.save_to_pickle(cpa, 'cs3bi2br9_cpa.pickle')"
   ]
  },
  {
   "cell_type": "markdown",
   "metadata": {},
   "source": [
    "Can then start a new session with this: (Or in a different notebook, if you're feeling really wild):"
   ]
  },
  {
   "cell_type": "code",
   "execution_count": 12,
   "metadata": {},
   "outputs": [],
   "source": [
    "chempot_limits = dope_stuff.load_from_pickle('cs3bi2br9_chempot_limits.pickle')\n",
    "cpa = dope_stuff.load_from_pickle('cs3bi2br9_cpa.pickle')"
   ]
  },
  {
   "cell_type": "code",
   "execution_count": 14,
   "metadata": {},
   "outputs": [],
   "source": [
    "cs3bi2br9_pd = cpa.phase_diagram # Get pymatgen phase_diagram"
   ]
  },
  {
   "cell_type": "markdown",
   "metadata": {},
   "source": [
    "### Some random, somewhat cool stuff you can do with `pymatgen` `phase_diagram` objects:"
   ]
  },
  {
   "cell_type": "code",
   "execution_count": 16,
   "metadata": {},
   "outputs": [
    {
     "name": "stdout",
     "output_type": "stream",
     "text": [
      "Cs12SnBi7Br36 0.42857142857142855\n",
      "CsSnBr3 0.40816326530612246\n",
      "CsBr3 0.16326530612244872\n"
     ]
    }
   ],
   "source": [
    "from pymatgen.core.composition import Composition\n",
    "for entry, amount in cs3bi2br9_pd.get_decomposition(Composition(\"Cs12Sn5Bi3Br36\")).items(): # get decomposition products at a particular phase diagram facet\n",
    "    print(entry.name, amount)"
   ]
  },
  {
   "cell_type": "code",
   "execution_count": 18,
   "metadata": {},
   "outputs": [
    {
     "name": "stdout",
     "output_type": "stream",
     "text": [
      "Br\n",
      "{'Orig_Folder_Name': 'Br_EaH=0'}\n",
      "0\n",
      "0\n",
      "-9.2674437\n",
      "-2.3168609\n",
      "\n",
      "Bi\n",
      "{'Orig_Folder_Name': 'Bi_EaH=0.061'}\n",
      "0.079\n",
      "0.16\n",
      "-10.088292\n",
      "-5.0441462\n",
      "\n",
      "Bi\n",
      "{'Orig_Folder_Name': 'Bi_EaH=0'}\n",
      "0\n",
      "0\n",
      "-10.247191\n",
      "-5.1235956\n",
      "\n",
      "BiBr3\n",
      "{'Orig_Folder_Name': 'BiBr3_EaH=0.062'}\n",
      "0\n",
      "-12\n",
      "-60.049606\n",
      "-3.7531004\n",
      "\n",
      "BiBr3\n",
      "{'Orig_Folder_Name': 'BiBr3_EaH=0.000'}\n",
      "0.0006\n",
      "-12\n",
      "-60.03999\n",
      "-3.7524994\n",
      "\n",
      "BiBr3\n",
      "{'Orig_Folder_Name': 'BiBr3_EaH=0.002'}\n",
      "0.00033\n",
      "-5.9\n",
      "-30.022137\n",
      "-3.7527671\n",
      "\n",
      "Sn\n",
      "{'Orig_Folder_Name': 'Sn_EaH=0.018'}\n",
      "0.095\n",
      "0.76\n",
      "-35.988857\n",
      "-4.4986071\n",
      "\n",
      "Sn\n",
      "{'Orig_Folder_Name': 'Sn_EaH=0.051'}\n",
      "0.18\n",
      "0.18\n",
      "-4.4088566\n",
      "-4.4088566\n",
      "\n",
      "Sn\n",
      "{'Orig_Folder_Name': 'Sn_EaH=0.057'}\n",
      "0.18\n",
      "0.18\n",
      "-4.4134137\n",
      "-4.4134137\n",
      "\n",
      "Sn\n",
      "{'Orig_Folder_Name': 'Sn_EaH=0.047'}\n",
      "0.17\n",
      "0.17\n",
      "-4.4224119\n",
      "-4.4224119\n",
      "\n",
      "Sn\n",
      "{'Orig_Folder_Name': 'Sn_EaH=0.012'}\n",
      "0.037\n",
      "1.7\n",
      "-209.59472\n",
      "-4.556407\n",
      "\n",
      "Sn\n",
      "{'Orig_Folder_Name': 'Sn_EaH=0'}\n",
      "0\n",
      "0\n",
      "-9.1867137\n",
      "-4.5933569\n",
      "\n",
      "Cs\n",
      "{'Orig_Folder_Name': 'Cs_EaH=0.042'}\n",
      "1.3e-05\n",
      "5.3e-05\n",
      "-4.3562628\n",
      "-1.0890657\n",
      "\n",
      "Cs\n",
      "{'Orig_Folder_Name': 'Cs_EaH=0.045'}\n",
      "0.00043\n",
      "0.0017\n",
      "-4.3545804\n",
      "-1.0886451\n",
      "\n",
      "Cs\n",
      "{'Orig_Folder_Name': 'Cs_EaH=0.056'}\n",
      "0.001\n",
      "0.0084\n",
      "-8.7042707\n",
      "-1.0880338\n",
      "\n",
      "Cs\n",
      "{'Orig_Folder_Name': 'Cs_EaH=0.051'}\n",
      "0.0095\n",
      "0.076\n",
      "-8.6367286\n",
      "-1.0795911\n",
      "\n",
      "Cs\n",
      "{'Orig_Folder_Name': 'Cs_EaH=0.050'}\n",
      "0.00083\n",
      "0.0033\n",
      "-4.3529757\n",
      "-1.0882439\n",
      "\n",
      "Cs\n",
      "{'Orig_Folder_Name': 'Cs_EaH=0.035'}\n",
      "0.0016\n",
      "0.0016\n",
      "-1.0874902\n",
      "-1.0874902\n",
      "\n",
      "Cs\n",
      "{'Orig_Folder_Name': 'Cs_EaH=0.040'}\n",
      "0.0014\n",
      "0.0014\n",
      "-1.0877045\n",
      "-1.0877045\n",
      "\n",
      "Cs\n",
      "{'Orig_Folder_Name': 'Cs_EaH=0.041'}\n",
      "0.0014\n",
      "0.0014\n",
      "-1.0876622\n",
      "-1.0876622\n",
      "\n",
      "Cs\n",
      "{'Orig_Folder_Name': 'Cs_EaH=0.039'}\n",
      "0.011\n",
      "0.23\n",
      "-21.554444\n",
      "-1.0777222\n",
      "\n",
      "Cs\n",
      "{'Orig_Folder_Name': 'Cs_EaH=0.052'}\n",
      "0\n",
      "0\n",
      "-8.712631\n",
      "-1.0890789\n",
      "\n",
      "Cs\n",
      "{'Orig_Folder_Name': 'Cs_EaH=0.000'}\n",
      "0.0098\n",
      "0.29\n",
      "-31.298078\n",
      "-1.0792441\n",
      "\n",
      "CsBr\n",
      "{'Orig_Folder_Name': 'CsBr_EaH=0.040'}\n",
      "0.034\n",
      "-3.8\n",
      "-7.1969413\n",
      "-3.5984706\n",
      "\n",
      "CsBr\n",
      "{'Orig_Folder_Name': 'CsBr_EaH=0.000'}\n",
      "0\n",
      "-3.9\n",
      "-7.265519\n",
      "-3.6327595\n",
      "\n",
      "CsBr3\n",
      "{'Orig_Folder_Name': 'CsBr3_EaH=0.000'}\n",
      "0\n",
      "-17\n",
      "-48.733217\n",
      "-3.0458261\n",
      "\n",
      "CsSnBr3\n",
      "{'Orig_Folder_Name': 'CsSnBr3_EaH=0'}\n",
      "0\n",
      "-6.5\n",
      "-19.126773\n",
      "-3.8253546\n",
      "\n",
      "CsSn2Br5\n",
      "{'Orig_Folder_Name': 'CsSn2Br5_EaH=0'}\n",
      "0\n",
      "-18\n",
      "-61.494506\n",
      "-3.8434066\n",
      "\n",
      "Cs3Bi2Br9\n",
      "{'Orig_Folder_Name': 'Cs3Bi2Br9_EaH=0.001'}\n",
      "0.00022\n",
      "-37\n",
      "-105.62365\n",
      "-3.7722732\n",
      "\n",
      "Cs3Bi2Br9\n",
      "{'Orig_Folder_Name': 'Cs3Bi2Br9_EaH=0'}\n",
      "0.0001\n",
      "-18\n",
      "-52.813505\n",
      "-3.7723932\n",
      "\n",
      "Cs3Bi2Br9\n",
      "{}\n",
      "0\n",
      "-74\n",
      "-211.25969\n",
      "-3.7724945\n",
      "\n",
      "Cs12SnBi7Br36\n",
      "{'Orig_Folder_Name': 'Cs12SnBi7Br36_fromDoubleSupercell_0'}\n",
      "0\n",
      "-1.5e+02\n",
      "-421.58025\n",
      "-3.7641093\n",
      "\n",
      "Cs3Bi2Br9\n",
      "{}\n",
      "0\n",
      "-74\n",
      "-211.25969\n",
      "-3.7724945\n",
      "\n"
     ]
    }
   ],
   "source": [
    "for entry in cs3bi2br9_pd.all_entries:\n",
    "    print(entry.name)\n",
    "    print(entry.data)\n",
    "    print(f\"{cs3bi2br9_pd.get_e_above_hull(entry):.2g}\")\n",
    "    print(f\"{cs3bi2br9_pd.get_form_energy(entry):.2g}\")\n",
    "    print(f\"{entry.energy:.8g}\")\n",
    "    print(f\"{entry.energy_per_atom:.8g}\\n\")\n",
    "    #print(cs3bi2br9_pd.get_decomp_and_e_above_hull(entry))"
   ]
  },
  {
   "cell_type": "code",
   "execution_count": 20,
   "metadata": {},
   "outputs": [
    {
     "data": {
      "text/plain": [
       "{'facets': {'Cs3Bi2Br9-CsSn2Br5-Bi-BiBr3': {Element Cs: -4.300437900000003,\n",
       "   Element Sn: -4.982735976666666,\n",
       "   Element Bi: -5.12359561,\n",
       "   Element Br: -3.296268598333333},\n",
       "  'CsSnBr3-Cs3Bi2Br9-CsBr-Bi': {Element Cs: -3.8036567124999996,\n",
       "   Element Sn: -4.937529164999997,\n",
       "   Element Bi: -5.12359561,\n",
       "   Element Br: -3.4618623275000004},\n",
       "  'CsSnBr3-Cs3Bi2Br9-CsSn2Br5-Bi': {Element Cs: -4.164817464999995,\n",
       "   Element Sn: -4.937529164999996,\n",
       "   Element Bi: -5.12359561,\n",
       "   Element Br: -3.341475410000002},\n",
       "  'Cs12SnBi7Br36-Cs3Bi2Br9-CsBr3-CsBr': {Element Cs: -4.806626393749999,\n",
       "   Element Sn: -7.662938163750001,\n",
       "   Element Bi: -8.13250465375,\n",
       "   Element Br: -2.4588926462500003},\n",
       "  'Cs12SnBi7Br36-CsSnBr3-Cs3Bi2Br9-CsBr': {Element Cs: -4.087156757500001,\n",
       "   Element Sn: -5.504529255,\n",
       "   Element Bi: -5.974095745000005,\n",
       "   Element Br: -3.178362282499999},\n",
       "  'Cs12SnBi7Br36-CsSnBr3-Cs3Bi2Br9-CsSn2Br5': {Element Cs: -4.44831751,\n",
       "   Element Sn: -5.5045292550000005,\n",
       "   Element Bi: -5.974095745000006,\n",
       "   Element Br: -3.057975364999999},\n",
       "  'Cs12SnBi7Br36-Cs3Bi2Br9-Br-CsBr3': {Element Cs: -5.2327215875,\n",
       "   Element Sn: -7.662938163750001,\n",
       "   Element Bi: -8.13250465375,\n",
       "   Element Br: -2.316860915},\n",
       "  'Cs12SnBi7Br36-Cs3Bi2Br9-Br-BiBr3': {Element Cs: -5.279845583333335,\n",
       "   Element Sn: -7.592252169999995,\n",
       "   Element Bi: -8.06181866,\n",
       "   Element Br: -2.316860915},\n",
       "  'Cs12SnBi7Br36-Cs3Bi2Br9-CsSn2Br5-BiBr3': {Element Cs: -4.629144756666657,\n",
       "   Element Sn: -5.640149689999977,\n",
       "   Element Bi: -6.109716179999969,\n",
       "   Element Br: -2.967561741666677}},\n",
       " 'elemental_refs': {Element Br: -2.316860915,\n",
       "  Element Bi: -5.12359561,\n",
       "  Element Sn: -4.593356855,\n",
       "  Element Cs: -1.08907887375},\n",
       " 'facets_wrt_elt_refs': {'Cs3Bi2Br9-CsSn2Br5-Bi-BiBr3': {Element Cs: -3.211359026250003,\n",
       "   Element Sn: -0.389379121666666,\n",
       "   Element Bi: 0.0,\n",
       "   Element Br: -0.9794076833333332},\n",
       "  'CsSnBr3-Cs3Bi2Br9-CsBr-Bi': {Element Cs: -2.7145778387499995,\n",
       "   Element Sn: -0.3441723099999976,\n",
       "   Element Bi: 0.0,\n",
       "   Element Br: -1.1450014125000005},\n",
       "  'CsSnBr3-Cs3Bi2Br9-CsSn2Br5-Bi': {Element Cs: -3.075738591249995,\n",
       "   Element Sn: -0.3441723099999967,\n",
       "   Element Bi: 0.0,\n",
       "   Element Br: -1.024614495000002},\n",
       "  'Cs12SnBi7Br36-Cs3Bi2Br9-CsBr3-CsBr': {Element Cs: -3.717547519999999,\n",
       "   Element Sn: -3.069581308750001,\n",
       "   Element Bi: -3.008909043750001,\n",
       "   Element Br: -0.14203173125000035},\n",
       "  'Cs12SnBi7Br36-CsSnBr3-Cs3Bi2Br9-CsBr': {Element Cs: -2.9980778837500006,\n",
       "   Element Sn: -0.9111723999999999,\n",
       "   Element Bi: -0.8505001350000052,\n",
       "   Element Br: -0.861501367499999},\n",
       "  'Cs12SnBi7Br36-CsSnBr3-Cs3Bi2Br9-CsSn2Br5': {Element Cs: -3.3592386362499997,\n",
       "   Element Sn: -0.9111724000000008,\n",
       "   Element Bi: -0.8505001350000061,\n",
       "   Element Br: -0.7411144499999991},\n",
       "  'Cs12SnBi7Br36-Cs3Bi2Br9-Br-CsBr3': {Element Cs: -4.14364271375,\n",
       "   Element Sn: -3.069581308750001,\n",
       "   Element Bi: -3.008909043750001,\n",
       "   Element Br: 0.0},\n",
       "  'Cs12SnBi7Br36-Cs3Bi2Br9-Br-BiBr3': {Element Cs: -4.190766709583335,\n",
       "   Element Sn: -2.998895314999995,\n",
       "   Element Bi: -2.9382230500000004,\n",
       "   Element Br: 0.0},\n",
       "  'Cs12SnBi7Br36-Cs3Bi2Br9-CsSn2Br5-BiBr3': {Element Cs: -3.5400658829166565,\n",
       "   Element Sn: -1.0467928349999776,\n",
       "   Element Bi: -0.9861205699999696,\n",
       "   Element Br: -0.650700826666677}}}"
      ]
     },
     "execution_count": 20,
     "metadata": {},
     "output_type": "execute_result"
    }
   ],
   "source": [
    "chempot_limits"
   ]
  },
  {
   "cell_type": "code",
   "execution_count": 21,
   "metadata": {},
   "outputs": [
    {
     "name": "stderr",
     "output_type": "stream",
     "text": [
      "IOPub data rate exceeded.\n",
      "The notebook server will temporarily stop sending output\n",
      "to the client in order to avoid crashing it.\n",
      "To change this limit, set the config variable\n",
      "`--NotebookApp.iopub_data_rate_limit`.\n"
     ]
    },
    {
     "data": {
      "application/vnd.plotly.v1+json": {
       "config": {
        "plotlyServerURL": "https://plot.ly"
       },
       "data": [
        {
         "hoverinfo": "none",
         "line": {
          "color": "rgba(0,0,0,1.0)",
          "width": 7
         },
         "mode": "lines",
         "showlegend": false,
         "type": "scatter3d",
         "x": [
          0.5625,
          0.5,
          null,
          0.25,
          0.5,
          null,
          0.5625,
          0.5,
          null,
          0.3928571428571429,
          0.4017857142857143,
          null,
          0.5,
          0.5,
          null,
          0.5,
          1,
          null,
          0.25,
          0.4017857142857143,
          null,
          0.375,
          0.3928571428571429,
          null,
          0.3928571428571429,
          0.5,
          null,
          0.25,
          0.375,
          null,
          0.5625,
          1,
          null,
          0.4017857142857143,
          0.5,
          null,
          0.5,
          0,
          null,
          0.25,
          0.3928571428571429,
          null,
          0.5,
          0.4017857142857143,
          null,
          0.5,
          0.5625,
          null,
          0.25,
          0,
          null,
          0.375,
          0.4017857142857143,
          null,
          0.5625,
          0.3928571428571429,
          null,
          1,
          0,
          null,
          0.5,
          1,
          null,
          0.5,
          0.3928571428571429,
          null,
          0.25,
          1,
          null,
          0.375,
          0.5,
          null,
          0.5,
          0.5,
          null,
          0.5,
          0.3928571428571429,
          null,
          0.5,
          1,
          null,
          0.375,
          0.5,
          null,
          0.5625,
          0.4017857142857143,
          null,
          0.3928571428571429,
          0.5,
          null,
          0.5,
          0.5,
          null,
          0.5,
          0.4017857142857143,
          null,
          0.25,
          0.5,
          null,
          0.5,
          1,
          null,
          0.5,
          0.5625,
          null,
          0.375,
          0.5625,
          null
         ],
         "y": [
          0.18042195912175804,
          0.28867513459481287,
          null,
          0.14433756729740643,
          0.1732050807568877,
          null,
          0.18042195912175804,
          0.8660254037844386,
          null,
          0.30929478706587094,
          0.29383004771257737,
          null,
          0.4330127018922193,
          0.28867513459481287,
          null,
          0.8660254037844386,
          0,
          null,
          0.14433756729740643,
          0.29383004771257737,
          null,
          0.21650635094610965,
          0.30929478706587094,
          null,
          0.30929478706587094,
          0.8660254037844386,
          null,
          0.14433756729740643,
          0.21650635094610965,
          null,
          0.18042195912175804,
          0,
          null,
          0.29383004771257737,
          0.28867513459481287,
          null,
          0.8660254037844386,
          0,
          null,
          0.14433756729740643,
          0.30929478706587094,
          null,
          0.1732050807568877,
          0.29383004771257737,
          null,
          0.4330127018922193,
          0.18042195912175804,
          null,
          0.14433756729740643,
          0,
          null,
          0.21650635094610965,
          0.29383004771257737,
          null,
          0.18042195912175804,
          0.30929478706587094,
          null,
          0,
          0,
          null,
          0.1732050807568877,
          0,
          null,
          0.4330127018922193,
          0.30929478706587094,
          null,
          0.14433756729740643,
          0,
          null,
          0.21650635094610965,
          0.1732050807568877,
          null,
          0.4330127018922193,
          0.8660254037844386,
          null,
          0.1732050807568877,
          0.30929478706587094,
          null,
          0.28867513459481287,
          0,
          null,
          0.21650635094610965,
          0.28867513459481287,
          null,
          0.18042195912175804,
          0.29383004771257737,
          null,
          0.30929478706587094,
          0.28867513459481287,
          null,
          0.1732050807568877,
          0.8660254037844386,
          null,
          0.4330127018922193,
          0.29383004771257737,
          null,
          0.14433756729740643,
          0.8660254037844386,
          null,
          0.4330127018922193,
          0,
          null,
          0.1732050807568877,
          0.18042195912175804,
          null,
          0.21650635094610965,
          0.18042195912175804,
          null
         ],
         "z": [
          0.5103103630798287,
          0.8164965809277259,
          null,
          0.40824829046386296,
          0.48989794855663554,
          null,
          0.5103103630798287,
          0,
          null,
          0.5248906591678238,
          0.5248906591678238,
          null,
          0.6123724356957945,
          0.8164965809277259,
          null,
          0,
          0,
          null,
          0.40824829046386296,
          0.5248906591678238,
          null,
          0.6123724356957945,
          0.5248906591678238,
          null,
          0.5248906591678238,
          0,
          null,
          0.40824829046386296,
          0.6123724356957945,
          null,
          0.5103103630798287,
          0,
          null,
          0.5248906591678238,
          0.8164965809277259,
          null,
          0,
          0,
          null,
          0.40824829046386296,
          0.5248906591678238,
          null,
          0.48989794855663554,
          0.5248906591678238,
          null,
          0.6123724356957945,
          0.5103103630798287,
          null,
          0.40824829046386296,
          0,
          null,
          0.6123724356957945,
          0.5248906591678238,
          null,
          0.5103103630798287,
          0.5248906591678238,
          null,
          0,
          0,
          null,
          0.48989794855663554,
          0,
          null,
          0.6123724356957945,
          0.5248906591678238,
          null,
          0.40824829046386296,
          0,
          null,
          0.6123724356957945,
          0.48989794855663554,
          null,
          0.6123724356957945,
          0,
          null,
          0.48989794855663554,
          0.5248906591678238,
          null,
          0.8164965809277259,
          0,
          null,
          0.6123724356957945,
          0.8164965809277259,
          null,
          0.5103103630798287,
          0.5248906591678238,
          null,
          0.5248906591678238,
          0.8164965809277259,
          null,
          0.48989794855663554,
          0,
          null,
          0.6123724356957945,
          0.5248906591678238,
          null,
          0.40824829046386296,
          0,
          null,
          0.6123724356957945,
          0,
          null,
          0.48989794855663554,
          0.5103103630798287,
          null,
          0.6123724356957945,
          0.5103103630798287,
          null
         ]
        },
        {
         "hoverinfo": "skip",
         "mode": "text",
         "name": "Labels (stable)",
         "opacity": 1,
         "showlegend": true,
         "text": [
          "CsSn<sub>2</sub>Br<sub>5</sub>",
          "CsBr",
          "CsSnBr<sub>3</sub>",
          "Cs<sub>3</sub>Bi<sub>2</sub>Br<sub>9</sub>",
          "Cs<sub>1</sub><sub>2</sub>SnBi<sub>7</sub>Br<sub>3</sub><sub>6</sub>",
          "BiBr<sub>3</sub>",
          "CsBr<sub>3</sub>"
         ],
         "textposition": [
          "bottom right",
          "bottom right",
          "bottom right",
          "bottom right",
          "bottom right",
          "bottom right",
          "bottom right"
         ],
         "type": "scatter3d",
         "visible": "legendonly",
         "x": [
          0.5525,
          0.24,
          0.49,
          0.3828571428571429,
          0.3917857142857143,
          0.49,
          0.365
         ],
         "y": [
          0.17042195912175803,
          0.13433756729740642,
          0.1632050807568877,
          0.2992947870658709,
          0.28383004771257736,
          0.4230127018922193,
          0.20650635094610964
         ],
         "z": [
          0.5103103630798287,
          0.40824829046386296,
          0.48989794855663554,
          0.5248906591678238,
          0.5248906591678238,
          0.6123724356957945,
          0.6123724356957945
         ]
        },
        {
         "hoverinfo": "text",
         "hoverlabel": {
          "font": {
           "size": 14
          }
         },
         "hovertext": [
          "Bi (None) <br> 0.079 eV/atom (+0.079 eV/atom)",
          "BiBr<sub>3</sub> (None) <br> -0.734 eV/atom (+0.001 eV/atom)",
          "BiBr<sub>3</sub> (None) <br> -0.734 eV/atom (+0.0 eV/atom)",
          "Sn (None) <br> 0.095 eV/atom (+0.095 eV/atom)",
          "Sn (None) <br> 0.185 eV/atom (+0.185 eV/atom)",
          "Sn (None) <br> 0.18 eV/atom (+0.18 eV/atom)",
          "Sn (None) <br> 0.171 eV/atom (+0.171 eV/atom)",
          "Sn (None) <br> 0.037 eV/atom (+0.037 eV/atom)",
          "Cs (None) <br> 0.0 eV/atom (+0.0 eV/atom)",
          "Cs (None) <br> 0.0 eV/atom (+0.0 eV/atom)",
          "Cs (None) <br> 0.001 eV/atom (+0.001 eV/atom)",
          "Cs (None) <br> 0.009 eV/atom (+0.009 eV/atom)",
          "Cs (None) <br> 0.001 eV/atom (+0.001 eV/atom)",
          "Cs (None) <br> 0.002 eV/atom (+0.002 eV/atom)",
          "Cs (None) <br> 0.001 eV/atom (+0.001 eV/atom)",
          "Cs (None) <br> 0.001 eV/atom (+0.001 eV/atom)",
          "Cs (None) <br> 0.011 eV/atom (+0.011 eV/atom)",
          "Cs (None) <br> 0.01 eV/atom (+0.01 eV/atom)",
          "CsBr (None) <br> -1.896 eV/atom (+0.034 eV/atom)",
          "Cs<sub>3</sub>Bi<sub>2</sub>Br<sub>9</sub> (None) <br> -1.318 eV/atom (+0.0 eV/atom)",
          "Cs<sub>3</sub>Bi<sub>2</sub>Br<sub>9</sub> (None) <br> -1.318 eV/atom (+0.0 eV/atom)"
         ],
         "line": {
          "color": "black",
          "width": 2
         },
         "marker": {
          "color": [
           0.079,
           0.001,
           0,
           0.095,
           0.185,
           0.18,
           0.171,
           0.037,
           0,
           0,
           0.001,
           0.009,
           0.001,
           0.002,
           0.001,
           0.001,
           0.011,
           0.01,
           0.034,
           0,
           0
          ],
          "colorbar": {
           "len": 0.75,
           "title": {
            "text": "Energy Above Hull<br>(eV/atom)"
           },
           "x": 0.05
          },
          "colorscale": [
           [
            0,
            "#fad393"
           ],
           [
            0.5,
            "#ff813d"
           ],
           [
            1,
            "#ff0000"
           ]
          ],
          "size": 5,
          "symbol": "diamond"
         },
         "mode": "markers",
         "name": "Above Hull",
         "showlegend": true,
         "type": "scatter3d",
         "visible": "legendonly",
         "x": [
          0.5,
          0.5,
          0.5,
          1,
          1,
          1,
          1,
          1,
          0,
          0,
          0,
          0,
          0,
          0,
          0,
          0,
          0,
          0,
          0.25,
          0.3928571428571429,
          0.3928571428571429
         ],
         "y": [
          0.8660254037844386,
          0.4330127018922193,
          0.4330127018922193,
          0,
          0,
          0,
          0,
          0,
          0,
          0,
          0,
          0,
          0,
          0,
          0,
          0,
          0,
          0,
          0.14433756729740643,
          0.30929478706587094,
          0.30929478706587094
         ],
         "z": [
          0,
          0.6123724356957945,
          0.6123724356957945,
          0,
          0,
          0,
          0,
          0,
          0,
          0,
          0,
          0,
          0,
          0,
          0,
          0,
          0,
          0,
          0.40824829046386296,
          0.5248906591678238,
          0.5248906591678238
         ]
        },
        {
         "hoverinfo": "text",
         "hoverlabel": {
          "font": {
           "size": 14
          }
         },
         "hovertext": [
          "CsSn<sub>2</sub>Br<sub>5</sub> (None) <br> -1.111 eV/atom",
          "Br (None) <br> 0.0 eV/atom",
          "CsBr (None) <br> -1.93 eV/atom",
          "CsSnBr<sub>3</sub> (None) <br> -1.299 eV/atom",
          "Bi (None) <br> 0.0 eV/atom",
          "Cs<sub>3</sub>Bi<sub>2</sub>Br<sub>9</sub> (None) <br> -1.318 eV/atom",
          "Cs<sub>1</sub><sub>2</sub>SnBi<sub>7</sub>Br<sub>3</sub><sub>6</sub> (None) <br> -1.319 eV/atom",
          "BiBr<sub>3</sub> (None) <br> -0.735 eV/atom",
          "Sn (None) <br> 0.0 eV/atom",
          "CsBr<sub>3</sub> (None) <br> -1.036 eV/atom",
          "Cs (None) <br> 0.0 eV/atom"
         ],
         "line": {
          "color": "black",
          "width": 2
         },
         "marker": {
          "color": [
           -1.111,
           0,
           -1.93,
           -1.299,
           0,
           -1.318,
           -1.319,
           -0.735,
           0,
           -1.036,
           0
          ],
          "colorscale": [
           [
            0,
            "#075400"
           ],
           [
            1,
            "#7ce371"
           ]
          ],
          "opacity": 0.9,
          "size": 8
         },
         "mode": "markers",
         "name": "Stable",
         "showlegend": true,
         "type": "scatter3d",
         "x": [
          0.5625,
          0.5,
          0.25,
          0.5,
          0.5,
          0.3928571428571429,
          0.4017857142857143,
          0.5,
          1,
          0.375,
          0
         ],
         "y": [
          0.18042195912175804,
          0.28867513459481287,
          0.14433756729740643,
          0.1732050807568877,
          0.8660254037844386,
          0.30929478706587094,
          0.29383004771257737,
          0.4330127018922193,
          0,
          0.21650635094610965,
          0
         ],
         "z": [
          0.5103103630798287,
          0.8164965809277259,
          0.40824829046386296,
          0.48989794855663554,
          0,
          0.5248906591678238,
          0.5248906591678238,
          0.6123724356957945,
          0,
          0.6123724356957945,
          0
         ]
        }
       ],
       "layout": {
        "autosize": true,
        "height": 700,
        "hovermode": "closest",
        "legend": {
         "orientation": "h",
         "traceorder": "reversed",
         "x": 0.5,
         "xanchor": "center",
         "y": 0,
         "yanchor": "top"
        },
        "margin": {
         "b": 10,
         "l": 0,
         "pad": 0,
         "r": 0,
         "t": 0
        },
        "paper_bgcolor": "rgba(0,0,0,0)",
        "plot_bgcolor": "rgba(0,0,0,0)",
        "scene": {
         "annotations": [
          {
           "align": "center",
           "font": {
            "color": "#000000",
            "size": 24
           },
           "opacity": 1,
           "showarrow": false,
           "text": "Br",
           "x": 0.5,
           "xanchor": "right",
           "xshift": -10,
           "y": 0.28867513459481287,
           "yanchor": "auto",
           "yshift": -10,
           "z": 0.8164965809277259
          },
          {
           "align": "center",
           "font": {
            "color": "#000000",
            "size": 24
           },
           "opacity": 1,
           "showarrow": false,
           "text": "Bi",
           "x": 0.5,
           "xanchor": "right",
           "xshift": -10,
           "y": 0.8660254037844386,
           "yanchor": "auto",
           "yshift": -10,
           "z": 0
          },
          {
           "align": "center",
           "font": {
            "color": "#000000",
            "size": 24
           },
           "opacity": 1,
           "showarrow": false,
           "text": "Sn",
           "x": 1,
           "xanchor": "right",
           "xshift": -10,
           "y": 0,
           "yanchor": "auto",
           "yshift": -10,
           "z": 0
          },
          {
           "align": "center",
           "font": {
            "color": "#000000",
            "size": 24
           },
           "opacity": 1,
           "showarrow": false,
           "text": "Cs",
           "x": 0,
           "xanchor": "right",
           "xshift": -10,
           "y": 0,
           "yanchor": "auto",
           "yshift": -10,
           "z": 0
          }
         ],
         "aspectratio": {
          "x": 1.4,
          "y": 1.4,
          "z": 1.4
         },
         "camera": {
          "center": {
           "x": 0,
           "y": -0.08,
           "z": 0
          },
          "projection": {
           "type": "orthographic"
          }
         },
         "xaxis": {
          "autorange": true,
          "showaxeslabels": false,
          "showgrid": false,
          "showline": false,
          "showspikes": false,
          "showticklabels": false,
          "ticks": "",
          "visible": false,
          "zeroline": false
         },
         "yaxis": {
          "autorange": true,
          "showaxeslabels": false,
          "showgrid": false,
          "showline": false,
          "showspikes": false,
          "showticklabels": false,
          "ticks": "",
          "visible": false,
          "zeroline": false
         },
         "zaxis": {
          "autorange": true,
          "showaxeslabels": false,
          "showgrid": false,
          "showline": false,
          "showspikes": false,
          "showticklabels": false,
          "ticks": "",
          "visible": false,
          "zeroline": false
         }
        },
        "showlegend": true,
        "template": {
         "data": {
          "bar": [
           {
            "error_x": {
             "color": "#2a3f5f"
            },
            "error_y": {
             "color": "#2a3f5f"
            },
            "marker": {
             "line": {
              "color": "#E5ECF6",
              "width": 0.5
             }
            },
            "type": "bar"
           }
          ],
          "barpolar": [
           {
            "marker": {
             "line": {
              "color": "#E5ECF6",
              "width": 0.5
             }
            },
            "type": "barpolar"
           }
          ],
          "carpet": [
           {
            "aaxis": {
             "endlinecolor": "#2a3f5f",
             "gridcolor": "white",
             "linecolor": "white",
             "minorgridcolor": "white",
             "startlinecolor": "#2a3f5f"
            },
            "baxis": {
             "endlinecolor": "#2a3f5f",
             "gridcolor": "white",
             "linecolor": "white",
             "minorgridcolor": "white",
             "startlinecolor": "#2a3f5f"
            },
            "type": "carpet"
           }
          ],
          "choropleth": [
           {
            "colorbar": {
             "outlinewidth": 0,
             "ticks": ""
            },
            "type": "choropleth"
           }
          ],
          "contour": [
           {
            "colorbar": {
             "outlinewidth": 0,
             "ticks": ""
            },
            "colorscale": [
             [
              0,
              "#0d0887"
             ],
             [
              0.1111111111111111,
              "#46039f"
             ],
             [
              0.2222222222222222,
              "#7201a8"
             ],
             [
              0.3333333333333333,
              "#9c179e"
             ],
             [
              0.4444444444444444,
              "#bd3786"
             ],
             [
              0.5555555555555556,
              "#d8576b"
             ],
             [
              0.6666666666666666,
              "#ed7953"
             ],
             [
              0.7777777777777778,
              "#fb9f3a"
             ],
             [
              0.8888888888888888,
              "#fdca26"
             ],
             [
              1,
              "#f0f921"
             ]
            ],
            "type": "contour"
           }
          ],
          "contourcarpet": [
           {
            "colorbar": {
             "outlinewidth": 0,
             "ticks": ""
            },
            "type": "contourcarpet"
           }
          ],
          "heatmap": [
           {
            "colorbar": {
             "outlinewidth": 0,
             "ticks": ""
            },
            "colorscale": [
             [
              0,
              "#0d0887"
             ],
             [
              0.1111111111111111,
              "#46039f"
             ],
             [
              0.2222222222222222,
              "#7201a8"
             ],
             [
              0.3333333333333333,
              "#9c179e"
             ],
             [
              0.4444444444444444,
              "#bd3786"
             ],
             [
              0.5555555555555556,
              "#d8576b"
             ],
             [
              0.6666666666666666,
              "#ed7953"
             ],
             [
              0.7777777777777778,
              "#fb9f3a"
             ],
             [
              0.8888888888888888,
              "#fdca26"
             ],
             [
              1,
              "#f0f921"
             ]
            ],
            "type": "heatmap"
           }
          ],
          "heatmapgl": [
           {
            "colorbar": {
             "outlinewidth": 0,
             "ticks": ""
            },
            "colorscale": [
             [
              0,
              "#0d0887"
             ],
             [
              0.1111111111111111,
              "#46039f"
             ],
             [
              0.2222222222222222,
              "#7201a8"
             ],
             [
              0.3333333333333333,
              "#9c179e"
             ],
             [
              0.4444444444444444,
              "#bd3786"
             ],
             [
              0.5555555555555556,
              "#d8576b"
             ],
             [
              0.6666666666666666,
              "#ed7953"
             ],
             [
              0.7777777777777778,
              "#fb9f3a"
             ],
             [
              0.8888888888888888,
              "#fdca26"
             ],
             [
              1,
              "#f0f921"
             ]
            ],
            "type": "heatmapgl"
           }
          ],
          "histogram": [
           {
            "marker": {
             "colorbar": {
              "outlinewidth": 0,
              "ticks": ""
             }
            },
            "type": "histogram"
           }
          ],
          "histogram2d": [
           {
            "colorbar": {
             "outlinewidth": 0,
             "ticks": ""
            },
            "colorscale": [
             [
              0,
              "#0d0887"
             ],
             [
              0.1111111111111111,
              "#46039f"
             ],
             [
              0.2222222222222222,
              "#7201a8"
             ],
             [
              0.3333333333333333,
              "#9c179e"
             ],
             [
              0.4444444444444444,
              "#bd3786"
             ],
             [
              0.5555555555555556,
              "#d8576b"
             ],
             [
              0.6666666666666666,
              "#ed7953"
             ],
             [
              0.7777777777777778,
              "#fb9f3a"
             ],
             [
              0.8888888888888888,
              "#fdca26"
             ],
             [
              1,
              "#f0f921"
             ]
            ],
            "type": "histogram2d"
           }
          ],
          "histogram2dcontour": [
           {
            "colorbar": {
             "outlinewidth": 0,
             "ticks": ""
            },
            "colorscale": [
             [
              0,
              "#0d0887"
             ],
             [
              0.1111111111111111,
              "#46039f"
             ],
             [
              0.2222222222222222,
              "#7201a8"
             ],
             [
              0.3333333333333333,
              "#9c179e"
             ],
             [
              0.4444444444444444,
              "#bd3786"
             ],
             [
              0.5555555555555556,
              "#d8576b"
             ],
             [
              0.6666666666666666,
              "#ed7953"
             ],
             [
              0.7777777777777778,
              "#fb9f3a"
             ],
             [
              0.8888888888888888,
              "#fdca26"
             ],
             [
              1,
              "#f0f921"
             ]
            ],
            "type": "histogram2dcontour"
           }
          ],
          "mesh3d": [
           {
            "colorbar": {
             "outlinewidth": 0,
             "ticks": ""
            },
            "type": "mesh3d"
           }
          ],
          "parcoords": [
           {
            "line": {
             "colorbar": {
              "outlinewidth": 0,
              "ticks": ""
             }
            },
            "type": "parcoords"
           }
          ],
          "pie": [
           {
            "automargin": true,
            "type": "pie"
           }
          ],
          "scatter": [
           {
            "marker": {
             "colorbar": {
              "outlinewidth": 0,
              "ticks": ""
             }
            },
            "type": "scatter"
           }
          ],
          "scatter3d": [
           {
            "line": {
             "colorbar": {
              "outlinewidth": 0,
              "ticks": ""
             }
            },
            "marker": {
             "colorbar": {
              "outlinewidth": 0,
              "ticks": ""
             }
            },
            "type": "scatter3d"
           }
          ],
          "scattercarpet": [
           {
            "marker": {
             "colorbar": {
              "outlinewidth": 0,
              "ticks": ""
             }
            },
            "type": "scattercarpet"
           }
          ],
          "scattergeo": [
           {
            "marker": {
             "colorbar": {
              "outlinewidth": 0,
              "ticks": ""
             }
            },
            "type": "scattergeo"
           }
          ],
          "scattergl": [
           {
            "marker": {
             "colorbar": {
              "outlinewidth": 0,
              "ticks": ""
             }
            },
            "type": "scattergl"
           }
          ],
          "scattermapbox": [
           {
            "marker": {
             "colorbar": {
              "outlinewidth": 0,
              "ticks": ""
             }
            },
            "type": "scattermapbox"
           }
          ],
          "scatterpolar": [
           {
            "marker": {
             "colorbar": {
              "outlinewidth": 0,
              "ticks": ""
             }
            },
            "type": "scatterpolar"
           }
          ],
          "scatterpolargl": [
           {
            "marker": {
             "colorbar": {
              "outlinewidth": 0,
              "ticks": ""
             }
            },
            "type": "scatterpolargl"
           }
          ],
          "scatterternary": [
           {
            "marker": {
             "colorbar": {
              "outlinewidth": 0,
              "ticks": ""
             }
            },
            "type": "scatterternary"
           }
          ],
          "surface": [
           {
            "colorbar": {
             "outlinewidth": 0,
             "ticks": ""
            },
            "colorscale": [
             [
              0,
              "#0d0887"
             ],
             [
              0.1111111111111111,
              "#46039f"
             ],
             [
              0.2222222222222222,
              "#7201a8"
             ],
             [
              0.3333333333333333,
              "#9c179e"
             ],
             [
              0.4444444444444444,
              "#bd3786"
             ],
             [
              0.5555555555555556,
              "#d8576b"
             ],
             [
              0.6666666666666666,
              "#ed7953"
             ],
             [
              0.7777777777777778,
              "#fb9f3a"
             ],
             [
              0.8888888888888888,
              "#fdca26"
             ],
             [
              1,
              "#f0f921"
             ]
            ],
            "type": "surface"
           }
          ],
          "table": [
           {
            "cells": {
             "fill": {
              "color": "#EBF0F8"
             },
             "line": {
              "color": "white"
             }
            },
            "header": {
             "fill": {
              "color": "#C8D4E3"
             },
             "line": {
              "color": "white"
             }
            },
            "type": "table"
           }
          ]
         },
         "layout": {
          "annotationdefaults": {
           "arrowcolor": "#2a3f5f",
           "arrowhead": 0,
           "arrowwidth": 1
          },
          "coloraxis": {
           "colorbar": {
            "outlinewidth": 0,
            "ticks": ""
           }
          },
          "colorscale": {
           "diverging": [
            [
             0,
             "#8e0152"
            ],
            [
             0.1,
             "#c51b7d"
            ],
            [
             0.2,
             "#de77ae"
            ],
            [
             0.3,
             "#f1b6da"
            ],
            [
             0.4,
             "#fde0ef"
            ],
            [
             0.5,
             "#f7f7f7"
            ],
            [
             0.6,
             "#e6f5d0"
            ],
            [
             0.7,
             "#b8e186"
            ],
            [
             0.8,
             "#7fbc41"
            ],
            [
             0.9,
             "#4d9221"
            ],
            [
             1,
             "#276419"
            ]
           ],
           "sequential": [
            [
             0,
             "#0d0887"
            ],
            [
             0.1111111111111111,
             "#46039f"
            ],
            [
             0.2222222222222222,
             "#7201a8"
            ],
            [
             0.3333333333333333,
             "#9c179e"
            ],
            [
             0.4444444444444444,
             "#bd3786"
            ],
            [
             0.5555555555555556,
             "#d8576b"
            ],
            [
             0.6666666666666666,
             "#ed7953"
            ],
            [
             0.7777777777777778,
             "#fb9f3a"
            ],
            [
             0.8888888888888888,
             "#fdca26"
            ],
            [
             1,
             "#f0f921"
            ]
           ],
           "sequentialminus": [
            [
             0,
             "#0d0887"
            ],
            [
             0.1111111111111111,
             "#46039f"
            ],
            [
             0.2222222222222222,
             "#7201a8"
            ],
            [
             0.3333333333333333,
             "#9c179e"
            ],
            [
             0.4444444444444444,
             "#bd3786"
            ],
            [
             0.5555555555555556,
             "#d8576b"
            ],
            [
             0.6666666666666666,
             "#ed7953"
            ],
            [
             0.7777777777777778,
             "#fb9f3a"
            ],
            [
             0.8888888888888888,
             "#fdca26"
            ],
            [
             1,
             "#f0f921"
            ]
           ]
          },
          "colorway": [
           "#636efa",
           "#EF553B",
           "#00cc96",
           "#ab63fa",
           "#FFA15A",
           "#19d3f3",
           "#FF6692",
           "#B6E880",
           "#FF97FF",
           "#FECB52"
          ],
          "font": {
           "color": "#2a3f5f"
          },
          "geo": {
           "bgcolor": "white",
           "lakecolor": "white",
           "landcolor": "#E5ECF6",
           "showlakes": true,
           "showland": true,
           "subunitcolor": "white"
          },
          "hoverlabel": {
           "align": "left"
          },
          "hovermode": "closest",
          "mapbox": {
           "style": "light"
          },
          "paper_bgcolor": "white",
          "plot_bgcolor": "#E5ECF6",
          "polar": {
           "angularaxis": {
            "gridcolor": "white",
            "linecolor": "white",
            "ticks": ""
           },
           "bgcolor": "#E5ECF6",
           "radialaxis": {
            "gridcolor": "white",
            "linecolor": "white",
            "ticks": ""
           }
          },
          "scene": {
           "xaxis": {
            "backgroundcolor": "#E5ECF6",
            "gridcolor": "white",
            "gridwidth": 2,
            "linecolor": "white",
            "showbackground": true,
            "ticks": "",
            "zerolinecolor": "white"
           },
           "yaxis": {
            "backgroundcolor": "#E5ECF6",
            "gridcolor": "white",
            "gridwidth": 2,
            "linecolor": "white",
            "showbackground": true,
            "ticks": "",
            "zerolinecolor": "white"
           },
           "zaxis": {
            "backgroundcolor": "#E5ECF6",
            "gridcolor": "white",
            "gridwidth": 2,
            "linecolor": "white",
            "showbackground": true,
            "ticks": "",
            "zerolinecolor": "white"
           }
          },
          "shapedefaults": {
           "line": {
            "color": "#2a3f5f"
           }
          },
          "ternary": {
           "aaxis": {
            "gridcolor": "white",
            "linecolor": "white",
            "ticks": ""
           },
           "baxis": {
            "gridcolor": "white",
            "linecolor": "white",
            "ticks": ""
           },
           "bgcolor": "#E5ECF6",
           "caxis": {
            "gridcolor": "white",
            "linecolor": "white",
            "ticks": ""
           }
          },
          "title": {
           "x": 0.05
          },
          "xaxis": {
           "automargin": true,
           "gridcolor": "white",
           "linecolor": "white",
           "ticks": "",
           "title": {
            "standoff": 15
           },
           "zerolinecolor": "white",
           "zerolinewidth": 2
          },
          "yaxis": {
           "automargin": true,
           "gridcolor": "white",
           "linecolor": "white",
           "ticks": "",
           "title": {
            "standoff": 15
           },
           "zerolinecolor": "white",
           "zerolinewidth": 2
          }
         }
        }
       }
      },
      "text/html": [
       "<div>                            <div id=\"8a60a553-c187-4f44-8ce1-220a0eea64c4\" class=\"plotly-graph-div\" style=\"height:700px; width:100%;\"></div>            <script type=\"text/javascript\">                require([\"plotly\"], function(Plotly) {                    window.PLOTLYENV=window.PLOTLYENV || {};                                    if (document.getElementById(\"8a60a553-c187-4f44-8ce1-220a0eea64c4\")) {                    Plotly.newPlot(                        \"8a60a553-c187-4f44-8ce1-220a0eea64c4\",                        [{\"hoverinfo\": \"none\", \"line\": {\"color\": \"rgba(0,0,0,1.0)\", \"width\": 7.0}, \"mode\": \"lines\", \"showlegend\": false, \"type\": \"scatter3d\", \"x\": [0.5625, 0.5, null, 0.25, 0.5, null, 0.5625, 0.5, null, 0.3928571428571429, 0.4017857142857143, null, 0.5, 0.5, null, 0.5, 1.0, null, 0.25, 0.4017857142857143, null, 0.375, 0.3928571428571429, null, 0.3928571428571429, 0.5, null, 0.25, 0.375, null, 0.5625, 1.0, null, 0.4017857142857143, 0.5, null, 0.5, 0.0, null, 0.25, 0.3928571428571429, null, 0.5, 0.4017857142857143, null, 0.5, 0.5625, null, 0.25, 0.0, null, 0.375, 0.4017857142857143, null, 0.5625, 0.3928571428571429, null, 1.0, 0.0, null, 0.5, 1.0, null, 0.5, 0.3928571428571429, null, 0.25, 1.0, null, 0.375, 0.5, null, 0.5, 0.5, null, 0.5, 0.3928571428571429, null, 0.5, 1.0, null, 0.375, 0.5, null, 0.5625, 0.4017857142857143, null, 0.3928571428571429, 0.5, null, 0.5, 0.5, null, 0.5, 0.4017857142857143, null, 0.25, 0.5, null, 0.5, 1.0, null, 0.5, 0.5625, null, 0.375, 0.5625, null], \"y\": [0.18042195912175804, 0.28867513459481287, null, 0.14433756729740643, 0.1732050807568877, null, 0.18042195912175804, 0.8660254037844386, null, 0.30929478706587094, 0.29383004771257737, null, 0.4330127018922193, 0.28867513459481287, null, 0.8660254037844386, 0.0, null, 0.14433756729740643, 0.29383004771257737, null, 0.21650635094610965, 0.30929478706587094, null, 0.30929478706587094, 0.8660254037844386, null, 0.14433756729740643, 0.21650635094610965, null, 0.18042195912175804, 0.0, null, 0.29383004771257737, 0.28867513459481287, null, 0.8660254037844386, 0.0, null, 0.14433756729740643, 0.30929478706587094, null, 0.1732050807568877, 0.29383004771257737, null, 0.4330127018922193, 0.18042195912175804, null, 0.14433756729740643, 0.0, null, 0.21650635094610965, 0.29383004771257737, null, 0.18042195912175804, 0.30929478706587094, null, 0.0, 0.0, null, 0.1732050807568877, 0.0, null, 0.4330127018922193, 0.30929478706587094, null, 0.14433756729740643, 0.0, null, 0.21650635094610965, 0.1732050807568877, null, 0.4330127018922193, 0.8660254037844386, null, 0.1732050807568877, 0.30929478706587094, null, 0.28867513459481287, 0.0, null, 0.21650635094610965, 0.28867513459481287, null, 0.18042195912175804, 0.29383004771257737, null, 0.30929478706587094, 0.28867513459481287, null, 0.1732050807568877, 0.8660254037844386, null, 0.4330127018922193, 0.29383004771257737, null, 0.14433756729740643, 0.8660254037844386, null, 0.4330127018922193, 0.0, null, 0.1732050807568877, 0.18042195912175804, null, 0.21650635094610965, 0.18042195912175804, null], \"z\": [0.5103103630798287, 0.8164965809277259, null, 0.40824829046386296, 0.48989794855663554, null, 0.5103103630798287, 0.0, null, 0.5248906591678238, 0.5248906591678238, null, 0.6123724356957945, 0.8164965809277259, null, 0.0, 0.0, null, 0.40824829046386296, 0.5248906591678238, null, 0.6123724356957945, 0.5248906591678238, null, 0.5248906591678238, 0.0, null, 0.40824829046386296, 0.6123724356957945, null, 0.5103103630798287, 0.0, null, 0.5248906591678238, 0.8164965809277259, null, 0.0, 0.0, null, 0.40824829046386296, 0.5248906591678238, null, 0.48989794855663554, 0.5248906591678238, null, 0.6123724356957945, 0.5103103630798287, null, 0.40824829046386296, 0.0, null, 0.6123724356957945, 0.5248906591678238, null, 0.5103103630798287, 0.5248906591678238, null, 0.0, 0.0, null, 0.48989794855663554, 0.0, null, 0.6123724356957945, 0.5248906591678238, null, 0.40824829046386296, 0.0, null, 0.6123724356957945, 0.48989794855663554, null, 0.6123724356957945, 0.0, null, 0.48989794855663554, 0.5248906591678238, null, 0.8164965809277259, 0.0, null, 0.6123724356957945, 0.8164965809277259, null, 0.5103103630798287, 0.5248906591678238, null, 0.5248906591678238, 0.8164965809277259, null, 0.48989794855663554, 0.0, null, 0.6123724356957945, 0.5248906591678238, null, 0.40824829046386296, 0.0, null, 0.6123724356957945, 0.0, null, 0.48989794855663554, 0.5103103630798287, null, 0.6123724356957945, 0.5103103630798287, null]}, {\"hoverinfo\": \"skip\", \"mode\": \"text\", \"name\": \"Labels (stable)\", \"opacity\": 1.0, \"showlegend\": true, \"text\": [\"CsSn<sub>2</sub>Br<sub>5</sub>\", \"CsBr\", \"CsSnBr<sub>3</sub>\", \"Cs<sub>3</sub>Bi<sub>2</sub>Br<sub>9</sub>\", \"Cs<sub>1</sub><sub>2</sub>SnBi<sub>7</sub>Br<sub>3</sub><sub>6</sub>\", \"BiBr<sub>3</sub>\", \"CsBr<sub>3</sub>\"], \"textposition\": [\"bottom right\", \"bottom right\", \"bottom right\", \"bottom right\", \"bottom right\", \"bottom right\", \"bottom right\"], \"type\": \"scatter3d\", \"visible\": \"legendonly\", \"x\": [0.5525, 0.24, 0.49, 0.3828571428571429, 0.3917857142857143, 0.49, 0.365], \"y\": [0.17042195912175803, 0.13433756729740642, 0.1632050807568877, 0.2992947870658709, 0.28383004771257736, 0.4230127018922193, 0.20650635094610964], \"z\": [0.5103103630798287, 0.40824829046386296, 0.48989794855663554, 0.5248906591678238, 0.5248906591678238, 0.6123724356957945, 0.6123724356957945]}, {\"hoverinfo\": \"text\", \"hoverlabel\": {\"font\": {\"size\": 14}}, \"hovertext\": [\"Bi (None) <br> 0.079 eV/atom (+0.079 eV/atom)\", \"BiBr<sub>3</sub> (None) <br> -0.734 eV/atom (+0.001 eV/atom)\", \"BiBr<sub>3</sub> (None) <br> -0.734 eV/atom (+0.0 eV/atom)\", \"Sn (None) <br> 0.095 eV/atom (+0.095 eV/atom)\", \"Sn (None) <br> 0.185 eV/atom (+0.185 eV/atom)\", \"Sn (None) <br> 0.18 eV/atom (+0.18 eV/atom)\", \"Sn (None) <br> 0.171 eV/atom (+0.171 eV/atom)\", \"Sn (None) <br> 0.037 eV/atom (+0.037 eV/atom)\", \"Cs (None) <br> 0.0 eV/atom (+0.0 eV/atom)\", \"Cs (None) <br> 0.0 eV/atom (+0.0 eV/atom)\", \"Cs (None) <br> 0.001 eV/atom (+0.001 eV/atom)\", \"Cs (None) <br> 0.009 eV/atom (+0.009 eV/atom)\", \"Cs (None) <br> 0.001 eV/atom (+0.001 eV/atom)\", \"Cs (None) <br> 0.002 eV/atom (+0.002 eV/atom)\", \"Cs (None) <br> 0.001 eV/atom (+0.001 eV/atom)\", \"Cs (None) <br> 0.001 eV/atom (+0.001 eV/atom)\", \"Cs (None) <br> 0.011 eV/atom (+0.011 eV/atom)\", \"Cs (None) <br> 0.01 eV/atom (+0.01 eV/atom)\", \"CsBr (None) <br> -1.896 eV/atom (+0.034 eV/atom)\", \"Cs<sub>3</sub>Bi<sub>2</sub>Br<sub>9</sub> (None) <br> -1.318 eV/atom (+0.0 eV/atom)\", \"Cs<sub>3</sub>Bi<sub>2</sub>Br<sub>9</sub> (None) <br> -1.318 eV/atom (+0.0 eV/atom)\"], \"line\": {\"color\": \"black\", \"width\": 2}, \"marker\": {\"color\": [0.079, 0.001, 0.0, 0.095, 0.185, 0.18, 0.171, 0.037, 0.0, 0.0, 0.001, 0.009, 0.001, 0.002, 0.001, 0.001, 0.011, 0.01, 0.034, 0.0, 0.0], \"colorbar\": {\"len\": 0.75, \"title\": {\"text\": \"Energy Above Hull<br>(eV/atom)\"}, \"x\": 0.05}, \"colorscale\": [[0.0, \"#fad393\"], [0.5, \"#ff813d\"], [1.0, \"#ff0000\"]], \"size\": 5, \"symbol\": \"diamond\"}, \"mode\": \"markers\", \"name\": \"Above Hull\", \"showlegend\": true, \"type\": \"scatter3d\", \"visible\": \"legendonly\", \"x\": [0.5, 0.5, 0.5, 1.0, 1.0, 1.0, 1.0, 1.0, 0.0, 0.0, 0.0, 0.0, 0.0, 0.0, 0.0, 0.0, 0.0, 0.0, 0.25, 0.3928571428571429, 0.3928571428571429], \"y\": [0.8660254037844386, 0.4330127018922193, 0.4330127018922193, 0.0, 0.0, 0.0, 0.0, 0.0, 0.0, 0.0, 0.0, 0.0, 0.0, 0.0, 0.0, 0.0, 0.0, 0.0, 0.14433756729740643, 0.30929478706587094, 0.30929478706587094], \"z\": [0.0, 0.6123724356957945, 0.6123724356957945, 0.0, 0.0, 0.0, 0.0, 0.0, 0.0, 0.0, 0.0, 0.0, 0.0, 0.0, 0.0, 0.0, 0.0, 0.0, 0.40824829046386296, 0.5248906591678238, 0.5248906591678238]}, {\"hoverinfo\": \"text\", \"hoverlabel\": {\"font\": {\"size\": 14}}, \"hovertext\": [\"CsSn<sub>2</sub>Br<sub>5</sub> (None) <br> -1.111 eV/atom\", \"Br (None) <br> 0.0 eV/atom\", \"CsBr (None) <br> -1.93 eV/atom\", \"CsSnBr<sub>3</sub> (None) <br> -1.299 eV/atom\", \"Bi (None) <br> 0.0 eV/atom\", \"Cs<sub>3</sub>Bi<sub>2</sub>Br<sub>9</sub> (None) <br> -1.318 eV/atom\", \"Cs<sub>1</sub><sub>2</sub>SnBi<sub>7</sub>Br<sub>3</sub><sub>6</sub> (None) <br> -1.319 eV/atom\", \"BiBr<sub>3</sub> (None) <br> -0.735 eV/atom\", \"Sn (None) <br> 0.0 eV/atom\", \"CsBr<sub>3</sub> (None) <br> -1.036 eV/atom\", \"Cs (None) <br> 0.0 eV/atom\"], \"line\": {\"color\": \"black\", \"width\": 2}, \"marker\": {\"color\": [-1.111, 0.0, -1.93, -1.299, 0.0, -1.318, -1.319, -0.735, 0.0, -1.036, 0.0], \"colorscale\": [[0.0, \"#075400\"], [1.0, \"#7ce371\"]], \"opacity\": 0.9, \"size\": 8}, \"mode\": \"markers\", \"name\": \"Stable\", \"showlegend\": true, \"type\": \"scatter3d\", \"x\": [0.5625, 0.5, 0.25, 0.5, 0.5, 0.3928571428571429, 0.4017857142857143, 0.5, 1.0, 0.375, 0.0], \"y\": [0.18042195912175804, 0.28867513459481287, 0.14433756729740643, 0.1732050807568877, 0.8660254037844386, 0.30929478706587094, 0.29383004771257737, 0.4330127018922193, 0.0, 0.21650635094610965, 0.0], \"z\": [0.5103103630798287, 0.8164965809277259, 0.40824829046386296, 0.48989794855663554, 0.0, 0.5248906591678238, 0.5248906591678238, 0.6123724356957945, 0.0, 0.6123724356957945, 0.0]}],                        {\"autosize\": true, \"height\": 700, \"hovermode\": \"closest\", \"legend\": {\"orientation\": \"h\", \"traceorder\": \"reversed\", \"x\": 0.5, \"xanchor\": \"center\", \"y\": 0.0, \"yanchor\": \"top\"}, \"margin\": {\"b\": 10, \"l\": 0, \"pad\": 0, \"r\": 0, \"t\": 0}, \"paper_bgcolor\": \"rgba(0,0,0,0)\", \"plot_bgcolor\": \"rgba(0,0,0,0)\", \"scene\": {\"annotations\": [{\"align\": \"center\", \"font\": {\"color\": \"#000000\", \"size\": 24.0}, \"opacity\": 1.0, \"showarrow\": false, \"text\": \"Br\", \"x\": 0.5, \"xanchor\": \"right\", \"xshift\": -10, \"y\": 0.28867513459481287, \"yanchor\": \"auto\", \"yshift\": -10, \"z\": 0.8164965809277259}, {\"align\": \"center\", \"font\": {\"color\": \"#000000\", \"size\": 24.0}, \"opacity\": 1.0, \"showarrow\": false, \"text\": \"Bi\", \"x\": 0.5, \"xanchor\": \"right\", \"xshift\": -10, \"y\": 0.8660254037844386, \"yanchor\": \"auto\", \"yshift\": -10, \"z\": 0.0}, {\"align\": \"center\", \"font\": {\"color\": \"#000000\", \"size\": 24.0}, \"opacity\": 1.0, \"showarrow\": false, \"text\": \"Sn\", \"x\": 1.0, \"xanchor\": \"right\", \"xshift\": -10, \"y\": 0.0, \"yanchor\": \"auto\", \"yshift\": -10, \"z\": 0.0}, {\"align\": \"center\", \"font\": {\"color\": \"#000000\", \"size\": 24.0}, \"opacity\": 1.0, \"showarrow\": false, \"text\": \"Cs\", \"x\": 0.0, \"xanchor\": \"right\", \"xshift\": -10, \"y\": 0.0, \"yanchor\": \"auto\", \"yshift\": -10, \"z\": 0.0}], \"aspectratio\": {\"x\": 1.4, \"y\": 1.4, \"z\": 1.4}, \"camera\": {\"center\": {\"x\": 0, \"y\": -0.08, \"z\": 0}, \"projection\": {\"type\": \"orthographic\"}}, \"xaxis\": {\"autorange\": true, \"showaxeslabels\": false, \"showgrid\": false, \"showline\": false, \"showspikes\": false, \"showticklabels\": false, \"ticks\": \"\", \"visible\": false, \"zeroline\": false}, \"yaxis\": {\"autorange\": true, \"showaxeslabels\": false, \"showgrid\": false, \"showline\": false, \"showspikes\": false, \"showticklabels\": false, \"ticks\": \"\", \"visible\": false, \"zeroline\": false}, \"zaxis\": {\"autorange\": true, \"showaxeslabels\": false, \"showgrid\": false, \"showline\": false, \"showspikes\": false, \"showticklabels\": false, \"ticks\": \"\", \"visible\": false, \"zeroline\": false}}, \"showlegend\": true, \"template\": {\"data\": {\"bar\": [{\"error_x\": {\"color\": \"#2a3f5f\"}, \"error_y\": {\"color\": \"#2a3f5f\"}, \"marker\": {\"line\": {\"color\": \"#E5ECF6\", \"width\": 0.5}}, \"type\": \"bar\"}], \"barpolar\": [{\"marker\": {\"line\": {\"color\": \"#E5ECF6\", \"width\": 0.5}}, \"type\": \"barpolar\"}], \"carpet\": [{\"aaxis\": {\"endlinecolor\": \"#2a3f5f\", \"gridcolor\": \"white\", \"linecolor\": \"white\", \"minorgridcolor\": \"white\", \"startlinecolor\": \"#2a3f5f\"}, \"baxis\": {\"endlinecolor\": \"#2a3f5f\", \"gridcolor\": \"white\", \"linecolor\": \"white\", \"minorgridcolor\": \"white\", \"startlinecolor\": \"#2a3f5f\"}, \"type\": \"carpet\"}], \"choropleth\": [{\"colorbar\": {\"outlinewidth\": 0, \"ticks\": \"\"}, \"type\": \"choropleth\"}], \"contour\": [{\"colorbar\": {\"outlinewidth\": 0, \"ticks\": \"\"}, \"colorscale\": [[0.0, \"#0d0887\"], [0.1111111111111111, \"#46039f\"], [0.2222222222222222, \"#7201a8\"], [0.3333333333333333, \"#9c179e\"], [0.4444444444444444, \"#bd3786\"], [0.5555555555555556, \"#d8576b\"], [0.6666666666666666, \"#ed7953\"], [0.7777777777777778, \"#fb9f3a\"], [0.8888888888888888, \"#fdca26\"], [1.0, \"#f0f921\"]], \"type\": \"contour\"}], \"contourcarpet\": [{\"colorbar\": {\"outlinewidth\": 0, \"ticks\": \"\"}, \"type\": \"contourcarpet\"}], \"heatmap\": [{\"colorbar\": {\"outlinewidth\": 0, \"ticks\": \"\"}, \"colorscale\": [[0.0, \"#0d0887\"], [0.1111111111111111, \"#46039f\"], [0.2222222222222222, \"#7201a8\"], [0.3333333333333333, \"#9c179e\"], [0.4444444444444444, \"#bd3786\"], [0.5555555555555556, \"#d8576b\"], [0.6666666666666666, \"#ed7953\"], [0.7777777777777778, \"#fb9f3a\"], [0.8888888888888888, \"#fdca26\"], [1.0, \"#f0f921\"]], \"type\": \"heatmap\"}], \"heatmapgl\": [{\"colorbar\": {\"outlinewidth\": 0, \"ticks\": \"\"}, \"colorscale\": [[0.0, \"#0d0887\"], [0.1111111111111111, \"#46039f\"], [0.2222222222222222, \"#7201a8\"], [0.3333333333333333, \"#9c179e\"], [0.4444444444444444, \"#bd3786\"], [0.5555555555555556, \"#d8576b\"], [0.6666666666666666, \"#ed7953\"], [0.7777777777777778, \"#fb9f3a\"], [0.8888888888888888, \"#fdca26\"], [1.0, \"#f0f921\"]], \"type\": \"heatmapgl\"}], \"histogram\": [{\"marker\": {\"colorbar\": {\"outlinewidth\": 0, \"ticks\": \"\"}}, \"type\": \"histogram\"}], \"histogram2d\": [{\"colorbar\": {\"outlinewidth\": 0, \"ticks\": \"\"}, \"colorscale\": [[0.0, \"#0d0887\"], [0.1111111111111111, \"#46039f\"], [0.2222222222222222, \"#7201a8\"], [0.3333333333333333, \"#9c179e\"], [0.4444444444444444, \"#bd3786\"], [0.5555555555555556, \"#d8576b\"], [0.6666666666666666, \"#ed7953\"], [0.7777777777777778, \"#fb9f3a\"], [0.8888888888888888, \"#fdca26\"], [1.0, \"#f0f921\"]], \"type\": \"histogram2d\"}], \"histogram2dcontour\": [{\"colorbar\": {\"outlinewidth\": 0, \"ticks\": \"\"}, \"colorscale\": [[0.0, \"#0d0887\"], [0.1111111111111111, \"#46039f\"], [0.2222222222222222, \"#7201a8\"], [0.3333333333333333, \"#9c179e\"], [0.4444444444444444, \"#bd3786\"], [0.5555555555555556, \"#d8576b\"], [0.6666666666666666, \"#ed7953\"], [0.7777777777777778, \"#fb9f3a\"], [0.8888888888888888, \"#fdca26\"], [1.0, \"#f0f921\"]], \"type\": \"histogram2dcontour\"}], \"mesh3d\": [{\"colorbar\": {\"outlinewidth\": 0, \"ticks\": \"\"}, \"type\": \"mesh3d\"}], \"parcoords\": [{\"line\": {\"colorbar\": {\"outlinewidth\": 0, \"ticks\": \"\"}}, \"type\": \"parcoords\"}], \"pie\": [{\"automargin\": true, \"type\": \"pie\"}], \"scatter\": [{\"marker\": {\"colorbar\": {\"outlinewidth\": 0, \"ticks\": \"\"}}, \"type\": \"scatter\"}], \"scatter3d\": [{\"line\": {\"colorbar\": {\"outlinewidth\": 0, \"ticks\": \"\"}}, \"marker\": {\"colorbar\": {\"outlinewidth\": 0, \"ticks\": \"\"}}, \"type\": \"scatter3d\"}], \"scattercarpet\": [{\"marker\": {\"colorbar\": {\"outlinewidth\": 0, \"ticks\": \"\"}}, \"type\": \"scattercarpet\"}], \"scattergeo\": [{\"marker\": {\"colorbar\": {\"outlinewidth\": 0, \"ticks\": \"\"}}, \"type\": \"scattergeo\"}], \"scattergl\": [{\"marker\": {\"colorbar\": {\"outlinewidth\": 0, \"ticks\": \"\"}}, \"type\": \"scattergl\"}], \"scattermapbox\": [{\"marker\": {\"colorbar\": {\"outlinewidth\": 0, \"ticks\": \"\"}}, \"type\": \"scattermapbox\"}], \"scatterpolar\": [{\"marker\": {\"colorbar\": {\"outlinewidth\": 0, \"ticks\": \"\"}}, \"type\": \"scatterpolar\"}], \"scatterpolargl\": [{\"marker\": {\"colorbar\": {\"outlinewidth\": 0, \"ticks\": \"\"}}, \"type\": \"scatterpolargl\"}], \"scatterternary\": [{\"marker\": {\"colorbar\": {\"outlinewidth\": 0, \"ticks\": \"\"}}, \"type\": \"scatterternary\"}], \"surface\": [{\"colorbar\": {\"outlinewidth\": 0, \"ticks\": \"\"}, \"colorscale\": [[0.0, \"#0d0887\"], [0.1111111111111111, \"#46039f\"], [0.2222222222222222, \"#7201a8\"], [0.3333333333333333, \"#9c179e\"], [0.4444444444444444, \"#bd3786\"], [0.5555555555555556, \"#d8576b\"], [0.6666666666666666, \"#ed7953\"], [0.7777777777777778, \"#fb9f3a\"], [0.8888888888888888, \"#fdca26\"], [1.0, \"#f0f921\"]], \"type\": \"surface\"}], \"table\": [{\"cells\": {\"fill\": {\"color\": \"#EBF0F8\"}, \"line\": {\"color\": \"white\"}}, \"header\": {\"fill\": {\"color\": \"#C8D4E3\"}, \"line\": {\"color\": \"white\"}}, \"type\": \"table\"}]}, \"layout\": {\"annotationdefaults\": {\"arrowcolor\": \"#2a3f5f\", \"arrowhead\": 0, \"arrowwidth\": 1}, \"coloraxis\": {\"colorbar\": {\"outlinewidth\": 0, \"ticks\": \"\"}}, \"colorscale\": {\"diverging\": [[0, \"#8e0152\"], [0.1, \"#c51b7d\"], [0.2, \"#de77ae\"], [0.3, \"#f1b6da\"], [0.4, \"#fde0ef\"], [0.5, \"#f7f7f7\"], [0.6, \"#e6f5d0\"], [0.7, \"#b8e186\"], [0.8, \"#7fbc41\"], [0.9, \"#4d9221\"], [1, \"#276419\"]], \"sequential\": [[0.0, \"#0d0887\"], [0.1111111111111111, \"#46039f\"], [0.2222222222222222, \"#7201a8\"], [0.3333333333333333, \"#9c179e\"], [0.4444444444444444, \"#bd3786\"], [0.5555555555555556, \"#d8576b\"], [0.6666666666666666, \"#ed7953\"], [0.7777777777777778, \"#fb9f3a\"], [0.8888888888888888, \"#fdca26\"], [1.0, \"#f0f921\"]], \"sequentialminus\": [[0.0, \"#0d0887\"], [0.1111111111111111, \"#46039f\"], [0.2222222222222222, \"#7201a8\"], [0.3333333333333333, \"#9c179e\"], [0.4444444444444444, \"#bd3786\"], [0.5555555555555556, \"#d8576b\"], [0.6666666666666666, \"#ed7953\"], [0.7777777777777778, \"#fb9f3a\"], [0.8888888888888888, \"#fdca26\"], [1.0, \"#f0f921\"]]}, \"colorway\": [\"#636efa\", \"#EF553B\", \"#00cc96\", \"#ab63fa\", \"#FFA15A\", \"#19d3f3\", \"#FF6692\", \"#B6E880\", \"#FF97FF\", \"#FECB52\"], \"font\": {\"color\": \"#2a3f5f\"}, \"geo\": {\"bgcolor\": \"white\", \"lakecolor\": \"white\", \"landcolor\": \"#E5ECF6\", \"showlakes\": true, \"showland\": true, \"subunitcolor\": \"white\"}, \"hoverlabel\": {\"align\": \"left\"}, \"hovermode\": \"closest\", \"mapbox\": {\"style\": \"light\"}, \"paper_bgcolor\": \"white\", \"plot_bgcolor\": \"#E5ECF6\", \"polar\": {\"angularaxis\": {\"gridcolor\": \"white\", \"linecolor\": \"white\", \"ticks\": \"\"}, \"bgcolor\": \"#E5ECF6\", \"radialaxis\": {\"gridcolor\": \"white\", \"linecolor\": \"white\", \"ticks\": \"\"}}, \"scene\": {\"xaxis\": {\"backgroundcolor\": \"#E5ECF6\", \"gridcolor\": \"white\", \"gridwidth\": 2, \"linecolor\": \"white\", \"showbackground\": true, \"ticks\": \"\", \"zerolinecolor\": \"white\"}, \"yaxis\": {\"backgroundcolor\": \"#E5ECF6\", \"gridcolor\": \"white\", \"gridwidth\": 2, \"linecolor\": \"white\", \"showbackground\": true, \"ticks\": \"\", \"zerolinecolor\": \"white\"}, \"zaxis\": {\"backgroundcolor\": \"#E5ECF6\", \"gridcolor\": \"white\", \"gridwidth\": 2, \"linecolor\": \"white\", \"showbackground\": true, \"ticks\": \"\", \"zerolinecolor\": \"white\"}}, \"shapedefaults\": {\"line\": {\"color\": \"#2a3f5f\"}}, \"ternary\": {\"aaxis\": {\"gridcolor\": \"white\", \"linecolor\": \"white\", \"ticks\": \"\"}, \"baxis\": {\"gridcolor\": \"white\", \"linecolor\": \"white\", \"ticks\": \"\"}, \"bgcolor\": \"#E5ECF6\", \"caxis\": {\"gridcolor\": \"white\", \"linecolor\": \"white\", \"ticks\": \"\"}}, \"title\": {\"x\": 0.05}, \"xaxis\": {\"automargin\": true, \"gridcolor\": \"white\", \"linecolor\": \"white\", \"ticks\": \"\", \"title\": {\"standoff\": 15}, \"zerolinecolor\": \"white\", \"zerolinewidth\": 2}, \"yaxis\": {\"automargin\": true, \"gridcolor\": \"white\", \"linecolor\": \"white\", \"ticks\": \"\", \"title\": {\"standoff\": 15}, \"zerolinecolor\": \"white\", \"zerolinewidth\": 2}}}},                        {\"responsive\": true}                    ).then(function(){\n",
       "                            \n",
       "var gd = document.getElementById('8a60a553-c187-4f44-8ce1-220a0eea64c4');\n",
       "var x = new MutationObserver(function (mutations, observer) {{\n",
       "        var display = window.getComputedStyle(gd).display;\n",
       "        if (!display || display === 'none') {{\n",
       "            console.log([gd, 'removed!']);\n",
       "            Plotly.purge(gd);\n",
       "            observer.disconnect();\n",
       "        }}\n",
       "}});\n",
       "\n",
       "// Listen for the removal of the full notebook cells\n",
       "var notebookContainer = gd.closest('#notebook-container');\n",
       "if (notebookContainer) {{\n",
       "    x.observe(notebookContainer, {childList: true});\n",
       "}}\n",
       "\n",
       "// Listen for the clearing of the current output cell\n",
       "var outputEl = gd.closest('.output');\n",
       "if (outputEl) {{\n",
       "    x.observe(outputEl, {childList: true});\n",
       "}}\n",
       "\n",
       "                        })                };                });            </script>        </div>"
      ]
     },
     "metadata": {},
     "output_type": "display_data"
    }
   ],
   "source": [
    "from pymatgen.analysis.phase_diagram import PDPlotter\n",
    "pd_plotter = PDPlotter(cs3bi2br9_pd)\n",
    "pd_plotter.show()"
   ]
  },
  {
   "cell_type": "markdown",
   "metadata": {},
   "source": [
    "Plot with `cplapy` for pretty stuff"
   ]
  },
  {
   "cell_type": "code",
   "execution_count": 22,
   "metadata": {},
   "outputs": [
    {
     "data": {
      "text/plain": [
       "{Element Br: None ComputedStructureEntry - Br4          (Br)\n",
       " Energy (Uncorrected)     = -9.2674   eV (-2.3169  eV/atom)\n",
       " Correction               = 0.0000    eV (0.0000   eV/atom)\n",
       " Energy (Final)           = -9.2674   eV (-2.3169  eV/atom)\n",
       " Energy Adjustments:\n",
       "   None\n",
       " Parameters:\n",
       "   run_type               = HSE06\n",
       "   is_hubbard             = False\n",
       "   potcar_spec            = [{'titel': 'PAW_PBE Br 06Sep2000', 'hash': None}]\n",
       "   potcar_symbols         = ['PAW_PBE Br 06Sep2000']\n",
       "   hubbards               = {}\n",
       " Data:\n",
       "   Orig_Folder_Name       = Br_EaH=0,\n",
       " Element Bi: None ComputedStructureEntry - Bi2          (Bi)\n",
       " Energy (Uncorrected)     = -10.2472  eV (-5.1236  eV/atom)\n",
       " Correction               = 0.0000    eV (0.0000   eV/atom)\n",
       " Energy (Final)           = -10.2472  eV (-5.1236  eV/atom)\n",
       " Energy Adjustments:\n",
       "   None\n",
       " Parameters:\n",
       "   run_type               = HSE06\n",
       "   is_hubbard             = False\n",
       "   potcar_spec            = [{'titel': 'PAW_PBE Bi 08Apr2002', 'hash': None}]\n",
       "   potcar_symbols         = ['PAW_PBE Bi 08Apr2002']\n",
       "   hubbards               = {}\n",
       " Data:\n",
       "   Orig_Folder_Name       = Bi_EaH=0,\n",
       " Element Sn: None ComputedStructureEntry - Sn2          (Sn)\n",
       " Energy (Uncorrected)     = -9.1867   eV (-4.5934  eV/atom)\n",
       " Correction               = 0.0000    eV (0.0000   eV/atom)\n",
       " Energy (Final)           = -9.1867   eV (-4.5934  eV/atom)\n",
       " Energy Adjustments:\n",
       "   None\n",
       " Parameters:\n",
       "   run_type               = HSE06\n",
       "   is_hubbard             = False\n",
       "   potcar_spec            = [{'titel': 'PAW_PBE Sn_d 06Sep2000', 'hash': None}]\n",
       "   potcar_symbols         = ['PAW_PBE Sn_d 06Sep2000']\n",
       "   hubbards               = {}\n",
       " Data:\n",
       "   Orig_Folder_Name       = Sn_EaH=0,\n",
       " Element Cs: None ComputedStructureEntry - Cs8          (Cs)\n",
       " Energy (Uncorrected)     = -8.7126   eV (-1.0891  eV/atom)\n",
       " Correction               = 0.0000    eV (0.0000   eV/atom)\n",
       " Energy (Final)           = -8.7126   eV (-1.0891  eV/atom)\n",
       " Energy Adjustments:\n",
       "   None\n",
       " Parameters:\n",
       "   run_type               = HSE06\n",
       "   is_hubbard             = False\n",
       "   potcar_spec            = [{'titel': 'PAW_PBE Cs_sv 08Apr2002', 'hash': None}]\n",
       "   potcar_symbols         = ['PAW_PBE Cs_sv 08Apr2002']\n",
       "   hubbards               = {}\n",
       " Data:\n",
       "   Orig_Folder_Name       = Cs_EaH=0.052}"
      ]
     },
     "execution_count": 22,
     "metadata": {},
     "output_type": "execute_result"
    }
   ],
   "source": [
    "cs3bi2br9_pd.el_refs"
   ]
  },
  {
   "cell_type": "markdown",
   "metadata": {},
   "source": [
    "## Prepare `cplap` input:"
   ]
  },
  {
   "cell_type": "code",
   "execution_count": 24,
   "metadata": {},
   "outputs": [
    {
     "name": "stdout",
     "output_type": "stream",
     "text": [
      "3\n",
      "1 Cs 1 Sn 3 Br -6.49375438625\n",
      "3\n",
      "1 Cs 2 Sn 5 Br -8.88715568625\n",
      "2\n",
      "1 Bi 3 Br -2.9382230499999995\n",
      "2\n",
      "1 Cs 1 Br -3.8595792512500005\n",
      "1\n",
      "1 Sn 0.0\n",
      "1\n",
      "1 Br 0.0\n",
      "1\n",
      "1 Cs 0.0\n",
      "1\n",
      "1 Bi 0.0\n",
      "4\n",
      "12 Cs 1 Sn 7 Bi 36 Br -73.85565718000004\n",
      "3\n",
      "3 Cs 2 Bi 9 Br -18.448746228750004\n",
      "2\n",
      "1 Cs 3 Br -4.143642713750001\n"
     ]
    }
   ],
   "source": [
    "for stable_entry in cs3bi2br9_pd.stable_entries:  # CPLAP format\n",
    "    print(len(stable_entry.composition.reduced_composition.as_dict()))\n",
    "    for el_symbol, el_num in stable_entry.composition.reduced_composition.as_dict().items():\n",
    "        print(int(el_num), el_symbol, end=\" \")\n",
    "    reduction_factor = el_num/stable_entry.composition.as_dict()[el_symbol]\n",
    "    #print(stable_ent.energy*reduction_factor)\n",
    "    print(cs3bi2br9_pd.get_form_energy(stable_entry)*reduction_factor)"
   ]
  }
 ],
 "metadata": {
  "kernelspec": {
   "display_name": "Python 3",
   "language": "python",
   "name": "python3"
  },
  "language_info": {
   "codemirror_mode": {
    "name": "ipython",
    "version": 3
   },
   "file_extension": ".py",
   "mimetype": "text/x-python",
   "name": "python",
   "nbconvert_exporter": "python",
   "pygments_lexer": "ipython3",
   "version": "3.7.7"
  }
 },
 "nbformat": 4,
 "nbformat_minor": 4
}
