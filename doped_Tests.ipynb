{
 "cells": [
  {
   "cell_type": "markdown",
   "metadata": {},
   "source": [
    "# Doped Tests"
   ]
  },
  {
   "cell_type": "code",
   "execution_count": 1,
   "metadata": {},
   "outputs": [],
   "source": [
    "from doped.vasp_input import prepare_vasp_defect_inputs, vasp_gam_files, vasp_std_files, vasp_ncl_files\n",
    "from doped.pycdt.core.defectsmaker import ChargedDefectsStructures\n",
    "from pymatgen.core.structure import Structure"
   ]
  },
  {
   "cell_type": "code",
   "execution_count": 2,
   "metadata": {},
   "outputs": [],
   "source": [
    "cmc2_1 = Structure.from_file(\"Sn2SbS2I3/Structures/Cmc2_1_optB86b-vdw_relaxed_POSCAR\")"
   ]
  },
  {
   "cell_type": "code",
   "execution_count": 3,
   "metadata": {},
   "outputs": [
    {
     "name": "stdout",
     "output_type": "stream",
     "text": [
      "Setting up defects...\n",
      "\n",
      "Number of jobs created:\n",
      "    bulk = 1\n",
      "    vacancies:\n",
      "        vac_1_Sn = 5 with site multiplicity 2\n",
      "        vac_2_Sn = 5 with site multiplicity 2\n",
      "        vac_3_Sb = 7 with site multiplicity 2\n",
      "        vac_4_S = 5 with site multiplicity 2\n",
      "        vac_5_S = 5 with site multiplicity 2\n",
      "        vac_6_I = 3 with site multiplicity 2\n",
      "        vac_7_I = 3 with site multiplicity 2\n",
      "        vac_8_I = 3 with site multiplicity 2\n",
      "    substitutions:\n",
      "Total (non dielectric) jobs created = 37\n",
      "\n"
     ]
    }
   ],
   "source": [
    "defs = ChargedDefectsStructures(cmc2_1, antisites_flag=False)"
   ]
  },
  {
   "cell_type": "code",
   "execution_count": 4,
   "metadata": {},
   "outputs": [
    {
     "name": "stdout",
     "output_type": "stream",
     "text": [
      "vac_1_Sn_-2\n",
      "vac_1_Sn_-1\n",
      "vac_1_Sn_0\n",
      "vac_1_Sn_1\n",
      "vac_1_Sn_2\n",
      "vac_2_Sn_-2\n",
      "vac_2_Sn_-1\n",
      "vac_2_Sn_0\n",
      "vac_2_Sn_1\n",
      "vac_2_Sn_2\n",
      "vac_3_Sb_-3\n",
      "vac_3_Sb_-2\n",
      "vac_3_Sb_-1\n",
      "vac_3_Sb_0\n",
      "vac_3_Sb_1\n",
      "vac_3_Sb_2\n",
      "vac_3_Sb_3\n",
      "vac_4_S_-2\n",
      "vac_4_S_-1\n",
      "vac_4_S_0\n",
      "vac_4_S_1\n",
      "vac_4_S_2\n",
      "vac_5_S_-2\n",
      "vac_5_S_-1\n",
      "vac_5_S_0\n",
      "vac_5_S_1\n",
      "vac_5_S_2\n",
      "vac_6_I_-1\n",
      "vac_6_I_0\n",
      "vac_6_I_1\n",
      "vac_7_I_-1\n",
      "vac_7_I_0\n",
      "vac_7_I_1\n",
      "vac_8_I_-1\n",
      "vac_8_I_0\n",
      "vac_8_I_1\n"
     ]
    }
   ],
   "source": [
    "#defs.defects['vacancies'][0]\n",
    "def_dicts = prepare_vasp_defect_inputs(defs.defects)\n",
    "#def_dicts[\"vac_8_I_1\"]"
   ]
  },
  {
   "cell_type": "code",
   "execution_count": 17,
   "metadata": {},
   "outputs": [
    {
     "name": "stderr",
     "output_type": "stream",
     "text": [
      "/Users/kavanase/OneDrive - Imperial College London/Bread/Projects/Packages/doped/doped/vasp_input.py:345: BadIncarWarning: Cannot find Whoops from your incar_settings in the list of INCAR flags\n",
      "  BadIncarWarning,\n"
     ]
    }
   ],
   "source": [
    "vasp_gam_files(def_dicts[\"vac_8_I_0\"], incar_settings={\"Whoops\": \"lol\"}) # doped should warn me if I put in a whack INCAR tag (or misspell)"
   ]
  },
  {
   "cell_type": "code",
   "execution_count": 18,
   "metadata": {},
   "outputs": [
    {
     "name": "stdout",
     "output_type": "stream",
     "text": [
      "  PAW_PBE Sn_d 06Sep2000                 \n",
      "   TITEL  = PAW_PBE Sn_d 06Sep2000\n",
      "  PAW_PBE Sb 06Sep2000                   \n",
      "   TITEL  = PAW_PBE Sb 06Sep2000\n",
      "  PAW_PBE S 06Sep2000                    \n",
      "   TITEL  = PAW_PBE S 06Sep2000\n",
      "  PAW_PBE I 08Apr2002                    \n",
      "   TITEL  = PAW_PBE I 08Apr2002\n",
      "   POMASS =  118.710; ZVAL   =   14.000    mass and valenz\n",
      "   POMASS =  121.750; ZVAL   =    5.000    mass and valenz\n",
      "   POMASS =   32.066; ZVAL   =    6.000    mass and valenz\n",
      "   POMASS =  126.904; ZVAL   =    7.000    mass and valenz\n",
      "NELECT should be: 1049\n",
      "# May need to change NELECT, IBRION, NCORE, KPAR, AEXX, ENCUT, NUPDOWN, ISPIN, POTIM = variable parameters\n",
      "NELECT = 1049.0\n",
      "# May need to change NELECT, IBRION, NCORE, KPAR, AEXX, ENCUT, NUPDOWN, ISPIN, POTIM = variable parameters\n",
      "NUPDOWN = 1 # But could be 3 if ya think we got a bit of crazy ferromagnetic shit going down\n",
      "EDIFF = 3e-05 # May need to reduce for tricky relaxations\n",
      "EDIFFG = -0.01\n",
      "127\n"
     ]
    }
   ],
   "source": [
    "!grep PAW_PBE VASP_Files/vasp_gam/POTCAR  # Uses the VASP recommended Sn_d POTCAR by default\n",
    "!grep ZVAL VASP_Files/vasp_gam/POTCAR\n",
    "print(f\"NELECT should be: {32*14 + 16*5 + 32*6 + 47*7}\")\n",
    "!grep NELECT VASP_Files/vasp_gam/INCAR\n",
    "!grep NUP VASP_Files/vasp_gam/INCAR\n",
    "!grep EDIFF VASP_Files/vasp_gam/INCAR\n",
    "print(def_dicts[\"vac_1_Sn_-1\"][\"Defect Structure\"].num_sites)"
   ]
  },
  {
   "cell_type": "code",
   "execution_count": 19,
   "metadata": {},
   "outputs": [],
   "source": [
    "vasp_gam_files(def_dicts[\"vac_8_I_1\"], potcar_settings={\"POTCAR\": {\"Sn\": \"Sn\"}}) # Use our custom POTCAR settings (Sn rather than Sn_d POTCAR)"
   ]
  },
  {
   "cell_type": "code",
   "execution_count": 20,
   "metadata": {},
   "outputs": [
    {
     "name": "stdout",
     "output_type": "stream",
     "text": [
      "  PAW_PBE Sn 08Apr2002                   \n",
      "   TITEL  = PAW_PBE Sn 08Apr2002\n",
      "  PAW_PBE Sb 06Sep2000                   \n",
      "   TITEL  = PAW_PBE Sb 06Sep2000\n",
      "  PAW_PBE S 06Sep2000                    \n",
      "   TITEL  = PAW_PBE S 06Sep2000\n",
      "  PAW_PBE I 08Apr2002                    \n",
      "   TITEL  = PAW_PBE I 08Apr2002\n",
      "   POMASS =  118.710; ZVAL   =    4.000    mass and valenz\n",
      "   POMASS =  121.750; ZVAL   =    5.000    mass and valenz\n",
      "   POMASS =   32.066; ZVAL   =    6.000    mass and valenz\n",
      "   POMASS =  126.904; ZVAL   =    7.000    mass and valenz\n",
      "# May need to change NELECT, IBRION, NCORE, KPAR, AEXX, ENCUT, NUPDOWN, ISPIN, POTIM = variable parameters\n",
      "NELECT = 728.0\n",
      "# May need to change NELECT, IBRION, NCORE, KPAR, AEXX, ENCUT, NUPDOWN, ISPIN, POTIM = variable parameters\n",
      "NUPDOWN = 0 # But could be 2 if ya think we got a bit of crazy ferromagnetic shit going down\n"
     ]
    }
   ],
   "source": [
    "!grep PAW_PBE VASP_Files/vasp_gam/POTCAR\n",
    "!grep ZVAL VASP_Files/vasp_gam/POTCAR\n",
    "!grep NELECT VASP_Files/vasp_gam/INCAR\n",
    "!grep NUP VASP_Files/vasp_gam/INCAR"
   ]
  },
  {
   "cell_type": "code",
   "execution_count": 21,
   "metadata": {},
   "outputs": [],
   "source": [
    "vasp_std_files(def_dicts[\"vac_8_I_1\"], potcar_settings={\"POTCAR\": {\"Sn\": \"Sn\"}})"
   ]
  },
  {
   "cell_type": "code",
   "execution_count": 22,
   "metadata": {},
   "outputs": [
    {
     "name": "stdout",
     "output_type": "stream",
     "text": [
      "  PAW_PBE Sn 08Apr2002                   \n",
      "   TITEL  = PAW_PBE Sn 08Apr2002\n",
      "  PAW_PBE Sb 06Sep2000                   \n",
      "   TITEL  = PAW_PBE Sb 06Sep2000\n",
      "  PAW_PBE S 06Sep2000                    \n",
      "   TITEL  = PAW_PBE S 06Sep2000\n",
      "  PAW_PBE I 08Apr2002                    \n",
      "   TITEL  = PAW_PBE I 08Apr2002\n",
      "# May need to change NELECT, NCORE, KPAR, AEXX, ENCUT, NUPDOWN, ISPIN, POTIM = variable parameters\n",
      "NELECT = 728.0\n",
      "# May need to change NELECT, NCORE, KPAR, AEXX, ENCUT, NUPDOWN, ISPIN, POTIM = variable parameters\n",
      "NUPDOWN = 0 # But could be 2 if ya think we got a bit of crazy ferromagnetic shit going down\n"
     ]
    }
   ],
   "source": [
    "!grep PAW_PBE VASP_Files/vasp_std/POTCAR\n",
    "!grep NELECT VASP_Files/vasp_std/INCAR\n",
    "!grep NUP VASP_Files/vasp_std/INCAR"
   ]
  },
  {
   "cell_type": "code",
   "execution_count": 23,
   "metadata": {},
   "outputs": [],
   "source": [
    "vasp_ncl_files(def_dicts[\"vac_8_I_1\"], potcar_settings={\"POTCAR\": {\"Sn\": \"Sn\"}}, kpoints_settings={\"kpoints\": [[3,2,1]]})"
   ]
  },
  {
   "cell_type": "code",
   "execution_count": 24,
   "metadata": {},
   "outputs": [
    {
     "name": "stdout",
     "output_type": "stream",
     "text": [
      "  PAW_PBE Sn 08Apr2002                   \n",
      "   TITEL  = PAW_PBE Sn 08Apr2002\n",
      "  PAW_PBE Sb 06Sep2000                   \n",
      "   TITEL  = PAW_PBE Sb 06Sep2000\n",
      "  PAW_PBE S 06Sep2000                    \n",
      "   TITEL  = PAW_PBE S 06Sep2000\n",
      "  PAW_PBE I 08Apr2002                    \n",
      "   TITEL  = PAW_PBE I 08Apr2002\n",
      "# May need to change NELECT, NCORE, KPAR, AEXX, ENCUT, NUPDOWN = variable parameters\n",
      "NELECT = 728.0\n",
      "# May need to change NELECT, NCORE, KPAR, AEXX, ENCUT, NUPDOWN = variable parameters\n",
      "NUPDOWN = 0 # But could be 2 if ya think we got a bit of crazy ferromagnetic shit going down\n"
     ]
    }
   ],
   "source": [
    "!grep PAW_PBE VASP_Files/vasp_ncl/POTCAR\n",
    "!grep NELECT VASP_Files/vasp_ncl/INCAR\n",
    "!grep NUP VASP_Files/vasp_ncl/INCAR"
   ]
  },
  {
   "cell_type": "code",
   "execution_count": 25,
   "metadata": {},
   "outputs": [
    {
     "name": "stdout",
     "output_type": "stream",
     "text": [
      "Non-symmetrised KPOINTS for vasp_ncl, from doped\n",
      "6\n",
      "Reciprocal\n",
      "0.0 0.0 0.0 1\n",
      "0.0 0.5 0.0 1\n",
      "0.33333333333333337 0.0 0.0 1\n",
      "0.33333333333333337 0.5 0.0 1\n",
      "0.6666666666666667 0.0 0.0 1\n",
      "0.6666666666666667 0.5 0.0 1\n"
     ]
    }
   ],
   "source": [
    "!cat VASP_Files/vasp_ncl/KPOINTS"
   ]
  },
  {
   "cell_type": "code",
   "execution_count": 26,
   "metadata": {},
   "outputs": [],
   "source": [
    "vasp_ncl_files(def_dicts[\"vac_8_I_1\"], potcar_settings={\"POTCAR\": {\"Sn\": \"Sn_d\"}}, kpoints_settings={\"kpoints\": [[3,2,1]],\n",
    "                                                                                    \"usershift\": [0.2, 0.9, 0]})"
   ]
  },
  {
   "cell_type": "code",
   "execution_count": 27,
   "metadata": {},
   "outputs": [
    {
     "name": "stdout",
     "output_type": "stream",
     "text": [
      "Non-symmetrised KPOINTS for vasp_ncl, from doped\n",
      "6\n",
      "Reciprocal\n",
      "0.20000000000000007 0.8999999999999999 0.0 1\n",
      "0.20000000000000007 1.4 0.0 1\n",
      "0.5333333333333334 0.8999999999999999 0.0 1\n",
      "0.5333333333333334 1.4 0.0 1\n",
      "0.8666666666666668 0.8999999999999999 0.0 1\n",
      "0.8666666666666668 1.4 0.0 1\n"
     ]
    }
   ],
   "source": [
    "!cat VASP_Files/vasp_ncl/KPOINTS"
   ]
  },
  {
   "cell_type": "code",
   "execution_count": 28,
   "metadata": {},
   "outputs": [
    {
     "name": "stdout",
     "output_type": "stream",
     "text": [
      "  PAW_PBE Sn_d 06Sep2000                 \n",
      "   TITEL  = PAW_PBE Sn_d 06Sep2000\n",
      "  PAW_PBE Sb 06Sep2000                   \n",
      "   TITEL  = PAW_PBE Sb 06Sep2000\n",
      "  PAW_PBE S 06Sep2000                    \n",
      "   TITEL  = PAW_PBE S 06Sep2000\n",
      "  PAW_PBE I 08Apr2002                    \n",
      "   TITEL  = PAW_PBE I 08Apr2002\n",
      "# May need to change NELECT, NCORE, KPAR, AEXX, ENCUT, NUPDOWN = variable parameters\n",
      "NELECT = 1048.0\n",
      "# May need to change NELECT, NCORE, KPAR, AEXX, ENCUT, NUPDOWN = variable parameters\n",
      "NUPDOWN = 0 # But could be 2 if ya think we got a bit of crazy ferromagnetic shit going down\n"
     ]
    }
   ],
   "source": [
    "!grep PAW_PBE VASP_Files/vasp_ncl/POTCAR\n",
    "!grep NELECT VASP_Files/vasp_ncl/INCAR\n",
    "!grep NUP VASP_Files/vasp_ncl/INCAR"
   ]
  },
  {
   "cell_type": "code",
   "execution_count": null,
   "metadata": {},
   "outputs": [],
   "source": []
  },
  {
   "cell_type": "code",
   "execution_count": null,
   "metadata": {},
   "outputs": [],
   "source": []
  },
  {
   "cell_type": "markdown",
   "metadata": {},
   "source": [
    "## Why we need `deepcopy` in `doped`:"
   ]
  },
  {
   "cell_type": "code",
   "execution_count": 58,
   "metadata": {},
   "outputs": [
    {
     "name": "stdout",
     "output_type": "stream",
     "text": [
      "{'a': 1, 'b': {'m': 40, 'n': 5, 'o': 6}, 'c': 3}\n",
      "{'a': 1, 'b': {'m': 40, 'n': 5, 'o': 6}, 'c': 3} {'a': 1, 'b': {'m': 40, 'n': 5, 'o': 6}, 'c': 3} {'a': 1, 'b': {'m': 4, 'n': 5, 'o': 6}, 'c': 3}\n"
     ]
    }
   ],
   "source": [
    "x = {'a': 1, 'b': {'m': 4, 'n': 5, 'o': 6}, 'c': 3}\n",
    "copy1 = x.copy()\n",
    "copy2 = dict(x)\n",
    "import copy\n",
    "copy3 = copy.deepcopy(x)\n",
    "\n",
    "copy1['b']['m'] = 40  # a change to deep properties WILL affect shallow copies 'b.m' property\n",
    "print(x)\n",
    "print(copy1, copy2, copy3)"
   ]
  },
  {
   "cell_type": "markdown",
   "metadata": {},
   "source": [
    "So when we do this:\n",
    "```python\n",
    "potcar_dict = default_potcar_dict.copy()\n",
    "    if potcar_settings:\n",
    "        potcar_dict[\"POTCAR\"].update(potcar_settings.pop(\"POTCAR\"))\n",
    "        potcar_dict.update(potcar_settings)\n",
    "```\n",
    "The `default_potcar_dict[\"POTCAR\"]` subdict gets overwritten, so instead we use:\n",
    "```python\n",
    "potcar_dict = deepcopy(default_potcar_dict)\n",
    "```"
   ]
  },
  {
   "cell_type": "code",
   "execution_count": null,
   "metadata": {},
   "outputs": [],
   "source": []
  }
 ],
 "metadata": {
  "kernelspec": {
   "display_name": "Python 3",
   "language": "python",
   "name": "python3"
  },
  "language_info": {
   "codemirror_mode": {
    "name": "ipython",
    "version": 3
   },
   "file_extension": ".py",
   "mimetype": "text/x-python",
   "name": "python",
   "nbconvert_exporter": "python",
   "pygments_lexer": "ipython3",
   "version": "3.7.7"
  }
 },
 "nbformat": 4,
 "nbformat_minor": 4
}
