{
 "cells": [
  {
   "cell_type": "markdown",
   "source": [
    "# Advanced Defect Analysis"
   ],
   "metadata": {
    "collapsed": false
   },
   "id": "14434efd64fd1743"
  },
  {
   "cell_type": "markdown",
   "source": [
    "Here we describe some more targeted analysis you can do for your defect calculations parsed with `doped` (including comparing the relaxed configurations for different initial interstitial positions, structure & bond length analysis of defects, and plotting/analysis of the defect charge corrections), which may be useful for in certain cases."
   ],
   "metadata": {
    "collapsed": false
   },
   "id": "51515efe3ecb8bb8"
  },
  {
   "cell_type": "markdown",
   "source": [
    "## Processing Cdᵢ `vasp_gam` calculations to see which site is favoured"
   ],
   "metadata": {
    "collapsed": false
   },
   "id": "c33778f837246946"
  },
  {
   "cell_type": "code",
   "outputs": [
    {
     "name": "stdout",
     "output_type": "stream",
     "text": [
      "Name: Cd_i_Td_Cd2.83_0; Raw Supercell Energy: 0.592 eV\n",
      "Name: Cd_i_C3v_0; Raw Supercell Energy: 0.728 eV\n",
      "Name: Cd_i_Td_Te2.83_0; Raw Supercell Energy: 0.728 eV\n"
     ]
    }
   ],
   "source": [
    "import os\n",
    "\n",
    "bulk_path = \"CdTe/CdTe_bulk/vasp_gam/\"  # path to bulk (defect-free) supercell calculation\n",
    "dielectric = 9.13  # calculated dielectric constant, required for computing defect charge corrections\n",
    "Cd_i_dict = {}  # Keep dictionary of parsed defect entries\n",
    "\n",
    "for i in os.listdir(\"CdTe\"):\n",
    "    if 'Cd_i' in i:\n",
    "        Cd_i_dict[i] = DefectParser.from_paths(\n",
    "            defect_path=f\"CdTe/{i}/vasp_gam/\", bulk_path=bulk_path, dielectric=dielectric).defect_entry\n",
    "\n",
    "for defect_name, defect_entry in Cd_i_dict.items():\n",
    "    print(f\"Name: {defect_name}; Raw Supercell Energy: {defect_entry.get_ediff():.3f} eV\")\n",
    "    # note this energy is just the energy difference of the bulk and defect supercells (including \n",
    "    # finite-size charge corrections if any – none here as they're neutral defects), without Fermi\n",
    "    # level or chemical potential terms (though these are constant for the same defect & charge)"
   ],
   "metadata": {
    "collapsed": false
   },
   "id": "8588f32dc096d1a4",
   "execution_count": 14
  },
  {
   "cell_type": "markdown",
   "source": [
    "Here we see that the Cd-coordinated interstitial site is the lowest energy for _neutral_ cadmium\n",
    "interstitials here!\n",
    "\n",
    "```{note}\n",
    "The energies here do not yet account for the chemical potentials, which are included later in the\n",
    "post-processing workflow (as shown earlier in this notebook). However, the chemical potential energy\n",
    "correction is the same for each charge state or site, for a **_given defect_** (e.g. Cd<sub>i</sub>\n",
    "here) - hence the relative energies are still meaningful here.\n",
    "```"
   ],
   "metadata": {
    "collapsed": false
   },
   "id": "a461e26a1c77199d"
  },
  {
   "cell_type": "markdown",
   "source": [
    "Here we see that `Cd_i_C3v_0` and `Cd_i_Td_Te2.83_0` have equal final energies (rounded to 1 meV/atom)\n",
    "suggesting they have relaxed to the same final structure (despite different initial interstitial positions).\n",
    "Let's use `StructureMatcher` and `local_env` to double-check:"
   ],
   "metadata": {
    "collapsed": false
   },
   "id": "cd19ddf187e773ff"
  },
  {
   "cell_type": "code",
   "outputs": [
    {
     "name": "stdout",
     "output_type": "stream",
     "text": [
      "Are Cd_i_Td_Cd2.83_0 and Cd_i_C3v_0 final structures the same?: False\n",
      "Are Cd_i_C3v_0 and Cd_i_Td_Te2.83_0 final structures the same?: True\n"
     ]
    }
   ],
   "source": [
    "# Here we use the pymatgen StructureMatcher class to compare the relaxed structures of neutral Cd_i:\n",
    "from pymatgen.analysis.structure_matcher import StructureMatcher\n",
    "sm = StructureMatcher()\n",
    "print(\"Are Cd_i_Td_Cd2.83_0 and Cd_i_C3v_0 final structures the same?:\",\n",
    "      sm.fit(Cd_i_dict['Cd_i_Td_Cd2.83_0'].defect_supercell, Cd_i_dict['Cd_i_C3v_0'].defect_supercell))\n",
    "print(\"Are Cd_i_C3v_0 and Cd_i_Td_Te2.83_0 final structures the same?:\",\n",
    "      sm.fit(Cd_i_dict['Cd_i_C3v_0'].defect_supercell, Cd_i_dict['Cd_i_Td_Te2.83_0'].defect_supercell))"
   ],
   "metadata": {
    "collapsed": false
   },
   "id": "b75298e02913d058",
   "execution_count": 24
  },
  {
   "cell_type": "code",
   "outputs": [
    {
     "name": "stdout",
     "output_type": "stream",
     "text": [
      "Local order parameters (i.e. resemblence to given structural motif):  None\n",
      "Nearest-neighbour dictionary:  {'Te0+': 6, 'Cd0+': 4}\n",
      "Bond-lengths (in Angstrom) to nearest neighbours:  [{'Element': 'Te', 'Distance': '3.298'}, {'Element': 'Te', 'Distance': '3.298'}, {'Element': 'Te', 'Distance': '3.298'}, {'Element': 'Te', 'Distance': '3.298'}, {'Element': 'Te', 'Distance': '3.298'}, {'Element': 'Te', 'Distance': '3.298'}, {'Element': 'Cd', 'Distance': '3.007'}, {'Element': 'Cd', 'Distance': '3.007'}, {'Element': 'Cd', 'Distance': '3.007'}, {'Element': 'Cd', 'Distance': '3.007'}] \n",
      "\n",
      "Local order parameters (i.e. resemblence to given structural motif):  {'square co-planar': 0.08049643519922586, 'tetrahedral': 0.9999935468913711, 'rectangular see-saw-like': 0.007133072179242341, 'see-saw-like': 0.23547633536015408, 'trigonal pyramidal': 0.24644908542744104}\n",
      "Nearest-neighbour dictionary:  {'Te0+': 4}\n",
      "Bond-lengths (in Angstrom) to nearest neighbours:  [{'Element': 'Te', 'Distance': '2.911'}, {'Element': 'Te', 'Distance': '2.911'}, {'Element': 'Te', 'Distance': '2.911'}, {'Element': 'Te', 'Distance': '2.911'}] \n",
      "\n",
      "Local order parameters (i.e. resemblence to given structural motif):  {'square co-planar': 0.07996844283674677, 'tetrahedral': 0.9999999999971609, 'rectangular see-saw-like': 0.0070246315480141, 'see-saw-like': 0.23425410407519495, 'trigonal pyramidal': 0.2452100857961308}\n",
      "Nearest-neighbour dictionary:  {'Te0+': 4}\n",
      "Bond-lengths (in Angstrom) to nearest neighbours:  [{'Element': 'Te', 'Distance': '2.911'}, {'Element': 'Te', 'Distance': '2.911'}, {'Element': 'Te', 'Distance': '2.911'}, {'Element': 'Te', 'Distance': '2.911'}] \n"
     ]
    }
   ],
   "source": [
    "# we can perform further defect structural analysis with these functions:\n",
    "from pymatgen.analysis.local_env import CrystalNN\n",
    "import numpy as np\n",
    "\n",
    "for key, defect_entry in Cd_i_dict.items():\n",
    "    # get defect site index in structure: (needed for CrystalNN)\n",
    "    for i, site in enumerate(defect_entry.defect_supercell.sites):\n",
    "        if np.isclose(site.frac_coords, defect_entry.defect_supercell_site.frac_coords).all():\n",
    "            isite = i  # site index, starting from 0\n",
    "\n",
    "    crystalNN = CrystalNN()\n",
    "    struct = defect_entry.defect_supercell\n",
    "    struct.add_oxidation_state_by_guess()\n",
    "    print(\"Local order parameters (i.e. resemblence to given structural motif): \",\n",
    "          crystalNN.get_local_order_parameters(struct, isite))\n",
    "    print(\"Nearest-neighbour dictionary: \",\n",
    "          crystalNN.get_cn_dict(struct, isite))\n",
    "\n",
    "    bond_lengths = []  # Bond Lengths?\n",
    "    for i in crystalNN.get_nn_info(struct, isite):\n",
    "        bond_lengths.append({'Element': i['site'].specie.as_dict()['element'],\n",
    "                             'Distance': f\"{i['site'].distance(struct[isite]):.3f}\"})\n",
    "    print(\"Bond-lengths (in Angstrom) to nearest neighbours: \", bond_lengths, \"\\n\")"
   ],
   "metadata": {
    "collapsed": false
   },
   "id": "ec4204c4ef5397ed",
   "execution_count": 41
  },
  {
   "cell_type": "markdown",
   "source": [
    "Here we see the structural similarity of \"`Cd_i_C3v_0`\" and \"`Cd_i_Td_Te2.83_0`\", showing that they have\n",
    " indeed relaxed to the same structure.\n",
    "This means we only need to continue with one of these for the more expensive `vasp_std` and `vasp_ncl`\n",
    "calculations with our full _k_-point mesh."
   ],
   "metadata": {
    "collapsed": false
   },
   "id": "a3d3e32cfdd69d68"
  },
  {
   "cell_type": "markdown",
   "source": [
    "```{note}\n",
    "If you want to do this coordination environment analysis with a vacancy, you may have to\n",
    "introduce a fake atom at the vacancy position, in order to create a `pymatgen` `Site` object, to then use with `CrystalNN`.\n",
    "For example:\n",
    "```"
   ],
   "metadata": {
    "collapsed": false
   },
   "id": "94dff2923a4e1555"
  },
  {
   "cell_type": "code",
   "outputs": [],
   "source": [
    "from doped.thermodynamics import DefectThermodynamics\n",
    "v_Cd_thermo = DefectThermodynamics(\n",
    "    [entry for entry in CdTe_example_thermo.defect_entries if \"v_Cd\" in entry.name], \n",
    "    chempots=CdTe_example_thermo.chempots\n",
    ")  # only Cd vacancy defects"
   ],
   "metadata": {
    "collapsed": false
   },
   "id": "3faadd67ac5e65ef",
   "execution_count": 24
  },
  {
   "cell_type": "code",
   "outputs": [
    {
     "name": "stdout",
     "output_type": "stream",
     "text": [
      "\u001B[1mv_Cd_-2, Charge State: -2\u001B[0m\n",
      "Local order parameters (i.e. resemblance to given structural motif):  {'square co-planar': 0.07996848894580866, 'tetrahedral': 0.999999999996243, 'rectangular see-saw-like': 0.007024644113827354, 'see-saw-like': 0.23425369905750856, 'trigonal pyramidal': 0.24520967518806777}\n",
      "Nearest-neighbour dictionary:  {'Te': 4}\n",
      "Bond-lengths (in Angstrom) to nearest neighbours:  [{'Element': 'Te', 'Distance': '2.613'}, {'Element': 'Te', 'Distance': '2.613'}, {'Element': 'Te', 'Distance': '2.613'}, {'Element': 'Te', 'Distance': '2.613'}] \n",
      "\n",
      "\u001B[1mv_Cd_-1, Charge State: -1\u001B[0m\n",
      "Local order parameters (i.e. resemblance to given structural motif):  {'square co-planar': 0.08955199275710107, 'tetrahedral': 0.9980437792997895, 'rectangular see-saw-like': 0.00914205834683717, 'see-saw-like': 0.2561471898083992, 'trigonal pyramidal': 0.2673736880526364}\n",
      "Nearest-neighbour dictionary:  {'Te': 4}\n",
      "Bond-lengths (in Angstrom) to nearest neighbours:  [{'Element': 'Te', 'Distance': '2.585'}, {'Element': 'Te', 'Distance': '2.587'}, {'Element': 'Te', 'Distance': '2.587'}, {'Element': 'Te', 'Distance': '3.046'}] \n",
      "\n",
      "\u001B[1mv_Cd_0, Charge State: 0\u001B[0m\n",
      "Local order parameters (i.e. resemblance to given structural motif):  {'square co-planar': 0.1554382566688805, 'tetrahedral': 0.7810051379511412, 'rectangular see-saw-like': 0.052869064285435134, 'see-saw-like': 0.22758740109965894, 'trigonal pyramidal': 0.23528866099223875}\n",
      "Nearest-neighbour dictionary:  {'Te': 4}\n",
      "Bond-lengths (in Angstrom) to nearest neighbours:  [{'Element': 'Te', 'Distance': '2.178'}, {'Element': 'Te', 'Distance': '2.605'}, {'Element': 'Te', 'Distance': '2.235'}, {'Element': 'Te', 'Distance': '2.671'}] \n"
     ]
    }
   ],
   "source": [
    "from pymatgen.analysis.local_env import CrystalNN\n",
    "from doped.thermodynamics import bold_print\n",
    "\n",
    "for defect_entry in v_Cd_thermo.defect_entries:\n",
    "    bold_print(f\"{defect_entry.name}, Charge State: {defect_entry.charge_state}\")\n",
    "    crystalNN = CrystalNN(distance_cutoffs=None, x_diff_weight=0.0, porous_adjustment=False, search_cutoff=5)\n",
    "    struct = defect_entry.defect_supercell.copy()\n",
    "    struct.append('U', defect_entry.defect_supercell_site.frac_coords) # Add a fake element\n",
    "    isite = len(struct.sites) - 1 # Starts counting from zero!\n",
    "\n",
    "    print(\"Local order parameters (i.e. resemblance to given structural motif): \",\n",
    "          crystalNN.get_local_order_parameters(struct, isite))\n",
    "    print(\"Nearest-neighbour dictionary: \", crystalNN.get_cn_dict(struct, isite))\n",
    "\n",
    "    bond_lengths = []  # Bond Lengths?\n",
    "    for i in crystalNN.get_nn_info(struct,isite):\n",
    "        bond_lengths.append({'Element': i['site'].specie.as_dict()['element'],\n",
    "                             'Distance': f\"{i['site'].distance(struct[isite]):.3f}\"})\n",
    "    print(\"Bond-lengths (in Angstrom) to nearest neighbours: \",bond_lengths,\"\\n\")"
   ],
   "metadata": {
    "collapsed": false
   },
   "id": "119ea27b6866bfe1",
   "execution_count": 28
  }
 ],
 "metadata": {
  "kernelspec": {
   "display_name": "Python 3",
   "language": "python",
   "name": "python3"
  },
  "language_info": {
   "codemirror_mode": {
    "name": "ipython",
    "version": 2
   },
   "file_extension": ".py",
   "mimetype": "text/x-python",
   "name": "python",
   "nbconvert_exporter": "python",
   "pygments_lexer": "ipython2",
   "version": "2.7.6"
  }
 },
 "nbformat": 4,
 "nbformat_minor": 5
}
