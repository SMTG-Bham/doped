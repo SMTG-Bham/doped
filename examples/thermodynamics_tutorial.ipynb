{
 "cells": [
  {
   "metadata": {},
   "cell_type": "markdown",
   "source": "# Defect Thermodynamics & Doping ",
   "id": "79e19086405a488f"
  },
  {
   "metadata": {},
   "cell_type": "markdown",
   "source": [
    "```{tip}\n",
    "You can run this notebook interactively through [Google Colab](https://colab.research.google.com/github/SMTG-Bham/doped/blob/develop/examples/thermodynamics_tutorial.ipynb) or [Binder](https://mybinder.org/v2/gh/SMTG-Bham/doped/develop?urlpath=tree/examples/thermodynamics_tutorial.ipynb) – just click the links!\n",
    "If running on Colab, then you'll need to run `!pip install doped` in a cell to install the package, and `!git clone https://github.com/SMTG-Bham/doped` to download the example data (and update paths in the code cells accordingly).\n",
    "```"
   ],
   "id": "aa81f479c89248ed"
  },
  {
   "metadata": {},
   "cell_type": "code",
   "outputs": [],
   "execution_count": null,
   "source": [
    "%matplotlib inline\n",
    "from monty.serialization import loadfn\n",
    "CdTe_thermo = loadfn(\"CdTe/CdTe_LZ_thermo_wout_meta.json.gz\")  # load our DefectThermodynamics object"
   ],
   "id": "973d41f661422014"
  },
  {
   "metadata": {},
   "cell_type": "markdown",
   "source": "Let's first check the calculated symmetries and degeneracy factors of our defects: ",
   "id": "5289e997aa6116a0"
  },
  {
   "metadata": {},
   "cell_type": "code",
   "outputs": [],
   "execution_count": null,
   "source": "CdTe_thermo.get_symmetries_and_degeneracies()",
   "id": "8ecc8b8725cf9636"
  },
  {
   "metadata": {},
   "cell_type": "markdown",
   "source": [
    "```{tip}\n",
    "As noted in the `DefectThermodynamics.get_symmetries_and_degeneracies()` [docstring](https://doped.readthedocs.io/en/latest/doped.thermodynamics.html#doped.thermodynamics.DefectThermodynamics.get_symmetries_and_degeneracies), the multiplicity (`Mult`) output here is given with respect to the _primitive_ unit cell.\n",
    "```\n",
    "\n",
    "For interstitials, the bulk site symmetry corresponds to the point symmetry of the interstitial site with _no relaxation of the host structure_, while for vacancies/substitutions it is simply the symmetry of their corresponding bulk site. The defect symmetry (`Defect_Symm`) corresponds to the final _relaxed_ defect symmetry.\n",
    "\n",
    "The product of the defect degeneracy factors (such as orientational and spin, which are automatically computed by `doped`) and site multiplicity determine the pre-factor is used in the calculation of defect/carrier concentrations (and thus doping / Fermi level behaviour). For more explanation and discussion of this, see e.g. [_Impact of metastable defect structures on carrier recombination in solar cells_](https://doi.org/10.1039/D2FD00043A) & [_Imperfections are not 0 K: free energy of point defects in crystals_](https://doi.org/10.1039/D3CS00432E).\n",
    "\n",
    "```{note}\n",
    "**Note:** `doped` tries to use the `defect_entry.defect_supercell` to determine the _relaxed_ site symmetry. However, it should be noted that this is not guaranteed to work in all cases; namely for certain non-trivial supercell expansion matrices (e.g. a 2x1x2 expansion)(particularly with high-symmetry materials) which can mess up the periodicity of the cell. `doped` tries to automatically check if this is the case, and will warn you if so.\n",
    "\n",
    "If periodicity-breaking does prevent auto-symmetry determination, you can manually determine the relaxed defect and bulk-site point symmetries, and/or orientational degeneracy, from visualising the structures (e.g. using VESTA)(can use `get_orientational_degeneracy` to obtain the corresponding orientational degeneracy factor for given defect/bulk-site point symmetries) and setting the corresponding values in the `calculation_metadata['relaxed point symmetry']/['bulk site symmetry']` and/or `degeneracy_factors['orientational degeneracy']` attributes.\n",
    "```"
   ],
   "id": "8198c7c0221fc175"
  },
  {
   "metadata": {},
   "cell_type": "markdown",
   "source": "Let's see what our defect formation energy diagram looks like:",
   "id": "39d8a24cf64738b4"
  },
  {
   "metadata": {},
   "cell_type": "code",
   "outputs": [],
   "execution_count": null,
   "source": [
    "CdTe_thermo.dist_tol = 1.6  # expand distance tolerance (default = 1.6 Å) for grouping defect entries of the same type (Te_i in this case); see https://doped.readthedocs.io/en/latest/plotting_customisation_tutorial.html#dist-tol\n",
    "plot = CdTe_thermo.plot(limit=\"Te-rich\")\n",
    "plot"
   ],
   "id": "8b5099e37131a390"
  },
  {
   "metadata": {},
   "cell_type": "markdown",
   "source": [
    "```{tip}\n",
    "As shown above, can specify the chemical potential limit at which to obtain and plot the defect formation energies using the ``limit`` parameter, which we can set to either ``\"X-rich\"/\"X-poor\"`` where X is an element in the system, in which case the most X-rich/poor limit will be used (e.g. \"Cd-rich\"), or a key in the ``chempots[\"limits\"]`` dictionary (e.g. ``\"Cd-CdTe\"`` from that shown above). Alternatively, one can also provide a single chemical potential limit in the form of a dictonary to the ``DefectThermodynamics`` methods – see docstrings for more details.\n",
    "``` "
   ],
   "id": "eaed953de2bedc09"
  },
  {
   "metadata": {},
   "cell_type": "markdown",
   "source": [
    "```{note}\n",
    "Note that in ``doped``, the ``\"band_gap\"`` and ``\"vbm\"`` values in ``DefectEntry.calculation_metadata`` are used to determine the position of the band edges in the defect formation energy plots and doping window / dopability limit functions, and the reference value (with the VBM at 0 eV) of any reported Fermi levels. These values are automatically taken from the bulk supercell calculation during defect parsing, but if for any reason the band edges in your bulk supercell calculation are not the correct values (e.g. true VBM/CBM not included in the `k`-point grid), then the `bulk_band_gap_vr` parameter should be provided during defect parsing so that ``\"band_gap\"`` and ``\"vbm\"`` are extracted from it (see docstring / API docs for info).\n",
    "```"
   ],
   "id": "3de38f5c138a4e80"
  },
  {
   "metadata": {},
   "cell_type": "markdown",
   "source": "### Dopability Limits",
   "id": "bc3b361cd12dd7b3"
  },
  {
   "metadata": {},
   "cell_type": "markdown",
   "source": "As a first analysis of the dopability of our system, we can use the `get_doability_limits()` and `get_doping_windows()` methods of the `DefectThermodynamics` object, to determine our n/p-type doping limits:",
   "id": "3cb7cba5193578e5"
  },
  {
   "metadata": {},
   "cell_type": "code",
   "outputs": [],
   "execution_count": null,
   "source": "CdTe_thermo.get_dopability_limits()",
   "id": "9b5ad864412d19"
  },
  {
   "metadata": {},
   "cell_type": "code",
   "outputs": [],
   "execution_count": null,
   "source": "CdTe_thermo.get_doping_windows()",
   "id": "d66322c830b80d93"
  },
  {
   "metadata": {},
   "cell_type": "markdown",
   "source": [
    "These values are explained in more detail in the docstrings, but essentially they give us a rough estimate of the _p_/_n_-type dopability of our system, based on the native defect thermodynamics. The dopability limits are defined as the Fermi level positions at which the lowest-energy compensating defect becomes zero, while the doping windows are the energies of the lowest-energy compensating defects at the corresponding band-edge (VBM/CBM).\n",
    "\n",
    "```{tip}\n",
    "A large doping window or a dopability limit far from the band-edge position indicates high dopability for that carrier type (i.e. that the system is likely easier to dope _p_/_n_-type).\n",
    "```"
   ],
   "id": "a2e56993548a12d0"
  },
  {
   "metadata": {},
   "cell_type": "markdown",
   "source": [
    "For example here we see that $Cd_{i}^{+2}$ (coordinated by Te anions) is our dominant (lowest-energy) compensating native donor under _p_-type (Te-rich) conditions, and we can see the doping window of 0.49 eV corresponds to its formation energy at the VBM under Te-rich conditions in the plot above.\n",
    "Meanwhile, $V_{Cd}^{-2}$ is our dominant native compensating acceptor under _n_-type (Cd-rich) conditions. From this initial analysis, we can see that our native defect thermodynamics suggests that CdTe is more _n_-type dopable than _p_-type dopable (having alarger _n_-type doping window/limit)."
   ],
   "id": "98f56ca5e80c461f"
  },
  {
   "metadata": {},
   "cell_type": "markdown",
   "source": "## Doping Calculations",
   "id": "a7b5c481ad72ce30"
  },
  {
   "metadata": {},
   "cell_type": "markdown",
   "source": [
    "The above analysis can give a useful qualitative picture of the expected dopability of our material, but we can go on to directly calculate the predicted defect/carrier concentrations and Fermi level positions under various conditions.\n",
    "\n",
    "To quantitatively analyse the electronic (doping) behaviour of defects in our material, we need the electronic density of states (DOS) of the bulk material. Usually this is performed as a static calculation of the primitive cell, with dense _k_-point sampling for a converged DOS (see [vaspup2.0](https://github.com/kavanase/vaspup2.0?tab=readme-ov-file#density-of-states-and-absorption-spectrum-convergence); recommended to use a large `NEDOS` and `ISMEAR = -5`) and an accurate band gap (using SOC etc if necessary). The DOS band gap / VBM should match that of your `DefectThermodynamics` object/plot (`doped` will throw a warning if it detects that they differ significantly). See the [DOS Section](https://doped.readthedocs.io/en/latest/Tips.html#density-of-states-dos-calculations) on the Tips page for advice on this calculation.\n",
    "\n",
    "The `bulk_dos` parameter is used to provide our calculated DOS in the `doped` thermodynamics functions. We can provide `bulk_dos` during `DefectThermodynamics` initialisation, with `DefectsParser.get_defect_thermodynamics()`, or by setting the `bulk_dos` property (as shown below). Alternatively, we can provide the `bulk_dos` input to the `DefectThermodynamics` Fermi level / concentration methods, but this means re-parsing the DOS object each time which may be slow. With all cases, `bulk_dos` can be provided as a path to a `vasprun.xml(.gz)` output (of a DOS calculation), a `Vasprun` object, or a `pymatgen` `FermiDos` object."
   ],
   "id": "d34589f23ab64f1e"
  },
  {
   "metadata": {},
   "cell_type": "code",
   "outputs": [],
   "execution_count": null,
   "source": [
    "# provide the bulk DOS for Fermi level / carrier concentration / defect concentration calculations:\n",
    "CdTe_thermo.bulk_dos = \"CdTe/CdTe_prim_k181818_NKRED_2_vasprun.xml.gz\""
   ],
   "id": "44c8490510bdc553"
  },
  {
   "metadata": {},
   "cell_type": "markdown",
   "source": "Let's first plot the carrier concentrations versus Fermi level in our material, to see what sort of Fermi level position we would need to obtain a target free carrier concentration etc. Here for CdTe, we'll plot these quantities at 300K (room temperature) and 875K (a typical annealing temperature):",
   "id": "7de9ebea5c1eb744"
  },
  {
   "metadata": {},
   "cell_type": "code",
   "outputs": [],
   "execution_count": null,
   "source": [
    "from doped.thermodynamics import get_e_h_concs\n",
    "import numpy as np\n",
    "import matplotlib.pyplot as plt\n",
    "\n",
    "f,ax = plt.subplots(figsize=(5,3))\n",
    "band_gap = bulk_dos.get_gap(tol=1e-6)\n",
    "anneal_T = 875\n",
    "e_concs = []; h_concs = []; fermi_levels = np.linspace(-0.3, band_gap + 0.3, 100)\n",
    "high_temp_e_concs = []; high_temp_h_concs = []\n",
    "for fermi_level in fermi_levels:\n",
    "    e_conc, h_conc = get_e_h_concs(\n",
    "        fermi_dos=bulk_dos, fermi_level=CdTe_thermo.vbm + fermi_level, temperature=300)\n",
    "    e_concs.append(e_conc); h_concs.append(h_conc)\n",
    "    e_conc, h_conc = get_e_h_concs(\n",
    "        fermi_dos=bulk_dos, fermi_level=CdTe_thermo.vbm + fermi_level, temperature=anneal_T)\n",
    "    high_temp_e_concs.append(e_conc); high_temp_h_concs.append(h_conc)\n",
    "\n",
    "ax.plot(fermi_levels, h_concs, label=\"$[p]$ ($T$ = 300 K)\", color=\"C0\")\n",
    "ax.plot(fermi_levels, high_temp_h_concs, label=f\"$[p]$ ($T$ = {anneal_T} K)\", color=\"C0\", ls=\"--\", alpha=0.5)\n",
    "ax.plot(fermi_levels, e_concs, label=\"$[n]$ ($T$ = 300 K)\", color=\"C1\")\n",
    "ax.plot(fermi_levels, high_temp_e_concs, label=f\"$[n]$ ($T$ = {anneal_T} K)\", color=\"C1\", ls=\"--\", alpha=0.5)\n",
    "ax.set_xlabel(\"Fermi Level (eV)\"); ax.set_ylabel(\"Concentration (cm$^{-3}$)\")\n",
    "ax.legend(); ax.semilogy()\n",
    "\n",
    "# show VB in blue from -0.3 to 0 eV and CB in orange from CBM to CBM + 0.3 eV:\n",
    "ax.imshow([(0, 1), (0, 1)], cmap=plt.cm.Blues, extent=(ax.get_xlim()[0], 0, ax.get_ylim()[1], ax.get_ylim()[0]),\n",
    "          vmin=0, vmax=3, interpolation=\"bicubic\", rasterized=True, aspect=\"auto\")\n",
    "\n",
    "ax.imshow([(1, 0), (1, 0)], cmap=plt.cm.Oranges, extent=(band_gap, band_gap + 0.3, ax.get_ylim()[0], ax.get_ylim()[1]),\n",
    "          vmin=0, vmax=3, interpolation=\"bicubic\", rasterized=True, aspect=\"auto\")\n",
    "ax.set_xlim(-0.3, band_gap + 0.3); ax.set_ylim(1e10, 1e21);  # set axis limits\n",
    "f"
   ],
   "id": "30e5a6e99b9fe1d6"
  },
  {
   "metadata": {},
   "cell_type": "markdown",
   "source": "Here we can see a clear disparity in the _n_-type and _p_-type carrier concentrations, where the hole concentration is significantly higher than the electron concentration for the same energy separation of the Fermi level with the corresponding band edge (VBM/CBM), which is a direct result of the significantly higher DOS at the VBM in CdTe compared to the CBM. ",
   "id": "c0f0d6131207c7b5"
  },
  {
   "metadata": {},
   "cell_type": "markdown",
   "source": [
    "```{tip}\n",
    "By tracking the Fermi level & carrier concentration during annealing and upon cooling, this plot above can be used to analyse the type of compensation occurring for a given system (i.e. electronic, ionic or mixed). \n",
    "Given the annealing Fermi level & carrier concentration as a starting point, upon cooling it will either move horizontally to retain the carrier concentration while shifting the Fermi level closer to the band edge for full electronic compensation, move vertically downwards to decrease carrier concentrations at the same/similar Fermi level if you have self-compensation at that Fermi level, or somewhere in-between for compensation by other defects / self-compensation at a different Fermi level position / mixed electronic-ionic compensation.\n",
    "```"
   ],
   "id": "32754f4c84719f2c"
  },
  {
   "metadata": {},
   "cell_type": "markdown",
   "source": "### CdTe: Cd-Rich",
   "id": "d5cbbbf6af8fabe4"
  },
  {
   "metadata": {},
   "cell_type": "markdown",
   "source": "Let's first look at the carrier and defect calculations in CdTe at the Cd-rich (i.e. most _n_-type) chemical potential limit, as a function of the device annealing/growth temperature.",
   "id": "4cafceb4df8a58ca"
  },
  {
   "metadata": {},
   "cell_type": "markdown",
   "source": "The formation energies of charged defects in a material depend on the electronic chemical potential (i.e. the Fermi level), which in turn depends on the net population of all charged defects in the system. The equilibrium concentrations of charged point defects are therefore mutually dependent, and so the equilibrium Fermi level position must be solved self-consistently. Typically this is done by imposing the constraint of net charge-neutrality, and solving for the Fermi level which satisfies this condition – as implemented in `doped`. ",
   "id": "ec7f2983dae4e864"
  },
  {
   "metadata": {},
   "cell_type": "markdown",
   "source": [
    "```{note}\n",
    "In most cases, materials are synthesised or processed under elevated temperatures ('annealing'), before being cooled ('quenched') to the device operating temperature. Due to the exponential temperature dependence of equilibrium defect concentration and greater availability of thermal energy, it is generally expected that most defects will be created during the initial high-temperature annealing step, with their total concentration then remaining fixed due to kinetic trapping upon cooling — this being known as the 'frozen defect approximation'.\n",
    "\n",
    "While the total concentration of each defect is assumed to be fixed upon cooling within this approach, the Fermi level and thus _relative_ populations of different defect charge states and carrier concentrations re-equilibrate upon cooling (under the constraint of fixed total concentration for each defect), which again is solved self-consistently using the net charge neutrality condition and the constrained defect concentrations.\n",
    "```\n",
    "\n",
    "```{warning}\n",
    "In certain cases (such as Li-ion battery materials or extremely slow charge capture/emission), these approximations may have to be adjusted such that some defects/charge states are considered fixed and some are allowed to re-equilibrate (e.g. highly mobile Li vacancies/interstitials). As noted later, the ``FermiSolver`` class can be used in these cases for more fine-grained control over constraints and approximations in defect concentration calculations, as demonstrated in the [Advanced Defect/Carrier Concentration Analysis](https://doped.readthedocs.io/en/latest/fermisolver_tutorial.html) tutorial.\n",
    "```"
   ],
   "id": "b435f47f2bc92207"
  },
  {
   "metadata": {},
   "cell_type": "code",
   "outputs": [],
   "execution_count": null,
   "source": [
    "import numpy as np\n",
    "from tqdm import tqdm\n",
    "\n",
    "anneal_temperatures = np.arange(200, 1401, 50)  # annealing temperatures to consider, in K\n",
    "annealing_dict = {}\n",
    "\n",
    "for anneal_temp in tqdm(anneal_temperatures):\n",
    "    (fermi_level, e_conc, h_conc, conc_df, \n",
    "     annealing_fermi_level, annealing_e_conc, annealing_h_conc, _annealing_conc_df\n",
    "     ) = CdTe_thermo.get_fermi_level_and_concentrations(\n",
    "        bulk_dos=bulk_dos, limit=\"Cd-rich\", annealing_temperature=anneal_temp, skip_formatting=True,\n",
    "        return_annealing_values=True,  # return annealing Fermi level & concentrations for comparison\n",
    "    )  # quenching to 300K (default) – alternatively can specify quench (operating) temperature\n",
    "    annealing_dict[anneal_temp] = {\n",
    "        \"annealing_fermi_level\": annealing_fermi_level,\n",
    "        \"annealing_e_conc\": annealing_e_conc,\n",
    "        \"annealing_h_conc\": annealing_h_conc,\n",
    "        \"fermi_level\": fermi_level,\n",
    "        \"e_conc\": e_conc,\n",
    "        \"h_conc\": h_conc,\n",
    "        \"conc_df\": conc_df\n",
    "    }"
   ],
   "id": "8b1acf2e431780c4"
  },
  {
   "metadata": {},
   "cell_type": "code",
   "outputs": [],
   "execution_count": null,
   "source": [
    "import matplotlib.pyplot as plt\n",
    "f,ax = plt.subplots()\n",
    "\n",
    "anneal_fermi_levels = np.array([v[\"annealing_fermi_level\"] for k, v in annealing_dict.items()])\n",
    "quenched_fermi_levels = np.array([v[\"fermi_level\"] for k, v in annealing_dict.items()])\n",
    "ax.plot(anneal_temperatures, anneal_fermi_levels, marker='o',\n",
    "        label=\"$E_F$ during annealing (@ $T_{anneal}$)\", color = \"k\", alpha=0.25)\n",
    "ax.plot(anneal_temperatures, quenched_fermi_levels, marker='o',\n",
    "        label=\"$E_F$ upon cooling (@ $T$ = 300K)\", color = \"k\", alpha=0.9)\n",
    "ax.set_xlabel('Anneal Temperature (K)')\n",
    "ax.set_ylabel('Fermi Level wrt VBM (eV)')\n",
    "ax.set_xlim(300, 1400)\n",
    "ax.axvspan(500+273.15, 700+273.15, alpha=0.2, color='#33A7CC', label=\"Typical Anneal Range\")\n",
    "ax.legend()\n",
    "\n",
    "# show VB in blue and CB in orange:\n",
    "ax.imshow([(1, 1), (0, 0)], cmap=plt.cm.Blues, extent=(ax.get_xlim()[0], ax.get_xlim()[1], -0.3, 0),\n",
    "          vmin=0, vmax=3, interpolation=\"bicubic\", rasterized=True, aspect=\"auto\")\n",
    "ax.imshow([(0, 0,), (1, 1)], cmap=plt.cm.Oranges, extent=(ax.get_xlim()[0], ax.get_xlim()[1], band_gap, band_gap+0.3),\n",
    "          vmin=0, vmax=3, interpolation=\"bicubic\", rasterized=True, aspect=\"auto\",)\n",
    "ax.set_ylim(-0.2, band_gap+0.2)\n",
    "f"
   ],
   "id": "56ab341f3e1dd347"
  },
  {
   "metadata": {},
   "cell_type": "code",
   "outputs": [],
   "execution_count": null,
   "source": "print(f\"Room-temp Fermi level for T_anneal = {anneal_temperatures[16]} K: {quenched_fermi_levels[16]:.2f} eV above VBM\")",
   "id": "704901079c3a41cb"
  },
  {
   "metadata": {},
   "cell_type": "markdown",
   "source": "Let's plot the defect/carrier concentrations:",
   "id": "8a4190f7593d6df9"
  },
  {
   "metadata": {},
   "cell_type": "code",
   "outputs": [],
   "execution_count": null,
   "source": [
    "annealing_n = np.array([annealing_dict[k][\"annealing_e_conc\"] for k in anneal_temperatures])\n",
    "annealing_p = np.array([annealing_dict[k][\"annealing_h_conc\"] for k in anneal_temperatures])\n",
    "quenched_n = np.array([annealing_dict[k][\"e_conc\"] for k in anneal_temperatures])\n",
    "quenched_p = np.array([annealing_dict[k][\"h_conc\"] for k in anneal_temperatures])\n",
    "\n",
    "# let's make some convenience functions for plotting:\n",
    "def array_from_conc_df(name, annealing_dict, anneal_temperatures):\n",
    "    \"\"\"Return a numpy array of the given defect concentration from the annealing_dict.\"\"\"\n",
    "    return np.array([annealing_dict[temp][\"conc_df\"].loc[\n",
    "                        (name, 0), \"Total Concentration (cm^-3)\"\n",
    "                    ] for temp in anneal_temperatures])\n",
    "\n",
    "def get_significant_defects(conc_df, conc_cutoff=1e12):\n",
    "    \"\"\"Return a list of defects with total concentrations above ``conc_cutoff`` in cm^-3\"\"\"\n",
    "    defects_concs = zip(\n",
    "        conc_df.index.get_level_values(\"Defect\").unique(),\n",
    "        conc_df[\"Total Concentration (cm^-3)\"].unique(),\n",
    "    )\n",
    "    defects_concs = sorted(defects_concs, key = lambda x: x[1], reverse=True)  # sort by concentration\n",
    "    return [defect for defect, conc in defects_concs if conc > 1e12]  # cut <10^12 cm^-3"
   ],
   "id": "1b2cc8c9cb45fa9"
  },
  {
   "metadata": {},
   "cell_type": "code",
   "outputs": [],
   "execution_count": null,
   "source": [
    "from doped.utils.plotting import format_defect_name\n",
    "f, ax = plt.subplots()\n",
    "\n",
    "# plot carrier concentrations:\n",
    "ax.plot(anneal_temperatures, quenched_p, label='p', linestyle=\"--\", lw=2)  # plot p/n (room temp)\n",
    "ax.plot(anneal_temperatures, quenched_n, label='n', linestyle=\"--\", lw=2)\n",
    "ax.plot(anneal_temperatures, annealing_p, label='p ($T_{anneal}$)', alpha=0.5, c = \"C0\", linestyle=\"--\")\n",
    "ax.plot(anneal_temperatures, annealing_n, label='n ($T_{anneal}$)', alpha=0.5, c = \"C1\", linestyle=\"--\")\n",
    "\n",
    "# only plotting defects with significant concentrations here (>10^12 cm^-3 at T=1350K):\n",
    "conc_df = annealing_dict[1350][\"conc_df\"]\n",
    "for defect in get_significant_defects(conc_df):\n",
    "    ax.plot(anneal_temperatures,\n",
    "            array_from_conc_df(defect, annealing_dict, anneal_temperatures),\n",
    "            label=format_defect_name(defect, include_site_info_in_name=True, wout_charge=True), alpha=0.7, linestyle=\"--\", marker=\"o\")\n",
    "\n",
    "ax.set_xlabel('Anneal Temperature (K)'); ax.set_ylabel(r\"Concentration (cm$^{-3}$)\")\n",
    "ax.set_yscale(\"log\")  # log scale\n",
    "ax.set_xlim(300, 1400); ax.set_ylim(1e12, 1e17)\n",
    "ax.axvspan(500+273.15, 700+273.15, alpha=0.2, color='#33A7CC')  # shade in typical anneal range (this is specific to CdTe here!)\n",
    "ax.legend()\n",
    "f"
   ],
   "id": "48836402b1eaa6f"
  },
  {
   "metadata": {},
   "cell_type": "markdown",
   "source": "Here we see we get exponential increases in _n_-type carrier concentration with increasing annealing temperature, as expected, and that the electron concentration primarily originates from $Cd_{i}^{+2}$ donors (our lowest energy native donor under Cd-rich conditions), with the electron concentration approximately matching the concentration of $Cd_{i}^{+2}$ (with a factor of 2x) at high temperatures. ",
   "id": "844aefd99f715d1d"
  },
  {
   "metadata": {},
   "cell_type": "markdown",
   "source": [
    "```{tip}\n",
    "If we had some digitised experimental data then we could also plot together here with our predicted datapoints, as scatter points.\n",
    "```"
   ],
   "id": "d1b7c7ddff56c6de"
  },
  {
   "metadata": {},
   "cell_type": "markdown",
   "source": "We can of course perform the same analysis for the _p_-type (Te-rich) limit, or other chemical potential limits / doping conditions. For instance, if we had also calculated the formation energies of extrinsic dopants/impurities, then we could similarly calculate the predicted dopant/defect/carrier concentrations in the presence of these impurities, under various growth conditions. ",
   "id": "230dceadcbc49789"
  },
  {
   "metadata": {},
   "cell_type": "markdown",
   "source": "### CdTe: Approximating Temperature-Dependent Band Gap",
   "id": "75897d7992e0e444"
  },
  {
   "metadata": {},
   "cell_type": "markdown",
   "source": [
    "As with all semiconducting/insulating materials, the band gap (and thus relative energies of defects and charge carriers) in CdTe is dependent on the temperature. These changes in the band edge positions can affect the defect/carrier formation energies & concentrations, and thus the Fermi level position / doping behaviour. In `doped`, we can accounted for these changes in band edge positions (if known) using the `delta_gap` parameter in the `get_fermi_level_and_concentrations()` method and/or the `scissor_dos()` function as shown below.\n",
    "\n",
    "Of course, there are many effects of temperature on the free energies of defect formation (e.g. see [Mosquera-Lois et al. _Chem Soc Rev_ 2023](https://doi.org/10.1039/D3CS00432E)), but here for a crude first approximation we will account for the experimentally-known band gap renormalisation of CdTe as a function of temperature, assuming that the renormalisation occurs symmetrically such that the VBM and CBM eigenvalues are down/up-shifted by the same amount (ΔEg/2) at each temperature while the defect formation energies / transition levels remain fixed.\n",
    "\n",
    "To do this, we first define a function for the temperature-dependent band gap, by fitting to the experimental data:  "
   ],
   "id": "1ca43642e88ee9ff"
  },
  {
   "metadata": {},
   "cell_type": "code",
   "outputs": [],
   "execution_count": null,
   "source": [
    "import numpy as np\n",
    "band_gap_data =[(1.5110277123929035, 293.61411498177165),  # CdTe gap vs Temp, Belas et al. 2014\n",
    "             (1.4978368122096875, 323.8690412012745),\n",
    "             (1.4771103223451387, 372.54000946743133),\n",
    "             (1.4544939046587835, 422.5264093083491),\n",
    "             (1.4328236569636261, 472.5128091492669),\n",
    "             (1.411153409268469, 522.4992089901847),\n",
    "             (1.3885345794215245, 571.1701772563415),\n",
    "             (1.3668667438869564, 622.4720086720203),\n",
    "             (1.3451964961917993, 672.4584085129379),\n",
    "             (1.3235262484966421, 722.4448083538558),\n",
    "             (1.3009098308102867, 772.4312081947735),\n",
    "             (1.2792395831151295, 822.4176080356914),\n",
    "             (1.2575693354199722, 872.4040078766092),\n",
    "             (1.235899087724815, 922.390407717527),\n",
    "             (1.2142288400296577, 972.3768075584447),\n",
    "             (1.1925585923345006, 1022.3632073993625),\n",
    "             (1.1699421746481453, 1072.3496072402804),\n",
    "             (1.148271926952988, 1122.3360070811982),\n",
    "             (1.1266016792578308, 1172.322406922116),\n",
    "             (1.1039876737320649, 1223.6242383377944)]\n",
    "\n",
    "params = np.polyfit([x[1] for x in band_gap_data], [x[0] for x in band_gap_data], 1, full=True)[0]\n",
    "\n",
    "def band_gap_linear_fit(T):  # linear fit of the CdTe experimental band gap vs T\n",
    "    return params[1] + params[0] * T\n",
    "\n",
    "# alternatively we could also use a Cubic Spline fit such as this (or any other fitted function):\n",
    "# from scipy.interpolate import CubicSpline\n",
    "# band_gap_spline_fit = CubicSpline([x[1] for x in band_gap_data], [x[0] for x in band_gap_data])"
   ],
   "id": "b7877eb4f138b16"
  },
  {
   "metadata": {},
   "cell_type": "markdown",
   "source": "Let's quickly plot the experimental data and our linear fit, to confirm it looks reasonable:",
   "id": "27966c4353c3eb80"
  },
  {
   "metadata": {},
   "cell_type": "code",
   "outputs": [],
   "execution_count": null,
   "source": [
    "f,ax = plt.subplots()\n",
    "\n",
    "temps = np.linspace(1, 1600, num=1000)\n",
    "ax.plot([x[1] for x in band_gap_data], [x[0] for x in band_gap_data], \n",
    "        label = \"Belas (2014)\", marker=\"o\", markersize=4)\n",
    "ax.plot(temps, band_gap_linear_fit(temps), color=\"C3\", ls=\"--\", label=\"Belas Linear Fit\")\n",
    "ax.set_xlabel(\"Temperature (K)\"); ax.set_ylabel(\"Band Gap (eV)\")\n",
    "ax.set_title(\"CdTe Experimental Bandgap T Dependence\")\n",
    "ax.legend()\n",
    "f"
   ],
   "id": "689c01499cdc2bf0"
  },
  {
   "metadata": {},
   "cell_type": "markdown",
   "source": "Now we use this function to set our `delta_gap` parameter in the `get_fermi_level_and_concentrations()` method, to account for the temperature-dependent band gap shift:",
   "id": "a5d890b57fb3d760"
  },
  {
   "metadata": {},
   "cell_type": "markdown",
   "source": "#### CdTe: Te-Rich with Temperature Dependence",
   "id": "1584001e82d01c23"
  },
  {
   "metadata": {},
   "cell_type": "code",
   "outputs": [],
   "execution_count": null,
   "source": [
    "from doped.thermodynamics import scissor_dos\n",
    "anneal_temperatures = np.arange(200, 1401, 50)  # annealing temperatures to consider, in K\n",
    "annealing_dict = {}\n",
    "\n",
    "for anneal_temp in tqdm(anneal_temperatures):\n",
    "    band_gap_shift = band_gap_linear_fit(anneal_temp) - 1.5  # 1.5 eV is our DFT (and room temp) gap\n",
    "    (fermi_level, e_conc, h_conc, conc_df, \n",
    "     annealing_fermi_level, annealing_e_conc, annealing_h_conc, _annealing_conc_df\n",
    "     ) = CdTe_thermo.get_fermi_level_and_concentrations(\n",
    "        bulk_dos=bulk_dos, limit=\"Te-rich\", annealing_temperature=anneal_temp, skip_formatting=True,\n",
    "        delta_gap=band_gap_shift,\n",
    "        return_annealing_values=True,  # return annealing Fermi level & concentrations for comparison\n",
    "    ) # Note that we now use `delta_gap` to specify the band gap change from original DFT DOS to \n",
    "    # the anneal temp, which symmetrically renormalises the DOS (moving VBM and CBM by Eg/2) when\n",
    "    # calculating Fermi level & e/h concentrations at the annealing temperature\n",
    "    annealing_dict[anneal_temp] = {\n",
    "        \"annealing_fermi_level\": annealing_fermi_level,\n",
    "        \"annealing_e_conc\": annealing_e_conc,\n",
    "        \"annealing_h_conc\": annealing_h_conc,\n",
    "        \"fermi_level\": fermi_level,\n",
    "        \"e_conc\": e_conc,\n",
    "        \"h_conc\": h_conc,\n",
    "        \"conc_df\": conc_df\n",
    "    } "
   ],
   "id": "eabb5d084a197ebe"
  },
  {
   "metadata": {},
   "cell_type": "markdown",
   "source": "Plot the Fermi level (during annealing & upon cooling), and the simulated band edges:",
   "id": "2764acb26e182ebc"
  },
  {
   "metadata": {},
   "cell_type": "code",
   "outputs": [],
   "execution_count": null,
   "source": [
    "import matplotlib.pyplot as plt\n",
    "f,ax = plt.subplots()\n",
    "\n",
    "anneal_fermi_levels = np.array([v[\"annealing_fermi_level\"] for k, v in annealing_dict.items()])\n",
    "quenched_fermi_levels = np.array([v[\"fermi_level\"] for k, v in annealing_dict.items()])\n",
    "ax.plot(anneal_temperatures, anneal_fermi_levels, marker='o',\n",
    "        label=\"$E_F$ during annealing (@ $T_{anneal}$)\", color = \"k\", alpha=0.25)\n",
    "ax.plot(anneal_temperatures, quenched_fermi_levels, marker='o',\n",
    "        label=\"$E_F$ upon cooling (@ $T$ = 300K)\", color = \"k\", alpha=0.9)\n",
    "ax.set_xlabel('Anneal Temperature (K)')\n",
    "ax.set_ylabel('Fermi Level wrt VBM (eV)')\n",
    "ax.set_xlim(300, 1400)\n",
    "ax.axvspan(500+273.15, 700+273.15, alpha=0.2, color='#33A7CC', label=\"Typical Anneal Range\")\n",
    "ax.fill_between(anneal_temperatures, (1.5 - band_gap_linear_fit(anneal_temperatures))/2,\n",
    "                0, alpha=0.2, color=\"C0\", label=\"VBM (T @ $T_{anneal}$)\", linewidth=0.25,)\n",
    "ax.fill_between(anneal_temperatures, 1.5 - (1.5 - band_gap_linear_fit(anneal_temperatures))/2,\n",
    "                1.5, alpha=0.2, color=\"C1\", label=\"CBM (T @ $T_{anneal}$)\", linewidth=0.25,)\n",
    "ax.legend(loc=\"upper center\")\n",
    "\n",
    "# show VB in blue and CB in orange:\n",
    "ax.imshow([(1, 1), (0, 0)], cmap=plt.cm.Blues, extent=(ax.get_xlim()[0], ax.get_xlim()[1], -0.3, 0),\n",
    "          vmin=0, vmax=3, interpolation=\"bicubic\", rasterized=True, aspect=\"auto\")\n",
    "ax.imshow([(0, 0,), (1, 1)], cmap=plt.cm.Oranges, extent=(ax.get_xlim()[0], ax.get_xlim()[1], band_gap, band_gap+0.3),\n",
    "          vmin=0, vmax=3, interpolation=\"bicubic\", rasterized=True, aspect=\"auto\",)\n",
    "ax.set_ylim(-0.2, band_gap+0.2)\n",
    "f"
   ],
   "id": "62c43542bda695ab"
  },
  {
   "metadata": {},
   "cell_type": "code",
   "outputs": [],
   "execution_count": null,
   "source": "print(f\"Room-temp Fermi level for T_anneal = {anneal_temperatures[16]} K: {quenched_fermi_levels[16]:.2f} eV above VBM\")",
   "id": "4d8b5fe80ba69f2c"
  },
  {
   "metadata": {},
   "cell_type": "markdown",
   "source": "Let's plot the defect/carrier concentrations:",
   "id": "4d514f579a7e8721"
  },
  {
   "metadata": {},
   "cell_type": "code",
   "outputs": [],
   "execution_count": null,
   "source": [
    "annealing_n = np.array([annealing_dict[k][\"annealing_e_conc\"] for k in anneal_temperatures])\n",
    "annealing_p = np.array([annealing_dict[k][\"annealing_h_conc\"] for k in anneal_temperatures])\n",
    "quenched_n = np.array([annealing_dict[k][\"e_conc\"] for k in anneal_temperatures])\n",
    "quenched_p = np.array([annealing_dict[k][\"h_conc\"] for k in anneal_temperatures])"
   ],
   "id": "86f1b4929db27de9"
  },
  {
   "metadata": {},
   "cell_type": "code",
   "outputs": [],
   "execution_count": null,
   "source": [
    "from doped.utils.plotting import format_defect_name\n",
    "f, ax = plt.subplots()\n",
    "\n",
    "# plot carrier concentrations:\n",
    "ax.plot(anneal_temperatures, quenched_p, label='p', linestyle=\"--\", lw=2)  # plot p/n (room temp)\n",
    "ax.plot(anneal_temperatures, quenched_n, label='n', linestyle=\"--\", lw=2)\n",
    "ax.plot(anneal_temperatures, annealing_p, label='p ($T_{anneal}$)', alpha=0.5, c = \"C0\", linestyle=\"--\")\n",
    "ax.plot(anneal_temperatures, annealing_n, label='n ($T_{anneal}$)', alpha=0.5, c = \"C1\", linestyle=\"--\")\n",
    "\n",
    "# only plotting defects with significant concentrations here (>10^12 cm^-3 at T=1350K):\n",
    "conc_df = annealing_dict[1350][\"conc_df\"]\n",
    "for defect in get_significant_defects(conc_df):\n",
    "    ax.plot(anneal_temperatures,\n",
    "            array_from_conc_df(defect, annealing_dict, anneal_temperatures),\n",
    "            label=format_defect_name(defect, include_site_info_in_name=True, wout_charge=True), alpha=0.7, linestyle=\"--\", marker=\"o\")\n",
    "\n",
    "ax.set_xlabel('Anneal Temperature (K)'); ax.set_ylabel(r\"Concentration (cm$^{-3}$)\")\n",
    "ax.set_yscale(\"log\")  # log scale\n",
    "ax.set_xlim(300, 1400); ax.set_ylim(1e12, 1e18)\n",
    "ax.axvspan(500+273.15, 700+273.15, alpha=0.2, color='#33A7CC')  # shade in typical anneal range  (this is specific to CdTe here!)\n",
    "ax.legend()\n",
    "f"
   ],
   "id": "1bce1fe6fe23edf1"
  },
  {
   "metadata": {},
   "cell_type": "markdown",
   "source": "Let's compare to some experimental data of _p_ at T-anneal:",
   "id": "4271d64d6949f92"
  },
  {
   "metadata": {},
   "cell_type": "code",
   "outputs": [],
   "execution_count": null,
   "source": [
    "wienecke_data = np.array([  # Wienecke et al. 1993\n",
    "[675.644735186816, 15.19509584755584],\n",
    "[774.64775443452, 15.983458618047331],\n",
    "[773.2859479179771, 15.780402388747808],\n",
    "[876.594540193735, 16.456749859094277],\n",
    "[866.7316643602969, 16.470175483037483],\n",
    "[931.3592904767895, 16.68944378653258],\n",
    "[972.2040508240029, 16.939464368267398],\n",
    "[1043.955214492389, 17.234473455894925],\n",
    "[1030.0320795068562, 17.11399747952909],\n",
    "[1077.6449867907913, 17.335494943226077],\n",
    "[1082.4820732167568, 17.165318826904443],\n",
    "    ])\n",
    "emanuelsson_data = np.array([[750 + 273.15, np.log10(1.2e17)]])  # Emanuelsson et al. 1993\n",
    "expt_data = np.append(wienecke_data, emanuelsson_data, axis=0)"
   ],
   "id": "88718f9bea84082"
  },
  {
   "metadata": {},
   "cell_type": "code",
   "outputs": [],
   "execution_count": null,
   "source": [
    "from doped.utils.plotting import format_defect_name\n",
    "f, ax = plt.subplots()\n",
    "\n",
    "# plot carrier concentrations:\n",
    "ax.plot(anneal_temperatures, quenched_p, label='p', linestyle=\"--\", lw=2)  # plot p/n (room temp)\n",
    "ax.plot(anneal_temperatures, quenched_n, label='n', linestyle=\"--\", lw=2)\n",
    "ax.plot(anneal_temperatures, annealing_p, label='p ($T_{anneal}$)', alpha=0.5, c = \"C0\", linestyle=\"--\")\n",
    "ax.plot(anneal_temperatures, annealing_n, label='n ($T_{anneal}$)', alpha=0.5, c = \"C1\", linestyle=\"--\")\n",
    "\n",
    "# only plotting defects with significant concentrations here (>10^12 cm^-3 at T=1350K):\n",
    "conc_df = annealing_dict[1350][\"conc_df\"]\n",
    "for defect in get_significant_defects(conc_df):\n",
    "    ax.plot(anneal_temperatures,\n",
    "            array_from_conc_df(defect, annealing_dict, anneal_temperatures),\n",
    "            label=format_defect_name(defect, include_site_info_in_name=True, wout_charge=True), alpha=0.7, linestyle=\"--\", marker=\"o\")\n",
    "\n",
    "ax.scatter(expt_data[:,0], 10**(expt_data[:,1]), marker=\"x\", label=\"Expt\", c=\"C0\",\n",
    "           alpha=0.5)\n",
    "ax.set_xlabel('Anneal Temperature (K)'); ax.set_ylabel(r\"Concentration (cm$^{-3}$)\")\n",
    "ax.set_yscale(\"log\")  # log scale\n",
    "ax.set_xlim(300, 1400); ax.set_ylim(1e12, 1e18)\n",
    "ax.axvspan(500+273.15, 700+273.15, alpha=0.2, color='#33A7CC')  # shade in typical anneal range  (this is specific to CdTe here!)\n",
    "ax.legend()\n",
    "f"
   ],
   "id": "b505f1cf38fc9d06"
  },
  {
   "metadata": {},
   "cell_type": "markdown",
   "source": "Here there is almost certainly some fortuitous error cancellation at play, but we see we get a reasonable qualitative agreement with the experimental data.",
   "id": "5b2fffe85497859e"
  },
  {
   "metadata": {},
   "cell_type": "markdown",
   "source": [
    "```{note}\n",
    "The same fitted-bandgap-function approach used here can be applied with calculated data (e.g. from DFT electron-phonon coupling calculations). Ideally, this would also account for the asymmetric shifting of the band edges (and thermal effects on defect free energies) – the source code for `scissor_dos` may be a useful template if attempting this.\n",
    "```"
   ],
   "id": "24a621ad1f5df758"
  },
  {
   "metadata": {},
   "cell_type": "markdown",
   "source": "## Carrier / Defect concentrations vs (μ, T)",
   "id": "18878ba5679cd584"
  },
  {
   "metadata": {},
   "cell_type": "markdown",
   "source": "To analyse the behaviour of native defects & carrier concentrations in CdTe more extensively, let's scan over a grid of chemical potentials and annealing temperatures, and calculate the corresponding defect and carrier concentrations. To do this, let's first define a function which interpolates over our chemical potential space in one-dimension:",
   "id": "df55d1f069b666a1"
  },
  {
   "metadata": {},
   "cell_type": "code",
   "outputs": [],
   "execution_count": null,
   "source": [
    "from doped.thermodynamics import get_X_poor_limit, get_X_rich_limit\n",
    "\n",
    "# here we're going from Te-poor to Te-rich, but this can be adjusted for your specific case!\n",
    "poor_limit_chempots = CdTe_thermo.chempots[\n",
    "    \"limits_wrt_el_refs\"][get_X_poor_limit(\"Te\", CdTe_thermo.chempots)]  # get the Te-poor limit\n",
    "rich_limit_chempots = CdTe_thermo.chempots[\n",
    "    \"limits_wrt_el_refs\"][get_X_rich_limit(\"Te\", CdTe_thermo.chempots)]  # get the Te-rich limit\n",
    "\n",
    "def chempots_at_x(x, poor_limit_chempots=poor_limit_chempots, rich_limit_chempots=rich_limit_chempots):\n",
    "    x_dict = {}\n",
    "    for el, poor_val in poor_limit_chempots.items():\n",
    "        x_dict[el] = poor_val + x * (rich_limit_chempots[el] - poor_val)\n",
    "    return x_dict"
   ],
   "id": "875d6dd8f30823e2"
  },
  {
   "metadata": {},
   "cell_type": "markdown",
   "source": [
    "```{tip}\n",
    "For a binary system like CdTe, the choice of chemical potential points to interpolate between is simple, but for more complex ternary/quaternary etc systems, you may want to test a few chemical potential limits to interpolate between!\n",
    "```"
   ],
   "id": "911eb78ac4ced8dd"
  },
  {
   "metadata": {},
   "cell_type": "markdown",
   "source": "We can then run this loop to calculate our defect/carrier concentrations over a range of temperatures and chemical potentials, and save the data to file to prevent having to re-run this parsing:",
   "id": "b479a0eee09d78a8"
  },
  {
   "metadata": {},
   "cell_type": "markdown",
   "source": [
    "```{tip}\n",
    "This loop takes ~2 minutes to run on a Macbook Pro, but if you want to skip this, you can just load the pre-computed data with `dict_list = loadfn(\"CdTe/CdTe_2D_defect_carrier_concentrations.json.gz\")` as shown in the next cell.\n",
    "```"
   ],
   "id": "dbe80bb5b2b9dac4"
  },
  {
   "metadata": {},
   "cell_type": "code",
   "outputs": [],
   "execution_count": null,
   "source": [
    "from tqdm import tqdm\n",
    "from monty.serialization import dumpfn\n",
    "from joblib import Parallel, delayed, cpu_count\n",
    "\n",
    "anneal_temperatures = np.linspace(300, 1400, 100)  # 100 temperature datapoints from 300K to 1400K\n",
    "chempot_x = np.linspace(0, 1, 100)  # 100 chemical potential datapoints from X-poor to X-rich\n",
    "kwargs_list = []\n",
    "\n",
    "for x in chempot_x:\n",
    "    relative_chempots = chempots_at_x(x)\n",
    "    for anneal_temp in anneal_temperatures:\n",
    "        band_gap_shift = band_gap_linear_fit(anneal_temp) - 1.5  # 1.5 eV is our DFT (and room temp) gap\n",
    "        # Note that we now use `delta_gap` to specify the band gap change from original DFT DOS to\n",
    "        # the anneal temp, which symmetrically renormalises the DOS (moving VBM and CBM by Eg/2) when\n",
    "        # calculating Fermi level & e/h concentrations at the annealing temperature\n",
    "        kwargs_list.append(\n",
    "            {\"annealing_temperature\": anneal_temp,\n",
    "             \"delta_gap\": band_gap_shift,\n",
    "             \"chempots\": relative_chempots,\n",
    "             \"skip_formatting\": True,\n",
    "             \"return_annealing_values\": True})\n",
    "\n",
    "# here I use joblib Parallel multiprocessing to speed up computation over this large grid\n",
    "# with batch_size set flexibly to optimise speed\n",
    "results = Parallel(n_jobs=-1, verbose=1, batch_size=int(len(kwargs_list)/(cpu_count()*10)))(\n",
    "    delayed(CdTe_thermo.get_fermi_level_and_concentrations)(\n",
    "        **kwargs) for kwargs in tqdm(kwargs_list))\n",
    "# using the built-in multiprocessing module is awkward here as it doesn't allow kwargs to be\n",
    "# passed to the underlying function, or for picklable functions to be defined in a notebook\n",
    "\n",
    "# alternatively we can run without parallel processing, with:\n",
    "# results = [\n",
    "#     CdTe_thermo.get_fermi_level_and_concentrations(**kwargs) for kwargs in tqdm(kwargs_list)]\n",
    "\n",
    "dict_list = []\n",
    "for result in results:\n",
    "    (fermi_level, e_conc, h_conc, conc_df,\n",
    "     annealing_fermi_level, annealing_e_conc, annealing_h_conc, _annealing_conc_df\n",
    "     ) = result\n",
    "    conc_dict = {\n",
    "        \"annealing_fermi_level\": annealing_fermi_level,\n",
    "        \"annealing_e_conc\": annealing_e_conc,\n",
    "        \"annealing_h_conc\": annealing_h_conc,\n",
    "        \"fermi_level\": fermi_level,\n",
    "        \"e_conc\": e_conc,\n",
    "        \"h_conc\": h_conc,\n",
    "        \"conc_df\": conc_df\n",
    "    }\n",
    "    dict_list.append((x, anneal_temp, conc_dict))\n",
    "\n",
    "dumpfn(dict_list, \"CdTe/CdTe_2D_defect_carrier_concentrations.json.gz\")"
   ],
   "id": "51b6e603d764349"
  },
  {
   "metadata": {},
   "cell_type": "code",
   "outputs": [],
   "execution_count": null,
   "source": [
    "# # if skipping re-calculation above, run this:\n",
    "# from monty.serialization import loadfn\n",
    "# dict_list = loadfn(\"CdTe/CdTe_2D_defect_carrier_concentrations.json.gz\")"
   ],
   "id": "94d19d73a7e6d6f5"
  },
  {
   "metadata": {},
   "cell_type": "markdown",
   "source": "Plot carrier concentrations as a 2D heatmap:",
   "id": "73233d36cc8b8f4d"
  },
  {
   "metadata": {},
   "cell_type": "code",
   "outputs": [],
   "execution_count": null,
   "source": [
    "import matplotlib\n",
    "from matplotlib.colors import SymLogNorm\n",
    "\n",
    "# get doping concentrations (p - n) to plot:\n",
    "dict_array_vals = {k: np.array([conc_dict[k] for conc_dict in np.array(dict_list)[:, 2]]) for k in dict_list[0][2].keys()}\n",
    "doping_concentration = dict_array_vals[\"h_conc\"] - dict_array_vals[\"e_conc\"]  # p - n\n",
    "\n",
    "f,ax = plt.subplots()\n",
    "# define diverging colourmap, from blue to white to orange, quadratically:\n",
    "colour_list = [\"C0\", \"#D8E6F1\", \"white\", \"#FDE5D0\", \"C1\"]; colour_list.reverse()  # of course can use any other colourmap of your choosing here\n",
    "cmap = matplotlib.colors.LinearSegmentedColormap.from_list(\"\", colour_list)\n",
    "mappable = ax.imshow(\n",
    "    doping_concentration.reshape(len(chempot_x), len(anneal_temperatures)),\n",
    "    extent=[min(anneal_temperatures), max(anneal_temperatures), min(chempot_x), max(chempot_x)],  # reverse y axis\n",
    "    aspect=\"auto\", origin=\"lower\", cmap=cmap, interpolation=\"gaussian\", \n",
    "    norm=SymLogNorm(linthresh=5e11, vmin=-1e17, vmax=1e17))  # set normalisation of colourmap\n",
    "\n",
    "# add contour lines at p = 1e13, n = 1e13, 1e14, 1e15, 1e16 to help illustrate:\n",
    "ax.contour(anneal_temperatures, chempot_x,\n",
    "           doping_concentration.reshape(len(chempot_x), len(anneal_temperatures)),\n",
    "           levels=[-1e16, -1e15, -1e14, -1e13], colors=\"k\", alpha=0.5, linestyles=\"--\")\n",
    "ax.contour(anneal_temperatures, chempot_x,\n",
    "           doping_concentration.reshape(len(chempot_x), len(anneal_temperatures)),\n",
    "           levels=[1e13, ], colors=\"k\", alpha=0.5, linestyles=\"--\")\n",
    "\n",
    "ax.set_xlim(500, 1400); ax.set_yticks([0, 1])\n",
    "ax.set_yticklabels([\"Cd-Rich\", \"Te-Rich\"])  # here Te-poor = Cd-rich\n",
    "\n",
    "cbar = f.colorbar(mappable, ax=ax, ticks=[-1e17, -1e15, -1e13, 0, 1e13, 1e15, 1e17])\n",
    "cbar.set_label(r\"$p\\ -\\ n$ (cm$^{-3}$)\")  # add and label colourbar\n",
    "ax.set_xlabel(\"Anneal Temperature (K)\"); ax.set_ylabel(\"Chemical Potential\", labelpad=-30)\n",
    "f"
   ],
   "id": "54ce5214dc2e84dd"
  },
  {
   "metadata": {},
   "cell_type": "markdown",
   "source": [
    "Here we see that while a greater portion of chemical potential & temperature space for _intrinsic_ CdTe results in _p_-type doping, the hole concentration remains relatively low, just above $10^{13}$ cm$^{-3}$. Under Cd-rich conditions on the other hand, we obtain much higher electron carrier concentrations (~$10^{17}$ cm$^{-3}$ at high temperatures).\n",
    "\n",
    "We can perform similar heatmap analyses of specific defect concentrations, Fermi level positions etc."
   ],
   "id": "53a3f03b810b0441"
  },
  {
   "metadata": {},
   "cell_type": "markdown",
   "source": "## CdTe: Defect Concentrations vs μ",
   "id": "cc03492f12f9a15f"
  },
  {
   "metadata": {},
   "cell_type": "markdown",
   "source": "Finally, let's plot the defect concentrations as a function of chemical potential, at a fixed annealing temperature of 900 K:",
   "id": "7ab21a8529e316e"
  },
  {
   "metadata": {},
   "cell_type": "code",
   "outputs": [],
   "execution_count": null,
   "source": [
    "dict_list_900K = [d for d in dict_list if d[1] == 900]  # select dicts for 900K annealing\n",
    "dict_array_vals_900K = {k: [\n",
    "    conc_dict[k] for conc_dict in np.array(dict_list_900K)[:, 2]] for k in dict_list_900K[0][2].keys()}"
   ],
   "id": "e3e8570990bd81d7"
  },
  {
   "metadata": {},
   "cell_type": "code",
   "outputs": [],
   "execution_count": null,
   "source": "conc_df_array_900K = dict_array_vals_900K[\"conc_df\"]",
   "id": "9a9dcb050dfa2ce7"
  },
  {
   "metadata": {},
   "cell_type": "code",
   "outputs": [],
   "execution_count": null,
   "source": [
    "defect_conc_dict_900K = {\n",
    "    defect_charge_tuple.split(\"', \")[0]: np.array([\n",
    "        conc_df_array_900K[i][\"Total Concentration (cm^-3)\"].loc[defect_charge_tuple]\n",
    "        for i in range(len(conc_df_array_900K))]) for defect_charge_tuple in conc_df_array_900K[0].index\n",
    "}"
   ],
   "id": "6a8bec268967fa4c"
  },
  {
   "metadata": {},
   "cell_type": "code",
   "outputs": [],
   "execution_count": null,
   "source": [
    "f, ax = plt.subplots(figsize=(7,3.5))\n",
    "\n",
    "plt.rcParams[\"lines.markersize\"] = 4\n",
    "# plot carrier concentrations:\n",
    "ax.plot(chempot_x, dict_array_vals_900K[\"h_conc\"], label='p', lw=2, linestyle=\"--\") \n",
    "ax.plot(chempot_x, dict_array_vals_900K[\"e_conc\"], label='n', lw=2, linestyle=\"--\")\n",
    "ax.plot(chempot_x, dict_array_vals_900K[\"annealing_h_conc\"], \n",
    "        label='p ($T_{anneal}$)', c=\"C0\", linestyle=\"--\", alpha=0.5)\n",
    "ax.plot(chempot_x, dict_array_vals_900K[\"annealing_e_conc\"], \n",
    "        label='n ($T_{anneal}$)', c=\"C1\", linestyle=\"--\", alpha=0.5)\n",
    "\n",
    "for defect, conc_array in defect_conc_dict_900K.items():\n",
    "    ax.plot(chempot_x, conc_array, \n",
    "            label=format_defect_name(defect, include_site_info_in_name=True, wout_charge=True), alpha=0.7, linestyle=\"--\", marker=\"o\")\n",
    "\n",
    "ax.set_xlabel(\"Chemical Potential\"); ax.set_ylabel(r\"Concentration (cm$^{-3}$)\")\n",
    "ax.set_yscale(\"log\"); ax.set_xlim(0, 1); ax.set_ylim(8e11, 1.35e16)\n",
    "ax.set_xticks([0,1]); ax.set_xticklabels([\"Cd-Rich\", \"Te-Rich\"])  # here Te-poor = Cd-rich\n",
    "\n",
    "# add ticks and ticklabels on both left and right yaxis:\n",
    "ax3 = ax.twinx(); ax3.set_ylim(8e11, 1.35e16); ax3.set_yscale(\"log\")\n",
    "f.legend(loc=\"right\", bbox_to_anchor=(1.15, 0.5))\n",
    "f.tight_layout()\n",
    "f"
   ],
   "id": "60cc0f34637a3123"
  },
  {
   "metadata": {},
   "cell_type": "markdown",
   "source": [
    "```{tip}\n",
    "Note that the effects of metastable defect states on defect & carrier concentrations are included in this analysis, where they may have significant concentrations particularly at elevated annealing temperatures, contributing to the 'effective degeneracy' and thus overall concentration of the defect species.\n",
    "```"
   ],
   "id": "1560b8816f16239f"
  },
  {
   "metadata": {},
   "cell_type": "code",
   "outputs": [],
   "execution_count": null,
   "source": [
    "f,ax = plt.subplots(figsize=(7, 3.5))\n",
    "\n",
    "ax.plot(chempot_x, dict_array_vals_900K[\"annealing_fermi_level\"], marker='o',\n",
    "        label=\"$E_F$ during annealing (@ $T_{anneal}$)\", color = \"k\", alpha=0.25)\n",
    "ax.plot(chempot_x, dict_array_vals_900K[\"fermi_level\"], marker='o',\n",
    "        label=\"$E_F$ upon cooling (@ $T$ = 300K)\", color = \"k\", alpha=0.9)\n",
    "\n",
    "ax.set_xlabel(\"Chemical Potential\"); ax.set_ylabel('Fermi Level wrt VBM (eV)') \n",
    "ax.set_xlim(0, 1); ax.set_xticks([0, 1]) \n",
    "ax.set_xticklabels([\"Cd-Rich\", \"Te-Rich\"])  # here Te-poor = Cd-rich\n",
    "\n",
    "ax3 = ax.twinx(); ax3.set_ylim(-0.2, band_gap+0.2)  # show tick labels on both sides\n",
    "ax.set_ylim(-0.2, band_gap+0.2); ax.legend()\n",
    "\n",
    "# show VB in blue and CB in orange:\n",
    "ax.imshow([(1, 1), (0, 0)], cmap=plt.cm.Blues, extent=(ax.get_xlim()[0], ax.get_xlim()[1], -0.3, 0),\n",
    "          vmin=0, vmax=3, interpolation=\"bicubic\", rasterized=True, aspect=\"auto\")\n",
    "ax.imshow([(0, 0,), (1, 1)], cmap=plt.cm.Oranges, extent=(ax.get_xlim()[0], ax.get_xlim()[1], band_gap, band_gap+0.3),\n",
    "          vmin=0, vmax=3, interpolation=\"bicubic\", rasterized=True, aspect=\"auto\",)\n",
    "f"
   ],
   "id": "2cd8c2395b9335df"
  },
  {
   "metadata": {},
   "cell_type": "markdown",
   "source": "## Notes",
   "id": "d54b2764033c93b8"
  },
  {
   "metadata": {},
   "cell_type": "markdown",
   "source": [
    "```{important}\n",
    "We can perform all this analysis when we have included extrinsic defects in our calculated defect dataset as well, in order to investigate the predicted doping behaviour of extrinsic species.\n",
    "```"
   ],
   "id": "4a579499333ee0c3"
  },
  {
   "metadata": {},
   "cell_type": "markdown",
   "source": [
    "```{tip}\n",
    "The ’frozen defect’ approximation illustrated in these examples may not be totally applicable in cases where the material is slowly cooled from the annealing temperatures (allowing quasi-equilibrium to be attained at lower temperatures) or for highly-mobile defects which can migrate and potentially annihilate at room/operating temperatures (e.g. Li in battery materials). \n",
    "\n",
    "In such cases, more detailed/complex models are required to accurately predict the defect and carrier thermodynamics and electronic response. The `FermiSolver` class in `doped.thermodynamics` can be used to implement these more fine-grained constraints and approximations in defect concentration calculations; such as specifying (known) fixed concentrations of a defect/dopant, specifying defects to exclude from high-temperature concentration fixing in the frozen defect approximation (e.g. highly-mobile defects), and/or fixing defect charge states upon quenching -- as well as implementing a number of convenience methods for thermodynamic analyses; such as scanning over temperatures, chemical potentials, effective dopant concentrations etc, minimising or maximising a target property (e.g. defect/carrier concentration). See the [Advanced Defect/Carrier Concentration Analysis](https://doped.readthedocs.io/en/latest/fermisolver_tutorial.html) for example usage.\n",
    "```"
   ],
   "id": "6abdbf4572928ab9"
  }
 ],
 "metadata": {
  "kernelspec": {
   "display_name": "Python 3 (ipykernel)",
   "language": "python",
   "name": "python3"
  },
  "language_info": {
   "codemirror_mode": {
    "name": "ipython",
    "version": 3
   },
   "file_extension": ".py",
   "mimetype": "text/x-python",
   "name": "python",
   "nbconvert_exporter": "python",
   "pygments_lexer": "ipython3",
   "version": "3.10.11"
  }
 },
 "nbformat": 4,
 "nbformat_minor": 5
}
