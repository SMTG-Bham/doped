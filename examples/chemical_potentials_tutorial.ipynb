{
 "cells": [
  {
   "cell_type": "markdown",
   "id": "af8ea7ea-fd3e-4b63-9f5b-6a9cb06d2f31",
   "metadata": {
    "editable": true,
    "slideshow": {
     "slide_type": ""
    },
    "tags": []
   },
   "source": [
    "# Competing Phases\n",
    "\n",
    "To calculate the limiting chemical potentials of elements in the material (needed for calculating the defect formation energies) we need to consider the energies of all competing phases. `doped` does this by calling the `CompetingPhases` Class, which then queries Materials Project to obtain all the relevant competing phases to be calculated.\n",
    "In some cases the Materials Project may not have all known phases in a certain chemical space, so it's a good idea to cross-check the generated competing phases with the [ICSD](https://icsd.products.fiz-karlsruhe.de/) in case you suspect any are missing.\n",
    "\n",
    "For this functionality to work correctly, you must have POTCARs set up to work with `pymatgen` and you will also need an [API key](https://legacy.materialsproject.org/open) for the Materials Project (both of which are described on the [Installation docs page](https://doped.readthedocs.io/en/latest/Installation.html)).\n",
    "\n",
    "- Note that at present this uses the 'Legacy API' from the Materials Project, and so the API key you use (either in `~/.pmgrc.yaml` or supplied to `CompetingPhases` with the `api_key` parameter) should correspond to the Materials Project legacy API. This key can be found [here](https://legacy.materialsproject.org/dashboard)."
   ]
  },
  {
   "cell_type": "code",
   "execution_count": null,
   "id": "0419fb19-2c7a-40e8-a563-6df9de31451e",
   "metadata": {
    "collapsed": false
   },
   "outputs": [],
   "source": [
    "from doped.chemical_potentials import CompetingPhases"
   ]
  },
  {
   "cell_type": "markdown",
   "source": [
    "For example, if we want to calculate the chemical potentials with ZrO<sub>2</sub> as our host material, we would generate the relevant competing phases like so:"
   ],
   "metadata": {
    "collapsed": false
   },
   "id": "932879e48aef718a"
  },
  {
   "cell_type": "code",
   "outputs": [],
   "source": [
    "cp = CompetingPhases(\"ZrO2\")  # default e_above_hull = 0.1 eV/atom\n",
    "# if you don't have your MP API key set up in ~/.pmgrc.yaml, you can supply it as a parameter in this function"
   ],
   "metadata": {
    "collapsed": false
   },
   "id": "8cb800ac5d137bd5"
  },
  {
   "cell_type": "markdown",
   "source": [
    "```{note}\n",
    "**Note:** The current algorithm for how `doped` queries the Materials Project (MP) and determines relevant competing phases to be calculated, is that it first queries the MP for all phases with energies above hull less than `e_above_hull` (optional parameter in `CompetingPhases()`) in eV/atom in the chemical space of the host material. It then determines which of these phases border the host material in the phase diagram (i.e. which are competing phases and thus determine the chemical potentials), as well as which phases _would_ border the host material if their energies were downshifted by `e_above_hull`. The latter are included as well, and so `e_above_hull` acts as an uncertainty range for the MP-calculated formation energies, which may not be accurate due to functional choice (GGA vs hybrid DFT / GGA+U / RPA etc.), lack of vdW corrections etc.\n",
    "```"
   ],
   "metadata": {
    "collapsed": false
   },
   "id": "901c0c8a03cd2153"
  },
  {
   "cell_type": "markdown",
   "id": "abcb7056",
   "metadata": {
    "editable": true,
    "slideshow": {
     "slide_type": ""
    },
    "tags": []
   },
   "source": [
    "`cp.entries` contains `pymatgen` `ComputedStructureEntry` objects for all the relevant competing phases, which includes useful data such as their structures, magnetic moment and (MP-calculated GGA) band gaps."
   ]
  },
  {
   "cell_type": "code",
   "outputs": [],
   "source": [
    "print(len(cp.entries))\n",
    "print([entry.name for entry in cp.entries])"
   ],
   "metadata": {
    "collapsed": false
   },
   "id": "7965dbb1d33b3fae"
  },
  {
   "cell_type": "markdown",
   "source": [
    "We can plot our phase diagram like this, which can show why certain phases are included as competing phases:"
   ],
   "metadata": {
    "collapsed": false
   },
   "id": "b84daea6e5a2c405"
  },
  {
   "cell_type": "code",
   "outputs": [],
   "source": [
    "import doped\n",
    "import matplotlib.pyplot as plt\n",
    "plt.rcdefaults()\n",
    "plt.style.use(f\"{doped.__path__[0]}/utils/doped.mplstyle\")  # use doped style\n",
    "from pymatgen.ext.matproj import MPRester\n",
    "from pymatgen.analysis.phase_diagram import PhaseDiagram, PDPlotter\n",
    "\n",
    "system = [\"Zr\", \"O\"]  # system we want to get phase diagram for\n",
    "mpr = MPRester()  # object for connecting to MP Rest interface, may need to specify API key here\n",
    "entries = mpr.get_entries_in_chemsys(system)  # get all entries in the chemical system\n",
    "pd = PhaseDiagram(entries)  # create phase diagram object\n",
    "plotter = PDPlotter(pd, show_unstable=0.1, backend=\"matplotlib\")  # plot phase diagram\n",
    "plot = plotter.get_plot()"
   ],
   "metadata": {
    "collapsed": false
   },
   "id": "986f28b61e01a50"
  },
  {
   "cell_type": "markdown",
   "source": [
    "In this case, we see that there are many low-energy polymorphs of ZrO<sub>2</sub> on the MP database. If for example we had already calculated the different polymorphs of ZrO<sub>2</sub> and knew the MP-predicted groundstate (i.e. with MP-calculated energy above hull of zero) was indeed the groundstate with our chosen DFT setup, we could then remove the extra ZrO<sub>2</sub> phases here like so:"
   ],
   "metadata": {
    "collapsed": false
   },
   "id": "1fba855dc687edbe"
  },
  {
   "cell_type": "code",
   "outputs": [],
   "source": [
    "cp.entries = [entry for entry in cp.entries if entry.name != \"ZrO2\" or entry.data[\"e_above_hull\"] == 0]\n",
    "print(len(cp.entries))\n",
    "print([entry.name for entry in cp.entries])"
   ],
   "metadata": {
    "collapsed": false
   },
   "id": "b2c3faefb3192827"
  },
  {
   "cell_type": "markdown",
   "source": [
    "Similarly, if we had prior knowledge that the Materials Project data was accurate for our chosen host material, or were doing a high-throughput investigation where we were happy to sacrifice some accuracy/completeness for efficiency, we could set `e_above_hull` to zero (i.e. total confidence in the MP data):"
   ],
   "metadata": {
    "collapsed": false
   },
   "id": "9ca1bd2a8f373b51"
  },
  {
   "cell_type": "code",
   "outputs": [],
   "source": [
    "cp = CompetingPhases(\"ZrO2\", e_above_hull=0)\n",
    "print(len(cp.entries))\n",
    "print([entry.name for entry in cp.entries])"
   ],
   "metadata": {
    "collapsed": false
   },
   "id": "38da4a8cb24c936f"
  },
  {
   "cell_type": "markdown",
   "source": [
    "Indeed, if we plot our phase diagram again, only showing the stable MP entries, we see that only Zr<sub>3</sub>O and O<sub>2</sub> border ZrO<sub>2</sub>, and so these (plus any remaining elements; i.e. Zr here) are the only competing phases generated with `e_above_hull = 0`:"
   ],
   "metadata": {
    "collapsed": false
   },
   "id": "5f26294188113ada"
  },
  {
   "cell_type": "code",
   "outputs": [],
   "source": [
    "plotter = PDPlotter(pd, show_unstable=0, backend=\"matplotlib\")  # plot phase diagram\n",
    "plot = plotter.get_plot()"
   ],
   "metadata": {
    "collapsed": false
   },
   "id": "715cc96659013ca4"
  },
  {
   "cell_type": "markdown",
   "source": [
    "Just to illustrate, this is what our phase diagram would look like for a ternary system like Cu$_2$SiSe$_3$ ([a promising solar absorber](https://pubs.rsc.org/en/content/articlelanding/2023/ta/d3ta02429f)):"
   ],
   "metadata": {
    "collapsed": false
   },
   "id": "60efc6a152ae17ec"
  },
  {
   "cell_type": "code",
   "outputs": [],
   "source": [
    "system = [\"Cu\", \"Si\", \"Se\"]  # system we want to get phase diagram for\n",
    "mpr = MPRester()  # object for connecting to MP Rest interface, may need to specify API key here\n",
    "entries = mpr.get_entries_in_chemsys(system)  # get all entries in the chemical system\n",
    "pd = PhaseDiagram(entries)  # create phase diagram object\n",
    "plotter = PDPlotter(pd, show_unstable=0.01, backend=\"matplotlib\")  # plot phase diagram\n",
    "plot = plotter.get_plot()"
   ],
   "metadata": {
    "collapsed": false
   },
   "id": "c182163866ba303f"
  },
  {
   "cell_type": "markdown",
   "source": [
    "## Generating input files\n",
    "We can then set up the competing phase calculations with `doped` as described below, or use the `pymatgen` `ComputedStructureEntry` objects in `cp.entries` to set these up in your desired format with `python` / [`atomate`](https://atomate.org/) / [`AiiDA`](https://www.aiida.net/) etc.\n",
    "\n",
    "k-points convergence testing is done at GGA (PBEsol by default) and is set up to account for magnetic moment convergence as well. Here we interface with [vaspup2.0](https://github.com/kavanase/vaspup2.0) to make it easy to use on the HPCs (with the `generate-converge` command to run the calculations and `data-converge` to quickly parse and analyse the results).\n",
    "\n",
    "You may want to change the default `ENCUT` (350 eV) or k-point densities that the convergence tests span (5 - 60 kpoints/Å<sup>3</sup> for semiconductors & insulators and 40 - 120 kpoints/Å<sup>3</sup> for metals in steps of 5 kpoints/Å<sup>3</sup>). Note that `ISMEAR = -5` is used for metals by default (better kpoint convergence for energies but should not be used during metal geometry relaxations) and k-point convergence testing is not required for molecules (Γ-point sampling is sufficient).\n",
    "\n",
    "Note that `doped` generates \"molecule in a box\" structures for the gaseous elemental phases\n",
    "H<sub>2</sub>, O<sub>2</sub>, N<sub>2</sub>, F<sub>2</sub> and Cl<sub>2</sub>. The molecule is placed in\n",
    " a slightly-symmetry-broken (to avoid metastable electronic solutions) 30 Å cuboid box, and relaxed with Γ-point-only k-point sampling.\n",
    "\n",
    "The kpoints convergence calculations are set up with:"
   ],
   "metadata": {
    "collapsed": false
   },
   "id": "73ada8a0367fa49b"
  },
  {
   "cell_type": "code",
   "outputs": [],
   "source": [
    "cp.convergence_setup(user_incar_settings={'GGA': \"PE\"})  # For custom INCAR settings, any flags that aren't numbers or True/False need to be input as strings with quotation marks"
   ],
   "metadata": {
    "collapsed": false
   },
   "id": "766ad56fd6051b04"
  },
  {
   "cell_type": "code",
   "execution_count": 9,
   "id": "f82a96f5-e1d0-4650-98ce-7500e23715ab",
   "metadata": {
    "ExecuteTime": {
     "end_time": "2023-08-21T11:50:08.862974Z",
     "start_time": "2023-08-21T11:50:04.597022Z"
    }
   },
   "outputs": [
    {
     "name": "stdout",
     "output_type": "stream",
     "text": [
      "O2 is a molecule in a box, does not need convergence testing\n"
     ]
    }
   ],
   "source": [
    "!ls competing_phases/Zr3O_EaH_0\n",
    "!ls competing_phases/Zr3O_EaH_0/kpoint_converge"
   ]
  },
  {
   "cell_type": "markdown",
   "source": [
    "This creates a folder called `competing_phases` with all the relevant competing phases and k-point convergence test calculation directories. The naming format is `<Formula>_EaH_<MP Energy above Hull>` ('EaH' stands for 'Energy above Hull'). These can be quickly run on HPCs using [vaspup2.0](https://github.com/kavanase/vaspup2.0), by creating a `job` file for the HPC scheduler (`vaspup2.0` example [here](https://github.com/kavanase/vaspup2.0/blob/master/input/job)), copying it into each directory and running the calculation with a `bash` loop like:\n",
    "\n",
    "```bash\n",
    "for i in *EaH*  # (in the competing_phases directory) – for each competing phase\n",
    "do cp job $i/kpoint_converge\n",
    "cd $i/kpoint_converge\n",
    "for k in k*   # for each kpoint calculation directory\n",
    "do cp job $k\n",
    "cd $k\n",
    "qsub job  # may need to change 'qsub' to 'sbatch' if the HPC scheduler is SLURM\n",
    "cd ..\n",
    "done\n",
    "cd ../..\n",
    "done\n",
    "```\n",
    "\n",
    "Within each competing phase directory in `competing_phases`, the `vaspup2.0` `data-converge` command can be run to quickly parse the results and determine the converged _k_-mesh (see the [vaspup2.0](https://github.com/kavanase/vaspup2.0) homepage for examples)."
   ],
   "metadata": {
    "collapsed": false
   },
   "id": "4c2f44b41f28436a"
  },
  {
   "cell_type": "markdown",
   "id": "185b1b50-48e0-4ab6-94e3-c3548a61ced4",
   "metadata": {},
   "source": [
    "Next, you want to relax each competing phase with the converged k-point mesh, and calculate the energy with the same DFT functional and settings as your defect supercell calculations. `doped` can generate these folders for the relaxations of the competing phases.\n",
    "\n",
    "The _k_-point meshes are Γ-centred (as opposed to Monkhorst-Pack) by default. By default `doped` will\n",
    "make the inputs assuming a HSE06 `INCAR` (see [`HSESet.yaml`](https://github.com/SMTG-Bham/doped/tree/main/doped/VASP_sets/HSESet.yaml) for default values) and kpoint densities of 95 kpoints/Å<sup>3</sup> for metals and 45 kpoints/Å<sup>3</sup> for semiconductors. Assuming you've followed the k-point convergence testing workflow above, you should change the `KPOINTS` file to match the converged mesh in each case, however the default densities are good starting points. `doped` will automatically set `SIGMA` and `ISMEAR` accordingly depending on whether the phase is a semiconductor or metal, and will set `NUPDOWN` appropriately for molecules (i.e. O<sub>2</sub> has triplet spin).\n",
    "\n",
    "These relaxations can be set up with:"
   ]
  },
  {
   "cell_type": "code",
   "outputs": [],
   "source": [
    "cp.vasp_std_setup(user_incar_settings={'ENCUT':600})  # For custom INCAR settings, any flags that aren't numbers or True/False need to be input as strings with quotation marks"
   ],
   "metadata": {
    "collapsed": false
   },
   "id": "a7c603bcbdc85155"
  },
  {
   "cell_type": "code",
   "execution_count": 11,
   "id": "612b30eb-63b2-4bf9-8947-794bdfdbb5a1",
   "metadata": {
    "ExecuteTime": {
     "end_time": "2023-08-21T11:50:22.198874Z",
     "start_time": "2023-08-21T11:50:21.703758Z"
    }
   },
   "outputs": [],
   "source": [
    "!ls competing_phases/Zr3O_EaH_0\n",
    "!ls competing_phases/Zr3O_EaH_0/vasp_std"
   ]
  },
  {
   "cell_type": "markdown",
   "source": [
    "Remember that the final `ENCUT` used for the energy calculations should be the same as for your host\n",
    "material & defects, and that you may still need to account for Pulay stress by increasing `ENCUT` for\n",
    "the geometry relaxations (a typical rule of thumb being 1.3*converged `ENCUT`) or re-relaxing each\n",
    "structure until the volume change is minimal (roughly <0.3%). This is not the case for the\n",
    "molecule-in-a-box competing phases however, due to the large simulation box size and fixed volume."
   ],
   "metadata": {
    "collapsed": false
   },
   "id": "621f6eb8e7815ba5"
  },
  {
   "cell_type": "markdown",
   "id": "7e57cb66",
   "metadata": {},
   "source": [
    "### Extrinsic Competing Phases\n",
    "\n",
    "If you're investigating extrinsic impurities/doping in your system, you also need to calculate the chemical potentials for these extrinsic species, which can be done using `doped` in a similar fashion as for the intrinsic species:"
   ]
  },
  {
   "cell_type": "code",
   "outputs": [],
   "source": [
    "from doped.chemical_potentials import ExtrinsicCompetingPhases"
   ],
   "metadata": {
    "collapsed": false
   },
   "id": "c6e620e35c3b38d"
  },
  {
   "cell_type": "code",
   "execution_count": 13,
   "id": "ce556a96-c966-4d5e-a46c-e9f2e2f3925c",
   "metadata": {
    "ExecuteTime": {
     "end_time": "2023-08-21T11:50:28.825831Z",
     "start_time": "2023-08-21T11:50:28.791468Z"
    }
   },
   "outputs": [],
   "source": [
    "ex_cp = ExtrinsicCompetingPhases(\"ZrO2\", \"La\", e_above_hull=0.03)"
   ]
  },
  {
   "cell_type": "code",
   "execution_count": 14,
   "id": "9cc1b302-7b69-4c26-b906-8a7c67366d87",
   "metadata": {
    "ExecuteTime": {
     "end_time": "2023-08-21T11:50:33.848234Z",
     "start_time": "2023-08-21T11:50:30.681365Z"
    }
   },
   "outputs": [],
   "source": [
    "len(ex_cp.entries)\n",
    "print([entry.name for entry in ex_cp.entries])"
   ]
  },
  {
   "cell_type": "markdown",
   "source": [
    "The same competing phase generation algorithm as described above is used for extrinsic competing phases, ensuring no unnecessary additional phases are generated."
   ],
   "metadata": {
    "collapsed": false
   },
   "id": "cc654d6729f28df"
  },
  {
   "cell_type": "markdown",
   "id": "c5138ae8",
   "metadata": {},
   "source": [
    "The setup for convergence testing and relaxations is done in the exact same way as before:"
   ]
  },
  {
   "cell_type": "code",
   "outputs": [],
   "source": [
    "ex_cp.convergence_setup(user_incar_settings={'ENCUT':550})  # For custom INCAR settings, any flags that aren't numbers or True/False need to be input as strings with quotation marks"
   ],
   "metadata": {
    "collapsed": false
   },
   "id": "dc6d5d5920a71535"
  },
  {
   "cell_type": "code",
   "execution_count": 16,
   "id": "c1dc6347-dc19-4dc5-89ee-963b452efac9",
   "metadata": {
    "ExecuteTime": {
     "end_time": "2023-08-21T11:50:44.312253Z",
     "start_time": "2023-08-21T11:50:39.503941Z"
    }
   },
   "outputs": [],
   "source": [
    "!ls competing_phases/La2Zr2O7_EaH_0\n",
    "!ls competing_phases/La2Zr2O7_EaH_0/kpoint_converge"
   ]
  },
  {
   "cell_type": "code",
   "execution_count": 17,
   "id": "70e76723",
   "metadata": {
    "ExecuteTime": {
     "end_time": "2023-08-21T11:50:45.514333Z",
     "start_time": "2023-08-21T11:50:45.118030Z"
    },
    "collapsed": false
   },
   "outputs": [
    {
     "name": "stdout",
     "output_type": "stream",
     "text": [
      "\u001B[1m\u001B[36mkpoint_converge\u001B[m\u001B[m\n",
      "\u001B[1m\u001B[36mk1,1,1\u001B[m\u001B[m \u001B[1m\u001B[36mk2,2,2\u001B[m\u001B[m \u001B[1m\u001B[36mk3,3,3\u001B[m\u001B[m\n"
     ]
    }
   ],
   "source": [
    "ex_cp.vasp_std_setup(user_incar_settings={'ENCUT':550})  # For custom INCAR settings, any flags that aren't numbers or True/False need to be input as strings with quotation marks"
   ]
  },
  {
   "cell_type": "code",
   "execution_count": 18,
   "id": "bcd15fbb-9ce8-4982-810a-6b63d8f18d17",
   "metadata": {
    "ExecuteTime": {
     "end_time": "2023-08-21T11:50:49.216349Z",
     "start_time": "2023-08-21T11:50:48.449227Z"
    }
   },
   "outputs": [],
   "source": [
    "!ls competing_phases/La2Zr2O7_EaH_0\n",
    "!ls competing_phases/La2Zr2O7_EaH_0/vasp_std"
   ]
  },
  {
   "cell_type": "markdown",
   "source": [
    "## Parsing Competing Phases"
   ],
   "metadata": {
    "collapsed": false
   },
   "id": "d091181c699a39ff"
  },
  {
   "cell_type": "markdown",
   "id": "1a2a9b2c-72f1-4d0c-b85e-2ca51be03e2b",
   "metadata": {},
   "source": [
    "### Read in data from `vasprun.xml` files\n",
    "\n",
    "Once you've calculated your competing phases, you will want to parse the results to determine the chemical potential limits of your host material. To do this, we need to parse the `vasprun.xml` files from your final\n",
    "production-run competing phase calculations. To download the `vasprun.xml` files from the HPCs recursively, you can recursively `rsync`:\n",
    "\n",
    "```bash \n",
    "rsync -azvuR hpc:'path/to/the/base/folder/competing_phases/./*_EaH_*/vasp_std/vasprun.xml*' .\n",
    "```\n",
    "\n",
    "where the `/./` indicates where you'd like to start the recurse from, so you only keep the folder structure from the `formula_EaH_*` point onwards. If you've done spin-orbit coupling (SOC) calculations with results in `vasp_ncl` folders, then you need to change `vasp_std` to `vasp_ncl` above, or to whatever name you've given the production-run folders. Note that you can compress the `vasprun.xml` files to save space (with e.g. `find . -name vasprun.xml -exec gzip {} \\;`) and these will still be parsed fine by `doped`.\n",
    "\n",
    "All analysis is performed with the `CompetingPhasesAnalyzer` class, and all you need to supply it is the formula of your host system and the path to the base folder in which you have all your `formula_EaH_*/vasp_std/vasprun.xml(.gz)` files.\n",
    "\n",
    "If you did not generate your competing phases with `doped`, you can still parse them with `doped` by providing a list of paths to the `vasprun.xml(.gz)` files using `pathlib` or `os`, as shown below."
   ]
  },
  {
   "cell_type": "code",
   "outputs": [],
   "source": [
    "from doped.chemical_potentials import CompetingPhasesAnalyzer\n",
    "cpa = CompetingPhasesAnalyzer(\"ZrO2\")"
   ],
   "metadata": {
    "collapsed": false
   },
   "id": "643890c87cd24d4f"
  },
  {
   "cell_type": "code",
   "execution_count": 8,
   "id": "e273f8fa",
   "metadata": {
    "ExecuteTime": {
     "end_time": "2024-01-11T20:29:16.834829Z",
     "start_time": "2024-01-11T20:29:16.814450Z"
    }
   },
   "outputs": [],
   "source": [
    "# in this case we have our competing phases in the ZrO2 subfolder of the competing_phases folder,\n",
    "# with 'relax' subfolders in each <formula>_EaH_<energy above hull> folder\n",
    "cpa.from_vaspruns(path='./competing_phases/ZrO2/',\n",
    "                  folder='relax')"
   ]
  },
  {
   "cell_type": "markdown",
   "source": [
    "If we want to save the parsed formation energies to a csv file, we can do so by providing a filename to the `csv_path` argument:"
   ],
   "metadata": {
    "collapsed": false
   },
   "id": "c98d29862099d171"
  },
  {
   "cell_type": "code",
   "outputs": [],
   "source": [
    "cpa.from_vaspruns(path='./competing_phases/ZrO2/',\n",
    "                  folder='relax',\n",
    "                  csv_fname='competing_phases/zro2_competing_phase_energies.csv')"
   ],
   "metadata": {
    "collapsed": false
   },
   "id": "451de7a7a43f13e9"
  },
  {
   "cell_type": "markdown",
   "source": [
    "If you haven't used `doped` to generate your competing phase calculations, you can parse the data from a list of `vasprun.xml` files using `pathlib` or `os` like so:"
   ],
   "metadata": {
    "collapsed": false
   },
   "id": "6fd871d54342486c"
  },
  {
   "cell_type": "code",
   "outputs": [],
   "source": [
    "from pathlib import Path\n",
    "path = 'path/to/base'\n",
    "all_paths = []\n",
    "for p in Path(path).iterdir():\n",
    "    if not p.name.startswith('.'):\n",
    "        pp = p / 'relax' / 'vasprun.xml'\n",
    "        if pp.is_file():\n",
    "            all_paths.append(pp)\n",
    "\n",
    "cpa.from_vaspruns(all_paths)"
   ],
   "metadata": {
    "collapsed": false
   },
   "id": "1a9d0c0c4e350842"
  },
  {
   "cell_type": "markdown",
   "source": [
    "### Print Formation Energies as a `LaTeX` Table\n",
    "You may want to print out the parsed calculation results for your competing phases as a LaTeX table, to\n",
    "be included in supplementary information of journal articles or in theses, to aid open-science and reproducibility.\n",
    "The formation energies are automatically saved to a `csv` file, which can be converted to LaTeX (see\n",
    "[www.tablesgenerator.com/latex_tables](https://www.tablesgenerator.com/latex_tables)) or\n",
    "Word formats, but you can also print out a nicely-formatted LaTeX table using the `to_LaTeX_table()`\n",
    "method as shown belo –\n",
    "either as a one- or two-column table; ordered alphabetially or in descending order of energies."
   ],
   "metadata": {
    "collapsed": false
   },
   "id": "31170df473911252"
  },
  {
   "cell_type": "code",
   "outputs": [],
   "source": [
    "table = cpa.to_LaTeX_table()\n",
    "print(table)"
   ],
   "metadata": {
    "collapsed": false
   },
   "id": "8800d00cc85863b7"
  },
  {
   "cell_type": "markdown",
   "source": [
    "```{note}\n",
    "The table does not use `booktabs` by default but you can change the horizontal lines (`hline`) to\n",
    "toprule, midrule and bottomrule to get the desired style effect. The output also relies on using the\n",
    "`\\ce{}` command from the `mhchem` LaTeX package to get the correct formatting for the chemical formulae.\n",
    "```"
   ],
   "metadata": {
    "collapsed": false
   },
   "id": "1e62a2a14d5f269"
  },
  {
   "cell_type": "markdown",
   "id": "dbfaed51e5acdf17",
   "metadata": {},
   "source": [
    "### Read in data from a csv\n",
    "\n",
    "As a sidenote, you can also read in the data from a previously parsed `csv` file, as long as it contains the following headers: `'formula', 'energy_per_fu', 'energy_per_atom', 'energy', 'formation_energy'`\n"
   ]
  },
  {
   "cell_type": "code",
   "outputs": [],
   "source": [
    "cpa.from_csv('competing_phases/zro2_competing_phase_energies.csv')"
   ],
   "metadata": {
    "collapsed": false
   },
   "id": "bffb68b477e64f90"
  },
  {
   "cell_type": "code",
   "execution_count": 24,
   "id": "784d5a74-7d5d-4c1c-a481-d13fca3b098d",
   "metadata": {
    "ExecuteTime": {
     "end_time": "2023-08-21T11:51:20.927956Z",
     "start_time": "2023-08-21T11:51:20.869405Z"
    }
   },
   "outputs": [],
   "source": [
    "cpa.chempots"
   ]
  },
  {
   "cell_type": "markdown",
   "source": [
    "## Calculate the chemical potential limits\n",
    "\n",
    "We can then calculate the chemical potential limits for our host material using the `cpa.calculate_chempots()` method. This will print out the chemical potential limits for each element in the host material, and also return a `pandas` dataframe containing the chemical potential limits for each element in the host material."
   ],
   "metadata": {
    "collapsed": false
   },
   "id": "cb10a098f234b7d9"
  },
  {
   "cell_type": "code",
   "outputs": [],
   "source": [
    "cpa.calculate_chempots()"
   ],
   "metadata": {
    "collapsed": false
   },
   "id": "974ea8f21882a78f"
  },
  {
   "cell_type": "markdown",
   "source": [
    "Again, if we set `csv_path`, it will save the calculated chemical potential limits to a csv file:"
   ],
   "metadata": {
    "collapsed": false
   },
   "id": "336278396755ad51"
  },
  {
   "cell_type": "code",
   "outputs": [],
   "source": [
    "cpa.calculate_chempots(csv_path='competing_phases/zro2_chempots.csv')"
   ],
   "metadata": {
    "collapsed": false
   },
   "id": "74f8671827293d51"
  },
  {
   "cell_type": "markdown",
   "source": [
    "To use these parsed chemical potential limits for computing the defect formation energies with `doped` (e.g. in `plotting.formation_energy_plot()`, `analysis.formation_energy_table()` etc.) we can use the `cpa.chempots` attribute, which is a dictionary of the chemical potential limits for each element in the host material:"
   ],
   "metadata": {
    "collapsed": false
   },
   "id": "69c28df0b3000445"
  },
  {
   "cell_type": "code",
   "outputs": [],
   "source": [
    "cpa.chempots"
   ],
   "metadata": {
    "collapsed": false
   },
   "id": "c064850757df33bb"
  },
  {
   "cell_type": "markdown",
   "source": [
    "If you want to save it to use at a later date / in a different notebook/environment without having to re-parse your results, you can dump it to a `json` file with `dumpfn` and then load it again with `loadfn`:"
   ],
   "metadata": {
    "collapsed": false
   },
   "id": "e16e85b31955ffb5"
  },
  {
   "cell_type": "code",
   "outputs": [],
   "source": [
    "from monty.serialization import dumpfn, loadfn\n",
    "\n",
    "dumpfn(cpa.chempots, 'competing_phases/zro2_chempots.json')\n",
    "zro2_chempots = loadfn('competing_phases/zro2_chempots.json')"
   ],
   "metadata": {
    "collapsed": false
   },
   "id": "6ef36683e38ec4b1"
  },
  {
   "cell_type": "markdown",
   "source": [
    "## Analysing and visualising the chemical potential limits\n",
    "Once you've parsed your competing phase calculations and calculated the chemical potential limits (with `cpa.calculate_chempots()`) you can also visualize your calculated chemical potential limits as shown:"
   ],
   "metadata": {
    "collapsed": false
   },
   "id": "cc7b4c6a133e26b2"
  },
  {
   "cell_type": "code",
   "outputs": [],
   "source": [
    "from pymatgen.analysis.chempot_diagram import ChemicalPotentialDiagram\n",
    "cpd = ChemicalPotentialDiagram(cpa.intrinsic_phase_diagram.entries)\n",
    "plot = cpd.get_plot()\n",
    "plot.show(\"png\", dpi=400)"
   ],
   "metadata": {
    "collapsed": false
   },
   "id": "c18fd112b0f2c9da"
  },
  {
   "cell_type": "markdown",
   "source": [
    " Because `cpd.get_plot()` returns a `plotly` object, it's almost infinitely customisable using `plot.update_scenes()` - you can change colours, fonts, axes and even data after it's been plotted. See the [docs](https://plotly.com/python/) for more info.\n",
    "\n",
    "Beware that because we only generated the relevant competing phases on the `Zr-O` phase diagram for our ZrO<sub>2</sub> host material, we have not calculated _all_ phase in the `Zr-O` chemical space (just those that are necessary to determine the chemical potential limits of ZrO<sub>2</sub>), and so these chemical potential diagram plots are only accurate in the vicinity of our host material."
   ],
   "metadata": {
    "collapsed": false
   },
   "id": "99c019a112fe6246"
  },
  {
   "cell_type": "markdown",
   "id": "4ce8c7b2",
   "metadata": {},
   "source": [
    "This is an example of what this looks like for a higher-dimensional quaternary system:"
   ]
  },
  {
   "cell_type": "code",
   "outputs": [],
   "source": [
    "from monty.serialization import loadfn"
   ],
   "metadata": {
    "collapsed": false
   },
   "id": "30b64d8b7f885ffc"
  },
  {
   "cell_type": "code",
   "execution_count": 13,
   "id": "b0b78a1f",
   "metadata": {
    "ExecuteTime": {
     "end_time": "2024-01-11T20:29:56.966254Z",
     "start_time": "2024-01-11T20:29:56.953046Z"
    },
    "collapsed": false
   },
   "outputs": [],
   "source": [
    "cpd = ChemicalPotentialDiagram(loadfn('competing_phases/ytos_phase_diagram.json').entries)\n",
    "plot = cpd.get_plot(formulas_to_draw=['Y2Ti2S2O5'])\n",
    "plot.show(\"png\", dpi=400)"
   ]
  },
  {
   "cell_type": "markdown",
   "source": [
    "## Parsing Extrinsic Species\n",
    "\n",
    "Likewise if you've generated and calculated the competing phases for extrinsic species (i.e. to obtain the chemical potential limits for dopants/extrinsic impurities in your host system), you can easily parse them using the same `CompetingPhaseAnalyzer` class."
   ],
   "metadata": {
    "collapsed": false
   },
   "id": "f6bfaf39ed5ed005"
  },
  {
   "cell_type": "code",
   "outputs": [],
   "source": [
    "la_cpa = CompetingPhasesAnalyzer(\"ZrO2\", extrinsic_species=\"La\")\n",
    "la_cpa.from_vaspruns(path='./competing_phases/La_ZrO2/',\n",
    "                  folder='relax',\n",
    "                  csv_path='./competing_phases/zro2_la_competing_phase_energies.csv')\n",
    "df = la_cpa.calculate_chempots(csv_path='./competing_phases/zro2_la_chempots.csv')"
   ],
   "metadata": {
    "collapsed": false
   },
   "id": "443e8c66a800bb1a"
  },
  {
   "cell_type": "markdown",
   "source": [
    "As before, we can get the chemical potential limits in the format required for `plotting.formation_energy_plot()`, `analysis.formation_energy_table()` etc. using `cpa.chempots`, which can be easily dumped to a reusable `json` file for later use:"
   ],
   "metadata": {
    "collapsed": false
   },
   "id": "9860fd248e714801"
  },
  {
   "cell_type": "code",
   "outputs": [],
   "source": [
    "from monty.serialization import dumpfn, loadfn\n",
    "\n",
    "dumpfn(la_cpa.chempots, 'competing_phases/zro2_la_chempots.json')\n",
    "la_chemlims = loadfn('competing_phases/zro2_la_chempots.json')"
   ],
   "metadata": {
    "collapsed": false
   },
   "id": "8fef85386dd812b5"
  },
  {
   "cell_type": "markdown",
   "source": [
    "## Combining multiple extrinsic chemical potentials\n",
    "\n",
    "If for example you were interested in simulating defect complexes where you introduce more than one extrinsic defect at a time, or if you wanted to plot all the possible dopant species in one transition level diagram, you will need to combine your chemical potential limits for these extrinsic species.\n",
    "\n",
    "To combine several extrinsic chemical potential limits, you will need to save the different sets of parsed chemical potentials with `CompetingPhaseAnalyzer` to `chempots.json` files as shown above. You can then combine these chemical potential limits with:"
   ],
   "metadata": {
    "collapsed": false
   },
   "id": "8981c3e783ede613"
  },
  {
   "cell_type": "code",
   "outputs": [],
   "source": [
    "from doped.chemical_potentials import combine_extrinsic\n",
    "from monty.serialization import loadfn"
   ],
   "metadata": {
    "collapsed": false
   },
   "id": "c1b363272df14799"
  },
  {
   "cell_type": "code",
   "execution_count": 28,
   "id": "68f186c7",
   "metadata": {
    "ExecuteTime": {
     "end_time": "2023-04-05T14:17:19.830882Z",
     "start_time": "2023-04-05T14:17:19.820569Z"
    }
   },
   "outputs": [],
   "source": [
    "first = loadfn('competing_phases/zro2_la_chempots.json')\n",
    "second = loadfn('competing_phases/zro2_y_chempots.json')\n",
    "extrinsic_species = 'Y' # this should be set to whatever is the extrinsic species in the second dictionary\n",
    "d = combine_extrinsic(first, second, extrinsic_species)\n",
    "print(d)"
   ]
  },
  {
   "cell_type": "markdown",
   "source": [
    "As the output of `combine_extrinsic()` is a dictionary, it can either be dumped to a new `json` file with `dumpfn` or you can keep adding new chemical potential limits to it.\n",
    "\n",
    "NB: the facets must be in the same order in all dictionaries you're combining. Make sure to double check all energies have been combined correctly. "
   ],
   "metadata": {
    "collapsed": false
   },
   "id": "70adc2894a81c3a4"
  },
  {
   "cell_type": "code",
   "outputs": [],
   "source": [],
   "metadata": {
    "collapsed": false
   },
   "id": "2224e2a689f6391c"
  },
  {
   "cell_type": "code",
   "execution_count": null,
   "id": "b5e610ef-937f-4dda-8e14-70a9e6c4639b",
   "metadata": {},
   "outputs": [],
   "source": []
  }
 ],
 "metadata": {
  "kernelspec": {
   "display_name": "Python 3 (ipykernel)",
   "language": "python",
   "name": "python3"
  },
  "language_info": {
   "codemirror_mode": {
    "name": "ipython",
    "version": 3
   },
   "file_extension": ".py",
   "mimetype": "text/x-python",
   "name": "python",
   "nbconvert_exporter": "python",
   "pygments_lexer": "ipython3",
   "version": "3.10.11"
  },
  "mystnb": {
   "image": {
    "height": 1400,
    "width": 1600
   }
  },
  "vscode": {
   "interpreter": {
    "hash": "7ff88b24758851e95d46999e98e2ec092142f8c8e2eb69f9dc4465df3bee2980"
   }
  }
 },
 "nbformat": 4,
 "nbformat_minor": 5
}
