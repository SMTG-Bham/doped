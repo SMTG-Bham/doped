{
 "cells": [
  {
   "attachments": {},
   "cell_type": "markdown",
   "id": "af8ea7ea-fd3e-4b63-9f5b-6a9cb06d2f31",
   "metadata": {},
   "source": [
    "# Competing phases \n",
    "\n",
    "To calculate the limiting chemical potentials of elements in the material (needed for calculating the defect formation energies) we need to consider the energies of all competing phases. `doped` does this by calling the `CompetingPhases` Class, which then queries Materials Project to obtain all the relevant competing phases to be calculated.\n",
    "In some cases the Materials Project may not have all known phases in a certain chemical space, so it's a good idea to cross-check the generated competing phases with the [ICSD](https://icsd.products.fiz-karlsruhe.de/) in case you suspect any are missing.\n",
    "\n",
    "For this functionality to work correctly, you must have POTCARs set up for [pymatgen](https://pymatgen.org/installation.html#potcar-setup) and you will also need your Materials Project [API key](https://legacy.materialsproject.org/dashboard) set up in `pymatgen`.\n",
    "- Note that at present this uses the 'Legacy API' from the Materials Project, and so the API key you use (either in `~/.pmgrc.yaml` or supplied to `CompetingPhases` with the `api_key` parameter) should correspond to the Materials Project legacy API. This key can be found [here](https://legacy.materialsproject.org/dashboard).\n",
    "\n",
    "Doped assumes the so-called \"molecule in a box\" structures for the gaseous elemental phases H$_2$, O$_2$, N$_2$, F$_2$ and Cl$_2$. The molecule is placed in a 30 Å x 30 Å x 30 Å box, and relaxed with Γ-point-only k-point sampling."
   ]
  },
  {
   "cell_type": "code",
   "execution_count": 1,
   "metadata": {
    "collapsed": false
   },
   "outputs": [],
   "source": [
    "from doped.competing_phases import CompetingPhases"
   ]
  },
  {
   "attachments": {},
   "cell_type": "markdown",
   "id": "f8490640-b619-47a5-9f45-4e4f7d5e6cb3",
   "metadata": {},
   "source": [
    "For example, if we were interested in the competing phases of ZrO2 across the entire phase space, we would search across the Zr-O system like so:"
   ]
  },
  {
   "cell_type": "code",
   "execution_count": 2,
   "id": "248e3368-3d8c-4df5-b79c-e2a9edca8330",
   "metadata": {},
   "outputs": [],
   "source": [
    "system = ['Zr', 'O']\n",
    "cp = CompetingPhases(system, e_above_hull=0.03, full_phase_diagram=True)\n",
    "# If this returns a KeyError then it means you are using an API key for the new Materials Project API,\n",
    "# and not the legacy API as required – see the bulletpoint above"
   ]
  },
  {
   "cell_type": "markdown",
   "id": "c465b8a1-9c0b-47c5-b82f-e6875b7f6c67",
   "metadata": {},
   "source": [
    "`cp.competing_phases` contains all the competing phases, their structures, magnetic moment and (MP-calculated GGA) band gaps. We can check how many there are by: "
   ]
  },
  {
   "cell_type": "code",
   "execution_count": 3,
   "id": "e83575d1-a346-4b23-abbb-2550cf27b920",
   "metadata": {},
   "outputs": [
    {
     "name": "stdout",
     "output_type": "stream",
     "text": [
      "14\n"
     ]
    }
   ],
   "source": [
    "print(len(cp.competing_phases))"
   ]
  },
  {
   "attachments": {},
   "cell_type": "markdown",
   "id": "3102d02a",
   "metadata": {},
   "source": [
    "If you think that's too many and you trust that MP correctly predicts the relative stability around your system of interest you can cut down the number of competing phases you would need to calculate by invoking `full_phase_diagram=False`. If you use this, do try to use chemical intuition to add in any missing phases and check against ICSD. \n",
    "\n",
    "An improved algorithm that can fake this chemical intuition is in the works tho, so in the meantime you'll just have to get gud unfortunately."
   ]
  },
  {
   "attachments": {},
   "cell_type": "markdown",
   "id": "06324184-a349-4ab9-96fb-699cab5a1f76",
   "metadata": {},
   "source": [
    "\n",
    "## Generating input files\n",
    "From there you can set up the competing phase calculations with `doped` as decribed below, or do your own thing with python / atomate / aiida to set up the calculations.\n",
    "\n",
    "k-points convergence testing is done at GGA (PBEsol by default) and it set up to account for the magnetic moment convergence as well. All of this interfaces with [vaspup2.0](https://github.com/kavanase/vaspup2.0) so it's easy to use on the HPCs (with the `generate-converge` command to run the calculations and `data-converge` to quickly parse and analyse the results).\n",
    "You may want to change the default `ENCUT` (480 eV) or k-point densities that the convergence tests span (5 - 60 kpoints/Å$^3$ for semiconductors & insulators and 40 - 120 kpoints/Å$^3$ for metals in steps of 5 kpoints/Å$^3$). Note that `ISMEAR = -5` is used for metals by default (better kpoint convergence for energies but should not be used during metal geometry relaxations) and k-point convergence testing is not required for molecules (Γ-point sampling is sufficient).\n",
    "\n",
    "The kpoints convergence calculations are set up with:"
   ]
  },
  {
   "cell_type": "code",
   "execution_count": 5,
   "id": "f82a96f5-e1d0-4650-98ce-7500e23715ab",
   "metadata": {},
   "outputs": [
    {
     "name": "stdout",
     "output_type": "stream",
     "text": [
      "O2 is a molecule in a box, does not need convergence testing\n"
     ]
    }
   ],
   "source": [
    "cp.convergence_setup(user_incar_settings={'ENCUT':550})  # For custom INCAR settings, any flags that aren't numbers or True/False need to be input as strings with quotation marks"
   ]
  },
  {
   "cell_type": "markdown",
   "id": "185b1b50-48e0-4ab6-94e3-c3548a61ced4",
   "metadata": {},
   "source": [
    "This creates a folder called `competing_phases` with all the stable & unstable competing phases and the k-point convergence test calculation directories. These can be quickly run on HPCs using [vaspup2.0](https://github.com/kavanase/vaspup2.0), by creating a `job` file for the HPC scheduler (`vaspup2.0` example [here](https://github.com/kavanase/vaspup2.0/blob/master/input/job)), copying it into each directory and running the calculation with a `bash` loop like:\n",
    "\n",
    "```bash\n",
    "for i in *EaH*  # (in the competing_phases directory) – for each competing phase\n",
    "do cp job $i\n",
    "cd $i\n",
    "for k in k*   # for each kpoint calculation directory\n",
    "do cp job $k\n",
    "cd $k\n",
    "qsub job  # may need to change 'qsub' to 'sbatch' if the HPC scheduler is SLURM\n",
    "cd ..\n",
    "done\n",
    "cd ..\n",
    "done\n",
    "```\n",
    "\n",
    "Within each competing phase directory in `competing_phases`, the `vaspup2.0` `data-converge` command can be run to quickly parse the results and determine the converged _k_-mesh (see the [vaspup2.0](https://github.com/kavanase/vaspup2.0) homepage for examples)."
   ]
  },
  {
   "cell_type": "markdown",
   "metadata": {
    "collapsed": false
   },
   "source": [
    "Next, you want to relax each competing phase and calculate the energy with the same DFT functional and settings as your defect supercell calculations. `doped` can generate these folders for the relaxation of the competing phases.\n",
    "\n",
    "The _k_-point meshes are gamma-centred (as opposed to Monkhorst-Pack) by default. By default `doped` will make the inputs assuming a HSE06 `INCAR` (see `[HSE06_config_relax.json](https://github.com/SMTG-UCL/doped/blob/master/doped/HSE06_config_relax.json)` for default values) and kpoint densities of 95 kpoints/Å$^3$ for metals and 45 kpoints/Å$^3$ for semiconductors. Assuming you've followed the k-point convergence testing workflow above, you should change the `KPOINTS` file to match the converged mesh in each case, however the default densities are good starting points. `doped` will automatically set `SIGMA` and `ISMEAR` accordingly depending on whether the phase is a semiconductor or metal, and will set `NUPDOWN` appropriately for molecules (i.e. O$_2$ has triplet spin).\n",
    "\n",
    "These relaxations can be set up with:"
   ]
  },
  {
   "cell_type": "code",
   "execution_count": 6,
   "id": "612b30eb-63b2-4bf9-8947-794bdfdbb5a1",
   "metadata": {},
   "outputs": [],
   "source": [
    "cp.vasp_std_setup(user_incar_settings={'ENCUT':720})  # For custom INCAR settings, any flags that aren't numbers or True/False need to be input as strings with quotation marks"
   ]
  },
  {
   "cell_type": "markdown",
   "id": "7e57cb66",
   "metadata": {},
   "source": [
    "Remember that the final `ENCUT` used for the energy calculations should be the same as for your host material & defects, and that you may still need to account for Pulay stress by increasing `ENCUT` for the geometry relaxations (usual rule of thumb being 1.3*converged `ENCUT`) or re-relaxing each structure until the volume change is minimal (roughly <0.3%)."
   ]
  },
  {
   "attachments": {},
   "cell_type": "markdown",
   "id": "5a9c7e48",
   "metadata": {},
   "source": [
    "## Interfacing with high throughput architecture\n",
    "If you want to use [Atomate](https://atomate.org/) or [AiiDA](https://www.aiida.net/) to automate your calculations, you can access the structures of all competing phases doped finds on MP + any molecular elemental phases using the `competing_phases` attribute:  "
   ]
  },
  {
   "cell_type": "code",
   "execution_count": 9,
   "id": "de72c6cf",
   "metadata": {},
   "outputs": [],
   "source": [
    "structures = [s['structure'] for s in cp.competing_phases]"
   ]
  },
  {
   "attachments": {},
   "cell_type": "markdown",
   "id": "ec533105-0093-4d48-9acf-f4efe4035368",
   "metadata": {},
   "source": [
    "## Additional competing phases\n",
    "\n",
    "So you've done your intrinsic defects and now you want to consider extrinsic doping. The addition of the new extrinsic species can also be handled with doped by the aptly named `AdditionalCompetingPhases` class. "
   ]
  },
  {
   "cell_type": "code",
   "execution_count": 4,
   "id": "ce556a96-c966-4d5e-a46c-e9f2e2f3925c",
   "metadata": {},
   "outputs": [],
   "source": [
    "from doped.competing_phases import AdditionalCompetingPhases"
   ]
  },
  {
   "cell_type": "code",
   "execution_count": 17,
   "id": "9cc1b302-7b69-4c26-b906-8a7c67366d87",
   "metadata": {},
   "outputs": [],
   "source": [
    "system = ['Zr', 'O']\n",
    "extrinsic_species = 'La'\n",
    "acp = AdditionalCompetingPhases(system, extrinsic_species, e_above_hull=0.03)"
   ]
  },
  {
   "cell_type": "markdown",
   "id": "66fa8802-2e58-4d40-9169-8c6af5c34743",
   "metadata": {},
   "source": [
    "Doped can very cleverly tell what phases you've already calculated before and which ones should be added anew so it limits the number as we can see here:"
   ]
  },
  {
   "cell_type": "code",
   "execution_count": 6,
   "id": "0d57407f-5595-454d-bc89-81be95ccd865",
   "metadata": {},
   "outputs": [
    {
     "data": {
      "text/plain": [
       "29"
      ]
     },
     "execution_count": 6,
     "metadata": {},
     "output_type": "execute_result"
    }
   ],
   "source": [
    "len(acp.competing_phases)"
   ]
  },
  {
   "cell_type": "markdown",
   "id": "fd54e3d6-f775-424a-a08f-7cd97101268f",
   "metadata": {},
   "source": [
    "The set up for convergence testing and relaxations is done in the exact same way as before: "
   ]
  },
  {
   "cell_type": "code",
   "execution_count": null,
   "id": "c1dc6347-dc19-4dc5-89ee-963b452efac9",
   "metadata": {},
   "outputs": [],
   "source": [
    "acp.convergence_setup(user_incar_settings={'ENCUT':550})  # For custom INCAR settings, any flags that aren't numbers or True/False need to be input as strings with quotation marks"
   ]
  },
  {
   "cell_type": "code",
   "execution_count": 11,
   "id": "bcd15fbb-9ce8-4982-810a-6b63d8f18d17",
   "metadata": {},
   "outputs": [],
   "source": [
    "acp.vasp_std_setup(user_incar_settings={'ENCUT':720})  # For custom INCAR settings, any flags that aren't numbers or True/False need to be input as strings with quotation marks"
   ]
  },
  {
   "attachments": {},
   "cell_type": "markdown",
   "id": "078c20d5",
   "metadata": {},
   "source": [
    "And likewise, if you want to use high throughput methods with doped, you can access the additional competing phase structures in the same way as with just the intrinsic competing phases by using: "
   ]
  },
  {
   "cell_type": "code",
   "execution_count": null,
   "id": "7fae1486",
   "metadata": {},
   "outputs": [],
   "source": [
    "additional_structures = [s['structure'] for s in acp.competing_phases]"
   ]
  },
  {
   "cell_type": "markdown",
   "id": "1a2a9b2c-72f1-4d0c-b85e-2ca51be03e2b",
   "metadata": {},
   "source": [
    "# Competing phases analyzer \n"
   ]
  },
  {
   "cell_type": "code",
   "execution_count": 4,
   "id": "3aa82d9c-95ef-4af1-92fe-ae80931a8e3b",
   "metadata": {},
   "outputs": [],
   "source": [
    "from doped.competing_phases import CompetingPhasesAnalyzer"
   ]
  },
  {
   "attachments": {},
   "cell_type": "markdown",
   "id": "69ea252b-ee87-411c-bfd7-c31b2eebe141",
   "metadata": {},
   "source": [
    "## Read in data from `vasprun.xml`\n",
    "\n",
    "Once you've calculated all your very many competing phases you will want to analyse them. First you will want all your vaspruns neatly organised in some tree structure. To get them all off the HPCs recursively without including any other large files you can recursively rsync: \n",
    "\n",
    "```bash \n",
    "rsync -azvuR hpc:'path/to/the/base/folder/competing_phases/./*_EaH_*/vasp_std/vasprun.xml' . \n",
    "```\n",
    "\n",
    "where the `/./` indicates where you'd like to start the recurse from so you only keep the folder structure from the `formula_EaH_*` onwards. If you've done SOC calculations obviously change vasp_std to vasp_ncl or whatever you've called the folders. Optionally `gzip vasprun.xml` the files first, but remember to change the filename in the rsync command\n",
    "\n",
    "All analysis is done with aptly named `CompetingPhasesAnalyzer` and if you've used doped all you need to supply it is the 'pretty' formula of the system you're solving the chemical limits for (in this case that would be `'ZrO2'` and the path to the base folder in which you have all your `formula_EaH_*/vasp_std/vasprun.xml` in. If you've used `vasp_ncl` (or anything else) instead of `vasp_std` you can set that as well. \n",
    "\n",
    "If you've not generated your competing phases inputs with doped, worry not because we've accounted for that too. You can generate a list of paths (or strings) to the vaspruns from using `pathlib` or `os`. \n"
   ]
  },
  {
   "cell_type": "code",
   "execution_count": 5,
   "id": "d841c100-b896-4a9a-9fbe-42cedb933d5e",
   "metadata": {},
   "outputs": [],
   "source": [
    "system = 'ZrO2'\n",
    "cpa = CompetingPhasesAnalyzer(system)"
   ]
  },
  {
   "cell_type": "code",
   "execution_count": 3,
   "id": "dd65cb61-bd10-41c8-bf6d-15398841f226",
   "metadata": {},
   "outputs": [
    {
     "name": "stdout",
     "output_type": "stream",
     "text": [
      "Can't find a vasprun.xml(.gz) file in competing_phases/ZrO/.DS_Store or competing_phases/ZrO/.DS_Store/relax, proceed with caution\n",
      "Parsing 8 vaspruns and pruning to include only lowest-energy polymorphs...\n",
      "Competing phase formation energies have been saved to competing_phases/zro2_competing_phase_energies.csv.\n"
     ]
    }
   ],
   "source": [
    "cpa.from_vaspruns(path='./competing_phases/ZrO/', \n",
    "                  folder='relax', \n",
    "                  csv_fname='competing_phases/zro2_competing_phase_energies.csv')"
   ]
  },
  {
   "cell_type": "markdown",
   "id": "bc28d2fe-27da-448c-987a-8bd7f198bd52",
   "metadata": {},
   "source": [
    "The read in from vaspruns only needs to be done once, as the energies are saved to a csv file. \n",
    "\n",
    "An example of how to get all the vaspruns in one list if you've not used doped to generate them: "
   ]
  },
  {
   "cell_type": "code",
   "execution_count": null,
   "id": "b0c3b084-94bf-4362-b171-42879e54d247",
   "metadata": {},
   "outputs": [],
   "source": [
    "from pathlib import Path \n",
    "path = 'path/to/base'\n",
    "all_paths = []\n",
    "for p in Path(path).iterdir():\n",
    "    if not p.name.startswith('.'): \n",
    "        pp = p / 'relax' / 'vasprun.xml' \n",
    "        if pp.is_file():\n",
    "            all_paths.append(pp)"
   ]
  },
  {
   "attachments": {},
   "cell_type": "markdown",
   "id": "c588a9e4-ac43-4e45-af34-3db7a2867d4b",
   "metadata": {},
   "source": [
    "## Read in data from a csv\n",
    "\n",
    "As a sidenote you can also read in the data from a csv, as long as it contains the following headers: `'formula', 'energy_per_fu', 'energy_per_atom', 'energy', 'formation_energy'` \n"
   ]
  },
  {
   "cell_type": "code",
   "execution_count": 6,
   "id": "784d5a74-7d5d-4c1c-a481-d13fca3b098d",
   "metadata": {},
   "outputs": [],
   "source": [
    "cpa.from_csv('competing_phases/zro2_competing_phase_energies.csv')"
   ]
  },
  {
   "cell_type": "markdown",
   "id": "cfbf9749-9e49-4c78-bdb5-5bdd091b12aa",
   "metadata": {},
   "source": [
    "## Calculate the chemical potential limits\n",
    "\n",
    "As easy as: "
   ]
  },
  {
   "cell_type": "code",
   "execution_count": 7,
   "id": "37d24b84-8bdb-4698-9a7b-6c1899401791",
   "metadata": {},
   "outputs": [
    {
     "name": "stdout",
     "output_type": "stream",
     "text": [
      "Calculated chemical potential limits: \n",
      "\n",
      "          Zr         O\n",
      "0 -10.975428  0.000000\n",
      "1  -0.199544 -5.387942\n"
     ]
    }
   ],
   "source": [
    "df = cpa.calculate_chempots(csv_fname='competing_phases/zro2_chempots.csv')"
   ]
  },
  {
   "cell_type": "markdown",
   "id": "79818933-ab81-4fee-b686-f0d3e410d2dd",
   "metadata": {},
   "source": [
    "This should save your chempots to a csv and also print them out for your viewing pleasure.\n",
    "\n",
    "To get the `doped.formation_energy_table`-compliant input, use: "
   ]
  },
  {
   "cell_type": "code",
   "execution_count": 5,
   "id": "7bbe2d1b",
   "metadata": {},
   "outputs": [
    {
     "data": {
      "text/plain": [
       "{'facets': {'ZrO2-O2': {'Zr': -20.81910468, 'O': -7.006602065},\n",
       "  'Zr3O-ZrO2': {'Zr': -10.04321996, 'O': -12.394544425}},\n",
       " 'elemental_refs': {'O': -7.006602065, 'Zr': -9.84367624},\n",
       " 'facets_wrt_el_refs': {'ZrO2-O2': {'Zr': -10.975428439999998, 'O': 0.0},\n",
       "  'Zr3O-ZrO2': {'Zr': -0.19954371999999942, 'O': -5.387942359999999}}}"
      ]
     },
     "execution_count": 5,
     "metadata": {},
     "output_type": "execute_result"
    }
   ],
   "source": [
    "cpa.intrinsic_chem_limits "
   ]
  },
  {
   "attachments": {},
   "cell_type": "markdown",
   "id": "ef3fba0e",
   "metadata": {},
   "source": [
    "If you want to save it to use at a later date, you can easily dump it to a json file with `dumpfn` and then load it again with `loadfn` "
   ]
  },
  {
   "cell_type": "code",
   "execution_count": 7,
   "id": "6b3370ff",
   "metadata": {},
   "outputs": [],
   "source": [
    "from monty.serialization import dumpfn, loadfn\n",
    "\n",
    "dumpfn(cpa.intrinsic_chem_limits, 'competing_phases/zro2_chempots.json')\n",
    "\n",
    "chemlims = loadfn('competing_phases/zro2_chempots.json')"
   ]
  },
  {
   "cell_type": "markdown",
   "id": "f2fb2053-3b1b-4957-9442-a81650842e06",
   "metadata": {},
   "source": [
    "### CPLAP input\n",
    "\n",
    "If you don't trust doped and pymatgen (ye of little faith), you can also create the `input.dat` file to use with [CPLAP](https://github.com/jbuckeridge/cplap). You can set the dependent variable, or leave it to doped to decide which one it will pick (all should yield the same numbers in higher order systems)"
   ]
  },
  {
   "cell_type": "code",
   "execution_count": null,
   "id": "50df07d9-445f-49f1-960f-2ba749ca15b8",
   "metadata": {},
   "outputs": [],
   "source": [
    "cpa.cplap_input(dependent_variable='O') "
   ]
  },
  {
   "attachments": {},
   "cell_type": "markdown",
   "id": "2b29132e-fad1-49dd-8a3a-f8db8dde5be1",
   "metadata": {},
   "source": [
    "## Analysing and visualising the chemical potential limits \n",
    "\n",
    "Once you've called `cpa.calculate_chempots()`, the full pymatgen `PhaseDiagram` object can be accessed with: \n"
   ]
  },
  {
   "cell_type": "code",
   "execution_count": 8,
   "id": "a400f2cf",
   "metadata": {},
   "outputs": [],
   "source": [
    "phase_diagram = cpa.intrinsic_phase_diagram "
   ]
  },
  {
   "attachments": {},
   "cell_type": "markdown",
   "id": "7e162991",
   "metadata": {},
   "source": [
    "This means that for example you can use it to see which phases are stable/unstable, see the energy above Hull for different systems and get the phase separation energy or decomposition pathways \n",
    "\n",
    "NB: `intrinsic_phase_diagram` attribute doesn't exist until you've calculated the chempots, so you need to do that first. You can still access it, even if the material you're interested in is unstable. If you don't want to re-calculate it every time you want to use it, you can dump it to `json` with `dumpfn` \n",
    "\n",
    "For higher order systems, this interfaces really well with pymatgen's three-dimensional plotters, in particular `ChemicalPotentialDiagram` and `PDPlotter`."
   ]
  },
  {
   "cell_type": "code",
   "execution_count": 19,
   "id": "7be6e954",
   "metadata": {},
   "outputs": [],
   "source": [
    "from pymatgen.analysis.phase_diagram import PDPlotter\n",
    "from pymatgen.analysis.chempot_diagram import ChemicalPotentialDiagram\n",
    "from monty.serialization import dumpfn, loadfn"
   ]
  },
  {
   "cell_type": "code",
   "execution_count": 11,
   "id": "dce7cf8a",
   "metadata": {},
   "outputs": [
    {
     "data": {
      "application/vnd.plotly.v1+json": {
       "config": {
        "plotlyServerURL": "https://plot.ly"
       },
       "data": [
        {
         "hoverinfo": "none",
         "line": {
          "color": "rgba(0,0,0,1.0)",
          "width": 7
         },
         "mode": "lines",
         "showlegend": false,
         "type": "scatter",
         "x": [
          0.25,
          0,
          null,
          0.6666666666666666,
          1,
          null,
          0.6666666666666666,
          0.25,
          null
         ],
         "y": [
          -1.4966433799999983,
          0,
          null,
          -3.658476146666667,
          0,
          null,
          -3.658476146666667,
          -1.4966433799999983,
          null
         ]
        },
        {
         "hoverinfo": "skip",
         "mode": "text",
         "name": "Labels (stable)",
         "opacity": 1,
         "showlegend": true,
         "text": [
          "Zr<sub>3</sub>O",
          "ZrO<sub>2</sub>"
         ],
         "textposition": [
          "bottom left",
          "bottom right"
         ],
         "type": "scatter",
         "visible": true,
         "x": [
          0.245,
          0.6716666666666666
         ],
         "y": [
          -1.5016433799999982,
          -3.663476146666667
         ]
        },
        {
         "hoverinfo": "text",
         "hoverlabel": {
          "font": {
           "size": 14
          }
         },
         "hovertext": [
          "Zr<sub>2</sub>O (no ID) <br> -1.91 eV/atom (+0.019 eV/atom)"
         ],
         "marker": {
          "color": [
           0.019
          ],
          "colorscale": [
           [
            0,
            "#fad393"
           ],
           [
            0.5,
            "#ff813d"
           ],
           [
            1,
            "#ff0000"
           ]
          ],
          "size": 6,
          "symbol": "diamond"
         },
         "mode": "markers",
         "name": "Above Hull",
         "showlegend": true,
         "type": "scatter",
         "x": [
          0.3333333333333333
         ],
         "y": [
          -1.909652990555556
         ]
        },
        {
         "error_y": {
          "array": [
           0,
           0,
           0,
           0
          ],
          "color": "gray",
          "thickness": 2.5,
          "type": "data",
          "width": 5
         },
         "hoverinfo": "text",
         "hoverlabel": {
          "font": {
           "size": 14
          }
         },
         "hovertext": [
          "Zr<sub>3</sub>O (no ID) <br> -1.497 eV/atom",
          "Zr (no ID) <br> 0.0 eV/atom",
          "ZrO<sub>2</sub> (no ID) <br> -3.658 eV/atom",
          "O<sub>2</sub> (no ID) <br> 0.0 eV/atom"
         ],
         "marker": {
          "color": "darkgreen",
          "line": {
           "color": "black",
           "width": 2
          },
          "size": 11
         },
         "mode": "markers",
         "name": "Stable",
         "opacity": 0.9,
         "showlegend": true,
         "type": "scatter",
         "x": [
          0.25,
          0,
          0.6666666666666666,
          1
         ],
         "y": [
          -1.4966433799999983,
          0,
          -3.658476146666667,
          0
         ]
        }
       ],
       "layout": {
        "annotations": [
         {
          "align": "center",
          "font": {
           "color": "#000000",
           "size": 24
          },
          "opacity": 1,
          "showarrow": false,
          "text": "Zr",
          "x": 0,
          "xanchor": "right",
          "xref": "x",
          "xshift": -10,
          "y": 0,
          "yanchor": "auto",
          "yref": "y",
          "yshift": -10
         },
         {
          "align": "center",
          "font": {
           "color": "#000000",
           "size": 24
          },
          "opacity": 1,
          "showarrow": false,
          "text": "O",
          "x": 1,
          "xanchor": "right",
          "xref": "x",
          "xshift": -10,
          "y": 0,
          "yanchor": "auto",
          "yref": "y",
          "yshift": -10
         }
        ],
        "autosize": true,
        "height": 700,
        "hovermode": "closest",
        "legend": {
         "orientation": "h",
         "tracegroupgap": 7,
         "traceorder": "reversed",
         "x": 0,
         "xanchor": "left",
         "y": 1.05
        },
        "margin": {
         "b": 20,
         "l": 10,
         "pad": 20,
         "r": 10,
         "t": 20
        },
        "paper_bgcolor": "rgba(0,0,0,0)",
        "plot_bgcolor": "rgba(0,0,0,0)",
        "showlegend": true,
        "template": {
         "data": {
          "bar": [
           {
            "error_x": {
             "color": "#2a3f5f"
            },
            "error_y": {
             "color": "#2a3f5f"
            },
            "marker": {
             "line": {
              "color": "#E5ECF6",
              "width": 0.5
             },
             "pattern": {
              "fillmode": "overlay",
              "size": 10,
              "solidity": 0.2
             }
            },
            "type": "bar"
           }
          ],
          "barpolar": [
           {
            "marker": {
             "line": {
              "color": "#E5ECF6",
              "width": 0.5
             },
             "pattern": {
              "fillmode": "overlay",
              "size": 10,
              "solidity": 0.2
             }
            },
            "type": "barpolar"
           }
          ],
          "carpet": [
           {
            "aaxis": {
             "endlinecolor": "#2a3f5f",
             "gridcolor": "white",
             "linecolor": "white",
             "minorgridcolor": "white",
             "startlinecolor": "#2a3f5f"
            },
            "baxis": {
             "endlinecolor": "#2a3f5f",
             "gridcolor": "white",
             "linecolor": "white",
             "minorgridcolor": "white",
             "startlinecolor": "#2a3f5f"
            },
            "type": "carpet"
           }
          ],
          "choropleth": [
           {
            "colorbar": {
             "outlinewidth": 0,
             "ticks": ""
            },
            "type": "choropleth"
           }
          ],
          "contour": [
           {
            "colorbar": {
             "outlinewidth": 0,
             "ticks": ""
            },
            "colorscale": [
             [
              0,
              "#0d0887"
             ],
             [
              0.1111111111111111,
              "#46039f"
             ],
             [
              0.2222222222222222,
              "#7201a8"
             ],
             [
              0.3333333333333333,
              "#9c179e"
             ],
             [
              0.4444444444444444,
              "#bd3786"
             ],
             [
              0.5555555555555556,
              "#d8576b"
             ],
             [
              0.6666666666666666,
              "#ed7953"
             ],
             [
              0.7777777777777778,
              "#fb9f3a"
             ],
             [
              0.8888888888888888,
              "#fdca26"
             ],
             [
              1,
              "#f0f921"
             ]
            ],
            "type": "contour"
           }
          ],
          "contourcarpet": [
           {
            "colorbar": {
             "outlinewidth": 0,
             "ticks": ""
            },
            "type": "contourcarpet"
           }
          ],
          "heatmap": [
           {
            "colorbar": {
             "outlinewidth": 0,
             "ticks": ""
            },
            "colorscale": [
             [
              0,
              "#0d0887"
             ],
             [
              0.1111111111111111,
              "#46039f"
             ],
             [
              0.2222222222222222,
              "#7201a8"
             ],
             [
              0.3333333333333333,
              "#9c179e"
             ],
             [
              0.4444444444444444,
              "#bd3786"
             ],
             [
              0.5555555555555556,
              "#d8576b"
             ],
             [
              0.6666666666666666,
              "#ed7953"
             ],
             [
              0.7777777777777778,
              "#fb9f3a"
             ],
             [
              0.8888888888888888,
              "#fdca26"
             ],
             [
              1,
              "#f0f921"
             ]
            ],
            "type": "heatmap"
           }
          ],
          "heatmapgl": [
           {
            "colorbar": {
             "outlinewidth": 0,
             "ticks": ""
            },
            "colorscale": [
             [
              0,
              "#0d0887"
             ],
             [
              0.1111111111111111,
              "#46039f"
             ],
             [
              0.2222222222222222,
              "#7201a8"
             ],
             [
              0.3333333333333333,
              "#9c179e"
             ],
             [
              0.4444444444444444,
              "#bd3786"
             ],
             [
              0.5555555555555556,
              "#d8576b"
             ],
             [
              0.6666666666666666,
              "#ed7953"
             ],
             [
              0.7777777777777778,
              "#fb9f3a"
             ],
             [
              0.8888888888888888,
              "#fdca26"
             ],
             [
              1,
              "#f0f921"
             ]
            ],
            "type": "heatmapgl"
           }
          ],
          "histogram": [
           {
            "marker": {
             "pattern": {
              "fillmode": "overlay",
              "size": 10,
              "solidity": 0.2
             }
            },
            "type": "histogram"
           }
          ],
          "histogram2d": [
           {
            "colorbar": {
             "outlinewidth": 0,
             "ticks": ""
            },
            "colorscale": [
             [
              0,
              "#0d0887"
             ],
             [
              0.1111111111111111,
              "#46039f"
             ],
             [
              0.2222222222222222,
              "#7201a8"
             ],
             [
              0.3333333333333333,
              "#9c179e"
             ],
             [
              0.4444444444444444,
              "#bd3786"
             ],
             [
              0.5555555555555556,
              "#d8576b"
             ],
             [
              0.6666666666666666,
              "#ed7953"
             ],
             [
              0.7777777777777778,
              "#fb9f3a"
             ],
             [
              0.8888888888888888,
              "#fdca26"
             ],
             [
              1,
              "#f0f921"
             ]
            ],
            "type": "histogram2d"
           }
          ],
          "histogram2dcontour": [
           {
            "colorbar": {
             "outlinewidth": 0,
             "ticks": ""
            },
            "colorscale": [
             [
              0,
              "#0d0887"
             ],
             [
              0.1111111111111111,
              "#46039f"
             ],
             [
              0.2222222222222222,
              "#7201a8"
             ],
             [
              0.3333333333333333,
              "#9c179e"
             ],
             [
              0.4444444444444444,
              "#bd3786"
             ],
             [
              0.5555555555555556,
              "#d8576b"
             ],
             [
              0.6666666666666666,
              "#ed7953"
             ],
             [
              0.7777777777777778,
              "#fb9f3a"
             ],
             [
              0.8888888888888888,
              "#fdca26"
             ],
             [
              1,
              "#f0f921"
             ]
            ],
            "type": "histogram2dcontour"
           }
          ],
          "mesh3d": [
           {
            "colorbar": {
             "outlinewidth": 0,
             "ticks": ""
            },
            "type": "mesh3d"
           }
          ],
          "parcoords": [
           {
            "line": {
             "colorbar": {
              "outlinewidth": 0,
              "ticks": ""
             }
            },
            "type": "parcoords"
           }
          ],
          "pie": [
           {
            "automargin": true,
            "type": "pie"
           }
          ],
          "scatter": [
           {
            "marker": {
             "colorbar": {
              "outlinewidth": 0,
              "ticks": ""
             }
            },
            "type": "scatter"
           }
          ],
          "scatter3d": [
           {
            "line": {
             "colorbar": {
              "outlinewidth": 0,
              "ticks": ""
             }
            },
            "marker": {
             "colorbar": {
              "outlinewidth": 0,
              "ticks": ""
             }
            },
            "type": "scatter3d"
           }
          ],
          "scattercarpet": [
           {
            "marker": {
             "colorbar": {
              "outlinewidth": 0,
              "ticks": ""
             }
            },
            "type": "scattercarpet"
           }
          ],
          "scattergeo": [
           {
            "marker": {
             "colorbar": {
              "outlinewidth": 0,
              "ticks": ""
             }
            },
            "type": "scattergeo"
           }
          ],
          "scattergl": [
           {
            "marker": {
             "colorbar": {
              "outlinewidth": 0,
              "ticks": ""
             }
            },
            "type": "scattergl"
           }
          ],
          "scattermapbox": [
           {
            "marker": {
             "colorbar": {
              "outlinewidth": 0,
              "ticks": ""
             }
            },
            "type": "scattermapbox"
           }
          ],
          "scatterpolar": [
           {
            "marker": {
             "colorbar": {
              "outlinewidth": 0,
              "ticks": ""
             }
            },
            "type": "scatterpolar"
           }
          ],
          "scatterpolargl": [
           {
            "marker": {
             "colorbar": {
              "outlinewidth": 0,
              "ticks": ""
             }
            },
            "type": "scatterpolargl"
           }
          ],
          "scatterternary": [
           {
            "marker": {
             "colorbar": {
              "outlinewidth": 0,
              "ticks": ""
             }
            },
            "type": "scatterternary"
           }
          ],
          "surface": [
           {
            "colorbar": {
             "outlinewidth": 0,
             "ticks": ""
            },
            "colorscale": [
             [
              0,
              "#0d0887"
             ],
             [
              0.1111111111111111,
              "#46039f"
             ],
             [
              0.2222222222222222,
              "#7201a8"
             ],
             [
              0.3333333333333333,
              "#9c179e"
             ],
             [
              0.4444444444444444,
              "#bd3786"
             ],
             [
              0.5555555555555556,
              "#d8576b"
             ],
             [
              0.6666666666666666,
              "#ed7953"
             ],
             [
              0.7777777777777778,
              "#fb9f3a"
             ],
             [
              0.8888888888888888,
              "#fdca26"
             ],
             [
              1,
              "#f0f921"
             ]
            ],
            "type": "surface"
           }
          ],
          "table": [
           {
            "cells": {
             "fill": {
              "color": "#EBF0F8"
             },
             "line": {
              "color": "white"
             }
            },
            "header": {
             "fill": {
              "color": "#C8D4E3"
             },
             "line": {
              "color": "white"
             }
            },
            "type": "table"
           }
          ]
         },
         "layout": {
          "annotationdefaults": {
           "arrowcolor": "#2a3f5f",
           "arrowhead": 0,
           "arrowwidth": 1
          },
          "autotypenumbers": "strict",
          "coloraxis": {
           "colorbar": {
            "outlinewidth": 0,
            "ticks": ""
           }
          },
          "colorscale": {
           "diverging": [
            [
             0,
             "#8e0152"
            ],
            [
             0.1,
             "#c51b7d"
            ],
            [
             0.2,
             "#de77ae"
            ],
            [
             0.3,
             "#f1b6da"
            ],
            [
             0.4,
             "#fde0ef"
            ],
            [
             0.5,
             "#f7f7f7"
            ],
            [
             0.6,
             "#e6f5d0"
            ],
            [
             0.7,
             "#b8e186"
            ],
            [
             0.8,
             "#7fbc41"
            ],
            [
             0.9,
             "#4d9221"
            ],
            [
             1,
             "#276419"
            ]
           ],
           "sequential": [
            [
             0,
             "#0d0887"
            ],
            [
             0.1111111111111111,
             "#46039f"
            ],
            [
             0.2222222222222222,
             "#7201a8"
            ],
            [
             0.3333333333333333,
             "#9c179e"
            ],
            [
             0.4444444444444444,
             "#bd3786"
            ],
            [
             0.5555555555555556,
             "#d8576b"
            ],
            [
             0.6666666666666666,
             "#ed7953"
            ],
            [
             0.7777777777777778,
             "#fb9f3a"
            ],
            [
             0.8888888888888888,
             "#fdca26"
            ],
            [
             1,
             "#f0f921"
            ]
           ],
           "sequentialminus": [
            [
             0,
             "#0d0887"
            ],
            [
             0.1111111111111111,
             "#46039f"
            ],
            [
             0.2222222222222222,
             "#7201a8"
            ],
            [
             0.3333333333333333,
             "#9c179e"
            ],
            [
             0.4444444444444444,
             "#bd3786"
            ],
            [
             0.5555555555555556,
             "#d8576b"
            ],
            [
             0.6666666666666666,
             "#ed7953"
            ],
            [
             0.7777777777777778,
             "#fb9f3a"
            ],
            [
             0.8888888888888888,
             "#fdca26"
            ],
            [
             1,
             "#f0f921"
            ]
           ]
          },
          "colorway": [
           "#636efa",
           "#EF553B",
           "#00cc96",
           "#ab63fa",
           "#FFA15A",
           "#19d3f3",
           "#FF6692",
           "#B6E880",
           "#FF97FF",
           "#FECB52"
          ],
          "font": {
           "color": "#2a3f5f"
          },
          "geo": {
           "bgcolor": "white",
           "lakecolor": "white",
           "landcolor": "#E5ECF6",
           "showlakes": true,
           "showland": true,
           "subunitcolor": "white"
          },
          "hoverlabel": {
           "align": "left"
          },
          "hovermode": "closest",
          "mapbox": {
           "style": "light"
          },
          "paper_bgcolor": "white",
          "plot_bgcolor": "#E5ECF6",
          "polar": {
           "angularaxis": {
            "gridcolor": "white",
            "linecolor": "white",
            "ticks": ""
           },
           "bgcolor": "#E5ECF6",
           "radialaxis": {
            "gridcolor": "white",
            "linecolor": "white",
            "ticks": ""
           }
          },
          "scene": {
           "xaxis": {
            "backgroundcolor": "#E5ECF6",
            "gridcolor": "white",
            "gridwidth": 2,
            "linecolor": "white",
            "showbackground": true,
            "ticks": "",
            "zerolinecolor": "white"
           },
           "yaxis": {
            "backgroundcolor": "#E5ECF6",
            "gridcolor": "white",
            "gridwidth": 2,
            "linecolor": "white",
            "showbackground": true,
            "ticks": "",
            "zerolinecolor": "white"
           },
           "zaxis": {
            "backgroundcolor": "#E5ECF6",
            "gridcolor": "white",
            "gridwidth": 2,
            "linecolor": "white",
            "showbackground": true,
            "ticks": "",
            "zerolinecolor": "white"
           }
          },
          "shapedefaults": {
           "line": {
            "color": "#2a3f5f"
           }
          },
          "ternary": {
           "aaxis": {
            "gridcolor": "white",
            "linecolor": "white",
            "ticks": ""
           },
           "baxis": {
            "gridcolor": "white",
            "linecolor": "white",
            "ticks": ""
           },
           "bgcolor": "#E5ECF6",
           "caxis": {
            "gridcolor": "white",
            "linecolor": "white",
            "ticks": ""
           }
          },
          "title": {
           "x": 0.05
          },
          "xaxis": {
           "automargin": true,
           "gridcolor": "white",
           "linecolor": "white",
           "ticks": "",
           "title": {
            "standoff": 15
           },
           "zerolinecolor": "white",
           "zerolinewidth": 2
          },
          "yaxis": {
           "automargin": true,
           "gridcolor": "white",
           "linecolor": "white",
           "ticks": "",
           "title": {
            "standoff": 15
           },
           "zerolinecolor": "white",
           "zerolinewidth": 2
          }
         }
        },
        "xaxis": {
         "anchor": "y",
         "gridcolor": "rgba(0,0,0,0.1)",
         "mirror": "ticks",
         "nticks": 8,
         "showgrid": true,
         "showline": true,
         "side": "bottom",
         "tickfont": {
          "size": 16
         },
         "ticks": "inside",
         "title": {
          "font": {
           "color": "#000000",
           "size": 20
          },
          "text": "Fraction"
         },
         "type": "linear",
         "zeroline": false
        },
        "yaxis": {
         "anchor": "x",
         "gridcolor": "rgba(0,0,0,0.1)",
         "mirror": "ticks",
         "showgrid": true,
         "showline": true,
         "side": "left",
         "tickfont": {
          "size": 16
         },
         "ticks": "inside",
         "title": {
          "font": {
           "color": "#000000",
           "size": 20
          },
          "text": "Formation energy (eV/atom)"
         },
         "type": "linear"
        }
       }
      }
     },
     "metadata": {},
     "output_type": "display_data"
    }
   ],
   "source": [
    "pdplotter = PDPlotter(phase_diagram, show_unstable=True)\n",
    "pdplotter.show()"
   ]
  },
  {
   "attachments": {},
   "cell_type": "markdown",
   "id": "acd399aa",
   "metadata": {},
   "source": [
    " Because `pdplotter` is a plotly object, it's almost infinitely customisable using `pdplotter.update_scenes()` - you can change colours, fonts, axes and even data after it's been plotted. See the [docs](https://plotly.com/python/) for more info. \n",
    " \n",
    " The list of total energies for the `ChemicalPotentialDiagram` are accessible from `cpa.intrinsic_phase_diagram.entries` and you can get the elemental energies to subtract from the `cpd.domains` by looping over `cpa.intrinsic_phase_diagram.entries` to find the ones with elemental formulas"
   ]
  },
  {
   "cell_type": "code",
   "execution_count": 17,
   "id": "2addb53b",
   "metadata": {},
   "outputs": [
    {
     "data": {
      "application/vnd.plotly.v1+json": {
       "config": {
        "plotlyServerURL": "https://plot.ly"
       },
       "data": [
        {
         "line": {
          "color": "black",
          "width": 3
         },
         "mode": "lines+markers",
         "showlegend": false,
         "type": "scatter",
         "x": [
          -20.819104679999974,
          -10.043219960000009,
          null,
          -9.84367624,
          -10.043219960000009,
          null,
          -21.819104679999974,
          -20.819104679999974,
          null,
          -9.84367624,
          -9.84367624,
          null
         ],
         "y": [
          -7.006602065000003,
          -12.394544424999985,
          null,
          -12.993175585000017,
          -12.394544424999985,
          null,
          -7.00660206500001,
          -7.006602065000003,
          null,
          -13.993175585000017,
          -12.993175585000017,
          null
         ]
        }
       ],
       "layout": {
        "annotations": [
         {
          "align": "center",
          "font": {
           "color": "black",
           "size": 12
          },
          "opacity": 0.7,
          "showarrow": false,
          "text": "ZrO<sub>2</sub>",
          "x": -15.319358921125001,
          "xanchor": "center",
          "y": -9.476966447250016,
          "yanchor": "middle"
         },
         {
          "align": "center",
          "font": {
           "color": "black",
           "size": 12
          },
          "opacity": 0.7,
          "showarrow": false,
          "text": "Zr<sub>3</sub>O",
          "x": -9.706277275487377,
          "xanchor": "center",
          "y": -12.614803063495792,
          "yanchor": "middle"
         },
         {
          "align": "center",
          "font": {
           "color": "black",
           "size": 12
          },
          "opacity": 0.7,
          "showarrow": false,
          "text": "O<sub>2</sub>",
          "x": -21.319104679999974,
          "xanchor": "center",
          "y": -6.756602065000006,
          "yanchor": "middle"
         },
         {
          "align": "center",
          "font": {
           "color": "black",
           "size": 12
          },
          "opacity": 0.7,
          "showarrow": false,
          "text": "Zr",
          "x": -9.59367624,
          "xanchor": "center",
          "y": -13.493175585000017,
          "yanchor": "middle"
         }
        ],
        "height": 800,
        "hovermode": "closest",
        "legend": {
         "orientation": "v",
         "traceorder": "reversed",
         "x": 0.1,
         "xanchor": "left",
         "y": 0.99,
         "yanchor": "top"
        },
        "paper_bgcolor": "rgba(256,256,256,100)",
        "plot_bgcolor": "rgba(0,0,0,0)",
        "showlegend": true,
        "template": {
         "data": {
          "bar": [
           {
            "error_x": {
             "color": "#2a3f5f"
            },
            "error_y": {
             "color": "#2a3f5f"
            },
            "marker": {
             "line": {
              "color": "#E5ECF6",
              "width": 0.5
             },
             "pattern": {
              "fillmode": "overlay",
              "size": 10,
              "solidity": 0.2
             }
            },
            "type": "bar"
           }
          ],
          "barpolar": [
           {
            "marker": {
             "line": {
              "color": "#E5ECF6",
              "width": 0.5
             },
             "pattern": {
              "fillmode": "overlay",
              "size": 10,
              "solidity": 0.2
             }
            },
            "type": "barpolar"
           }
          ],
          "carpet": [
           {
            "aaxis": {
             "endlinecolor": "#2a3f5f",
             "gridcolor": "white",
             "linecolor": "white",
             "minorgridcolor": "white",
             "startlinecolor": "#2a3f5f"
            },
            "baxis": {
             "endlinecolor": "#2a3f5f",
             "gridcolor": "white",
             "linecolor": "white",
             "minorgridcolor": "white",
             "startlinecolor": "#2a3f5f"
            },
            "type": "carpet"
           }
          ],
          "choropleth": [
           {
            "colorbar": {
             "outlinewidth": 0,
             "ticks": ""
            },
            "type": "choropleth"
           }
          ],
          "contour": [
           {
            "colorbar": {
             "outlinewidth": 0,
             "ticks": ""
            },
            "colorscale": [
             [
              0,
              "#0d0887"
             ],
             [
              0.1111111111111111,
              "#46039f"
             ],
             [
              0.2222222222222222,
              "#7201a8"
             ],
             [
              0.3333333333333333,
              "#9c179e"
             ],
             [
              0.4444444444444444,
              "#bd3786"
             ],
             [
              0.5555555555555556,
              "#d8576b"
             ],
             [
              0.6666666666666666,
              "#ed7953"
             ],
             [
              0.7777777777777778,
              "#fb9f3a"
             ],
             [
              0.8888888888888888,
              "#fdca26"
             ],
             [
              1,
              "#f0f921"
             ]
            ],
            "type": "contour"
           }
          ],
          "contourcarpet": [
           {
            "colorbar": {
             "outlinewidth": 0,
             "ticks": ""
            },
            "type": "contourcarpet"
           }
          ],
          "heatmap": [
           {
            "colorbar": {
             "outlinewidth": 0,
             "ticks": ""
            },
            "colorscale": [
             [
              0,
              "#0d0887"
             ],
             [
              0.1111111111111111,
              "#46039f"
             ],
             [
              0.2222222222222222,
              "#7201a8"
             ],
             [
              0.3333333333333333,
              "#9c179e"
             ],
             [
              0.4444444444444444,
              "#bd3786"
             ],
             [
              0.5555555555555556,
              "#d8576b"
             ],
             [
              0.6666666666666666,
              "#ed7953"
             ],
             [
              0.7777777777777778,
              "#fb9f3a"
             ],
             [
              0.8888888888888888,
              "#fdca26"
             ],
             [
              1,
              "#f0f921"
             ]
            ],
            "type": "heatmap"
           }
          ],
          "heatmapgl": [
           {
            "colorbar": {
             "outlinewidth": 0,
             "ticks": ""
            },
            "colorscale": [
             [
              0,
              "#0d0887"
             ],
             [
              0.1111111111111111,
              "#46039f"
             ],
             [
              0.2222222222222222,
              "#7201a8"
             ],
             [
              0.3333333333333333,
              "#9c179e"
             ],
             [
              0.4444444444444444,
              "#bd3786"
             ],
             [
              0.5555555555555556,
              "#d8576b"
             ],
             [
              0.6666666666666666,
              "#ed7953"
             ],
             [
              0.7777777777777778,
              "#fb9f3a"
             ],
             [
              0.8888888888888888,
              "#fdca26"
             ],
             [
              1,
              "#f0f921"
             ]
            ],
            "type": "heatmapgl"
           }
          ],
          "histogram": [
           {
            "marker": {
             "pattern": {
              "fillmode": "overlay",
              "size": 10,
              "solidity": 0.2
             }
            },
            "type": "histogram"
           }
          ],
          "histogram2d": [
           {
            "colorbar": {
             "outlinewidth": 0,
             "ticks": ""
            },
            "colorscale": [
             [
              0,
              "#0d0887"
             ],
             [
              0.1111111111111111,
              "#46039f"
             ],
             [
              0.2222222222222222,
              "#7201a8"
             ],
             [
              0.3333333333333333,
              "#9c179e"
             ],
             [
              0.4444444444444444,
              "#bd3786"
             ],
             [
              0.5555555555555556,
              "#d8576b"
             ],
             [
              0.6666666666666666,
              "#ed7953"
             ],
             [
              0.7777777777777778,
              "#fb9f3a"
             ],
             [
              0.8888888888888888,
              "#fdca26"
             ],
             [
              1,
              "#f0f921"
             ]
            ],
            "type": "histogram2d"
           }
          ],
          "histogram2dcontour": [
           {
            "colorbar": {
             "outlinewidth": 0,
             "ticks": ""
            },
            "colorscale": [
             [
              0,
              "#0d0887"
             ],
             [
              0.1111111111111111,
              "#46039f"
             ],
             [
              0.2222222222222222,
              "#7201a8"
             ],
             [
              0.3333333333333333,
              "#9c179e"
             ],
             [
              0.4444444444444444,
              "#bd3786"
             ],
             [
              0.5555555555555556,
              "#d8576b"
             ],
             [
              0.6666666666666666,
              "#ed7953"
             ],
             [
              0.7777777777777778,
              "#fb9f3a"
             ],
             [
              0.8888888888888888,
              "#fdca26"
             ],
             [
              1,
              "#f0f921"
             ]
            ],
            "type": "histogram2dcontour"
           }
          ],
          "mesh3d": [
           {
            "colorbar": {
             "outlinewidth": 0,
             "ticks": ""
            },
            "type": "mesh3d"
           }
          ],
          "parcoords": [
           {
            "line": {
             "colorbar": {
              "outlinewidth": 0,
              "ticks": ""
             }
            },
            "type": "parcoords"
           }
          ],
          "pie": [
           {
            "automargin": true,
            "type": "pie"
           }
          ],
          "scatter": [
           {
            "marker": {
             "colorbar": {
              "outlinewidth": 0,
              "ticks": ""
             }
            },
            "type": "scatter"
           }
          ],
          "scatter3d": [
           {
            "line": {
             "colorbar": {
              "outlinewidth": 0,
              "ticks": ""
             }
            },
            "marker": {
             "colorbar": {
              "outlinewidth": 0,
              "ticks": ""
             }
            },
            "type": "scatter3d"
           }
          ],
          "scattercarpet": [
           {
            "marker": {
             "colorbar": {
              "outlinewidth": 0,
              "ticks": ""
             }
            },
            "type": "scattercarpet"
           }
          ],
          "scattergeo": [
           {
            "marker": {
             "colorbar": {
              "outlinewidth": 0,
              "ticks": ""
             }
            },
            "type": "scattergeo"
           }
          ],
          "scattergl": [
           {
            "marker": {
             "colorbar": {
              "outlinewidth": 0,
              "ticks": ""
             }
            },
            "type": "scattergl"
           }
          ],
          "scattermapbox": [
           {
            "marker": {
             "colorbar": {
              "outlinewidth": 0,
              "ticks": ""
             }
            },
            "type": "scattermapbox"
           }
          ],
          "scatterpolar": [
           {
            "marker": {
             "colorbar": {
              "outlinewidth": 0,
              "ticks": ""
             }
            },
            "type": "scatterpolar"
           }
          ],
          "scatterpolargl": [
           {
            "marker": {
             "colorbar": {
              "outlinewidth": 0,
              "ticks": ""
             }
            },
            "type": "scatterpolargl"
           }
          ],
          "scatterternary": [
           {
            "marker": {
             "colorbar": {
              "outlinewidth": 0,
              "ticks": ""
             }
            },
            "type": "scatterternary"
           }
          ],
          "surface": [
           {
            "colorbar": {
             "outlinewidth": 0,
             "ticks": ""
            },
            "colorscale": [
             [
              0,
              "#0d0887"
             ],
             [
              0.1111111111111111,
              "#46039f"
             ],
             [
              0.2222222222222222,
              "#7201a8"
             ],
             [
              0.3333333333333333,
              "#9c179e"
             ],
             [
              0.4444444444444444,
              "#bd3786"
             ],
             [
              0.5555555555555556,
              "#d8576b"
             ],
             [
              0.6666666666666666,
              "#ed7953"
             ],
             [
              0.7777777777777778,
              "#fb9f3a"
             ],
             [
              0.8888888888888888,
              "#fdca26"
             ],
             [
              1,
              "#f0f921"
             ]
            ],
            "type": "surface"
           }
          ],
          "table": [
           {
            "cells": {
             "fill": {
              "color": "#EBF0F8"
             },
             "line": {
              "color": "white"
             }
            },
            "header": {
             "fill": {
              "color": "#C8D4E3"
             },
             "line": {
              "color": "white"
             }
            },
            "type": "table"
           }
          ]
         },
         "layout": {
          "annotationdefaults": {
           "arrowcolor": "#2a3f5f",
           "arrowhead": 0,
           "arrowwidth": 1
          },
          "autotypenumbers": "strict",
          "coloraxis": {
           "colorbar": {
            "outlinewidth": 0,
            "ticks": ""
           }
          },
          "colorscale": {
           "diverging": [
            [
             0,
             "#8e0152"
            ],
            [
             0.1,
             "#c51b7d"
            ],
            [
             0.2,
             "#de77ae"
            ],
            [
             0.3,
             "#f1b6da"
            ],
            [
             0.4,
             "#fde0ef"
            ],
            [
             0.5,
             "#f7f7f7"
            ],
            [
             0.6,
             "#e6f5d0"
            ],
            [
             0.7,
             "#b8e186"
            ],
            [
             0.8,
             "#7fbc41"
            ],
            [
             0.9,
             "#4d9221"
            ],
            [
             1,
             "#276419"
            ]
           ],
           "sequential": [
            [
             0,
             "#0d0887"
            ],
            [
             0.1111111111111111,
             "#46039f"
            ],
            [
             0.2222222222222222,
             "#7201a8"
            ],
            [
             0.3333333333333333,
             "#9c179e"
            ],
            [
             0.4444444444444444,
             "#bd3786"
            ],
            [
             0.5555555555555556,
             "#d8576b"
            ],
            [
             0.6666666666666666,
             "#ed7953"
            ],
            [
             0.7777777777777778,
             "#fb9f3a"
            ],
            [
             0.8888888888888888,
             "#fdca26"
            ],
            [
             1,
             "#f0f921"
            ]
           ],
           "sequentialminus": [
            [
             0,
             "#0d0887"
            ],
            [
             0.1111111111111111,
             "#46039f"
            ],
            [
             0.2222222222222222,
             "#7201a8"
            ],
            [
             0.3333333333333333,
             "#9c179e"
            ],
            [
             0.4444444444444444,
             "#bd3786"
            ],
            [
             0.5555555555555556,
             "#d8576b"
            ],
            [
             0.6666666666666666,
             "#ed7953"
            ],
            [
             0.7777777777777778,
             "#fb9f3a"
            ],
            [
             0.8888888888888888,
             "#fdca26"
            ],
            [
             1,
             "#f0f921"
            ]
           ]
          },
          "colorway": [
           "#636efa",
           "#EF553B",
           "#00cc96",
           "#ab63fa",
           "#FFA15A",
           "#19d3f3",
           "#FF6692",
           "#B6E880",
           "#FF97FF",
           "#FECB52"
          ],
          "font": {
           "color": "#2a3f5f"
          },
          "geo": {
           "bgcolor": "white",
           "lakecolor": "white",
           "landcolor": "#E5ECF6",
           "showlakes": true,
           "showland": true,
           "subunitcolor": "white"
          },
          "hoverlabel": {
           "align": "left"
          },
          "hovermode": "closest",
          "mapbox": {
           "style": "light"
          },
          "paper_bgcolor": "white",
          "plot_bgcolor": "#E5ECF6",
          "polar": {
           "angularaxis": {
            "gridcolor": "white",
            "linecolor": "white",
            "ticks": ""
           },
           "bgcolor": "#E5ECF6",
           "radialaxis": {
            "gridcolor": "white",
            "linecolor": "white",
            "ticks": ""
           }
          },
          "scene": {
           "xaxis": {
            "backgroundcolor": "#E5ECF6",
            "gridcolor": "white",
            "gridwidth": 2,
            "linecolor": "white",
            "showbackground": true,
            "ticks": "",
            "zerolinecolor": "white"
           },
           "yaxis": {
            "backgroundcolor": "#E5ECF6",
            "gridcolor": "white",
            "gridwidth": 2,
            "linecolor": "white",
            "showbackground": true,
            "ticks": "",
            "zerolinecolor": "white"
           },
           "zaxis": {
            "backgroundcolor": "#E5ECF6",
            "gridcolor": "white",
            "gridwidth": 2,
            "linecolor": "white",
            "showbackground": true,
            "ticks": "",
            "zerolinecolor": "white"
           }
          },
          "shapedefaults": {
           "line": {
            "color": "#2a3f5f"
           }
          },
          "ternary": {
           "aaxis": {
            "gridcolor": "white",
            "linecolor": "white",
            "ticks": ""
           },
           "baxis": {
            "gridcolor": "white",
            "linecolor": "white",
            "ticks": ""
           },
           "bgcolor": "#E5ECF6",
           "caxis": {
            "gridcolor": "white",
            "linecolor": "white",
            "ticks": ""
           }
          },
          "title": {
           "x": 0.05
          },
          "xaxis": {
           "automargin": true,
           "gridcolor": "white",
           "linecolor": "white",
           "ticks": "",
           "title": {
            "standoff": 15
           },
           "zerolinecolor": "white",
           "zerolinewidth": 2
          },
          "yaxis": {
           "automargin": true,
           "gridcolor": "white",
           "linecolor": "white",
           "ticks": "",
           "title": {
            "standoff": 15
           },
           "zerolinecolor": "white",
           "zerolinewidth": 2
          }
         }
        },
        "width": 800,
        "xaxis": {
         "gridcolor": "#dbdbdb",
         "gridwidth": 1,
         "showline": true,
         "tickfont": {
          "size": 12
         },
         "ticklen": 10,
         "ticks": "inside",
         "title": {
          "font": {
           "size": 24
          },
          "text": "<br> μ<sub>Zr</sub> - μ<sub>Zr</sub><sup>o</sup> (eV)"
         }
        },
        "yaxis": {
         "gridcolor": "#dbdbdb",
         "gridwidth": 1,
         "showline": true,
         "tickfont": {
          "size": 12
         },
         "ticklen": 10,
         "ticks": "inside",
         "title": {
          "font": {
           "size": 24
          },
          "text": "<br> μ<sub>O</sub> - μ<sub>O</sub><sup>o</sup> (eV)"
         }
        }
       }
      }
     },
     "metadata": {},
     "output_type": "display_data"
    }
   ],
   "source": [
    "pd_entries = cpa.intrinsic_phase_diagram.entries \n",
    "cpd = ChemicalPotentialDiagram(pd_entries)\n",
    "cpd.get_plot(formulas_to_draw=['ZrO2'])"
   ]
  },
  {
   "attachments": {},
   "cell_type": "markdown",
   "id": "25b33c46",
   "metadata": {},
   "source": [
    "This unfortunately doesn't look very impressive for a simple binary (you could use CPLAP and Adam Jackson's [plot-cplap-ternary](https://github.com/ajjackson/mctools)) so have a look at the quaternary examples below "
   ]
  },
  {
   "cell_type": "code",
   "execution_count": 22,
   "id": "7128498c",
   "metadata": {},
   "outputs": [
    {
     "data": {
      "application/vnd.plotly.v1+json": {
       "config": {
        "plotlyServerURL": "https://plot.ly"
       },
       "data": [
        {
         "hoverinfo": "none",
         "line": {
          "color": "rgba(0,0,0,1.0)",
          "width": 7
         },
         "mode": "lines",
         "showlegend": false,
         "type": "scatter3d",
         "x": [
          0.3,
          0.44117647058823534,
          null,
          0.8333333333333333,
          0.30000000000000004,
          null,
          0.6666666666666666,
          0.625,
          null,
          0.3,
          0.5,
          null,
          0.6666666666666666,
          0.3,
          null,
          0.75,
          0.8333333333333333,
          null,
          0.5,
          0.5,
          null,
          0.75,
          0.6923076923076923,
          null,
          0.30000000000000004,
          0.4375,
          null,
          0.8333333333333333,
          0.30000000000000004,
          null,
          0.4375,
          0.5,
          null,
          0.75,
          0.4375,
          null,
          0.6666666666666666,
          0.5,
          null,
          0.625,
          0.3,
          null,
          0.6923076923076923,
          0.5,
          null,
          0.6666666666666666,
          0.6923076923076923,
          null,
          0.8636363636363636,
          0.25,
          null,
          0.75,
          0.8333333333333333,
          null,
          0.5714285714285714,
          0.5,
          null,
          0.875,
          0.3,
          null,
          0.75,
          0.3,
          null,
          0.5,
          0.5454545454545455,
          null,
          0.75,
          0.5,
          null,
          0.6666666666666666,
          0.5,
          null,
          0.5454545454545455,
          0.5,
          null,
          0.7,
          0.4375,
          null,
          0.5,
          0.5,
          null,
          0.8333333333333333,
          0.9285714285714285,
          null,
          0.9285714285714285,
          0.3,
          null,
          0.44117647058823534,
          0.5,
          null,
          0.625,
          0.5,
          null,
          0.75,
          0.8333333333333333,
          null,
          0.9285714285714285,
          0.8636363636363636,
          null,
          0.5,
          0.5,
          null,
          0.5714285714285714,
          0.44117647058823534,
          null,
          0.8333333333333333,
          0.2916666666666667,
          null,
          0.75,
          0.4375,
          null,
          0.6666666666666666,
          0.44117647058823534,
          null,
          0.5454545454545455,
          0.44117647058823534,
          null,
          0.8333333333333333,
          0.3,
          null,
          0.3,
          0,
          null,
          0.6666666666666666,
          0.7,
          null,
          0.6666666666666666,
          0.5,
          null,
          0.30000000000000004,
          0.5,
          null,
          0.6666666666666666,
          0.625,
          null,
          0.3,
          0.4375,
          null,
          0.75,
          0.75,
          null,
          0.8636363636363636,
          0.30000000000000004,
          null,
          0.75,
          0.7,
          null,
          0.8636363636363636,
          1,
          null,
          0.8333333333333333,
          0.8636363636363636,
          null,
          0.6666666666666666,
          0.5,
          null,
          0.44117647058823534,
          0.5,
          null,
          0.625,
          0.5,
          null,
          0.5,
          0.44117647058823534,
          null,
          0.25,
          0.30000000000000004,
          null,
          0.25,
          1,
          null,
          0.6666666666666666,
          0.5714285714285714,
          null,
          0.3,
          0.5,
          null,
          0.9285714285714285,
          0.25,
          null,
          0.5714285714285714,
          0.5,
          null,
          0.8333333333333333,
          0.8333333333333333,
          null,
          0.30000000000000004,
          1,
          null,
          0.75,
          0.30000000000000004,
          null,
          0.5454545454545455,
          0.5,
          null,
          0.5714285714285714,
          0.5454545454545455,
          null,
          0.7,
          0.5,
          null,
          0.30000000000000004,
          0.44117647058823534,
          null,
          0.8333333333333333,
          0.875,
          null,
          0.44117647058823534,
          0.5,
          null,
          0.4375,
          0.5,
          null,
          0.6923076923076923,
          0.3,
          null,
          0.8333333333333333,
          0.875,
          null,
          0.75,
          0.7,
          null,
          0.5,
          0.5,
          null,
          0.5,
          0.5,
          null,
          0.6666666666666666,
          0.6923076923076923,
          null,
          0.30000000000000004,
          0.5,
          null,
          0.75,
          0.5,
          null,
          0.5,
          0.5,
          null,
          0.25,
          0.2916666666666667,
          null,
          0.5,
          0.5454545454545455,
          null,
          0.30000000000000004,
          0.2916666666666667,
          null,
          0.44117647058823534,
          0.4375,
          null,
          0.875,
          0.30000000000000004,
          null,
          0.75,
          0.30000000000000004,
          null,
          0.75,
          0.2916666666666667,
          null,
          0.6666666666666666,
          0.5,
          null,
          0.3,
          0.5,
          null,
          0.6666666666666666,
          0.75,
          null,
          0.5,
          0.44117647058823534,
          null,
          0.5,
          0.5,
          null,
          0.9285714285714285,
          0.30000000000000004,
          null,
          0.9285714285714285,
          1,
          null,
          0.30000000000000004,
          0.5,
          null,
          0.4375,
          0.5,
          null,
          0.3,
          0.30000000000000004,
          null,
          1,
          0,
          null,
          0.25,
          0,
          null,
          0.3,
          1,
          null,
          0.6666666666666666,
          0.6666666666666666,
          null,
          0.3,
          0.2916666666666667,
          null,
          0.875,
          0.9285714285714285,
          null,
          0.30000000000000004,
          0.3,
          null,
          0.8333333333333333,
          0.25,
          null,
          0.30000000000000004,
          0,
          null,
          0.75,
          0.3,
          null
         ],
         "y": [
          0.5196152422706631,
          0.6622547205410414,
          null,
          0.28867513459481287,
          0.40414518843273806,
          null,
          0.5773502691896257,
          0.21650635094610965,
          null,
          0.1732050807568877,
          0.28867513459481287,
          null,
          0.19245008972987523,
          0.1732050807568877,
          null,
          0.14433756729740643,
          0.28867513459481287,
          null,
          0.44613429891925627,
          0.28867513459481287,
          null,
          0.14433756729740643,
          0.177646236673731,
          null,
          0.40414518843273806,
          0.5412658773652741,
          null,
          0.09622504486493762,
          0.40414518843273806,
          null,
          0.5412658773652741,
          0.28867513459481287,
          null,
          0.14433756729740643,
          0.5412658773652741,
          null,
          0.5773502691896257,
          0.44613429891925627,
          null,
          0.21650635094610965,
          0.1732050807568877,
          null,
          0.177646236673731,
          0.44613429891925627,
          null,
          0.19245008972987523,
          0.177646236673731,
          null,
          0.07872958216222169,
          0.14433756729740643,
          null,
          0.14433756729740643,
          0.09622504486493762,
          null,
          0.659828879073858,
          0.8660254037844386,
          null,
          0.21650635094610965,
          0.5196152422706631,
          null,
          0.4330127018922193,
          0.5196152422706631,
          null,
          0.7216878364870323,
          0.6823230454059213,
          null,
          0.14433756729740643,
          0.44613429891925627,
          null,
          0.5773502691896257,
          0.8660254037844386,
          null,
          0.6823230454059213,
          0.8660254037844386,
          null,
          0.5196152422706631,
          0.5412658773652741,
          null,
          0.5511070751355518,
          0.44613429891925627,
          null,
          0.09622504486493762,
          0.12371791482634836,
          null,
          0.12371791482634836,
          0.5196152422706631,
          null,
          0.6622547205410414,
          0.8660254037844386,
          null,
          0.21650635094610965,
          0.28867513459481287,
          null,
          0.4330127018922193,
          0.28867513459481287,
          null,
          0.12371791482634836,
          0.07872958216222169,
          null,
          0.5511070751355518,
          0.8660254037844386,
          null,
          0.659828879073858,
          0.6622547205410414,
          null,
          0.09622504486493762,
          0.16839382851364085,
          null,
          0.4330127018922193,
          0.5412658773652741,
          null,
          0.5773502691896257,
          0.6622547205410414,
          null,
          0.6823230454059213,
          0.6622547205410414,
          null,
          0.28867513459481287,
          0.5196152422706631,
          null,
          0.5196152422706631,
          0,
          null,
          0.5773502691896257,
          0.5196152422706631,
          null,
          0.5773502691896257,
          0.5511070751355518,
          null,
          0.40414518843273806,
          0.44613429891925627,
          null,
          0.19245008972987523,
          0.21650635094610965,
          null,
          0.5196152422706631,
          0.5412658773652741,
          null,
          0.4330127018922193,
          0.14433756729740643,
          null,
          0.07872958216222169,
          0.40414518843273806,
          null,
          0.14433756729740643,
          0.5196152422706631,
          null,
          0.07872958216222169,
          0,
          null,
          0.09622504486493762,
          0.07872958216222169,
          null,
          0.19245008972987523,
          0.44613429891925627,
          null,
          0.6622547205410414,
          0.5511070751355518,
          null,
          0.21650635094610965,
          0.44613429891925627,
          null,
          0.6735753140545634,
          0.6622547205410414,
          null,
          0.14433756729740643,
          0.40414518843273806,
          null,
          0.14433756729740643,
          0,
          null,
          0.5773502691896257,
          0.659828879073858,
          null,
          0.1732050807568877,
          0.44613429891925627,
          null,
          0.12371791482634836,
          0.14433756729740643,
          null,
          0.659828879073858,
          0.28867513459481287,
          null,
          0.28867513459481287,
          0.09622504486493762,
          null,
          0.40414518843273806,
          0,
          null,
          0.14433756729740643,
          0.40414518843273806,
          null,
          0.6823230454059213,
          0.28867513459481287,
          null,
          0.659828879073858,
          0.6823230454059213,
          null,
          0.5196152422706631,
          0.5511070751355518,
          null,
          0.40414518843273806,
          0.6622547205410414,
          null,
          0.28867513459481287,
          0.21650635094610965,
          null,
          0.6622547205410414,
          0.28867513459481287,
          null,
          0.5412658773652741,
          0.8660254037844386,
          null,
          0.177646236673731,
          0.1732050807568877,
          null,
          0.09622504486493762,
          0.21650635094610965,
          null,
          0.4330127018922193,
          0.5196152422706631,
          null,
          0.7216878364870323,
          0.8660254037844386,
          null,
          0.5511070751355518,
          0.28867513459481287,
          null,
          0.5773502691896257,
          0.177646236673731,
          null,
          0.40414518843273806,
          0.5511070751355518,
          null,
          0.14433756729740643,
          0.5511070751355518,
          null,
          0.6735753140545634,
          0.28867513459481287,
          null,
          0.14433756729740643,
          0.16839382851364085,
          null,
          0.6735753140545634,
          0.6823230454059213,
          null,
          0.40414518843273806,
          0.16839382851364085,
          null,
          0.6622547205410414,
          0.5412658773652741,
          null,
          0.21650635094610965,
          0.40414518843273806,
          null,
          0.4330127018922193,
          0.40414518843273806,
          null,
          0.14433756729740643,
          0.16839382851364085,
          null,
          0.5773502691896257,
          0.28867513459481287,
          null,
          0.5196152422706631,
          0.8660254037844386,
          null,
          0.5773502691896257,
          0.14433756729740643,
          null,
          0.7216878364870323,
          0.6622547205410414,
          null,
          0.6735753140545634,
          0.7216878364870323,
          null,
          0.12371791482634836,
          0.40414518843273806,
          null,
          0.12371791482634836,
          0,
          null,
          0.40414518843273806,
          0.28867513459481287,
          null,
          0.5412658773652741,
          0.5511070751355518,
          null,
          0.5196152422706631,
          0.40414518843273806,
          null,
          0,
          0,
          null,
          0.14433756729740643,
          0,
          null,
          0.5196152422706631,
          0,
          null,
          0.5773502691896257,
          0.19245008972987523,
          null,
          0.1732050807568877,
          0.16839382851364085,
          null,
          0.21650635094610965,
          0.12371791482634836,
          null,
          0.40414518843273806,
          0.1732050807568877,
          null,
          0.09622504486493762,
          0.14433756729740643,
          null,
          0.40414518843273806,
          0,
          null,
          0.14433756729740643,
          0.1732050807568877,
          null
         ],
         "z": [
          0,
          0.14408763192842222,
          null,
          0,
          0.1632993161855452,
          null,
          0,
          0.6123724356957945,
          null,
          0.48989794855663554,
          0.8164965809277259,
          null,
          0.5443310539518172,
          0.48989794855663554,
          null,
          0.40824829046386296,
          0,
          null,
          0.14845392380504108,
          0.8164965809277259,
          null,
          0.40824829046386296,
          0.5024594344170621,
          null,
          0.1632993161855452,
          0,
          null,
          0.2721655269759086,
          0.1632993161855452,
          null,
          0,
          0.8164965809277259,
          null,
          0.40824829046386296,
          0,
          null,
          0,
          0.14845392380504108,
          null,
          0.6123724356957945,
          0.48989794855663554,
          null,
          0.5024594344170621,
          0.14845392380504108,
          null,
          0.5443310539518172,
          0.5024594344170621,
          null,
          0.2226808857075616,
          0.40824829046386296,
          null,
          0.40824829046386296,
          0.2721655269759086,
          null,
          0.11664236870396084,
          0,
          null,
          0,
          0,
          null,
          0,
          0,
          null,
          0.20412414523193148,
          0.14845392380504108,
          null,
          0.40824829046386296,
          0.14845392380504108,
          null,
          0,
          0,
          null,
          0.14845392380504108,
          0,
          null,
          0,
          0,
          null,
          0,
          0.14845392380504108,
          null,
          0.2721655269759086,
          0,
          null,
          0,
          0,
          null,
          0.14408763192842222,
          0,
          null,
          0.6123724356957945,
          0.8164965809277259,
          null,
          0,
          0,
          null,
          0,
          0.2226808857075616,
          null,
          0,
          0,
          null,
          0.11664236870396084,
          0.14408763192842222,
          null,
          0.2721655269759086,
          0.47628967220784013,
          null,
          0,
          0,
          null,
          0,
          0.14408763192842222,
          null,
          0.14845392380504108,
          0.14408763192842222,
          null,
          0,
          0,
          null,
          0,
          0,
          null,
          0,
          0,
          null,
          0,
          0,
          null,
          0.1632993161855452,
          0.14845392380504108,
          null,
          0.5443310539518172,
          0.6123724356957945,
          null,
          0,
          0,
          null,
          0,
          0.40824829046386296,
          null,
          0.2226808857075616,
          0.1632993161855452,
          null,
          0.40824829046386296,
          0,
          null,
          0.2226808857075616,
          0,
          null,
          0.2721655269759086,
          0.2226808857075616,
          null,
          0.5443310539518172,
          0.14845392380504108,
          null,
          0.14408763192842222,
          0,
          null,
          0.6123724356957945,
          0.14845392380504108,
          null,
          0.2721655269759086,
          0.14408763192842222,
          null,
          0.40824829046386296,
          0.1632993161855452,
          null,
          0.40824829046386296,
          0,
          null,
          0,
          0.11664236870396084,
          null,
          0.48989794855663554,
          0.14845392380504108,
          null,
          0,
          0.40824829046386296,
          null,
          0.11664236870396084,
          0.8164965809277259,
          null,
          0,
          0.2721655269759086,
          null,
          0.1632993161855452,
          0,
          null,
          0.40824829046386296,
          0.1632993161855452,
          null,
          0.14845392380504108,
          0.8164965809277259,
          null,
          0.11664236870396084,
          0.14845392380504108,
          null,
          0,
          0,
          null,
          0.1632993161855452,
          0.14408763192842222,
          null,
          0,
          0,
          null,
          0.14408763192842222,
          0.8164965809277259,
          null,
          0,
          0,
          null,
          0.5024594344170621,
          0.48989794855663554,
          null,
          0.2721655269759086,
          0,
          null,
          0,
          0,
          null,
          0.20412414523193148,
          0,
          null,
          0,
          0.8164965809277259,
          null,
          0,
          0.5024594344170621,
          null,
          0.1632993161855452,
          0,
          null,
          0.40824829046386296,
          0,
          null,
          0.2721655269759086,
          0.8164965809277259,
          null,
          0.40824829046386296,
          0.47628967220784013,
          null,
          0.2721655269759086,
          0.14845392380504108,
          null,
          0.1632993161855452,
          0.47628967220784013,
          null,
          0.14408763192842222,
          0,
          null,
          0,
          0.1632993161855452,
          null,
          0,
          0.1632993161855452,
          null,
          0.40824829046386296,
          0.47628967220784013,
          null,
          0,
          0.8164965809277259,
          null,
          0,
          0,
          null,
          0,
          0.40824829046386296,
          null,
          0.20412414523193148,
          0.14408763192842222,
          null,
          0.2721655269759086,
          0.20412414523193148,
          null,
          0,
          0.1632993161855452,
          null,
          0,
          0,
          null,
          0.1632993161855452,
          0.8164965809277259,
          null,
          0,
          0,
          null,
          0,
          0.1632993161855452,
          null,
          0,
          0,
          null,
          0.40824829046386296,
          0,
          null,
          0,
          0,
          null,
          0,
          0.5443310539518172,
          null,
          0.48989794855663554,
          0.47628967220784013,
          null,
          0,
          0,
          null,
          0.1632993161855452,
          0.48989794855663554,
          null,
          0.2721655269759086,
          0.40824829046386296,
          null,
          0.1632993161855452,
          0,
          null,
          0.40824829046386296,
          0.48989794855663554,
          null
         ]
        },
        {
         "hoverinfo": "skip",
         "mode": "text",
         "name": "Labels (stable)",
         "opacity": 1,
         "showlegend": true,
         "text": [
          "Y<sub>2</sub>O<sub>3</sub>",
          "Y<sub>2</sub>(SO<sub>4</sub>)<sub>3</sub>",
          "Ti<sub>2</sub>O",
          "Y<sub>2</sub>SO<sub>2</sub>",
          "TiO<sub>2</sub>",
          "TiS<sub>3</sub>",
          "Y<sub>2</sub>S<sub>3</sub>",
          "TiS<sub>2</sub>",
          "TiS",
          "Y<sub>2</sub>Ti<sub>2</sub>S<sub>2</sub>O<sub>5</sub>",
          "Ti<sub>5</sub>S<sub>8</sub>",
          "Y<sub>2</sub>TiO<sub>5</sub>",
          "Ti<sub>2</sub>S",
          "Ti<sub>8</sub>S<sub>3</sub>",
          "YS",
          "TiSO<sub>5</sub>",
          "Ti<sub>3</sub>O",
          "TiO",
          "SO<sub>3</sub>",
          "Ti(SO<sub>4</sub>)<sub>2</sub>",
          "Ti<sub>2</sub>O<sub>3</sub>",
          "Y<sub>2</sub>Ti<sub>2</sub>O<sub>7</sub>",
          "Ti<sub>6</sub>O",
          "Y<sub>5</sub>S<sub>7</sub>",
          "SO<sub>2</sub>"
         ],
         "textposition": [
          "bottom right",
          "bottom right",
          "bottom right",
          "bottom right",
          "bottom right",
          "bottom right",
          "bottom right",
          "bottom right",
          "bottom right",
          "bottom right",
          "bottom right",
          "bottom right",
          "bottom right",
          "bottom right",
          "bottom right",
          "bottom right",
          "bottom right",
          "bottom right",
          "bottom right",
          "bottom right",
          "bottom right",
          "bottom right",
          "bottom right",
          "bottom right",
          "bottom right"
         ],
         "type": "scatter3d",
         "visible": "legendonly",
         "x": [
          0.29,
          0.4311764705882353,
          0.8233333333333333,
          0.29000000000000004,
          0.6566666666666666,
          0.615,
          0.29,
          0.6566666666666666,
          0.74,
          0.49,
          0.6823076923076923,
          0.4275,
          0.8233333333333333,
          0.8536363636363636,
          0.24,
          0.5614285714285714,
          0.865,
          0.74,
          0.49,
          0.5354545454545455,
          0.69,
          0.49,
          0.9185714285714285,
          0.2816666666666667,
          0.49
         ],
         "y": [
          0.5096152422706631,
          0.6522547205410414,
          0.27867513459481286,
          0.39414518843273805,
          0.5673502691896257,
          0.20650635094610964,
          0.1632050807568877,
          0.18245008972987523,
          0.13433756729740642,
          0.43613429891925626,
          0.167646236673731,
          0.5312658773652741,
          0.08622504486493762,
          0.06872958216222169,
          0.13433756729740642,
          0.649828879073858,
          0.20650635094610964,
          0.4230127018922193,
          0.7116878364870323,
          0.6723230454059212,
          0.5096152422706631,
          0.5411070751355518,
          0.11371791482634837,
          0.15839382851364084,
          0.6635753140545634
         ],
         "z": [
          0,
          0.14408763192842222,
          0,
          0.1632993161855452,
          0,
          0.6123724356957945,
          0.48989794855663554,
          0.5443310539518172,
          0.40824829046386296,
          0.14845392380504108,
          0.5024594344170621,
          0,
          0.2721655269759086,
          0.2226808857075616,
          0.40824829046386296,
          0.11664236870396084,
          0,
          0,
          0.20412414523193148,
          0.14845392380504108,
          0,
          0,
          0,
          0.47628967220784013,
          0.2721655269759086
         ]
        },
        {
         "hoverinfo": "text",
         "hoverlabel": {
          "font": {
           "size": 14
          }
         },
         "hovertext": [
          "S<sub>8</sub>O (no ID) <br> -0.106 eV/atom (+0.074 eV/atom)",
          "Ti<sub>2</sub>S<sub>3</sub> (no ID) <br> -1.508 eV/atom (+0.021 eV/atom)",
          "Ti<sub>3</sub>O<sub>5</sub> (no ID) <br> -3.138 eV/atom (+0.004 eV/atom)",
          "Ti<sub>4</sub>O<sub>7</sub> (no ID) <br> -3.143 eV/atom (+0.03 eV/atom)",
          "Ti<sub>5</sub>O<sub>8</sub> (no ID) <br> -3.075 eV/atom (+0.039 eV/atom)",
          "Ti<sub>5</sub>O<sub>9</sub> (no ID) <br> -3.16 eV/atom (+0.032 eV/atom)",
          "Ti<sub>6</sub>O<sub>11</sub> (no ID) <br> -3.175 eV/atom (+0.028 eV/atom)",
          "Ti<sub>7</sub>O<sub>13</sub> (no ID) <br> -3.183 eV/atom (+0.029 eV/atom)",
          "Ti<sub>7</sub>S<sub>12</sub> (no ID) <br> -1.485 eV/atom (+0.005 eV/atom)",
          "Ti<sub>8</sub>O<sub>13</sub> (no ID) <br> -3.084 eV/atom (+0.04 eV/atom)",
          "Ti<sub>8</sub>O<sub>15</sub> (no ID) <br> -3.189 eV/atom (+0.029 eV/atom)",
          "Ti<sub>9</sub>O<sub>17</sub> (no ID) <br> -3.193 eV/atom (+0.03 eV/atom)",
          "Ti<sub>11</sub>O<sub>18</sub> (no ID) <br> -3.085 eV/atom (+0.045 eV/atom)",
          "Ti<sub>13</sub>O<sub>22</sub> (no ID) <br> -3.11 eV/atom (+0.041 eV/atom)",
          "Ti<sub>13</sub>S<sub>24</sub> (no ID) <br> -1.462 eV/atom (+0.003 eV/atom)",
          "Ti<sub>19</sub>O<sub>30</sub> (no ID) <br> -3.074 eV/atom (+0.031 eV/atom)"
         ],
         "line": {
          "color": "black",
          "width": 2
         },
         "marker": {
          "color": [
           0.074,
           0.021,
           0.004,
           0.03,
           0.039,
           0.032,
           0.028,
           0.029,
           0.005,
           0.04,
           0.029,
           0.03,
           0.045,
           0.041,
           0.003,
           0.031
          ],
          "colorbar": {
           "len": 0.75,
           "title": {
            "text": "Energy Above Hull<br>(eV/atom)"
           },
           "x": 0.05
          },
          "colorscale": [
           [
            0,
            "#fad393"
           ],
           [
            0.5,
            "#ff813d"
           ],
           [
            1,
            "#ff0000"
           ]
          ],
          "size": 5,
          "symbol": "diamond"
         },
         "mode": "markers",
         "name": "Above Hull",
         "showlegend": true,
         "type": "scatter3d",
         "visible": "legendonly",
         "x": [
          0.5,
          0.7,
          0.6875,
          0.6818181818181819,
          0.6923076923076923,
          0.6785714285714286,
          0.6764705882352942,
          0.675,
          0.6842105263157894,
          0.6904761904761905,
          0.6739130434782609,
          0.6730769230769231,
          0.6896551724137931,
          0.6857142857142857,
          0.6756756756756757,
          0.6938775510204082
         ],
         "y": [
          0.35282516450477125,
          0.1732050807568877,
          0.5412658773652741,
          0.5511070751355518,
          0.532938710021193,
          0.5567306167185677,
          0.5603693789193427,
          0.562916512459885,
          0.18232113763882918,
          0.5361109642475096,
          0.5647991763811556,
          0.5662473793975176,
          0.5375330092455136,
          0.5443588252359328,
          0.18724873595339214,
          0.5302196349700644
         ],
         "z": [
          0.725774738602423,
          0.48989794855663554,
          0,
          0,
          0,
          0,
          0,
          0,
          0.515682051112248,
          0,
          0,
          0,
          0,
          0,
          0.5296194038450115,
          0
         ]
        },
        {
         "hoverinfo": "text",
         "hoverlabel": {
          "font": {
           "size": 14
          }
         },
         "hovertext": [
          "Y<sub>2</sub>O<sub>3</sub> (no ID) <br> -3.804 eV/atom",
          "Y<sub>2</sub>(SO<sub>4</sub>)<sub>3</sub> (no ID) <br> -2.375 eV/atom",
          "Ti<sub>2</sub>O (no ID) <br> -1.916 eV/atom",
          "Y<sub>2</sub>SO<sub>2</sub> (no ID) <br> -3.432 eV/atom",
          "TiO<sub>2</sub> (no ID) <br> -3.259 eV/atom",
          "TiS<sub>3</sub> (no ID) <br> -1.079 eV/atom",
          "Y<sub>2</sub>S<sub>3</sub> (no ID) <br> -2.323 eV/atom",
          "S (no ID) <br> 0.0 eV/atom",
          "TiS<sub>2</sub> (no ID) <br> -1.437 eV/atom",
          "TiS (no ID) <br> -1.613 eV/atom",
          "Y<sub>2</sub>Ti<sub>2</sub>S<sub>2</sub>O<sub>5</sub> (no ID) <br> -3.127 eV/atom",
          "Ti<sub>5</sub>S<sub>8</sub> (no ID) <br> -1.516 eV/atom",
          "Y<sub>2</sub>TiO<sub>5</sub> (no ID) <br> -3.672 eV/atom",
          "Ti<sub>2</sub>S (no ID) <br> -1.182 eV/atom",
          "Ti<sub>8</sub>S<sub>3</sub> (no ID) <br> -0.974 eV/atom",
          "YS (no ID) <br> -2.182 eV/atom",
          "TiSO<sub>5</sub> (no ID) <br> -2.236 eV/atom",
          "O<sub>2</sub> (no ID) <br> 0.0 eV/atom",
          "Ti<sub>3</sub>O (no ID) <br> -1.493 eV/atom",
          "TiO (no ID) <br> -2.712 eV/atom",
          "SO<sub>3</sub> (no ID) <br> -1.147 eV/atom",
          "Ti(SO<sub>4</sub>)<sub>2</sub> (no ID) <br> -1.881 eV/atom",
          "Ti<sub>2</sub>O<sub>3</sub> (no ID) <br> -3.071 eV/atom",
          "Y<sub>2</sub>Ti<sub>2</sub>O<sub>7</sub> (no ID) <br> -3.567 eV/atom",
          "Ti<sub>6</sub>O (no ID) <br> -0.878 eV/atom",
          "Y<sub>5</sub>S<sub>7</sub> (no ID) <br> -2.31 eV/atom",
          "Y (no ID) <br> 0.0 eV/atom",
          "Ti (no ID) <br> 0.0 eV/atom",
          "SO<sub>2</sub> (no ID) <br> -1.08 eV/atom"
         ],
         "line": {
          "color": "black",
          "width": 2
         },
         "marker": {
          "color": [
           -3.804,
           -2.375,
           -1.916,
           -3.432,
           -3.259,
           -1.079,
           -2.323,
           0,
           -1.437,
           -1.613,
           -3.127,
           -1.516,
           -3.672,
           -1.182,
           -0.974,
           -2.182,
           -2.236,
           0,
           -1.493,
           -2.712,
           -1.147,
           -1.881,
           -3.071,
           -3.567,
           -0.878,
           -2.31,
           0,
           0,
           -1.08
          ],
          "colorscale": [
           [
            0,
            "#075400"
           ],
           [
            1,
            "#7ce371"
           ]
          ],
          "opacity": 0.9,
          "size": 8
         },
         "mode": "markers",
         "name": "Stable",
         "showlegend": true,
         "type": "scatter3d",
         "x": [
          0.3,
          0.44117647058823534,
          0.8333333333333333,
          0.30000000000000004,
          0.6666666666666666,
          0.625,
          0.3,
          0.5,
          0.6666666666666666,
          0.75,
          0.5,
          0.6923076923076923,
          0.4375,
          0.8333333333333333,
          0.8636363636363636,
          0.25,
          0.5714285714285714,
          0.5,
          0.875,
          0.75,
          0.5,
          0.5454545454545455,
          0.7,
          0.5,
          0.9285714285714285,
          0.2916666666666667,
          0,
          1,
          0.5
         ],
         "y": [
          0.5196152422706631,
          0.6622547205410414,
          0.28867513459481287,
          0.40414518843273806,
          0.5773502691896257,
          0.21650635094610965,
          0.1732050807568877,
          0.28867513459481287,
          0.19245008972987523,
          0.14433756729740643,
          0.44613429891925627,
          0.177646236673731,
          0.5412658773652741,
          0.09622504486493762,
          0.07872958216222169,
          0.14433756729740643,
          0.659828879073858,
          0.8660254037844386,
          0.21650635094610965,
          0.4330127018922193,
          0.7216878364870323,
          0.6823230454059213,
          0.5196152422706631,
          0.5511070751355518,
          0.12371791482634836,
          0.16839382851364085,
          0,
          0,
          0.6735753140545634
         ],
         "z": [
          0,
          0.14408763192842222,
          0,
          0.1632993161855452,
          0,
          0.6123724356957945,
          0.48989794855663554,
          0.8164965809277259,
          0.5443310539518172,
          0.40824829046386296,
          0.14845392380504108,
          0.5024594344170621,
          0,
          0.2721655269759086,
          0.2226808857075616,
          0.40824829046386296,
          0.11664236870396084,
          0,
          0,
          0,
          0.20412414523193148,
          0.14845392380504108,
          0,
          0,
          0,
          0.47628967220784013,
          0,
          0,
          0.2721655269759086
         ]
        }
       ],
       "layout": {
        "autosize": true,
        "height": 700,
        "hovermode": "closest",
        "legend": {
         "orientation": "h",
         "traceorder": "reversed",
         "x": 0.5,
         "xanchor": "center",
         "y": 0,
         "yanchor": "top"
        },
        "margin": {
         "b": 10,
         "l": 0,
         "pad": 0,
         "r": 0,
         "t": 0
        },
        "paper_bgcolor": "rgba(0,0,0,0)",
        "plot_bgcolor": "rgba(0,0,0,0)",
        "scene": {
         "annotations": [
          {
           "align": "center",
           "font": {
            "color": "#000000",
            "size": 24
           },
           "opacity": 1,
           "showarrow": false,
           "text": "S",
           "x": 0.5,
           "xanchor": "right",
           "xshift": -10,
           "y": 0.28867513459481287,
           "yanchor": "auto",
           "yshift": -10,
           "z": 0.8164965809277259
          },
          {
           "align": "center",
           "font": {
            "color": "#000000",
            "size": 24
           },
           "opacity": 1,
           "showarrow": false,
           "text": "O",
           "x": 0.5,
           "xanchor": "right",
           "xshift": -10,
           "y": 0.8660254037844386,
           "yanchor": "auto",
           "yshift": -10,
           "z": 0
          },
          {
           "align": "center",
           "font": {
            "color": "#000000",
            "size": 24
           },
           "opacity": 1,
           "showarrow": false,
           "text": "Y",
           "x": 0,
           "xanchor": "right",
           "xshift": -10,
           "y": 0,
           "yanchor": "auto",
           "yshift": -10,
           "z": 0
          },
          {
           "align": "center",
           "font": {
            "color": "#000000",
            "size": 24
           },
           "opacity": 1,
           "showarrow": false,
           "text": "Ti",
           "x": 1,
           "xanchor": "right",
           "xshift": -10,
           "y": 0,
           "yanchor": "auto",
           "yshift": -10,
           "z": 0
          }
         ],
         "aspectratio": {
          "x": 1.4,
          "y": 1.4,
          "z": 1.4
         },
         "camera": {
          "center": {
           "x": 0,
           "y": -0.08,
           "z": 0
          },
          "projection": {
           "type": "orthographic"
          }
         },
         "xaxis": {
          "autorange": true,
          "showaxeslabels": false,
          "showgrid": false,
          "showline": false,
          "showspikes": false,
          "showticklabels": false,
          "ticks": "",
          "visible": false,
          "zeroline": false
         },
         "yaxis": {
          "autorange": true,
          "showaxeslabels": false,
          "showgrid": false,
          "showline": false,
          "showspikes": false,
          "showticklabels": false,
          "ticks": "",
          "visible": false,
          "zeroline": false
         },
         "zaxis": {
          "autorange": true,
          "showaxeslabels": false,
          "showgrid": false,
          "showline": false,
          "showspikes": false,
          "showticklabels": false,
          "ticks": "",
          "visible": false,
          "zeroline": false
         }
        },
        "showlegend": true,
        "template": {
         "data": {
          "bar": [
           {
            "error_x": {
             "color": "#2a3f5f"
            },
            "error_y": {
             "color": "#2a3f5f"
            },
            "marker": {
             "line": {
              "color": "#E5ECF6",
              "width": 0.5
             },
             "pattern": {
              "fillmode": "overlay",
              "size": 10,
              "solidity": 0.2
             }
            },
            "type": "bar"
           }
          ],
          "barpolar": [
           {
            "marker": {
             "line": {
              "color": "#E5ECF6",
              "width": 0.5
             },
             "pattern": {
              "fillmode": "overlay",
              "size": 10,
              "solidity": 0.2
             }
            },
            "type": "barpolar"
           }
          ],
          "carpet": [
           {
            "aaxis": {
             "endlinecolor": "#2a3f5f",
             "gridcolor": "white",
             "linecolor": "white",
             "minorgridcolor": "white",
             "startlinecolor": "#2a3f5f"
            },
            "baxis": {
             "endlinecolor": "#2a3f5f",
             "gridcolor": "white",
             "linecolor": "white",
             "minorgridcolor": "white",
             "startlinecolor": "#2a3f5f"
            },
            "type": "carpet"
           }
          ],
          "choropleth": [
           {
            "colorbar": {
             "outlinewidth": 0,
             "ticks": ""
            },
            "type": "choropleth"
           }
          ],
          "contour": [
           {
            "colorbar": {
             "outlinewidth": 0,
             "ticks": ""
            },
            "colorscale": [
             [
              0,
              "#0d0887"
             ],
             [
              0.1111111111111111,
              "#46039f"
             ],
             [
              0.2222222222222222,
              "#7201a8"
             ],
             [
              0.3333333333333333,
              "#9c179e"
             ],
             [
              0.4444444444444444,
              "#bd3786"
             ],
             [
              0.5555555555555556,
              "#d8576b"
             ],
             [
              0.6666666666666666,
              "#ed7953"
             ],
             [
              0.7777777777777778,
              "#fb9f3a"
             ],
             [
              0.8888888888888888,
              "#fdca26"
             ],
             [
              1,
              "#f0f921"
             ]
            ],
            "type": "contour"
           }
          ],
          "contourcarpet": [
           {
            "colorbar": {
             "outlinewidth": 0,
             "ticks": ""
            },
            "type": "contourcarpet"
           }
          ],
          "heatmap": [
           {
            "colorbar": {
             "outlinewidth": 0,
             "ticks": ""
            },
            "colorscale": [
             [
              0,
              "#0d0887"
             ],
             [
              0.1111111111111111,
              "#46039f"
             ],
             [
              0.2222222222222222,
              "#7201a8"
             ],
             [
              0.3333333333333333,
              "#9c179e"
             ],
             [
              0.4444444444444444,
              "#bd3786"
             ],
             [
              0.5555555555555556,
              "#d8576b"
             ],
             [
              0.6666666666666666,
              "#ed7953"
             ],
             [
              0.7777777777777778,
              "#fb9f3a"
             ],
             [
              0.8888888888888888,
              "#fdca26"
             ],
             [
              1,
              "#f0f921"
             ]
            ],
            "type": "heatmap"
           }
          ],
          "heatmapgl": [
           {
            "colorbar": {
             "outlinewidth": 0,
             "ticks": ""
            },
            "colorscale": [
             [
              0,
              "#0d0887"
             ],
             [
              0.1111111111111111,
              "#46039f"
             ],
             [
              0.2222222222222222,
              "#7201a8"
             ],
             [
              0.3333333333333333,
              "#9c179e"
             ],
             [
              0.4444444444444444,
              "#bd3786"
             ],
             [
              0.5555555555555556,
              "#d8576b"
             ],
             [
              0.6666666666666666,
              "#ed7953"
             ],
             [
              0.7777777777777778,
              "#fb9f3a"
             ],
             [
              0.8888888888888888,
              "#fdca26"
             ],
             [
              1,
              "#f0f921"
             ]
            ],
            "type": "heatmapgl"
           }
          ],
          "histogram": [
           {
            "marker": {
             "pattern": {
              "fillmode": "overlay",
              "size": 10,
              "solidity": 0.2
             }
            },
            "type": "histogram"
           }
          ],
          "histogram2d": [
           {
            "colorbar": {
             "outlinewidth": 0,
             "ticks": ""
            },
            "colorscale": [
             [
              0,
              "#0d0887"
             ],
             [
              0.1111111111111111,
              "#46039f"
             ],
             [
              0.2222222222222222,
              "#7201a8"
             ],
             [
              0.3333333333333333,
              "#9c179e"
             ],
             [
              0.4444444444444444,
              "#bd3786"
             ],
             [
              0.5555555555555556,
              "#d8576b"
             ],
             [
              0.6666666666666666,
              "#ed7953"
             ],
             [
              0.7777777777777778,
              "#fb9f3a"
             ],
             [
              0.8888888888888888,
              "#fdca26"
             ],
             [
              1,
              "#f0f921"
             ]
            ],
            "type": "histogram2d"
           }
          ],
          "histogram2dcontour": [
           {
            "colorbar": {
             "outlinewidth": 0,
             "ticks": ""
            },
            "colorscale": [
             [
              0,
              "#0d0887"
             ],
             [
              0.1111111111111111,
              "#46039f"
             ],
             [
              0.2222222222222222,
              "#7201a8"
             ],
             [
              0.3333333333333333,
              "#9c179e"
             ],
             [
              0.4444444444444444,
              "#bd3786"
             ],
             [
              0.5555555555555556,
              "#d8576b"
             ],
             [
              0.6666666666666666,
              "#ed7953"
             ],
             [
              0.7777777777777778,
              "#fb9f3a"
             ],
             [
              0.8888888888888888,
              "#fdca26"
             ],
             [
              1,
              "#f0f921"
             ]
            ],
            "type": "histogram2dcontour"
           }
          ],
          "mesh3d": [
           {
            "colorbar": {
             "outlinewidth": 0,
             "ticks": ""
            },
            "type": "mesh3d"
           }
          ],
          "parcoords": [
           {
            "line": {
             "colorbar": {
              "outlinewidth": 0,
              "ticks": ""
             }
            },
            "type": "parcoords"
           }
          ],
          "pie": [
           {
            "automargin": true,
            "type": "pie"
           }
          ],
          "scatter": [
           {
            "marker": {
             "colorbar": {
              "outlinewidth": 0,
              "ticks": ""
             }
            },
            "type": "scatter"
           }
          ],
          "scatter3d": [
           {
            "line": {
             "colorbar": {
              "outlinewidth": 0,
              "ticks": ""
             }
            },
            "marker": {
             "colorbar": {
              "outlinewidth": 0,
              "ticks": ""
             }
            },
            "type": "scatter3d"
           }
          ],
          "scattercarpet": [
           {
            "marker": {
             "colorbar": {
              "outlinewidth": 0,
              "ticks": ""
             }
            },
            "type": "scattercarpet"
           }
          ],
          "scattergeo": [
           {
            "marker": {
             "colorbar": {
              "outlinewidth": 0,
              "ticks": ""
             }
            },
            "type": "scattergeo"
           }
          ],
          "scattergl": [
           {
            "marker": {
             "colorbar": {
              "outlinewidth": 0,
              "ticks": ""
             }
            },
            "type": "scattergl"
           }
          ],
          "scattermapbox": [
           {
            "marker": {
             "colorbar": {
              "outlinewidth": 0,
              "ticks": ""
             }
            },
            "type": "scattermapbox"
           }
          ],
          "scatterpolar": [
           {
            "marker": {
             "colorbar": {
              "outlinewidth": 0,
              "ticks": ""
             }
            },
            "type": "scatterpolar"
           }
          ],
          "scatterpolargl": [
           {
            "marker": {
             "colorbar": {
              "outlinewidth": 0,
              "ticks": ""
             }
            },
            "type": "scatterpolargl"
           }
          ],
          "scatterternary": [
           {
            "marker": {
             "colorbar": {
              "outlinewidth": 0,
              "ticks": ""
             }
            },
            "type": "scatterternary"
           }
          ],
          "surface": [
           {
            "colorbar": {
             "outlinewidth": 0,
             "ticks": ""
            },
            "colorscale": [
             [
              0,
              "#0d0887"
             ],
             [
              0.1111111111111111,
              "#46039f"
             ],
             [
              0.2222222222222222,
              "#7201a8"
             ],
             [
              0.3333333333333333,
              "#9c179e"
             ],
             [
              0.4444444444444444,
              "#bd3786"
             ],
             [
              0.5555555555555556,
              "#d8576b"
             ],
             [
              0.6666666666666666,
              "#ed7953"
             ],
             [
              0.7777777777777778,
              "#fb9f3a"
             ],
             [
              0.8888888888888888,
              "#fdca26"
             ],
             [
              1,
              "#f0f921"
             ]
            ],
            "type": "surface"
           }
          ],
          "table": [
           {
            "cells": {
             "fill": {
              "color": "#EBF0F8"
             },
             "line": {
              "color": "white"
             }
            },
            "header": {
             "fill": {
              "color": "#C8D4E3"
             },
             "line": {
              "color": "white"
             }
            },
            "type": "table"
           }
          ]
         },
         "layout": {
          "annotationdefaults": {
           "arrowcolor": "#2a3f5f",
           "arrowhead": 0,
           "arrowwidth": 1
          },
          "autotypenumbers": "strict",
          "coloraxis": {
           "colorbar": {
            "outlinewidth": 0,
            "ticks": ""
           }
          },
          "colorscale": {
           "diverging": [
            [
             0,
             "#8e0152"
            ],
            [
             0.1,
             "#c51b7d"
            ],
            [
             0.2,
             "#de77ae"
            ],
            [
             0.3,
             "#f1b6da"
            ],
            [
             0.4,
             "#fde0ef"
            ],
            [
             0.5,
             "#f7f7f7"
            ],
            [
             0.6,
             "#e6f5d0"
            ],
            [
             0.7,
             "#b8e186"
            ],
            [
             0.8,
             "#7fbc41"
            ],
            [
             0.9,
             "#4d9221"
            ],
            [
             1,
             "#276419"
            ]
           ],
           "sequential": [
            [
             0,
             "#0d0887"
            ],
            [
             0.1111111111111111,
             "#46039f"
            ],
            [
             0.2222222222222222,
             "#7201a8"
            ],
            [
             0.3333333333333333,
             "#9c179e"
            ],
            [
             0.4444444444444444,
             "#bd3786"
            ],
            [
             0.5555555555555556,
             "#d8576b"
            ],
            [
             0.6666666666666666,
             "#ed7953"
            ],
            [
             0.7777777777777778,
             "#fb9f3a"
            ],
            [
             0.8888888888888888,
             "#fdca26"
            ],
            [
             1,
             "#f0f921"
            ]
           ],
           "sequentialminus": [
            [
             0,
             "#0d0887"
            ],
            [
             0.1111111111111111,
             "#46039f"
            ],
            [
             0.2222222222222222,
             "#7201a8"
            ],
            [
             0.3333333333333333,
             "#9c179e"
            ],
            [
             0.4444444444444444,
             "#bd3786"
            ],
            [
             0.5555555555555556,
             "#d8576b"
            ],
            [
             0.6666666666666666,
             "#ed7953"
            ],
            [
             0.7777777777777778,
             "#fb9f3a"
            ],
            [
             0.8888888888888888,
             "#fdca26"
            ],
            [
             1,
             "#f0f921"
            ]
           ]
          },
          "colorway": [
           "#636efa",
           "#EF553B",
           "#00cc96",
           "#ab63fa",
           "#FFA15A",
           "#19d3f3",
           "#FF6692",
           "#B6E880",
           "#FF97FF",
           "#FECB52"
          ],
          "font": {
           "color": "#2a3f5f"
          },
          "geo": {
           "bgcolor": "white",
           "lakecolor": "white",
           "landcolor": "#E5ECF6",
           "showlakes": true,
           "showland": true,
           "subunitcolor": "white"
          },
          "hoverlabel": {
           "align": "left"
          },
          "hovermode": "closest",
          "mapbox": {
           "style": "light"
          },
          "paper_bgcolor": "white",
          "plot_bgcolor": "#E5ECF6",
          "polar": {
           "angularaxis": {
            "gridcolor": "white",
            "linecolor": "white",
            "ticks": ""
           },
           "bgcolor": "#E5ECF6",
           "radialaxis": {
            "gridcolor": "white",
            "linecolor": "white",
            "ticks": ""
           }
          },
          "scene": {
           "xaxis": {
            "backgroundcolor": "#E5ECF6",
            "gridcolor": "white",
            "gridwidth": 2,
            "linecolor": "white",
            "showbackground": true,
            "ticks": "",
            "zerolinecolor": "white"
           },
           "yaxis": {
            "backgroundcolor": "#E5ECF6",
            "gridcolor": "white",
            "gridwidth": 2,
            "linecolor": "white",
            "showbackground": true,
            "ticks": "",
            "zerolinecolor": "white"
           },
           "zaxis": {
            "backgroundcolor": "#E5ECF6",
            "gridcolor": "white",
            "gridwidth": 2,
            "linecolor": "white",
            "showbackground": true,
            "ticks": "",
            "zerolinecolor": "white"
           }
          },
          "shapedefaults": {
           "line": {
            "color": "#2a3f5f"
           }
          },
          "ternary": {
           "aaxis": {
            "gridcolor": "white",
            "linecolor": "white",
            "ticks": ""
           },
           "baxis": {
            "gridcolor": "white",
            "linecolor": "white",
            "ticks": ""
           },
           "bgcolor": "#E5ECF6",
           "caxis": {
            "gridcolor": "white",
            "linecolor": "white",
            "ticks": ""
           }
          },
          "title": {
           "x": 0.05
          },
          "xaxis": {
           "automargin": true,
           "gridcolor": "white",
           "linecolor": "white",
           "ticks": "",
           "title": {
            "standoff": 15
           },
           "zerolinecolor": "white",
           "zerolinewidth": 2
          },
          "yaxis": {
           "automargin": true,
           "gridcolor": "white",
           "linecolor": "white",
           "ticks": "",
           "title": {
            "standoff": 15
           },
           "zerolinecolor": "white",
           "zerolinewidth": 2
          }
         }
        }
       }
      }
     },
     "metadata": {},
     "output_type": "display_data"
    }
   ],
   "source": [
    "pdplotter = PDPlotter(loadfn('competing_phases/ytos_phase_diagram.json'), show_unstable=True)\n",
    "pdplotter.show()"
   ]
  },
  {
   "cell_type": "code",
   "execution_count": 21,
   "id": "939778f7",
   "metadata": {},
   "outputs": [
    {
     "data": {
      "application/vnd.plotly.v1+json": {
       "config": {
        "plotlyServerURL": "https://plot.ly"
       },
       "data": [
        {
         "line": {
          "color": "black",
          "width": 4.5
         },
         "mode": "lines",
         "showlegend": false,
         "type": "scatter3d",
         "x": [
          -21.596300734999964,
          -8.771151958999987,
          null,
          -21.596300734999964,
          -21.596300734999964,
          null,
          -11.315103945000011,
          -21.596300734999964,
          null,
          -9.164011649999772,
          -8.771151958999987,
          null,
          -9.164011649999772,
          -11.315103945000011,
          null,
          -21.596300734999964,
          -21.596300734999964,
          null,
          -21.596300734999964,
          -11.713179532500085,
          null,
          -13.094444152499946,
          -21.596300734999964,
          null,
          -13.094444152499946,
          -11.713179532500085,
          null,
          -21.596300734999964,
          -13.094444152499939,
          null,
          -21.596300734999964,
          -21.596300734999964,
          null,
          -13.101920572968751,
          -13.094444152499939,
          null,
          -13.101920572968751,
          -21.596300734999964,
          null,
          -21.596300734999964,
          -8.188939299999973,
          null,
          -21.596300734999964,
          -21.596300734999964,
          null,
          -8.771151958999987,
          -21.596300734999964,
          null,
          -8.707950624999995,
          -8.188939299999973,
          null,
          -8.707950624999995,
          -8.771151958999987,
          null,
          -21.596300734999964,
          -11.315103945000011,
          null,
          -21.596300734999964,
          -21.596300734999964,
          null,
          -11.713179532500085,
          -11.315103945000011,
          null,
          -11.713179532500085,
          -21.596300734999964,
          null,
          -21.596300734999964,
          -8.087868542222232,
          null,
          -21.596300734999964,
          -21.596300734999964,
          null,
          -8.188939299999973,
          -8.087868542222232,
          null,
          -8.188939299999973,
          -21.596300734999964,
          null,
          -8.707950625000002,
          -7.294285239999994,
          null,
          -7.294285239999994,
          -8.087868542222239,
          null,
          -7.294285239999994,
          -7.294285239999994,
          null,
          -8.707950625000016,
          -8.707950625000002,
          null,
          -8.188939299999973,
          -8.087868542222239,
          null,
          -8.188939299999973,
          -8.707950625000016,
          null,
          -9.164011649999765,
          -13.101920572968758,
          null,
          -9.164011649999765,
          -9.164011649999772,
          null,
          -13.101920572968751,
          -13.101920572968758,
          null,
          -11.315103945000018,
          -9.164011649999772,
          null,
          -11.713179532500085,
          -11.315103945000018,
          null,
          -13.094444152499946,
          -13.101920572968751,
          null,
          -13.094444152499946,
          -11.713179532500085,
          null,
          -8.707950625000002,
          -8.707950624999995,
          null,
          -8.707950625000002,
          -9.164011649999772,
          null,
          -9.164011649999772,
          -9.164011649999772,
          null,
          -8.771151958999987,
          -8.707950624999995,
          null,
          -8.771151958999987,
          -9.164011649999772,
          null,
          -13.101920572968758,
          -13.101920572968751,
          null,
          -13.101920572968758,
          -21.596300734999964,
          null,
          -21.596300734999964,
          -13.101920572968751,
          null,
          -21.596300734999964,
          -21.596300734999964,
          null,
          -21.596300734999964,
          -21.596300734999964,
          null,
          -7.294285240000001,
          -7.294285239999994,
          null,
          -7.294285240000001,
          -21.596300734999964,
          null,
          -8.087868542222232,
          -7.294285239999994,
          null,
          -8.087868542222232,
          -21.596300734999964,
          null,
          -7.294285240000001,
          -7.294285239999994,
          null,
          -7.294285240000001,
          -7.294285240000001,
          null,
          -7.294285240000001,
          -7.294285239999994,
          null,
          -7.294285240000001,
          -7.294285240000001,
          null
         ],
         "y": [
          -9.83149255499999,
          -9.831492555000004,
          null,
          -9.83149255499999,
          -11.546168150000007,
          null,
          -11.546168150000007,
          -11.546168150000007,
          null,
          -10.11210661999985,
          -9.831492555000004,
          null,
          -10.11210661999985,
          -11.546168150000007,
          null,
          -11.970782110000073,
          -13.812468269999883,
          null,
          -11.970782110000073,
          -11.97078211000008,
          null,
          -13.81246826999989,
          -13.812468269999883,
          null,
          -13.81246826999989,
          -11.97078211000008,
          null,
          -13.812468269999883,
          -13.812468269999883,
          null,
          -13.812468269999883,
          -13.827421110937522,
          null,
          -13.827421110937522,
          -13.812468269999883,
          null,
          -13.827421110937522,
          -13.827421110937522,
          null,
          -9.54941498749998,
          -9.549414987499986,
          null,
          -9.83149255499999,
          -9.54941498749998,
          null,
          -9.831492555000004,
          -9.83149255499999,
          null,
          -9.808920650000005,
          -9.549414987499986,
          null,
          -9.808920650000005,
          -9.831492555000004,
          null,
          -11.546168150000007,
          -11.546168150000007,
          null,
          -11.546168150000007,
          -11.970782110000087,
          null,
          -11.970782110000087,
          -11.546168150000007,
          null,
          -11.970782110000087,
          -11.970782110000087,
          null,
          -9.511513453333343,
          -9.511513453333343,
          null,
          -9.549414987499986,
          -9.511513453333343,
          null,
          -9.549414987499986,
          -9.511513453333343,
          null,
          -9.549414987499986,
          -9.549414987499986,
          null,
          -22.023970953333368,
          -22.023970953333368,
          null,
          -9.511513453333329,
          -9.511513453333336,
          null,
          -9.511513453333329,
          -22.023970953333368,
          null,
          -9.808920650000012,
          -22.023970953333368,
          null,
          -9.549414987499986,
          -9.511513453333336,
          null,
          -9.549414987499986,
          -9.808920650000012,
          null,
          -22.023970953333368,
          -22.023970953333368,
          null,
          -22.023970953333368,
          -10.112106619999835,
          null,
          -13.827421110937522,
          -22.023970953333368,
          null,
          -11.546168150000007,
          -10.112106619999835,
          null,
          -11.97078211000008,
          -11.546168150000007,
          null,
          -13.81246826999989,
          -13.827421110937522,
          null,
          -13.81246826999989,
          -11.97078211000008,
          null,
          -22.023970953333368,
          -9.808920650000005,
          null,
          -22.023970953333368,
          -22.023970953333368,
          null,
          -10.112106619999835,
          -22.023970953333368,
          null,
          -9.83149255499999,
          -9.808920650000005,
          null,
          -9.83149255499999,
          -10.112106619999835,
          null,
          -22.023970953333368,
          -13.827421110937514,
          null,
          -22.023970953333368,
          -22.023970953333368,
          null,
          -13.827421110937522,
          -13.827421110937514,
          null,
          -13.827421110937522,
          -22.023970953333368,
          null,
          -9.511513453333343,
          -9.511513453333336,
          null,
          -9.511513453333336,
          -9.511513453333329,
          null,
          -9.511513453333336,
          -9.511513453333336,
          null,
          -9.511513453333343,
          -9.511513453333329,
          null,
          -9.511513453333343,
          -9.511513453333343,
          null,
          -9.511513453333336,
          -9.511513453333329,
          null,
          -9.511513453333336,
          -22.023970953333368,
          null,
          -22.023970953333368,
          -9.511513453333329,
          null,
          -22.023970953333368,
          -22.023970953333368,
          null
         ],
         "z": [
          -8.161588185,
          -8.161588185,
          null,
          -8.161588185,
          -6.446912589999997,
          null,
          -6.446912589999997,
          -6.446912589999997,
          null,
          -7.880974120000161,
          -8.161588185,
          null,
          -7.880974120000161,
          -6.446912589999997,
          null,
          -6.18152886499994,
          -5.2606857850000495,
          null,
          -6.18152886499994,
          -6.1815288649999545,
          null,
          -5.260685785000035,
          -5.2606857850000495,
          null,
          -5.260685785000035,
          -6.1815288649999545,
          null,
          -5.2606857850000495,
          -5.260685785000042,
          null,
          -5.2606857850000495,
          -5.255701504687501,
          null,
          -5.255701504687494,
          -5.260685785000042,
          null,
          -5.255701504687494,
          -5.255701504687501,
          null,
          -8.725743320000035,
          -8.725743320000035,
          null,
          -8.161588185,
          -8.725743320000035,
          null,
          -8.161588185,
          -8.161588185,
          null,
          -8.206731995000005,
          -8.725743320000035,
          null,
          -8.206731995000005,
          -8.161588185,
          null,
          -6.446912589999997,
          -6.446912589999997,
          null,
          -6.446912589999997,
          -6.18152886499994,
          null,
          -6.181528864999947,
          -6.446912589999997,
          null,
          -6.181528864999947,
          -6.18152886499994,
          null,
          -8.826814077777755,
          -8.826814077777762,
          null,
          -8.725743320000028,
          -8.826814077777755,
          null,
          -8.725743320000028,
          -8.826814077777762,
          null,
          -8.725743320000028,
          -8.725743320000028,
          null,
          -8.206731994999991,
          -9.62039738,
          null,
          -9.620397379999993,
          -8.826814077777762,
          null,
          -9.620397379999993,
          -9.62039738,
          null,
          -8.206731994999991,
          -8.206731994999991,
          null,
          -8.725743320000028,
          -8.826814077777762,
          null,
          -8.725743320000028,
          -8.206731994999991,
          null,
          -7.880974120000154,
          -5.255701504687501,
          null,
          -7.880974120000154,
          -7.880974120000154,
          null,
          -5.255701504687494,
          -5.255701504687501,
          null,
          -6.446912589999997,
          -7.880974120000154,
          null,
          -6.1815288649999545,
          -6.446912589999997,
          null,
          -5.260685785000035,
          -5.255701504687494,
          null,
          -5.260685785000035,
          -6.1815288649999545,
          null,
          -8.206731994999991,
          -8.206731995000005,
          null,
          -8.206731994999991,
          -7.880974120000161,
          null,
          -7.880974120000154,
          -7.880974120000161,
          null,
          -8.161588185000006,
          -8.206731995000005,
          null,
          -8.161588185000006,
          -7.880974120000154,
          null,
          -5.255701504687501,
          -5.255701504687501,
          null,
          -5.255701504687501,
          -5.255701504687501,
          null,
          -5.255701504687501,
          -5.255701504687501,
          null,
          -5.255701504687501,
          -5.255701504687501,
          null,
          -8.826814077777755,
          -13.373352500833299,
          null,
          -13.373352500833299,
          -9.620397379999993,
          null,
          -13.373352500833299,
          -13.373352500833299,
          null,
          -8.826814077777762,
          -9.620397379999993,
          null,
          -8.826814077777762,
          -8.826814077777755,
          null,
          -13.373352500833299,
          -9.620397379999993,
          null,
          -13.373352500833299,
          -13.373352500833299,
          null,
          -9.620397379999993,
          -9.620397379999993,
          null,
          -9.620397379999993,
          -13.373352500833299,
          null
         ]
        },
        {
         "line": {
          "color": "rgb(27,158,119)",
          "width": 8
         },
         "mode": "lines",
         "name": "Y2Ti2S2O5 (lines)",
         "opacity": 1,
         "type": "scatter3d",
         "x": [
          -13.454324467968789,
          -13.507238715468802,
          null,
          -13.454324467968789,
          -10.81058420624992,
          null,
          -13.343631878749953,
          -11.962367258750099,
          null,
          -11.590830043750032,
          -11.962367258750099,
          null,
          -13.352354369296904,
          -13.507238715468802,
          null,
          -13.352354369296904,
          -13.343631878749953,
          null,
          -10.942869824999924,
          -10.81058420624992,
          null,
          -10.942869824999924,
          -11.590830043750032,
          null
         ],
         "y": [
          -14.499872743125081,
          -14.446958495625083,
          null,
          -14.499872743125081,
          -10.974885727499917,
          null,
          -13.81246826999989,
          -11.97078211000008,
          null,
          -11.546168150000014,
          -11.97078211000008,
          null,
          -13.827421110937514,
          -14.446958495625083,
          null,
          -13.827421110937514,
          -13.81246826999989,
          null,
          -11.027799974999922,
          -10.974885727499917,
          null,
          -11.027799974999922,
          -11.546168150000014,
          null
         ],
         "z": [
          -5.255701504687501,
          -5.255701504687508,
          null,
          -5.255701504687501,
          -7.018195012500087,
          null,
          -5.260685785000042,
          -6.181528864999947,
          null,
          -6.446912589999997,
          -6.181528864999947,
          null,
          -5.255701504687501,
          -5.255701504687508,
          null,
          -5.255701504687501,
          -5.260685785000042,
          null,
          -6.965280765000074,
          -7.018195012500087,
          null,
          -6.965280765000074,
          -6.446912589999997,
          null
         ]
        },
        {
         "alphahull": 0,
         "color": "rgb(27,158,119)",
         "lighting": {
          "fresnel": 1
         },
         "name": "Y2Ti2S2O5 (mesh)",
         "opacity": 0.13,
         "showlegend": true,
         "type": "mesh3d",
         "x": [
          -10.942869824999924,
          -10.81058420624992,
          -13.507238715468802,
          -13.454324467968789,
          -13.352354369296904,
          -13.343631878749953,
          -11.251089074999946,
          -13.094444152499946,
          -13.101920572968751,
          -13.101920572968751,
          -11.315103945000018,
          -11.713179532500085,
          -11.590830043750032,
          -11.962367258750099
         ],
         "y": [
          -11.027799974999922,
          -10.974885727499917,
          -14.446958495625083,
          -14.499872743125081,
          -13.827421110937514,
          -13.81246826999989,
          -11.503491569999966,
          -13.81246826999989,
          -13.971266900625032,
          -13.827421110937514,
          -11.546168150000007,
          -11.97078211000008,
          -11.546168150000014,
          -11.97078211000008
         ],
         "z": [
          -6.965280765000074,
          -7.018195012500087,
          -5.255701504687508,
          -5.255701504687501,
          -5.255701504687501,
          -5.260685785000042,
          -6.489589170000045,
          -5.260685785000035,
          -5.255701504687508,
          -5.255701504687501,
          -6.446912589999997,
          -6.1815288649999545,
          -6.446912589999997,
          -6.181528864999947
         ]
        }
       ],
       "layout": {
        "height": 800,
        "hovermode": "closest",
        "legend": {
         "orientation": "v",
         "traceorder": "reversed",
         "x": 0.1,
         "xanchor": "left",
         "y": 0.95,
         "yanchor": "top"
        },
        "margin": {
         "b": 0,
         "l": 0,
         "r": 0,
         "t": 0
        },
        "paper_bgcolor": "rgba(256,256,256,100)",
        "plot_bgcolor": "rgba(0,0,0,0)",
        "scene": {
         "annotations": [
          {
           "align": "center",
           "font": {
            "color": "black",
            "size": 12
           },
           "opacity": 0.7,
           "showarrow": false,
           "text": "TiS",
           "x": -13.694228639744793,
           "xanchor": "center",
           "y": -10.623365336705117,
           "yanchor": "middle",
           "z": -7.369715403294886
          },
          {
           "align": "center",
           "font": {
            "color": "black",
            "size": 12
           },
           "opacity": 0.7,
           "showarrow": false,
           "text": "TiS<sub>2</sub>",
           "x": -16.34966635107033,
           "xanchor": "center",
           "y": -12.837967509351168,
           "yanchor": "middle",
           "z": -5.747936165324403
          },
          {
           "align": "center",
           "font": {
            "color": "black",
            "size": 12
           },
           "opacity": 0.7,
           "showarrow": false,
           "text": "TiS<sub>3</sub>",
           "x": -16.4762485376644,
           "xanchor": "center",
           "y": -13.819944300584707,
           "yanchor": "middle",
           "z": -5.258193774805103
          },
          {
           "align": "center",
           "font": {
            "color": "black",
            "size": 12
           },
           "opacity": 0.7,
           "showarrow": false,
           "text": "Ti<sub>2</sub>S",
           "x": -13.444014529266894,
           "xanchor": "center",
           "y": -9.69368756824578,
           "yanchor": "middle",
           "z": -8.437198158508444
          },
          {
           "align": "center",
           "font": {
            "color": "black",
            "size": 12
           },
           "opacity": 0.7,
           "showarrow": false,
           "text": "Ti<sub>5</sub>S<sub>8</sub>",
           "x": -15.516276205368278,
           "xanchor": "center",
           "y": -11.757978017227769,
           "yanchor": "middle",
           "z": -6.314531422982643
          },
          {
           "align": "center",
           "font": {
            "color": "black",
            "size": 12
           },
           "opacity": 0.7,
           "showarrow": false,
           "text": "Ti<sub>8</sub>S<sub>3</sub>",
           "x": -13.434624223044368,
           "xanchor": "center",
           "y": -9.532617882095522,
           "yanchor": "middle",
           "z": -8.7705356010786
          },
          {
           "align": "center",
           "font": {
            "color": "black",
            "size": 12
           },
           "opacity": 0.7,
           "showarrow": false,
           "text": "YS",
           "x": -8.069399351823305,
           "xanchor": "center",
           "y": -13.883781827658268,
           "yanchor": "middle",
           "z": -8.84528326817669
          },
          {
           "align": "center",
           "font": {
            "color": "black",
            "size": 12
           },
           "opacity": 0.7,
           "showarrow": false,
           "text": "Y<sub>2</sub>S<sub>3</sub>",
           "x": -11.6014777257508,
           "xanchor": "center",
           "y": -15.422957135273748,
           "yanchor": "middle",
           "z": -6.2559967361661375
          },
          {
           "align": "center",
           "font": {
            "color": "black",
            "size": 12
           },
           "opacity": 0.7,
           "showarrow": false,
           "text": "Y<sub>5</sub>S<sub>7</sub>",
           "x": -8.912022718835857,
           "xanchor": "center",
           "y": -15.099399555294728,
           "yanchor": "middle",
           "z": -8.060966213688667
          },
          {
           "align": "center",
           "font": {
            "color": "black",
            "size": 12
           },
           "opacity": 0.7,
           "showarrow": false,
           "text": "S",
           "x": -16.652756128072173,
           "xanchor": "center",
           "y": -17.207039769034157,
           "yanchor": "middle",
           "z": -5.255701504687501
          },
          {
           "align": "center",
           "font": {
            "color": "black",
            "size": 12
           },
           "opacity": 0.7,
           "showarrow": false,
           "text": "Ti",
           "x": -12.40317189381042,
           "xanchor": "center",
           "y": -9.511513453333334,
           "yanchor": "middle",
           "z": -10.658572012123576
          },
          {
           "align": "center",
           "font": {
            "color": "black",
            "size": 12
           },
           "opacity": 0.7,
           "showarrow": false,
           "text": "Y",
           "x": -7.294285239999999,
           "xanchor": "center",
           "y": -15.76774220333335,
           "yanchor": "middle",
           "z": -11.319988482323106
          }
         ],
         "camera": {
          "center": {
           "x": 0,
           "y": 0,
           "z": 0
          },
          "eye": {
           "x": 5,
           "y": 5,
           "z": 5
          },
          "projection": {
           "type": "orthographic"
          }
         },
         "xaxis": {
          "backgroundcolor": "rgba(0,0,0,0)",
          "gridcolor": "#dbdbdb",
          "gridwidth": 5,
          "showline": true,
          "showspikes": false,
          "tickfont": {
           "size": 12
          },
          "ticklen": 4,
          "ticks": "inside",
          "title": {
           "font": {
            "size": 18
           },
           "text": "<br> μ<sub>Y</sub> - μ<sub>Y</sub><sup>o</sup> (eV)"
          },
          "zerolinecolor": "white"
         },
         "yaxis": {
          "backgroundcolor": "rgba(0,0,0,0)",
          "gridcolor": "#dbdbdb",
          "gridwidth": 5,
          "showline": true,
          "showspikes": false,
          "tickfont": {
           "size": 12
          },
          "ticklen": 4,
          "ticks": "inside",
          "title": {
           "font": {
            "size": 18
           },
           "text": "<br> μ<sub>Ti</sub> - μ<sub>Ti</sub><sup>o</sup> (eV)"
          },
          "zerolinecolor": "white"
         },
         "zaxis": {
          "backgroundcolor": "rgba(0,0,0,0)",
          "gridcolor": "#dbdbdb",
          "gridwidth": 5,
          "showline": true,
          "showspikes": false,
          "tickfont": {
           "size": 12
          },
          "ticklen": 4,
          "ticks": "inside",
          "title": {
           "font": {
            "size": 18
           },
           "text": "<br> μ<sub>S</sub> - μ<sub>S</sub><sup>o</sup> (eV)"
          },
          "zerolinecolor": "white"
         }
        },
        "showlegend": true,
        "template": {
         "data": {
          "bar": [
           {
            "error_x": {
             "color": "#2a3f5f"
            },
            "error_y": {
             "color": "#2a3f5f"
            },
            "marker": {
             "line": {
              "color": "#E5ECF6",
              "width": 0.5
             },
             "pattern": {
              "fillmode": "overlay",
              "size": 10,
              "solidity": 0.2
             }
            },
            "type": "bar"
           }
          ],
          "barpolar": [
           {
            "marker": {
             "line": {
              "color": "#E5ECF6",
              "width": 0.5
             },
             "pattern": {
              "fillmode": "overlay",
              "size": 10,
              "solidity": 0.2
             }
            },
            "type": "barpolar"
           }
          ],
          "carpet": [
           {
            "aaxis": {
             "endlinecolor": "#2a3f5f",
             "gridcolor": "white",
             "linecolor": "white",
             "minorgridcolor": "white",
             "startlinecolor": "#2a3f5f"
            },
            "baxis": {
             "endlinecolor": "#2a3f5f",
             "gridcolor": "white",
             "linecolor": "white",
             "minorgridcolor": "white",
             "startlinecolor": "#2a3f5f"
            },
            "type": "carpet"
           }
          ],
          "choropleth": [
           {
            "colorbar": {
             "outlinewidth": 0,
             "ticks": ""
            },
            "type": "choropleth"
           }
          ],
          "contour": [
           {
            "colorbar": {
             "outlinewidth": 0,
             "ticks": ""
            },
            "colorscale": [
             [
              0,
              "#0d0887"
             ],
             [
              0.1111111111111111,
              "#46039f"
             ],
             [
              0.2222222222222222,
              "#7201a8"
             ],
             [
              0.3333333333333333,
              "#9c179e"
             ],
             [
              0.4444444444444444,
              "#bd3786"
             ],
             [
              0.5555555555555556,
              "#d8576b"
             ],
             [
              0.6666666666666666,
              "#ed7953"
             ],
             [
              0.7777777777777778,
              "#fb9f3a"
             ],
             [
              0.8888888888888888,
              "#fdca26"
             ],
             [
              1,
              "#f0f921"
             ]
            ],
            "type": "contour"
           }
          ],
          "contourcarpet": [
           {
            "colorbar": {
             "outlinewidth": 0,
             "ticks": ""
            },
            "type": "contourcarpet"
           }
          ],
          "heatmap": [
           {
            "colorbar": {
             "outlinewidth": 0,
             "ticks": ""
            },
            "colorscale": [
             [
              0,
              "#0d0887"
             ],
             [
              0.1111111111111111,
              "#46039f"
             ],
             [
              0.2222222222222222,
              "#7201a8"
             ],
             [
              0.3333333333333333,
              "#9c179e"
             ],
             [
              0.4444444444444444,
              "#bd3786"
             ],
             [
              0.5555555555555556,
              "#d8576b"
             ],
             [
              0.6666666666666666,
              "#ed7953"
             ],
             [
              0.7777777777777778,
              "#fb9f3a"
             ],
             [
              0.8888888888888888,
              "#fdca26"
             ],
             [
              1,
              "#f0f921"
             ]
            ],
            "type": "heatmap"
           }
          ],
          "heatmapgl": [
           {
            "colorbar": {
             "outlinewidth": 0,
             "ticks": ""
            },
            "colorscale": [
             [
              0,
              "#0d0887"
             ],
             [
              0.1111111111111111,
              "#46039f"
             ],
             [
              0.2222222222222222,
              "#7201a8"
             ],
             [
              0.3333333333333333,
              "#9c179e"
             ],
             [
              0.4444444444444444,
              "#bd3786"
             ],
             [
              0.5555555555555556,
              "#d8576b"
             ],
             [
              0.6666666666666666,
              "#ed7953"
             ],
             [
              0.7777777777777778,
              "#fb9f3a"
             ],
             [
              0.8888888888888888,
              "#fdca26"
             ],
             [
              1,
              "#f0f921"
             ]
            ],
            "type": "heatmapgl"
           }
          ],
          "histogram": [
           {
            "marker": {
             "pattern": {
              "fillmode": "overlay",
              "size": 10,
              "solidity": 0.2
             }
            },
            "type": "histogram"
           }
          ],
          "histogram2d": [
           {
            "colorbar": {
             "outlinewidth": 0,
             "ticks": ""
            },
            "colorscale": [
             [
              0,
              "#0d0887"
             ],
             [
              0.1111111111111111,
              "#46039f"
             ],
             [
              0.2222222222222222,
              "#7201a8"
             ],
             [
              0.3333333333333333,
              "#9c179e"
             ],
             [
              0.4444444444444444,
              "#bd3786"
             ],
             [
              0.5555555555555556,
              "#d8576b"
             ],
             [
              0.6666666666666666,
              "#ed7953"
             ],
             [
              0.7777777777777778,
              "#fb9f3a"
             ],
             [
              0.8888888888888888,
              "#fdca26"
             ],
             [
              1,
              "#f0f921"
             ]
            ],
            "type": "histogram2d"
           }
          ],
          "histogram2dcontour": [
           {
            "colorbar": {
             "outlinewidth": 0,
             "ticks": ""
            },
            "colorscale": [
             [
              0,
              "#0d0887"
             ],
             [
              0.1111111111111111,
              "#46039f"
             ],
             [
              0.2222222222222222,
              "#7201a8"
             ],
             [
              0.3333333333333333,
              "#9c179e"
             ],
             [
              0.4444444444444444,
              "#bd3786"
             ],
             [
              0.5555555555555556,
              "#d8576b"
             ],
             [
              0.6666666666666666,
              "#ed7953"
             ],
             [
              0.7777777777777778,
              "#fb9f3a"
             ],
             [
              0.8888888888888888,
              "#fdca26"
             ],
             [
              1,
              "#f0f921"
             ]
            ],
            "type": "histogram2dcontour"
           }
          ],
          "mesh3d": [
           {
            "colorbar": {
             "outlinewidth": 0,
             "ticks": ""
            },
            "type": "mesh3d"
           }
          ],
          "parcoords": [
           {
            "line": {
             "colorbar": {
              "outlinewidth": 0,
              "ticks": ""
             }
            },
            "type": "parcoords"
           }
          ],
          "pie": [
           {
            "automargin": true,
            "type": "pie"
           }
          ],
          "scatter": [
           {
            "marker": {
             "colorbar": {
              "outlinewidth": 0,
              "ticks": ""
             }
            },
            "type": "scatter"
           }
          ],
          "scatter3d": [
           {
            "line": {
             "colorbar": {
              "outlinewidth": 0,
              "ticks": ""
             }
            },
            "marker": {
             "colorbar": {
              "outlinewidth": 0,
              "ticks": ""
             }
            },
            "type": "scatter3d"
           }
          ],
          "scattercarpet": [
           {
            "marker": {
             "colorbar": {
              "outlinewidth": 0,
              "ticks": ""
             }
            },
            "type": "scattercarpet"
           }
          ],
          "scattergeo": [
           {
            "marker": {
             "colorbar": {
              "outlinewidth": 0,
              "ticks": ""
             }
            },
            "type": "scattergeo"
           }
          ],
          "scattergl": [
           {
            "marker": {
             "colorbar": {
              "outlinewidth": 0,
              "ticks": ""
             }
            },
            "type": "scattergl"
           }
          ],
          "scattermapbox": [
           {
            "marker": {
             "colorbar": {
              "outlinewidth": 0,
              "ticks": ""
             }
            },
            "type": "scattermapbox"
           }
          ],
          "scatterpolar": [
           {
            "marker": {
             "colorbar": {
              "outlinewidth": 0,
              "ticks": ""
             }
            },
            "type": "scatterpolar"
           }
          ],
          "scatterpolargl": [
           {
            "marker": {
             "colorbar": {
              "outlinewidth": 0,
              "ticks": ""
             }
            },
            "type": "scatterpolargl"
           }
          ],
          "scatterternary": [
           {
            "marker": {
             "colorbar": {
              "outlinewidth": 0,
              "ticks": ""
             }
            },
            "type": "scatterternary"
           }
          ],
          "surface": [
           {
            "colorbar": {
             "outlinewidth": 0,
             "ticks": ""
            },
            "colorscale": [
             [
              0,
              "#0d0887"
             ],
             [
              0.1111111111111111,
              "#46039f"
             ],
             [
              0.2222222222222222,
              "#7201a8"
             ],
             [
              0.3333333333333333,
              "#9c179e"
             ],
             [
              0.4444444444444444,
              "#bd3786"
             ],
             [
              0.5555555555555556,
              "#d8576b"
             ],
             [
              0.6666666666666666,
              "#ed7953"
             ],
             [
              0.7777777777777778,
              "#fb9f3a"
             ],
             [
              0.8888888888888888,
              "#fdca26"
             ],
             [
              1,
              "#f0f921"
             ]
            ],
            "type": "surface"
           }
          ],
          "table": [
           {
            "cells": {
             "fill": {
              "color": "#EBF0F8"
             },
             "line": {
              "color": "white"
             }
            },
            "header": {
             "fill": {
              "color": "#C8D4E3"
             },
             "line": {
              "color": "white"
             }
            },
            "type": "table"
           }
          ]
         },
         "layout": {
          "annotationdefaults": {
           "arrowcolor": "#2a3f5f",
           "arrowhead": 0,
           "arrowwidth": 1
          },
          "autotypenumbers": "strict",
          "coloraxis": {
           "colorbar": {
            "outlinewidth": 0,
            "ticks": ""
           }
          },
          "colorscale": {
           "diverging": [
            [
             0,
             "#8e0152"
            ],
            [
             0.1,
             "#c51b7d"
            ],
            [
             0.2,
             "#de77ae"
            ],
            [
             0.3,
             "#f1b6da"
            ],
            [
             0.4,
             "#fde0ef"
            ],
            [
             0.5,
             "#f7f7f7"
            ],
            [
             0.6,
             "#e6f5d0"
            ],
            [
             0.7,
             "#b8e186"
            ],
            [
             0.8,
             "#7fbc41"
            ],
            [
             0.9,
             "#4d9221"
            ],
            [
             1,
             "#276419"
            ]
           ],
           "sequential": [
            [
             0,
             "#0d0887"
            ],
            [
             0.1111111111111111,
             "#46039f"
            ],
            [
             0.2222222222222222,
             "#7201a8"
            ],
            [
             0.3333333333333333,
             "#9c179e"
            ],
            [
             0.4444444444444444,
             "#bd3786"
            ],
            [
             0.5555555555555556,
             "#d8576b"
            ],
            [
             0.6666666666666666,
             "#ed7953"
            ],
            [
             0.7777777777777778,
             "#fb9f3a"
            ],
            [
             0.8888888888888888,
             "#fdca26"
            ],
            [
             1,
             "#f0f921"
            ]
           ],
           "sequentialminus": [
            [
             0,
             "#0d0887"
            ],
            [
             0.1111111111111111,
             "#46039f"
            ],
            [
             0.2222222222222222,
             "#7201a8"
            ],
            [
             0.3333333333333333,
             "#9c179e"
            ],
            [
             0.4444444444444444,
             "#bd3786"
            ],
            [
             0.5555555555555556,
             "#d8576b"
            ],
            [
             0.6666666666666666,
             "#ed7953"
            ],
            [
             0.7777777777777778,
             "#fb9f3a"
            ],
            [
             0.8888888888888888,
             "#fdca26"
            ],
            [
             1,
             "#f0f921"
            ]
           ]
          },
          "colorway": [
           "#636efa",
           "#EF553B",
           "#00cc96",
           "#ab63fa",
           "#FFA15A",
           "#19d3f3",
           "#FF6692",
           "#B6E880",
           "#FF97FF",
           "#FECB52"
          ],
          "font": {
           "color": "#2a3f5f"
          },
          "geo": {
           "bgcolor": "white",
           "lakecolor": "white",
           "landcolor": "#E5ECF6",
           "showlakes": true,
           "showland": true,
           "subunitcolor": "white"
          },
          "hoverlabel": {
           "align": "left"
          },
          "hovermode": "closest",
          "mapbox": {
           "style": "light"
          },
          "paper_bgcolor": "white",
          "plot_bgcolor": "#E5ECF6",
          "polar": {
           "angularaxis": {
            "gridcolor": "white",
            "linecolor": "white",
            "ticks": ""
           },
           "bgcolor": "#E5ECF6",
           "radialaxis": {
            "gridcolor": "white",
            "linecolor": "white",
            "ticks": ""
           }
          },
          "scene": {
           "xaxis": {
            "backgroundcolor": "#E5ECF6",
            "gridcolor": "white",
            "gridwidth": 2,
            "linecolor": "white",
            "showbackground": true,
            "ticks": "",
            "zerolinecolor": "white"
           },
           "yaxis": {
            "backgroundcolor": "#E5ECF6",
            "gridcolor": "white",
            "gridwidth": 2,
            "linecolor": "white",
            "showbackground": true,
            "ticks": "",
            "zerolinecolor": "white"
           },
           "zaxis": {
            "backgroundcolor": "#E5ECF6",
            "gridcolor": "white",
            "gridwidth": 2,
            "linecolor": "white",
            "showbackground": true,
            "ticks": "",
            "zerolinecolor": "white"
           }
          },
          "shapedefaults": {
           "line": {
            "color": "#2a3f5f"
           }
          },
          "ternary": {
           "aaxis": {
            "gridcolor": "white",
            "linecolor": "white",
            "ticks": ""
           },
           "baxis": {
            "gridcolor": "white",
            "linecolor": "white",
            "ticks": ""
           },
           "bgcolor": "#E5ECF6",
           "caxis": {
            "gridcolor": "white",
            "linecolor": "white",
            "ticks": ""
           }
          },
          "title": {
           "x": 0.05
          },
          "xaxis": {
           "automargin": true,
           "gridcolor": "white",
           "linecolor": "white",
           "ticks": "",
           "title": {
            "standoff": 15
           },
           "zerolinecolor": "white",
           "zerolinewidth": 2
          },
          "yaxis": {
           "automargin": true,
           "gridcolor": "white",
           "linecolor": "white",
           "ticks": "",
           "title": {
            "standoff": 15
           },
           "zerolinecolor": "white",
           "zerolinewidth": 2
          }
         }
        },
        "width": 800
       }
      }
     },
     "metadata": {},
     "output_type": "display_data"
    }
   ],
   "source": [
    "cpd = ChemicalPotentialDiagram(loadfn('competing_phases/ytos_phase_diagram.json').entries) \n",
    "cpd.get_plot(formulas_to_draw=['Y2Ti2S2O5'])"
   ]
  },
  {
   "attachments": {},
   "cell_type": "markdown",
   "id": "9410cb2e",
   "metadata": {},
   "source": [
    "## Introducing extrinsic species / dopants \n",
    "\n",
    "If you're dealing with dopants in your defect system, you will also want to consider the dopant competing phases and add them to the phase diagram. Assuming you've added them using `AdditionalCompetingPhases`, you can easily parse them using `CompetingPhaseAnalyzer`."
   ]
  },
  {
   "cell_type": "code",
   "execution_count": 8,
   "id": "0ce841bc",
   "metadata": {},
   "outputs": [
    {
     "name": "stdout",
     "output_type": "stream",
     "text": [
      "Can't find a vasprun.xml(.gz) file in competing_phases/LaZrO/.DS_Store or competing_phases/LaZrO/.DS_Store/relax, proceed with caution\n",
      "Parsing 11 vaspruns and pruning to include only lowest-energy polymorphs...\n",
      "Competing phase formation energies have been saved to ./competing_phases/zro2_la_competing_phase_energies.csv.\n",
      "Calculating chempots for La\n",
      "Calculated chemical potential limits: \n",
      "\n",
      "          Zr         O        La La_limiting_phase\n",
      "0 -10.975428  0.000000 -9.462987          La2Zr2O7\n",
      "1  -0.199544 -5.387942 -1.381074          La2Zr2O7\n"
     ]
    }
   ],
   "source": [
    "system = 'ZrO2' \n",
    "extrinsic_species='La'\n",
    "la_cpa = CompetingPhasesAnalyzer(system, extrinsic_species=extrinsic_species)\n",
    "la_cpa.from_vaspruns(path='./competing_phases/LaZrO/', \n",
    "                  folder='relax', \n",
    "                  csv_fname='./competing_phases/zro2_la_competing_phase_energies.csv')\n",
    "df = la_cpa.calculate_chempots(csv_fname='./competing_phases/zro2_la_chempots.csv')"
   ]
  },
  {
   "attachments": {},
   "cell_type": "markdown",
   "id": "f37794b0",
   "metadata": {},
   "source": [
    "The chemical potential of the extrinsic species is calculated at each of the existing intrinsic chemical potentials. This assumes that the extrinsic species chemical potential is restricted by the host (intrinsic) material chemical potential. \n",
    "\n",
    "This is in line with `pyCDT`'s `full_sub_approach=False` but it actually works. \n",
    "\n",
    "To get the chempots needed for doped defects parsing you need to run the above once and then you can get them from `cpa.chem_limits`. As before, you can easily dump this to a reusable json file for later use. "
   ]
  },
  {
   "cell_type": "code",
   "execution_count": 10,
   "id": "728a9e0a",
   "metadata": {},
   "outputs": [],
   "source": [
    "from monty.serialization import dumpfn, loadfn\n",
    "\n",
    "dumpfn(la_cpa.chem_limits, 'competing_phases/zro2_la_chempots.json')\n",
    "\n",
    "la_chemlims = loadfn('competing_phases/zro2_la_chempots.json')"
   ]
  },
  {
   "attachments": {},
   "cell_type": "markdown",
   "id": "b45666b3",
   "metadata": {},
   "source": [
    "## Combining multiple extrinsic chemical potentials\n",
    "\n",
    "If for example you were interested in simulating defect complexes where you introduce more than one extrinsic defect at a time, or if you wanted to plot all the possible dopant species in one transition level diagram, the chemical potential limits tables you get from the basic functions won't quite cut it. \n",
    "\n",
    "To combine several extrinsic chemical potentials, you will need to parse the two (three, n) different sets of competing phases with `CompetingPhaseAnalyzer` twice (thrice, n-times) to get two (or three or n) chemical limits that you then save to `chempots.json` with the function above. Once you have your json files you can run the following code:  "
   ]
  },
  {
   "cell_type": "code",
   "execution_count": 2,
   "id": "68f186c7",
   "metadata": {},
   "outputs": [],
   "source": [
    "from doped.competing_phases import combine_extrinsic\n",
    "from monty.serialization import loadfn"
   ]
  },
  {
   "cell_type": "code",
   "execution_count": 4,
   "id": "7b673069",
   "metadata": {},
   "outputs": [
    {
     "name": "stdout",
     "output_type": "stream",
     "text": [
      "{'elemental_refs': {'O': -7.006602065, 'Zr': -9.84367624, 'La': -5.00458616, 'Y': -5.50458616}, 'facets': {'ZrO2-O2-La2Zr2O7-Y2Zr2O7': {'Zr': -20.81910468, 'O': -7.006602065, 'La': -14.467573640000001, 'Y': -14.967573640000001}, 'Zr3O-ZrO2-La2Zr2O7-Y2Zr2O7': {'Zr': -10.04321996, 'O': -12.394544425, 'La': -6.3856601000000035, 'Y': -6.8856601000000035}}, 'facets_wrt_el_refs': {'ZrO2-O2-La2Zr2O7-Y2Zr2O7': {'Zr': -10.975428439999998, 'O': 0.0, 'La': -9.462987480000002, 'Y': -9.962987480000002}, 'Zr3O-ZrO2-La2Zr2O7-Y2Zr2O7': {'Zr': -0.19954371999999942, 'O': -5.387942359999999, 'La': -1.3810739400000038, 'Y': -1.8810739400000038}}}\n"
     ]
    }
   ],
   "source": [
    "first = loadfn('competing_phases/zro2_la_chempots.json')\n",
    "second = loadfn('competing_phases/zro2_y_chempots.json')\n",
    "extrinsic_species = 'Y' # this should be set to whatever is the extrinsic species in the second dictionary \n",
    "d = combine_extrinsic(first, second, extrinsic_species)\n",
    "print(d)"
   ]
  },
  {
   "attachments": {},
   "cell_type": "markdown",
   "id": "f2ec3806",
   "metadata": {},
   "source": [
    "as the output of that function is a dictionary, it can either be dumped to a new json file with `dumpfn` or you can keep adding new chemical potential limits to it. \n",
    "\n",
    "NB: the facets must be in the same order in all dictionaries you're combining. Make sure to double check all energies have been combined correctly. "
   ]
  },
  {
   "cell_type": "code",
   "execution_count": null,
   "id": "b5e610ef-937f-4dda-8e14-70a9e6c4639b",
   "metadata": {},
   "outputs": [],
   "source": []
  }
 ],
 "metadata": {
  "kernelspec": {
   "display_name": "Python 3.8.11 ('doped')",
   "language": "python",
   "name": "python3"
  },
  "language_info": {
   "codemirror_mode": {
    "name": "ipython",
    "version": 3
   },
   "file_extension": ".py",
   "mimetype": "text/x-python",
   "name": "python",
   "nbconvert_exporter": "python",
   "pygments_lexer": "ipython3",
   "version": "3.8.11"
  },
  "vscode": {
   "interpreter": {
    "hash": "7ff88b24758851e95d46999e98e2ec092142f8c8e2eb69f9dc4465df3bee2980"
   }
  }
 },
 "nbformat": 4,
 "nbformat_minor": 5
}
