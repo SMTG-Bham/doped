{
 "cells": [
  {
   "cell_type": "markdown",
   "id": "af8ea7ea-fd3e-4b63-9f5b-6a9cb06d2f31",
   "metadata": {},
   "source": [
    "# Competing phases \n",
    "\n",
    "To calculate the limiting chemical potentials of elements in the material (needed for calculating the defect formation energies) we need to consider the energies of all competing phases. `doped` does this by calling the `CompetingPhases` Class, which then queries Materials Project to obtain all the relevant competing phases to be calculated.\n",
    "In some cases the Materials Project may not have all known phases in a certain chemical space (e.g. in the La-Mn-O system discussed here), so it's a good idea to cross-check the generated competing phases with the [ICSD](https://icsd.products.fiz-karlsruhe.de/) in case you suspect any are missing.\n",
    "\n",
    "For this functionality to work correctly, you must have POTCARs set up for [pymatgen](https://pymatgen.org/installation.html#potcar-setup) and you will also need your Materials Project [API key](https://legacy.materialsproject.org/dashboard) set up in `pymatgen`.\n",
    "- Note that at present this uses the 'Legacy API' from the Materials Project, and so the API key you use (either in `~/.pmgrc.yaml` or supplied to `CompetingPhases` with the `api_key` parameter) should correspond to the Materials Project legacy API. This key can be found [here](https://legacy.materialsproject.org/dashboard).\n",
    "\n",
    "Doped assumes the so-called \"molecule in a box\" structures for the gaseous elemental phases H$_2$, O$_2$, N$_2$, F$_2$ and Cl$_2$. The molecule is placed in a 30 Å x 30 Å x 30 Å box, and relaxed with Γ-point-only k-point sampling."
   ]
  },
  {
   "cell_type": "code",
   "execution_count": 1,
   "metadata": {
    "collapsed": false
   },
   "outputs": [],
   "source": [
    "from doped.competing_phases import CompetingPhases"
   ]
  },
  {
   "attachments": {},
   "cell_type": "markdown",
   "id": "f8490640-b619-47a5-9f45-4e4f7d5e6cb3",
   "metadata": {},
   "source": [
    "For example, if we were interested in the competing phases of ZrO2 across the entire phase space, we would search across the Zr-O system like so:"
   ]
  },
  {
   "cell_type": "code",
   "execution_count": 2,
   "id": "248e3368-3d8c-4df5-b79c-e2a9edca8330",
   "metadata": {},
   "outputs": [],
   "source": [
    "system = ['Zr', 'O']\n",
    "cp = CompetingPhases(system, e_above_hull=0.03, full_phase_diagram=True)\n",
    "# If this returns a KeyError then it means you are using an API key for the new Materials Project API,\n",
    "# and not the legacy API as required – see the bulletpoint above"
   ]
  },
  {
   "cell_type": "markdown",
   "id": "c465b8a1-9c0b-47c5-b82f-e6875b7f6c67",
   "metadata": {},
   "source": [
    "`cp.competing_phases` contains all the competing phases, their structures, magnetic moment and (MP-calculated GGA) band gaps. We can check how many there are by: "
   ]
  },
  {
   "cell_type": "code",
   "execution_count": 3,
   "id": "e83575d1-a346-4b23-abbb-2550cf27b920",
   "metadata": {},
   "outputs": [
    {
     "name": "stdout",
     "output_type": "stream",
     "text": [
      "14\n"
     ]
    }
   ],
   "source": [
    "print(len(cp.competing_phases))"
   ]
  },
  {
   "attachments": {},
   "cell_type": "markdown",
   "id": "3102d02a",
   "metadata": {},
   "source": [
    "If you think that's too many and you trust that MP correctly predicts the relative stability around your system of interest you can cut down the number of competing phases you would need to calculate by invoking `full_phase_diagram=False`. If you use this, do try to use chemical intuition to add in any missing phases and check against ICSD. \n",
    "\n",
    "An improved algorithm that can fake this chemical intuition is in the works tho, so in the meantime you'll just have to get gud unfortunately."
   ]
  },
  {
   "cell_type": "markdown",
   "id": "06324184-a349-4ab9-96fb-699cab5a1f76",
   "metadata": {},
   "source": [
    "From there you can set up the competing phase calculations with `doped` as decribed below, or do your own thing with python / atomate / aiida to set up the calculations.\n",
    "\n",
    "k-points convergence testing is done at GGA (PBEsol by default) and it set up to account for the magnetic moment convergence as well. All of this interfaces with [vaspup2.0](https://github.com/kavanase/vaspup2.0) so it's easy to use on the HPCs (with the `generate-converge` command to run the calculations and `data-converge` to quickly parse and analyse the results).\n",
    "You may want to change the default `ENCUT` (480 eV) or k-point densities that the convergence tests span (5 - 60 kpoints/Å$^3$ for semiconductors & insulators and 40 - 120 kpoints/Å$^3$ for metals in steps of 5 kpoints/Å$^3$). Note that `ISMEAR = -5` is used for metals by default (better kpoint convergence for energies but should not be used during metal geometry relaxations) and k-point convergence testing is not required for molecules (Γ-point sampling is sufficient).\n",
    "\n",
    "The kpoints convergence calculations are set up with:"
   ]
  },
  {
   "cell_type": "code",
   "execution_count": 5,
   "id": "f82a96f5-e1d0-4650-98ce-7500e23715ab",
   "metadata": {},
   "outputs": [
    {
     "name": "stdout",
     "output_type": "stream",
     "text": [
      "O2 is a molecule in a box, does not need convergence testing\n"
     ]
    }
   ],
   "source": [
    "cp.convergence_setup(user_incar_settings={'ENCUT':550})  # For custom INCAR settings, any flags that aren't numbers or True/False need to be input as strings with quotation marks"
   ]
  },
  {
   "cell_type": "markdown",
   "id": "185b1b50-48e0-4ab6-94e3-c3548a61ced4",
   "metadata": {},
   "source": [
    "This creates a folder called `competing_phases` with all the stable & unstable competing phases and the k-point convergence test calculation directories. These can be quickly run on HPCs using [vaspup2.0](https://github.com/kavanase/vaspup2.0), by creating a `job` file for the HPC scheduler (`vaspup2.0` example [here](https://github.com/kavanase/vaspup2.0/blob/master/input/job)), copying it into each directory and running the calculation with a `bash` loop like:\n",
    "\n",
    "```bash\n",
    "for i in *EaH*  # (in the competing_phases directory) – for each competing phase\n",
    "do cp job $i\n",
    "cd $i\n",
    "for k in k*   # for each kpoint calculation directory\n",
    "do cp job $k\n",
    "cd $k\n",
    "qsub job  # may need to change 'qsub' to 'sbatch' if the HPC scheduler is SLURM\n",
    "cd ..\n",
    "done\n",
    "cd ..\n",
    "done\n",
    "```\n",
    "\n",
    "Within each competing phase directory in `competing_phases`, the `vaspup2.0` `data-converge` command can be run to quickly parse the results and determine the converged _k_-mesh (see the [vaspup2.0](https://github.com/kavanase/vaspup2.0) homepage for examples)."
   ]
  },
  {
   "cell_type": "markdown",
   "metadata": {
    "collapsed": false
   },
   "source": [
    "Next, you want to relax each competing phase and calculate the energy with the same DFT functional and settings as your defect supercell calculations. `doped` can generate these folders for the relaxation of the competing phases.\n",
    "\n",
    "The _k_-point meshes are gamma-centred (as opposed to Monkhorst-Pack) by default. By default `doped` will make the inputs assuming a HSE06 `INCAR` (see `[HSE06_config_relax.json](https://github.com/SMTG-UCL/doped/blob/master/doped/HSE06_config_relax.json)` for default values) and kpoint densities of 95 kpoints/Å$^3$ for metals and 45 kpoints/Å$^3$ for semiconductors. Assuming you've followed the k-point convergence testing workflow above, you should change the `KPOINTS` file to match the converged mesh in each case, however the default densities are good starting points. `doped` will automatically set `SIGMA` and `ISMEAR` accordingly depending on whether the phase is a semiconductor or metal, and will set `NUPDOWN` appropriately for molecules (i.e. O$_2$ has triplet spin).\n",
    "\n",
    "These relaxations can be set up with:"
   ]
  },
  {
   "cell_type": "code",
   "execution_count": 6,
   "id": "612b30eb-63b2-4bf9-8947-794bdfdbb5a1",
   "metadata": {},
   "outputs": [],
   "source": [
    "cp.vasp_std_setup(user_incar_settings={'ENCUT':720})  # For custom INCAR settings, any flags that aren't numbers or True/False need to be input as strings with quotation marks"
   ]
  },
  {
   "cell_type": "markdown",
   "id": "7e57cb66",
   "metadata": {},
   "source": [
    "Remember that the final `ENCUT` used for the energy calculations should be the same as for your host material & defects, and that you may still need to account for Pulay stress by increasing `ENCUT` for the geometry relaxations (usual rule of thumb being 1.3*converged `ENCUT`) or re-relaxing each structure until the volume change is minimal (roughly <0.3%)."
   ]
  },
  {
   "cell_type": "markdown",
   "id": "ec533105-0093-4d48-9acf-f4efe4035368",
   "metadata": {},
   "source": [
    "## Additional competing phases\n",
    "\n",
    "So you've done your intrinsic defects and now you want to consider extrinsic doping. The addition of the new extrinsic species can also be handled with doped by the aptly named `AdditionalCompetingPhases` class. "
   ]
  },
  {
   "cell_type": "code",
   "execution_count": 4,
   "id": "ce556a96-c966-4d5e-a46c-e9f2e2f3925c",
   "metadata": {},
   "outputs": [],
   "source": [
    "from doped.competing_phases import AdditionalCompetingPhases"
   ]
  },
  {
   "cell_type": "code",
   "execution_count": 17,
   "id": "9cc1b302-7b69-4c26-b906-8a7c67366d87",
   "metadata": {},
   "outputs": [],
   "source": [
    "system = ['Zr', 'O']\n",
    "extrinsic_species = 'La'\n",
    "acp = AdditionalCompetingPhases(system, extrinsic_species, e_above_hull=0.03)"
   ]
  },
  {
   "cell_type": "markdown",
   "id": "66fa8802-2e58-4d40-9169-8c6af5c34743",
   "metadata": {},
   "source": [
    "Doped can very cleverly tell what phases you've already calculated before and which ones should be added anew so it limits the number as we can see here:"
   ]
  },
  {
   "cell_type": "code",
   "execution_count": 6,
   "id": "0d57407f-5595-454d-bc89-81be95ccd865",
   "metadata": {},
   "outputs": [
    {
     "data": {
      "text/plain": [
       "29"
      ]
     },
     "execution_count": 6,
     "metadata": {},
     "output_type": "execute_result"
    }
   ],
   "source": [
    "len(acp.competing_phases)"
   ]
  },
  {
   "cell_type": "markdown",
   "id": "fd54e3d6-f775-424a-a08f-7cd97101268f",
   "metadata": {},
   "source": [
    "The set up for convergence testing and relaxations is done in the exact same way as before: "
   ]
  },
  {
   "cell_type": "code",
   "execution_count": null,
   "id": "c1dc6347-dc19-4dc5-89ee-963b452efac9",
   "metadata": {},
   "outputs": [],
   "source": [
    "acp.convergence_setup(user_incar_settings={'ENCUT':550})  # For custom INCAR settings, any flags that aren't numbers or True/False need to be input as strings with quotation marks"
   ]
  },
  {
   "cell_type": "code",
   "execution_count": 11,
   "id": "bcd15fbb-9ce8-4982-810a-6b63d8f18d17",
   "metadata": {},
   "outputs": [],
   "source": [
    "acp.vasp_std_setup(user_incar_settings={'ENCUT':720})  # For custom INCAR settings, any flags that aren't numbers or True/False need to be input as strings with quotation marks"
   ]
  },
  {
   "cell_type": "markdown",
   "id": "1a2a9b2c-72f1-4d0c-b85e-2ca51be03e2b",
   "metadata": {},
   "source": [
    "# Competing phases analyzer \n"
   ]
  },
  {
   "cell_type": "code",
   "execution_count": 1,
   "id": "3aa82d9c-95ef-4af1-92fe-ae80931a8e3b",
   "metadata": {},
   "outputs": [],
   "source": [
    "from doped.competing_phases import CompetingPhasesAnalyzer"
   ]
  },
  {
   "attachments": {},
   "cell_type": "markdown",
   "id": "69ea252b-ee87-411c-bfd7-c31b2eebe141",
   "metadata": {},
   "source": [
    "## Read in data from `vasprun.xml`\n",
    "\n",
    "Once you've calculated all your very many competing phases you will want to analyse them. First you will want all your vaspruns neatly organised in some tree structure. To get them all off the HPCs recursively without including any other large files you can recursively rsync: \n",
    "\n",
    "```bash \n",
    "rsync -azvuR hpc:'path/to/the/base/folder/competing_phases/./*_EaH_*/vasp_std/vasprun.xml' . \n",
    "```\n",
    "\n",
    "where the `/./` indicates where you'd like to start the recurse from so you only keep the folder structure from the `formula_EaH_*` onwards. If you've done SOC calculations obviously change vasp_std to vasp_ncl or whatever you've called the folders. Optionally `gzip vasprun.xml` the files first, but remember to change the filename in the rsync command\n",
    "\n",
    "All analysis is done with aptly named `CompetingPhasesAnalyzer` and if you've used doped all you need to supply it is the 'pretty' formula of the system you're solving the chemical limits for (in this case that would be `'ZrO2'` and the path to the base folder in which you have all your `formula_EaH_*/vasp_std/vasprun.xml` in. If you've used `vasp_ncl` (or anything else) instead of `vasp_std` you can set that as well. \n",
    "\n",
    "If you've not generated your competing phases inputs with doped, worry not because we've accounted for that too. You can generate a list of paths (or strings) to the vaspruns from using `pathlib` or `os`. \n"
   ]
  },
  {
   "cell_type": "code",
   "execution_count": 2,
   "id": "d841c100-b896-4a9a-9fbe-42cedb933d5e",
   "metadata": {},
   "outputs": [],
   "source": [
    "system = 'ZrO2'\n",
    "cpa = CompetingPhasesAnalyzer(system)"
   ]
  },
  {
   "cell_type": "code",
   "execution_count": 3,
   "id": "dd65cb61-bd10-41c8-bf6d-15398841f226",
   "metadata": {},
   "outputs": [
    {
     "name": "stdout",
     "output_type": "stream",
     "text": [
      "Can't find a vasprun.xml(.gz) file in competing_phases/ZrO/.DS_Store or competing_phases/ZrO/.DS_Store/relax, proceed with caution\n",
      "Parsing 8 vaspruns and pruning to include only lowest-energy polymorphs...\n",
      "Competing phase formation energies have been saved to competing_phases/zro2_competing_phase_energies.csv.\n"
     ]
    }
   ],
   "source": [
    "cpa.from_vaspruns(path='./competing_phases/ZrO/', \n",
    "                  folder='relax', \n",
    "                  csv_fname='competing_phases/zro2_competing_phase_energies.csv')"
   ]
  },
  {
   "cell_type": "markdown",
   "id": "bc28d2fe-27da-448c-987a-8bd7f198bd52",
   "metadata": {},
   "source": [
    "The read in from vaspruns only needs to be done once, as the energies are saved to a csv file. \n",
    "\n",
    "An example of how to get all the vaspruns in one list if you've not used doped to generate them: "
   ]
  },
  {
   "cell_type": "code",
   "execution_count": null,
   "id": "b0c3b084-94bf-4362-b171-42879e54d247",
   "metadata": {},
   "outputs": [],
   "source": [
    "from pathlib import Path \n",
    "path = 'path/to/base'\n",
    "all_paths = []\n",
    "for p in path.iterdir():\n",
    "    if not p.name.startswith('.'): \n",
    "        pp = p / 'relax' / 'vasprun.xml' \n",
    "        if pp.is_file():\n",
    "            all_paths.append(pp)"
   ]
  },
  {
   "attachments": {},
   "cell_type": "markdown",
   "id": "c588a9e4-ac43-4e45-af34-3db7a2867d4b",
   "metadata": {},
   "source": [
    "## Read in data from a csv\n",
    "\n",
    "As a sidenote you can also read in the data from a csv, as long as it contains the following headers: `'formula', 'energy_per_fu', 'energy_per_atom', 'energy', 'formation_energy'` \n"
   ]
  },
  {
   "cell_type": "code",
   "execution_count": 5,
   "id": "784d5a74-7d5d-4c1c-a481-d13fca3b098d",
   "metadata": {},
   "outputs": [],
   "source": [
    "cpa.from_csv('competing_phases/zro2_competing_phase_energies.csv')"
   ]
  },
  {
   "cell_type": "markdown",
   "id": "cfbf9749-9e49-4c78-bdb5-5bdd091b12aa",
   "metadata": {},
   "source": [
    "## Calculate the chemical potential limits\n",
    "\n",
    "As easy as: "
   ]
  },
  {
   "cell_type": "code",
   "execution_count": 4,
   "id": "37d24b84-8bdb-4698-9a7b-6c1899401791",
   "metadata": {},
   "outputs": [
    {
     "name": "stdout",
     "output_type": "stream",
     "text": [
      "Calculated chemical potential limits: \n",
      "\n",
      "          Zr         O\n",
      "0 -10.975428  0.000000\n",
      "1  -0.199544 -5.387942\n"
     ]
    }
   ],
   "source": [
    "df = cpa.calculate_chempots(csv_fname='competing_phases/zro2_chempots.csv')"
   ]
  },
  {
   "cell_type": "markdown",
   "id": "79818933-ab81-4fee-b686-f0d3e410d2dd",
   "metadata": {},
   "source": [
    "This should save your chempots to a csv and also print them out for your viewing pleasure.\n",
    "\n",
    "To get the `doped.formation_energy_table`-compliant input, use: "
   ]
  },
  {
   "cell_type": "code",
   "execution_count": 5,
   "id": "7bbe2d1b",
   "metadata": {},
   "outputs": [
    {
     "data": {
      "text/plain": [
       "{'facets': {'ZrO2-O2': {'Zr': -20.81910468, 'O': -7.006602065},\n",
       "  'Zr3O-ZrO2': {'Zr': -10.04321996, 'O': -12.394544425}},\n",
       " 'elemental_refs': {'O': -7.006602065, 'Zr': -9.84367624},\n",
       " 'facets_wrt_el_refs': {'ZrO2-O2': {'Zr': -10.975428439999998, 'O': 0.0},\n",
       "  'Zr3O-ZrO2': {'Zr': -0.19954371999999942, 'O': -5.387942359999999}}}"
      ]
     },
     "execution_count": 5,
     "metadata": {},
     "output_type": "execute_result"
    }
   ],
   "source": [
    "cpa.intrinsic_chem_limits "
   ]
  },
  {
   "attachments": {},
   "cell_type": "markdown",
   "id": "ef3fba0e",
   "metadata": {},
   "source": [
    "If you want to save it to use at a later date, you can easily dump it to a json file with `dumpfn` and then load it again with `loadfn` "
   ]
  },
  {
   "cell_type": "code",
   "execution_count": 7,
   "id": "6b3370ff",
   "metadata": {},
   "outputs": [],
   "source": [
    "from monty.serialization import dumpfn, loadfn\n",
    "\n",
    "dumpfn(cpa.intrinsic_chem_limits, 'competing_phases/zro2_chempots.json')\n",
    "\n",
    "chemlims = loadfn('competing_phases/zro2_chempots.json')"
   ]
  },
  {
   "cell_type": "markdown",
   "id": "9dd8a43e",
   "metadata": {},
   "source": [
    "## Introducing extrinsic species / dopants "
   ]
  },
  {
   "cell_type": "markdown",
   "id": "9410cb2e",
   "metadata": {},
   "source": [
    "If you're dealing with dopants in your defect system, you will also want to consider the dopant competing phases and add them to the phase diagram. Assuming you've added them using `AdditionalCompetingPhases`, you can easily parse them using `CompetingPhaseAnalyzer`."
   ]
  },
  {
   "cell_type": "code",
   "execution_count": 8,
   "id": "0ce841bc",
   "metadata": {},
   "outputs": [
    {
     "name": "stdout",
     "output_type": "stream",
     "text": [
      "Can't find a vasprun.xml(.gz) file in competing_phases/LaZrO/.DS_Store or competing_phases/LaZrO/.DS_Store/relax, proceed with caution\n",
      "Parsing 11 vaspruns and pruning to include only lowest-energy polymorphs...\n",
      "Competing phase formation energies have been saved to ./competing_phases/zro2_la_competing_phase_energies.csv.\n",
      "Calculating chempots for La\n",
      "Calculated chemical potential limits: \n",
      "\n",
      "          Zr         O        La La_limiting_phase\n",
      "0 -10.975428  0.000000 -9.462987          La2Zr2O7\n",
      "1  -0.199544 -5.387942 -1.381074          La2Zr2O7\n"
     ]
    }
   ],
   "source": [
    "system = 'ZrO2' \n",
    "extrinsic_species='La'\n",
    "la_cpa = CompetingPhasesAnalyzer(system, extrinsic_species=extrinsic_species)\n",
    "la_cpa.from_vaspruns(path='./competing_phases/LaZrO/', \n",
    "                  folder='relax', \n",
    "                  csv_fname='./competing_phases/zro2_la_competing_phase_energies.csv')\n",
    "df = la_cpa.calculate_chempots(csv_fname='./competing_phases/zro2_la_chempots.csv')"
   ]
  },
  {
   "attachments": {},
   "cell_type": "markdown",
   "id": "f37794b0",
   "metadata": {},
   "source": [
    "The chemical potential of the extrinsic species is calculated at each of the existing intrinsic chemical potentials. This assumes that the extrinsic species chemical potential is restricted by the host (intrinsic) material chemical potential. \n",
    "\n",
    "This is in line with `pyCDT`'s `full_sub_approach=False` but it actually works. \n",
    "\n",
    "To get the chempots needed for doped defects parsing you need to run the above once and then you can get them from `cpa.chem_limits`. As before, you can easily dump this to a reusable json file for later use. "
   ]
  },
  {
   "cell_type": "code",
   "execution_count": 10,
   "id": "728a9e0a",
   "metadata": {},
   "outputs": [],
   "source": [
    "from monty.serialization import dumpfn, loadfn\n",
    "\n",
    "dumpfn(la_cpa.chem_limits, 'competing_phases/zro2_la_chempots.json')\n",
    "\n",
    "la_chemlims = loadfn('competing_phases/zro2_la_chempots.json')"
   ]
  },
  {
   "attachments": {},
   "cell_type": "markdown",
   "id": "b45666b3",
   "metadata": {},
   "source": [
    "## Combining multiple extrinsic chemical potentials\n",
    "\n",
    "If for example you were interested in simulating defect complexes where you introduce more than one extrinsic defect at a time, or if you wanted to plot all the possible dopant species in one transition level diagram, the chemical potential limits tables you get from the basic functions won't quite cut it. \n",
    "\n",
    "To combine several extrinsic chemical potentials, you will need to parse the two (three, n) different sets of competing phases with `CompetingPhaseAnalyzer` twice (thrice, n-times) to get two (or three or n) chemical limits that you then save to `chempots.json` with the function above. Once you have your json files you can run the following code:  "
   ]
  },
  {
   "cell_type": "code",
   "execution_count": 2,
   "id": "68f186c7",
   "metadata": {},
   "outputs": [],
   "source": [
    "from doped.competing_phases import combine_extrinsic\n",
    "from monty.serialization import loadfn"
   ]
  },
  {
   "cell_type": "code",
   "execution_count": 4,
   "id": "7b673069",
   "metadata": {},
   "outputs": [
    {
     "name": "stdout",
     "output_type": "stream",
     "text": [
      "{'elemental_refs': {'O': -7.006602065, 'Zr': -9.84367624, 'La': -5.00458616, 'Y': -5.50458616}, 'facets': {'ZrO2-O2-La2Zr2O7-Y2Zr2O7': {'Zr': -20.81910468, 'O': -7.006602065, 'La': -14.467573640000001, 'Y': -14.967573640000001}, 'Zr3O-ZrO2-La2Zr2O7-Y2Zr2O7': {'Zr': -10.04321996, 'O': -12.394544425, 'La': -6.3856601000000035, 'Y': -6.8856601000000035}}, 'facets_wrt_el_refs': {'ZrO2-O2-La2Zr2O7-Y2Zr2O7': {'Zr': -10.975428439999998, 'O': 0.0, 'La': -9.462987480000002, 'Y': -9.962987480000002}, 'Zr3O-ZrO2-La2Zr2O7-Y2Zr2O7': {'Zr': -0.19954371999999942, 'O': -5.387942359999999, 'La': -1.3810739400000038, 'Y': -1.8810739400000038}}}\n"
     ]
    }
   ],
   "source": [
    "first = loadfn('competing_phases/zro2_la_chempots.json')\n",
    "second = loadfn('competing_phases/zro2_y_chempots.json')\n",
    "extrinsic_species = 'Y' # this should be set to whatever is the extrinsic species in the second dictionary \n",
    "d = combine_extrinsic(first, second, extrinsic_species)\n",
    "print(d)"
   ]
  },
  {
   "attachments": {},
   "cell_type": "markdown",
   "id": "f2ec3806",
   "metadata": {},
   "source": [
    "as the output of that function is a dictionary, it can either be dumped to a new json file with `dumpfn` or you can keep adding new chemical potential limits to it. \n",
    "\n",
    "NB: the facets must be in the same order in all dictionaries you're combining. Make sure to double check all energies have been combined correctly. "
   ]
  },
  {
   "cell_type": "markdown",
   "id": "f2fb2053-3b1b-4957-9442-a81650842e06",
   "metadata": {},
   "source": [
    "### CPLAP input\n",
    "\n",
    "If you don't trust doped and pymatgen (ye of little faith), you can also create the `input.dat` file to use with [CPLAP](https://github.com/jbuckeridge/cplap). You can set the dependent variable, or leave it to doped to decide which one it will pick (all should yield the same numbers in higher order systems)"
   ]
  },
  {
   "cell_type": "code",
   "execution_count": null,
   "id": "50df07d9-445f-49f1-960f-2ba749ca15b8",
   "metadata": {},
   "outputs": [],
   "source": [
    "cpa.cplap_input(dependent_variable='O') "
   ]
  },
  {
   "cell_type": "markdown",
   "id": "2b29132e-fad1-49dd-8a3a-f8db8dde5be1",
   "metadata": {},
   "source": [
    "### Visualising the chemical potential limits \n",
    "\n",
    "For higher order systems, this interfaces really well with pymatgen's three-dimensional plotters, the list of total energies for the `ChemicalPotentialDiagram` are accessible from `cpa.pd_energies` and you can get the elemental energies to subtract from the `cpd.domains` by looping over `cpa.pd_energies` to find the ones with elemental formulas"
   ]
  },
  {
   "cell_type": "code",
   "execution_count": null,
   "id": "b5e610ef-937f-4dda-8e14-70a9e6c4639b",
   "metadata": {},
   "outputs": [],
   "source": []
  }
 ],
 "metadata": {
  "kernelspec": {
   "display_name": "Python 3.8.11 ('doped')",
   "language": "python",
   "name": "python3"
  },
  "language_info": {
   "codemirror_mode": {
    "name": "ipython",
    "version": 3
   },
   "file_extension": ".py",
   "mimetype": "text/x-python",
   "name": "python",
   "nbconvert_exporter": "python",
   "pygments_lexer": "ipython3",
   "version": "3.8.11"
  },
  "vscode": {
   "interpreter": {
    "hash": "7ff88b24758851e95d46999e98e2ec092142f8c8e2eb69f9dc4465df3bee2980"
   }
  }
 },
 "nbformat": 4,
 "nbformat_minor": 5
}
