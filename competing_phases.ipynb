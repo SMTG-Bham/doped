{
 "cells": [
  {
   "cell_type": "markdown",
   "id": "af8ea7ea-fd3e-4b63-9f5b-6a9cb06d2f31",
   "metadata": {},
   "source": [
    "# Competing phases \n",
    "\n",
    "To calculate the limiting chemical potentials we need to consider the energies of all competing phases. Doped does this by calling the `CompetingPhases` Class, which then queries Materials Project to obtain all the relevant competing phases. Please cross-check the competing phases with ICSD.\n",
    "\n",
    "For the functionality to work correctly, you must have POTCARs set up for [pymatgen](https://pymatgen.org/installation.html#potcar-setup) and you will also need your Materials Project [API key](https://materialsproject.org/dashboard) set up in pymatgen. \n",
    "\n",
    "Doped assumes the so-called \"molecule in a box\" structures for the gaseous elemental phases H2, O2, N2, F2, Cl2, Br2 and I2. The molecule is placed in a  30Å x 30 Å x 30Å box, and relaxed with a 2x2x2 k-mesh"
   ]
  },
  {
   "cell_type": "code",
   "execution_count": 1,
   "id": "88527b52-d748-4f21-84b3-67f115a44f87",
   "metadata": {},
   "outputs": [],
   "source": [
    "from doped.competing_phases import CompetingPhases"
   ]
  },
  {
   "cell_type": "markdown",
   "id": "f8490640-b619-47a5-9f45-4e4f7d5e6cb3",
   "metadata": {},
   "source": [
    "For example, if we were interested in the competing phases of La5Mn5O16, we would search across the La-Mn-O system like so: "
   ]
  },
  {
   "cell_type": "code",
   "execution_count": 2,
   "id": "248e3368-3d8c-4df5-b79c-e2a9edca8330",
   "metadata": {},
   "outputs": [],
   "source": [
    "system = ['La', 'Mn', 'O']\n",
    "cp = CompetingPhases(system, e_above_hull=0.03)"
   ]
  },
  {
   "cell_type": "markdown",
   "id": "c465b8a1-9c0b-47c5-b82f-e6875b7f6c67",
   "metadata": {},
   "source": [
    "`cp.competing_phases` contains all the competing phases, their structures, magnetic moment and (MP-calculated GGA) band gaps. We can check how many there are by: "
   ]
  },
  {
   "cell_type": "code",
   "execution_count": 4,
   "id": "e83575d1-a346-4b23-abbb-2550cf27b920",
   "metadata": {},
   "outputs": [
    {
     "name": "stdout",
     "output_type": "stream",
     "text": [
      "30\n"
     ]
    }
   ],
   "source": [
    "print(len(cp.competing_phases))"
   ]
  },
  {
   "cell_type": "markdown",
   "id": "06324184-a349-4ab9-96fb-699cab5a1f76",
   "metadata": {},
   "source": [
    "From there you can either do your own thing with python / atomate / aiida to set up the calculations or you can use the doped to do that for you. \n",
    "\n",
    "The k-points convergence is done at GGA (PBEsol by default) and it set up to account for the magnetic moment convergence as well. All of this interfaces with [vaspup2.0](https://github.com/kavanase/vaspup2.0) so it's easy to use on the HPCs. You may want to change the default `ENCUT` or the general k-point densities that the convergence spans (5-60 kppvol for semiconductors & insulators and 40-120 for metals in steps of 5). It also uses `ISMEAR=-5` for metals by default and ignores convergence for molecules (because you really should just be using 2x2x2 kpoints) \n",
    "\n",
    "The kpoints convergence is set up with:"
   ]
  },
  {
   "cell_type": "code",
   "execution_count": 5,
   "id": "f82a96f5-e1d0-4650-98ce-7500e23715ab",
   "metadata": {},
   "outputs": [
    {
     "name": "stdout",
     "output_type": "stream",
     "text": [
      "O2 is a molecule in a box, does not need convergence testing\n"
     ]
    },
    {
     "name": "stderr",
     "output_type": "stream",
     "text": [
      "/Users/katarina/miniconda3/envs/doped/lib/python3.8/site-packages/pymatgen/io/vasp/sets.py:424: BadInputSetWarning: Overriding the POTCAR functional is generally not recommended  as it significantly affect the results of calculations and compatibility with other calculations done with the same input set. Note that some POTCAR symbols specified in the configuration file may not be available in the selected functional.\n",
      "  warnings.warn(\n"
     ]
    }
   ],
   "source": [
    "cp.convergence_setup(user_incar_settings={'ENCUT':550})"
   ]
  },
  {
   "cell_type": "markdown",
   "id": "185b1b50-48e0-4ab6-94e3-c3548a61ced4",
   "metadata": {},
   "source": [
    "This creates a folder called `competing_phases` with all the stable&unstable competing phases. \n",
    "\n",
    "You would presumably also be interested in the folders for the relaxation of the said competing phases. By default doped will make this assuming a HSE06 INCAR and kppvol densities of 95 for metals and 45 for semiconductors. Obviously change the kpoints once you know the converged values but if you can't be arsed, those are good starting points. Doped can sort out different `SIGMA` and `ISMEAR`s needed for semiconductors and metals, and it can also set `NUPDOWN` in molecules (but not sure how well so double check that...). \n",
    "\n",
    "The relaxations can be set up with: "
   ]
  },
  {
   "cell_type": "code",
   "execution_count": 6,
   "id": "612b30eb-63b2-4bf9-8947-794bdfdbb5a1",
   "metadata": {},
   "outputs": [
    {
     "name": "stderr",
     "output_type": "stream",
     "text": [
      "/Users/katarina/miniconda3/envs/doped/lib/python3.8/site-packages/pymatgen/io/vasp/sets.py:424: BadInputSetWarning: Overriding the POTCAR functional is generally not recommended  as it significantly affect the results of calculations and compatibility with other calculations done with the same input set. Note that some POTCAR symbols specified in the configuration file may not be available in the selected functional.\n",
      "  warnings.warn(\n"
     ]
    }
   ],
   "source": [
    "cp.vasp_std_setup(user_incar_settings={'ENCUT':550})"
   ]
  },
  {
   "cell_type": "markdown",
   "id": "ec533105-0093-4d48-9acf-f4efe4035368",
   "metadata": {},
   "source": [
    "## Additional competing phases\n",
    "\n",
    "So you've done your intrinsic defects and now you want to consider extrinsic doping. The addition of the new extrinsic species can also be handled with doped by the aptly named `AdditionalCompetingPhases` class. "
   ]
  },
  {
   "cell_type": "code",
   "execution_count": 7,
   "id": "ce556a96-c966-4d5e-a46c-e9f2e2f3925c",
   "metadata": {},
   "outputs": [],
   "source": [
    "from doped.competing_phases import AdditionalCompetingPhases"
   ]
  },
  {
   "cell_type": "code",
   "execution_count": 8,
   "id": "9cc1b302-7b69-4c26-b906-8a7c67366d87",
   "metadata": {},
   "outputs": [
    {
     "name": "stderr",
     "output_type": "stream",
     "text": [
      "100%|██████████| 606/606 [00:02<00:00, 203.28it/s]\n"
     ]
    }
   ],
   "source": [
    "system = ['La', 'Mn', 'O']\n",
    "extrinsic_species = 'F'\n",
    "acp = AdditionalCompetingPhases(system, extrinsic_species, e_above_hull=0.03) "
   ]
  },
  {
   "cell_type": "markdown",
   "id": "66fa8802-2e58-4d40-9169-8c6af5c34743",
   "metadata": {},
   "source": [
    "Doped can very cleverly tell what phases you've already calculated before and which ones should be added anew so it limits the number as we can see here:"
   ]
  },
  {
   "cell_type": "code",
   "execution_count": 10,
   "id": "0d57407f-5595-454d-bc89-81be95ccd865",
   "metadata": {},
   "outputs": [
    {
     "data": {
      "text/plain": [
       "23"
      ]
     },
     "execution_count": 10,
     "metadata": {},
     "output_type": "execute_result"
    }
   ],
   "source": [
    "len(acp.competing_phases)"
   ]
  },
  {
   "cell_type": "markdown",
   "id": "fd54e3d6-f775-424a-a08f-7cd97101268f",
   "metadata": {},
   "source": [
    "The set up for convergence testing and relaxations is done in the exact same way as before: "
   ]
  },
  {
   "cell_type": "code",
   "execution_count": 13,
   "id": "c1dc6347-dc19-4dc5-89ee-963b452efac9",
   "metadata": {},
   "outputs": [
    {
     "name": "stdout",
     "output_type": "stream",
     "text": [
      "F2 is a molecule in a box, does not need convergence testing\n"
     ]
    },
    {
     "name": "stderr",
     "output_type": "stream",
     "text": [
      "/Users/katarina/miniconda3/envs/doped/lib/python3.8/site-packages/pymatgen/io/vasp/sets.py:424: BadInputSetWarning: Overriding the POTCAR functional is generally not recommended  as it significantly affect the results of calculations and compatibility with other calculations done with the same input set. Note that some POTCAR symbols specified in the configuration file may not be available in the selected functional.\n",
      "  warnings.warn(\n"
     ]
    }
   ],
   "source": [
    "acp.convergence_setup(user_incar_settings={'ENCUT':550})"
   ]
  },
  {
   "cell_type": "markdown",
   "id": "bcd15fbb-9ce8-4982-810a-6b63d8f18d17",
   "metadata": {},
   "source": [
    "acp.vasp_std_setup(user_incar_settings={'ENCUT':550})"
   ]
  },
  {
   "cell_type": "markdown",
   "id": "1a2a9b2c-72f1-4d0c-b85e-2ca51be03e2b",
   "metadata": {},
   "source": [
    "# Competing phases analyzer \n"
   ]
  },
  {
   "cell_type": "code",
   "execution_count": 14,
   "id": "3aa82d9c-95ef-4af1-92fe-ae80931a8e3b",
   "metadata": {},
   "outputs": [],
   "source": [
    "from doped.competing_phases import CompetingPhasesAnalyzer"
   ]
  },
  {
   "cell_type": "markdown",
   "id": "69ea252b-ee87-411c-bfd7-c31b2eebe141",
   "metadata": {},
   "source": [
    "\n",
    "\n",
    "## Read in data from vasprun.xml \n",
    "\n",
    "Once you've calculated all your very many competing phases you will want to analyse them. First you will want all your vaspruns neatly organised in some tree structure. To get them all off the HPCs recursively without including any other large files you can recursively rsync: \n",
    "\n",
    "```bash \n",
    "rsync -azvuR hpc:'path/to/the/base/folder/competing_phases/./formula_EaH_*/vasp_std/vasprun.xml' . \n",
    "```\n",
    "\n",
    "where the `/./` indicates where you'd like to start the recurse from so you only keep the folder structure from the `formula_EaH_*` onwards. If you've done SOC calculations obviously change vasp_std to vasp_ncl or whatever you've called the folders. \n",
    "\n",
    "All analysis is done with aptly named `CompetingPhasesAnalyzer` and if you've used doped all you need to supply it is the 'pretty' formula of the system you're solving the chemical limits for (in this case that would be `'La5Mn5O16'` and the path to the base folder in which you have all your `formula_EaH_*/vasp_std/vasprun.xml` in. If you've used `vasp_ncl` (or anything else) instead of `vasp_std` you can set that as well. \n",
    "\n",
    "If you've not generated your competing phases inputs with doped, worry not because we've accounted for that too. You can generate a list of paths (or strings) to the vaspruns from using `pathlib` or `os`. \n"
   ]
  },
  {
   "cell_type": "code",
   "execution_count": 16,
   "id": "d841c100-b896-4a9a-9fbe-42cedb933d5e",
   "metadata": {},
   "outputs": [],
   "source": [
    "system = 'La5Mn5O16'\n",
    "cpa = CompetingPhasesAnalyzer(system)"
   ]
  },
  {
   "cell_type": "code",
   "execution_count": null,
   "id": "dd65cb61-bd10-41c8-bf6d-15398841f226",
   "metadata": {},
   "outputs": [],
   "source": [
    "cpa.from_vaspruns(path='./lamno_competing_phases', \n",
    "                  folder='vasp_ncl', \n",
    "                  csv_fname='lamno_competing_phase_energies.csv')"
   ]
  },
  {
   "cell_type": "markdown",
   "id": "bc28d2fe-27da-448c-987a-8bd7f198bd52",
   "metadata": {},
   "source": [
    "The read in from vaspruns only needs to be done once, as the energies are saved to a csv file. \n",
    "\n",
    "An example of how to get all the vaspruns in one list if you've not used doped to generate them: "
   ]
  },
  {
   "cell_type": "code",
   "execution_count": null,
   "id": "b0c3b084-94bf-4362-b171-42879e54d247",
   "metadata": {},
   "outputs": [],
   "source": [
    "from pathlib import Path \n",
    "path = 'path/to/base'\n",
    "all_paths = []\n",
    "for p in path.iterdir():\n",
    "    if not p.name.startswith('.'): \n",
    "        pp = p / 'relax' / 'vasprun.xml' \n",
    "        if pp.is_file():\n",
    "            all_paths.append(pp)"
   ]
  },
  {
   "cell_type": "markdown",
   "id": "c588a9e4-ac43-4e45-af34-3db7a2867d4b",
   "metadata": {},
   "source": [
    "## Read in data from a csv\n",
    "\n",
    "As a sidenote you can also read in the data from a csv, as long as it contains the following headers: `'formula', 'energy_per_fu', 'energy', 'formation_energy'` \n"
   ]
  },
  {
   "cell_type": "code",
   "execution_count": null,
   "id": "784d5a74-7d5d-4c1c-a481-d13fca3b098d",
   "metadata": {},
   "outputs": [],
   "source": [
    "cpa.from_csv('path/to/csv.csv')"
   ]
  },
  {
   "cell_type": "markdown",
   "id": "cfbf9749-9e49-4c78-bdb5-5bdd091b12aa",
   "metadata": {},
   "source": [
    "## Calculate the chemical potential limits\n",
    "\n",
    "As easy as: "
   ]
  },
  {
   "cell_type": "code",
   "execution_count": null,
   "id": "37d24b84-8bdb-4698-9a7b-6c1899401791",
   "metadata": {},
   "outputs": [],
   "source": [
    "cpa.calculate_chempots()"
   ]
  },
  {
   "cell_type": "markdown",
   "id": "79818933-ab81-4fee-b686-f0d3e410d2dd",
   "metadata": {},
   "source": [
    "This should save your chempots to a csv and also print them out for your viewing pleasure.\n",
    "\n",
    "Eventually I'll get this working with extrinsic dopants but for now this is as good as its going to get"
   ]
  },
  {
   "cell_type": "markdown",
   "id": "f2fb2053-3b1b-4957-9442-a81650842e06",
   "metadata": {},
   "source": [
    "### CPLAP input\n",
    "\n",
    "\n",
    "If you don't trust doped and pymatgen (ye of little faith), you can also create the `input.dat` file to use with [CPLAP](https://github.com/jbuckeridge/cplap). You can set the dependent variable, or leave it to doped to decide which one it will pick (all should yield the same numbers in higher order systems)"
   ]
  },
  {
   "cell_type": "code",
   "execution_count": null,
   "id": "50df07d9-445f-49f1-960f-2ba749ca15b8",
   "metadata": {},
   "outputs": [],
   "source": [
    "cpa.cplap_input(dependent_variable='O') "
   ]
  },
  {
   "cell_type": "markdown",
   "id": "2b29132e-fad1-49dd-8a3a-f8db8dde5be1",
   "metadata": {},
   "source": [
    "### Visualising the chemical potential limits \n",
    "\n",
    "For higher order systems, this interfaces really well with pymatgen's three-dimensional plotters, the list of total energies for the `ChemicalPotentialDiagram` are accessible from `cpa.pd_energies` and you can get the elemental energies to subtract from the `cpd.domains` by looping over `cpa.pd_energies` to find the ones with elemental formulas"
   ]
  },
  {
   "cell_type": "code",
   "execution_count": null,
   "id": "b5e610ef-937f-4dda-8e14-70a9e6c4639b",
   "metadata": {},
   "outputs": [],
   "source": []
  }
 ],
 "metadata": {
  "kernelspec": {
   "display_name": "Python 3",
   "language": "python",
   "name": "python3"
  },
  "language_info": {
   "codemirror_mode": {
    "name": "ipython",
    "version": 3
   },
   "file_extension": ".py",
   "mimetype": "text/x-python",
   "name": "python",
   "nbconvert_exporter": "python",
   "pygments_lexer": "ipython3",
   "version": "3.8.11"
  }
 },
 "nbformat": 4,
 "nbformat_minor": 5
}
